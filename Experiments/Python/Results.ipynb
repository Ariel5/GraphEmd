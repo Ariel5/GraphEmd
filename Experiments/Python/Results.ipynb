{
  "nbformat": 4,
  "nbformat_minor": 0,
  "metadata": {
    "colab": {
      "name": "Results.ipynb",
      "provenance": [],
      "collapsed_sections": [
        "HKehTfeKUQxA",
        "vTjRJqi2cS0u",
        "20XZXYWwvoEv",
        "JCvMOGQ_QmQb",
        "java5f10Qpwh",
        "tQ1tRVg3R-17",
        "k56rvsY4SOmO",
        "kOavgtBvGJIP",
        "POdk9_vFMs0S",
        "Jp1jgYrNM5HY",
        "21W6ed6sSgTz",
        "GDtO9JQXSxp-",
        "Ogk-NUbWRt7a",
        "CVfYA-GKcuzp",
        "UPlxtEk4c4e7",
        "-LQybSHfd7_X",
        "Rwaz9dvrlRDI",
        "U317fXLund_1",
        "Kgc3k3SdMyLC",
        "jrm100KVlEro",
        "ZoZe1vWhWDNY",
        "opxkDZwJWWf9",
        "nEfdXpU6WlAL",
        "EdhZ_SCjs0y8"
      ]
    },
    "kernelspec": {
      "name": "python3",
      "display_name": "Python 3"
    },
    "language_info": {
      "name": "python"
    }
  },
  "cells": [
    {
      "cell_type": "markdown",
      "metadata": {
        "id": "G-kF5bByQt4t"
      },
      "source": [
        "#Packages for Drive Files"
      ]
    },
    {
      "cell_type": "code",
      "metadata": {
        "id": "BjvPSUD9Qt4u"
      },
      "source": [
        "# import packages\n",
        "## for mount drive purpose\n",
        "import os\n",
        "from google.colab import drive\n"
      ],
      "execution_count": 1,
      "outputs": []
    },
    {
      "cell_type": "markdown",
      "metadata": {
        "id": "0quiQZnHBMnE"
      },
      "source": [
        "#Mount Drive"
      ]
    },
    {
      "cell_type": "code",
      "metadata": {
        "colab": {
          "base_uri": "https://localhost:8080/"
        },
        "id": "2MytS4OrlCCg",
        "outputId": "596810ca-3816-4caa-d8e9-d20ea39645ac"
      },
      "source": [
        "# mount drive\n",
        "drive.mount('/content/drive/')\n",
        "os.chdir('/content/drive/MyDrive/Documents/Johns Hopkins University/Classes/Spring 2022/Thesis/GraphEmd')"
      ],
      "execution_count": 2,
      "outputs": [
        {
          "output_type": "stream",
          "name": "stdout",
          "text": [
            "Drive already mounted at /content/drive/; to attempt to forcibly remount, call drive.mount(\"/content/drive/\", force_remount=True).\n"
          ]
        }
      ]
    },
    {
      "cell_type": "markdown",
      "source": [
        "# import ipynb packages"
      ],
      "metadata": {
        "id": "4oIeHWJ519n_"
      }
    },
    {
      "cell_type": "code",
      "source": [
        "!pip install import-ipynb"
      ],
      "metadata": {
        "colab": {
          "base_uri": "https://localhost:8080/"
        },
        "id": "1Z6GEpC02FnX",
        "outputId": "e8e48497-d5bd-49bd-a4c0-f6d8b816a03f"
      },
      "execution_count": 3,
      "outputs": [
        {
          "output_type": "stream",
          "name": "stdout",
          "text": [
            "Requirement already satisfied: import-ipynb in /usr/local/lib/python3.7/dist-packages (0.1.3)\n"
          ]
        }
      ]
    },
    {
      "cell_type": "code",
      "source": [
        "!ls"
      ],
      "metadata": {
        "colab": {
          "base_uri": "https://localhost:8080/"
        },
        "id": "xUdoNxO66t6L",
        "outputId": "68080972-6b0d-4ce2-c022-444cb6c97e63"
      },
      "execution_count": 4,
      "outputs": [
        {
          "output_type": "stream",
          "name": "stdout",
          "text": [
            "Data  Experiments  LICENSE  Main  README.md\n"
          ]
        }
      ]
    },
    {
      "cell_type": "code",
      "source": [
        "import import_ipynb\n",
        "from Experiments.Python.test_cases import Model, Case\n",
        "# from Graph_Embed_Cluster_Semi_supervise import *\n"
      ],
      "metadata": {
        "id": "6jrl3lFk0gZM",
        "colab": {
          "base_uri": "https://localhost:8080/"
        },
        "outputId": "f9435f98-579d-4646-ad79-af1a4cf34dfc"
      },
      "execution_count": 5,
      "outputs": [
        {
          "output_type": "stream",
          "name": "stdout",
          "text": [
            "importing Jupyter notebook from /content/drive/MyDrive/Documents/Johns Hopkins University/Classes/Spring 2022/Thesis/GraphEmd/Experiments/Python/test_cases.ipynb\n"
          ]
        }
      ]
    },
    {
      "cell_type": "markdown",
      "source": [
        "# Test Cases "
      ],
      "metadata": {
        "id": "RRMhWS392g7w"
      }
    },
    {
      "cell_type": "markdown",
      "source": [
        "## Graph Encoder test case\n"
      ],
      "metadata": {
        "id": "9pyeTk1mmLIW"
      }
    },
    {
      "cell_type": "code",
      "source": [
        "class Encoder_case:\n",
        "  def __init__(self, A,Y,n):\n",
        "    Encoder_case.X = A\n",
        "    Encoder_case.Y = Y\n",
        "    Encoder_case.n = n"
      ],
      "metadata": {
        "id": "aNILm8RgwBcw"
      },
      "execution_count": 6,
      "outputs": []
    },
    {
      "cell_type": "markdown",
      "source": [
        "###Case 1"
      ],
      "metadata": {
        "id": "VOLfmx8wgXP8"
      }
    },
    {
      "cell_type": "markdown",
      "source": [
        "A = \n",
        "\n",
        "\\begin{bmatrix}\n",
        "0 & 1 & 1 & 1 & 0\\\\\n",
        "1 & 0 & 1 & 1 & 1\\\\\n",
        "1 & 1 & 0 & 1 & 1\\\\\n",
        "1 & 1 & 1 & 0 & 1\\\\\n",
        "0 & 1 & 1 & 1 & 0\n",
        "\\end{bmatrix}\n",
        "\n",
        "Labels = [0,0,0,1,1] \n"
      ],
      "metadata": {
        "id": "A6HamkNPvlHe"
      }
    },
    {
      "cell_type": "code",
      "source": [
        "import numpy as np\n",
        "\n",
        "A = np.ones((5,5))\n",
        "A[0,4] = 0\n",
        "A[4,0] = 0\n",
        "np.fill_diagonal(A, 0)\n",
        "\n",
        "Y = np.array([[0,0,0,1,1]]).reshape((5,1))\n",
        "\n",
        "print(A)\n",
        "print(Y)\n",
        "\n",
        "Encoder_case = Encoder_case(A,Y,5)"
      ],
      "metadata": {
        "colab": {
          "base_uri": "https://localhost:8080/"
        },
        "id": "FYjb5oL3wEH_",
        "outputId": "e9623416-b574-4050-d22c-27a1019b4aa6"
      },
      "execution_count": 7,
      "outputs": [
        {
          "output_type": "stream",
          "name": "stdout",
          "text": [
            "[[0. 1. 1. 1. 0.]\n",
            " [1. 0. 1. 1. 1.]\n",
            " [1. 1. 0. 1. 1.]\n",
            " [1. 1. 1. 0. 1.]\n",
            " [0. 1. 1. 1. 0.]]\n",
            "[[0]\n",
            " [0]\n",
            " [0]\n",
            " [1]\n",
            " [1]]\n"
          ]
        }
      ]
    },
    {
      "cell_type": "markdown",
      "source": [
        "#### Laplacian = False, correclation = False, DiagA = False"
      ],
      "metadata": {
        "id": "W3wYSLQ3RHqX"
      }
    },
    {
      "cell_type": "code",
      "source": [
        "from Main.Python.DataPreprocess import DataPreprocess\n",
        "\n",
        "Dataset = DataPreprocess(Encoder_case, Laplacian = False, DiagA = False)\n",
        "print(Dataset.X)\n",
        "print(Dataset.Y)\n",
        "print(Dataset.n)"
      ],
      "metadata": {
        "colab": {
          "base_uri": "https://localhost:8080/"
        },
        "id": "zW16j9YSwCom",
        "outputId": "89cd7048-a1e2-4dc3-83d6-38c9caf594be"
      },
      "execution_count": 8,
      "outputs": [
        {
          "output_type": "stream",
          "name": "stdout",
          "text": [
            "[array([[0., 1., 1.],\n",
            "       [0., 2., 1.],\n",
            "       [0., 3., 1.],\n",
            "       [1., 0., 1.],\n",
            "       [1., 2., 1.],\n",
            "       [1., 3., 1.],\n",
            "       [1., 4., 1.],\n",
            "       [2., 0., 1.],\n",
            "       [2., 1., 1.],\n",
            "       [2., 3., 1.],\n",
            "       [2., 4., 1.],\n",
            "       [3., 0., 1.],\n",
            "       [3., 1., 1.],\n",
            "       [3., 2., 1.],\n",
            "       [3., 4., 1.],\n",
            "       [4., 1., 1.],\n",
            "       [4., 2., 1.],\n",
            "       [4., 3., 1.]])]\n",
            "[[0]\n",
            " [0]\n",
            " [0]\n",
            " [1]\n",
            " [1]]\n",
            "5\n"
          ]
        }
      ]
    },
    {
      "cell_type": "code",
      "source": [
        "from Main.Python.DataPreprocess import graph_encoder_embed\n",
        "\n",
        "Z, W = graph_encoder_embed(Dataset.X[0], Dataset.Y, Dataset.n, Correlation = False)\n",
        "print(Z)\n",
        "print(W)"
      ],
      "metadata": {
        "colab": {
          "base_uri": "https://localhost:8080/"
        },
        "id": "bQE9F8eiSZe4",
        "outputId": "5f181d83-30f2-4059-91b1-508ed63961e8"
      },
      "execution_count": 9,
      "outputs": [
        {
          "output_type": "stream",
          "name": "stdout",
          "text": [
            "[[1.33333333 1.        ]\n",
            " [1.33333333 2.        ]\n",
            " [1.33333333 2.        ]\n",
            " [2.         1.        ]\n",
            " [1.33333333 1.        ]]\n",
            "[[0.33333333 0.        ]\n",
            " [0.33333333 0.        ]\n",
            " [0.33333333 0.        ]\n",
            " [0.         0.5       ]\n",
            " [0.         0.5       ]]\n"
          ]
        }
      ]
    },
    {
      "cell_type": "markdown",
      "source": [
        "#### Laplacian = False, correclation = True, DiagA = False"
      ],
      "metadata": {
        "id": "Yu_Brk6JUBF1"
      }
    },
    {
      "cell_type": "code",
      "source": [
        "Dataset = DataPreprocess(Encoder_case, Laplacian = False, DiagA = False)\n",
        "print(Dataset.X)\n",
        "print(Dataset.Y)\n",
        "print(Dataset.n)"
      ],
      "metadata": {
        "id": "3YdyDI8fUGc9"
      },
      "execution_count": null,
      "outputs": []
    },
    {
      "cell_type": "code",
      "source": [
        "Z, W = graph_encoder_embed(Dataset.X[0], Dataset.Y, Dataset.n, Correlation = True)\n",
        "print(Z)\n",
        "print(W)"
      ],
      "metadata": {
        "id": "lDZ6khvxUJVw"
      },
      "execution_count": null,
      "outputs": []
    },
    {
      "cell_type": "markdown",
      "source": [
        "#### Laplacian = True, correclation = False, DiagA = False"
      ],
      "metadata": {
        "id": "HKehTfeKUQxA"
      }
    },
    {
      "cell_type": "code",
      "source": [
        "Dataset = DataPreprocess(Encoder_case, Laplacian = True, DiagA = False)\n",
        "print(Dataset.X)\n",
        "print(Dataset.Y)\n",
        "print(Dataset.n)"
      ],
      "metadata": {
        "id": "vV-Um5qEUTgc"
      },
      "execution_count": null,
      "outputs": []
    },
    {
      "cell_type": "code",
      "source": [
        "Z, W = graph_encoder_embed(Dataset.X[0], Dataset.Y, Dataset.n, Correlation = False)\n",
        "print(Z)\n",
        "print(W)"
      ],
      "metadata": {
        "id": "eLDiOtqBUWYA"
      },
      "execution_count": null,
      "outputs": []
    },
    {
      "cell_type": "markdown",
      "source": [
        "#### Laplacian = True, correclation = True, DiagA = False"
      ],
      "metadata": {
        "id": "vTjRJqi2cS0u"
      }
    },
    {
      "cell_type": "code",
      "source": [
        "Dataset = DataPreprocess(Encoder_case, Laplacian = True, DiagA = False)\n",
        "print(Dataset.X)\n",
        "print(Dataset.Y)\n",
        "print(Dataset.n)"
      ],
      "metadata": {
        "id": "VFTS10ttcYWI"
      },
      "execution_count": null,
      "outputs": []
    },
    {
      "cell_type": "code",
      "source": [
        "Z, W = graph_encoder_embed(Dataset.X[0], Dataset.Y, Dataset.n, Correlation = False)\n",
        "print(Z)\n",
        "print(W)"
      ],
      "metadata": {
        "id": "khZob-O3cbJE"
      },
      "execution_count": null,
      "outputs": []
    },
    {
      "cell_type": "markdown",
      "source": [
        "### test encoder_1"
      ],
      "metadata": {
        "id": "Q2QYictXXStp"
      }
    },
    {
      "cell_type": "code",
      "source": [
        "A = np.array([\n",
        " [0, 0, 1, 0, 0, 0, 0, 0],\n",
        " [0, 0, 0, 1, 0, 0, 0, 0],\n",
        " [1, 0, 0, 1, 0, 0, 0, 0],\n",
        " [0, 1, 1, 0, 0, 0, 0, 0],\n",
        " [0, 0, 0, 0, 0, 0, 0, 0],\n",
        " [0, 0, 0, 0, 0, 0, 0, 0],\n",
        " [0, 0, 0, 0, 0, 0, 0, 0],\n",
        " [0, 0, 0, 0, 0, 0, 0, 0]])\n",
        "print(A)"
      ],
      "metadata": {
        "id": "8q52IKcmXCbm"
      },
      "execution_count": null,
      "outputs": []
    },
    {
      "cell_type": "code",
      "source": [
        "Y = np.array([[1,1,0,1,2,1,1,1]]).reshape((8,1))\n",
        "print(Y)"
      ],
      "metadata": {
        "id": "M6hOmpJqYERd"
      },
      "execution_count": null,
      "outputs": []
    },
    {
      "cell_type": "code",
      "source": [
        "Encoder_case = Encoder_case(A,Y,8)"
      ],
      "metadata": {
        "id": "fy-SatHJYP3Z"
      },
      "execution_count": null,
      "outputs": []
    },
    {
      "cell_type": "markdown",
      "source": [
        "####DiagA=false; Correlation=false; Laplacian=false"
      ],
      "metadata": {
        "id": "YSX7kJaxAZ-p"
      }
    },
    {
      "cell_type": "code",
      "source": [
        "Dataset = DataPreprocess(Encoder_case, Laplacian = False, DiagA = False)\n",
        "Z, W = graph_encoder_embed(Dataset.X[0], Dataset.Y, Dataset.n, Correlation = False)\n",
        "print(Z)\n",
        "print(W)"
      ],
      "metadata": {
        "id": "BU5GCxSGAhDY"
      },
      "execution_count": null,
      "outputs": []
    },
    {
      "cell_type": "markdown",
      "source": [
        "####DiagA=true; Correlation=false; Laplacian=false;"
      ],
      "metadata": {
        "id": "HFOgaIicBDGF"
      }
    },
    {
      "cell_type": "code",
      "source": [
        "Dataset = DataPreprocess(Encoder_case, Laplacian = False, DiagA = True)\n",
        "Z, W = graph_encoder_embed(Dataset.X[0], Dataset.Y, Dataset.n, Correlation = False)\n",
        "print(Z)\n",
        "print(W)"
      ],
      "metadata": {
        "id": "VkbsmUYkBCTT"
      },
      "execution_count": null,
      "outputs": []
    },
    {
      "cell_type": "markdown",
      "source": [
        "####DiagA= true; Correlation= true; Laplacian=false"
      ],
      "metadata": {
        "id": "EMWyOorgANfd"
      }
    },
    {
      "cell_type": "code",
      "source": [
        "Dataset = DataPreprocess(Encoder_case, Laplacian = False, DiagA = True)\n",
        "Z, W = graph_encoder_embed(Dataset.X[0], Dataset.Y, Dataset.n, Correlation = True)\n",
        "print(Z)\n",
        "print(W)"
      ],
      "metadata": {
        "id": "dyeiMVVYYgpz"
      },
      "execution_count": null,
      "outputs": []
    },
    {
      "cell_type": "markdown",
      "source": [
        "####DiagA= true; Correlation= true; Laplacian= true;"
      ],
      "metadata": {
        "id": "qeX0FUfrBTmZ"
      }
    },
    {
      "cell_type": "code",
      "source": [
        "Dataset = DataPreprocess(Encoder_case, Laplacian = True, DiagA = True)\n",
        "Z, W = graph_encoder_embed(Dataset.X[0], Dataset.Y, Dataset.n, Correlation = True)\n",
        "print(Z)\n",
        "print(W)"
      ],
      "metadata": {
        "id": "m6yPjzO8YtmY"
      },
      "execution_count": null,
      "outputs": []
    },
    {
      "cell_type": "markdown",
      "source": [
        "## Supervised Learning, Clustering, Semi-supervised learning "
      ],
      "metadata": {
        "id": "nHmaAyOO78j4"
      }
    },
    {
      "cell_type": "code",
      "source": [
        "n = 3000\n",
        "case = Case(n)"
      ],
      "metadata": {
        "id": "N40bNHQ7vxbr"
      },
      "execution_count": null,
      "outputs": []
    },
    {
      "cell_type": "markdown",
      "source": [
        "### Supervised"
      ],
      "metadata": {
        "id": "20XZXYWwvoEv"
      }
    },
    {
      "cell_type": "markdown",
      "source": [
        "#### GNN"
      ],
      "metadata": {
        "id": "2DzgzOYq5vCJ"
      }
    },
    {
      "cell_type": "markdown",
      "source": [
        "##### case 10"
      ],
      "metadata": {
        "id": "JCvMOGQ_QmQb"
      }
    },
    {
      "cell_type": "code",
      "source": [
        "case_10 = case.case_10_fully_known()\n",
        "case_10.summary()"
      ],
      "metadata": {
        "id": "OU2j6DiIvsog"
      },
      "execution_count": null,
      "outputs": []
    },
    {
      "cell_type": "code",
      "source": [
        "print(case_10.bd)"
      ],
      "metadata": {
        "id": "3T7xPHEtcVqu"
      },
      "execution_count": null,
      "outputs": []
    },
    {
      "cell_type": "code",
      "source": [
        "Run(case_10, \"su\", Learner = 0, Laplacian = False, DiagA = False, Correlation = False)"
      ],
      "metadata": {
        "id": "KhIc99ZhcVfk"
      },
      "execution_count": null,
      "outputs": []
    },
    {
      "cell_type": "code",
      "source": [
        "Run(case_10, \"su\", Learner = 0, Laplacian = False, DiagA = True, Correlation = False)"
      ],
      "metadata": {
        "id": "K7WiZ2dmTsrv"
      },
      "execution_count": null,
      "outputs": []
    },
    {
      "cell_type": "code",
      "source": [
        "Run(case_10, \"su\", Learner = 0, Laplacian = False, DiagA = True, Correlation = True)"
      ],
      "metadata": {
        "id": "cEqvn87BT4X7"
      },
      "execution_count": null,
      "outputs": []
    },
    {
      "cell_type": "code",
      "source": [
        "Run(case_10, \"su\", Learner = 0, Laplacian = True, DiagA = True, Correlation = True)"
      ],
      "metadata": {
        "id": "GBVODQ-oT8i9"
      },
      "execution_count": null,
      "outputs": []
    },
    {
      "cell_type": "markdown",
      "source": [
        "##### case 11"
      ],
      "metadata": {
        "id": "java5f10Qpwh"
      }
    },
    {
      "cell_type": "code",
      "source": [
        "case_11 = case.case_11_fully_known()\n",
        "case_11.summary()"
      ],
      "metadata": {
        "id": "rnieWCbKQsPQ"
      },
      "execution_count": null,
      "outputs": []
    },
    {
      "cell_type": "code",
      "source": [
        "print(case_11.bd)"
      ],
      "metadata": {
        "id": "1Nxj_EFgRmsO"
      },
      "execution_count": null,
      "outputs": []
    },
    {
      "cell_type": "code",
      "source": [
        "Run(case_11, \"su\", Learner = 0, Laplacian = False, DiagA = False, Correlation = False)"
      ],
      "metadata": {
        "id": "4ZAHDW3pRpFr"
      },
      "execution_count": null,
      "outputs": []
    },
    {
      "cell_type": "code",
      "source": [
        "Run(case_11, \"su\", Learner = 0, Laplacian = False, DiagA = True, Correlation = False)"
      ],
      "metadata": {
        "id": "sMQa3grSUMpn"
      },
      "execution_count": null,
      "outputs": []
    },
    {
      "cell_type": "code",
      "source": [
        "Run(case_11, \"su\", Learner = 0, Laplacian = False, DiagA = True, Correlation = True)"
      ],
      "metadata": {
        "id": "JGAqCwcvURCJ"
      },
      "execution_count": null,
      "outputs": []
    },
    {
      "cell_type": "code",
      "source": [
        "Run(case_11, \"su\", Learner = 0, Laplacian = True, DiagA = True, Correlation = True)"
      ],
      "metadata": {
        "id": "wGGiaZJJUWO1"
      },
      "execution_count": null,
      "outputs": []
    },
    {
      "cell_type": "markdown",
      "source": [
        "##### case 20"
      ],
      "metadata": {
        "id": "tQ1tRVg3R-17"
      }
    },
    {
      "cell_type": "code",
      "source": [
        "case_20 = case.case_20_fully_known()\n",
        "case_20.summary()"
      ],
      "metadata": {
        "id": "uNyJ-JDqR-VP"
      },
      "execution_count": null,
      "outputs": []
    },
    {
      "cell_type": "code",
      "source": [
        "print(case_20.bd)"
      ],
      "metadata": {
        "id": "3vJwM3JDSFq6"
      },
      "execution_count": null,
      "outputs": []
    },
    {
      "cell_type": "code",
      "source": [
        "Run(case_20, \"su\", Learner = 0, Laplacian = False, DiagA = False, Correlation = False)"
      ],
      "metadata": {
        "id": "4WaxsI-4SH96"
      },
      "execution_count": null,
      "outputs": []
    },
    {
      "cell_type": "code",
      "source": [
        "Run(case_20, \"su\", Learner = 0, Laplacian = False, DiagA = True, Correlation = False)"
      ],
      "metadata": {
        "id": "x8E4qOEzUie9"
      },
      "execution_count": null,
      "outputs": []
    },
    {
      "cell_type": "code",
      "source": [
        "Run(case_20, \"su\", Learner = 0, Laplacian = False, DiagA = True, Correlation = True)"
      ],
      "metadata": {
        "id": "ogDol1iXUnX7"
      },
      "execution_count": null,
      "outputs": []
    },
    {
      "cell_type": "code",
      "source": [
        "Run(case_20, \"su\", Learner = 0, Laplacian = True, DiagA = True, Correlation = True)"
      ],
      "metadata": {
        "id": "qMqk72y3UrAO"
      },
      "execution_count": null,
      "outputs": []
    },
    {
      "cell_type": "markdown",
      "source": [
        "##### case 21"
      ],
      "metadata": {
        "id": "k56rvsY4SOmO"
      }
    },
    {
      "cell_type": "code",
      "source": [
        "case_21 = case.case_21_fully_known()\n",
        "case_21.summary()"
      ],
      "metadata": {
        "id": "TFqVb3mLSREm"
      },
      "execution_count": null,
      "outputs": []
    },
    {
      "cell_type": "code",
      "source": [
        "print(case_21.bd)"
      ],
      "metadata": {
        "id": "qe0pS-MZSV4H"
      },
      "execution_count": null,
      "outputs": []
    },
    {
      "cell_type": "code",
      "source": [
        "Run(case_21, \"su\", Learner = 0, Laplacian = False, DiagA = False, Correlation = False)"
      ],
      "metadata": {
        "id": "Tk4lfBOYSYKp"
      },
      "execution_count": null,
      "outputs": []
    },
    {
      "cell_type": "code",
      "source": [
        "Run(case_21, \"su\", Learner = 0, Laplacian = False, DiagA = True, Correlation = False)"
      ],
      "metadata": {
        "id": "-4HRD5PBU3ZN"
      },
      "execution_count": null,
      "outputs": []
    },
    {
      "cell_type": "code",
      "source": [
        "Run(case_21, \"su\", Learner = 0, Laplacian = False, DiagA = True, Correlation = True)"
      ],
      "metadata": {
        "id": "W54zUAo2U7Xo"
      },
      "execution_count": null,
      "outputs": []
    },
    {
      "cell_type": "code",
      "source": [
        "Run(case_21, \"su\", Learner = 0, Laplacian = True, DiagA = True, Correlation = True)"
      ],
      "metadata": {
        "id": "Kgn03WrZU-OT"
      },
      "execution_count": null,
      "outputs": []
    },
    {
      "cell_type": "markdown",
      "source": [
        "#### LDA"
      ],
      "metadata": {
        "id": "JeJG6UHg550b"
      }
    },
    {
      "cell_type": "markdown",
      "source": [
        "##### case 10"
      ],
      "metadata": {
        "id": "Wn_2RFlb6ADj"
      }
    },
    {
      "cell_type": "code",
      "source": [
        "case_10 = case.case_10_fully_known()\n",
        "case_10.summary()"
      ],
      "metadata": {
        "id": "6C9mzV3p6ADk"
      },
      "execution_count": null,
      "outputs": []
    },
    {
      "cell_type": "code",
      "source": [
        "Run(case_10, \"su\", Learner = 1, Laplacian = False, DiagA = False, Correlation = False)"
      ],
      "metadata": {
        "id": "xcO9wWDLlFf8"
      },
      "execution_count": null,
      "outputs": []
    },
    {
      "cell_type": "code",
      "source": [
        "Run(case_10, \"su\", Learner = 1, Laplacian = False, DiagA = True, Correlation = False)"
      ],
      "metadata": {
        "id": "gR65Np4bliek"
      },
      "execution_count": null,
      "outputs": []
    },
    {
      "cell_type": "code",
      "source": [
        "Run(case_10, \"su\", Learner = 1, Laplacian = False, DiagA = True, Correlation = True)"
      ],
      "metadata": {
        "id": "iy04LDF66ADk"
      },
      "execution_count": null,
      "outputs": []
    },
    {
      "cell_type": "code",
      "source": [
        "Run(case_10, \"su\", Learner = 1, Laplacian = True, DiagA = True, Correlation = True)"
      ],
      "metadata": {
        "id": "2u9MhB5sl-mw"
      },
      "execution_count": null,
      "outputs": []
    },
    {
      "cell_type": "markdown",
      "source": [
        "##### case 11"
      ],
      "metadata": {
        "id": "l23XKJZcVLaT"
      }
    },
    {
      "cell_type": "code",
      "source": [
        "case_11 = case.case_11_fully_known()\n",
        "case_11.summary()"
      ],
      "metadata": {
        "id": "-K7LM5ouVLaU"
      },
      "execution_count": null,
      "outputs": []
    },
    {
      "cell_type": "code",
      "source": [
        "print(case_11.bd)"
      ],
      "metadata": {
        "id": "h77w_UjGVLaU"
      },
      "execution_count": null,
      "outputs": []
    },
    {
      "cell_type": "code",
      "source": [
        "Run(case_11, \"su\", Learner = 1, Laplacian = False, DiagA = False, Correlation = False)"
      ],
      "metadata": {
        "id": "6HTTGVH2VLaU"
      },
      "execution_count": null,
      "outputs": []
    },
    {
      "cell_type": "code",
      "source": [
        "Run(case_11, \"su\", Learner = 1, Laplacian = False, DiagA = True, Correlation = False)"
      ],
      "metadata": {
        "id": "R2yH7UidVLaV"
      },
      "execution_count": null,
      "outputs": []
    },
    {
      "cell_type": "code",
      "source": [
        "Run(case_11, \"su\", Learner = 1, Laplacian = False, DiagA = True, Correlation = True)"
      ],
      "metadata": {
        "id": "6BReipEqVLaV"
      },
      "execution_count": null,
      "outputs": []
    },
    {
      "cell_type": "code",
      "source": [
        "Run(case_11, \"su\", Learner = 1, Laplacian = True, DiagA = True, Correlation = True)"
      ],
      "metadata": {
        "id": "SHykKlRyVLaV"
      },
      "execution_count": null,
      "outputs": []
    },
    {
      "cell_type": "markdown",
      "source": [
        "##### case 20"
      ],
      "metadata": {
        "id": "2Yf2YJ5oYjgu"
      }
    },
    {
      "cell_type": "code",
      "source": [
        "case_20 = case.case_20_fully_known()\n",
        "case_20.summary()"
      ],
      "metadata": {
        "id": "kikGzNQ4Yi1k"
      },
      "execution_count": null,
      "outputs": []
    },
    {
      "cell_type": "code",
      "source": [
        "print(case_20.bd)"
      ],
      "metadata": {
        "id": "oqXebgHVYscG"
      },
      "execution_count": null,
      "outputs": []
    },
    {
      "cell_type": "code",
      "source": [
        "Run(case_20, \"su\", Learner = 1, Laplacian = False, DiagA = False, Correlation = False)"
      ],
      "metadata": {
        "id": "NX5dyMquYvvG"
      },
      "execution_count": null,
      "outputs": []
    },
    {
      "cell_type": "code",
      "source": [
        "Run(case_20, \"su\", Learner = 1, Laplacian = False, DiagA = True, Correlation = False)"
      ],
      "metadata": {
        "id": "6J5uGSC7YyHm"
      },
      "execution_count": null,
      "outputs": []
    },
    {
      "cell_type": "code",
      "source": [
        "Run(case_20, \"su\", Learner = 1, Laplacian = False, DiagA = True, Correlation = True)"
      ],
      "metadata": {
        "id": "RaKIl_ecY0ty"
      },
      "execution_count": null,
      "outputs": []
    },
    {
      "cell_type": "code",
      "source": [
        "Run(case_20, \"su\", Learner = 1, Laplacian = True, DiagA = True, Correlation = True)"
      ],
      "metadata": {
        "id": "gNbeXIFwY3Fl"
      },
      "execution_count": null,
      "outputs": []
    },
    {
      "cell_type": "markdown",
      "source": [
        "##### case 21"
      ],
      "metadata": {
        "id": "s9NtFENaZHgu"
      }
    },
    {
      "cell_type": "code",
      "source": [
        "case_21 = case.case_21_fully_known()\n",
        "case_21.summary()"
      ],
      "metadata": {
        "id": "kumjacdPZHgu"
      },
      "execution_count": null,
      "outputs": []
    },
    {
      "cell_type": "code",
      "source": [
        "print(case_21.bd)"
      ],
      "metadata": {
        "id": "ot-pWzvaZHgv"
      },
      "execution_count": null,
      "outputs": []
    },
    {
      "cell_type": "code",
      "source": [
        "Run(case_21, \"su\", Learner = 1, Laplacian = False, DiagA = False, Correlation = False)"
      ],
      "metadata": {
        "id": "4PJJ1GZuZHgv"
      },
      "execution_count": null,
      "outputs": []
    },
    {
      "cell_type": "code",
      "source": [
        "Run(case_21, \"su\", Learner = 1, Laplacian = False, DiagA = True, Correlation = False)"
      ],
      "metadata": {
        "id": "ojxBLXpmZHgv"
      },
      "execution_count": null,
      "outputs": []
    },
    {
      "cell_type": "code",
      "source": [
        "Run(case_21, \"su\", Learner = 1, Laplacian = False, DiagA = True, Correlation = True)"
      ],
      "metadata": {
        "id": "ZOwIiFjAZHgv"
      },
      "execution_count": null,
      "outputs": []
    },
    {
      "cell_type": "code",
      "source": [
        "Run(case_21, \"su\", Learner = 1, Laplacian = True, DiagA = True, Correlation = True)"
      ],
      "metadata": {
        "id": "rpjp_Q3BZHgv"
      },
      "execution_count": null,
      "outputs": []
    },
    {
      "cell_type": "markdown",
      "source": [
        "###Clustering"
      ],
      "metadata": {
        "id": "kOavgtBvGJIP"
      }
    },
    {
      "cell_type": "markdown",
      "source": [
        "#### Case 10"
      ],
      "metadata": {
        "id": "POdk9_vFMs0S"
      }
    },
    {
      "cell_type": "code",
      "source": [
        "case_10_cluster = case.case_10_cluster()\n",
        "case_10_cluster.summary()"
      ],
      "metadata": {
        "id": "anrsyATWGGEy"
      },
      "execution_count": null,
      "outputs": []
    },
    {
      "cell_type": "code",
      "source": [
        "print(case_10_cluster.bd)"
      ],
      "metadata": {
        "id": "m6SoKi_8Y-4-"
      },
      "execution_count": null,
      "outputs": []
    },
    {
      "cell_type": "code",
      "source": [
        "Run(case_10_cluster, \"c\")"
      ],
      "metadata": {
        "id": "j1xxG-ggDWc9"
      },
      "execution_count": null,
      "outputs": []
    },
    {
      "cell_type": "markdown",
      "source": [
        "#### Case 11"
      ],
      "metadata": {
        "id": "Jp1jgYrNM5HY"
      }
    },
    {
      "cell_type": "code",
      "source": [
        "case_11_cluster = case.case_11_cluster()\n",
        "case_11_cluster.summary()"
      ],
      "metadata": {
        "id": "QIy-40KxM8Rs"
      },
      "execution_count": null,
      "outputs": []
    },
    {
      "cell_type": "code",
      "source": [
        "print(case_11_cluster.bd)"
      ],
      "metadata": {
        "id": "oYYo8k0KNDSY"
      },
      "execution_count": null,
      "outputs": []
    },
    {
      "cell_type": "code",
      "source": [
        "Run(case_11_cluster, \"c\")"
      ],
      "metadata": {
        "id": "TuRQ0Yq5lyWr"
      },
      "execution_count": null,
      "outputs": []
    },
    {
      "cell_type": "markdown",
      "source": [
        "#### case 20"
      ],
      "metadata": {
        "id": "21W6ed6sSgTz"
      }
    },
    {
      "cell_type": "code",
      "source": [
        "case_20_cluster = case.case_20_cluster()\n",
        "case_20_cluster.summary()"
      ],
      "metadata": {
        "id": "FkvWaiRCSiqS"
      },
      "execution_count": null,
      "outputs": []
    },
    {
      "cell_type": "code",
      "source": [
        "print(case_20_cluster.bd)"
      ],
      "metadata": {
        "id": "_jES2nTaSmIj"
      },
      "execution_count": null,
      "outputs": []
    },
    {
      "cell_type": "code",
      "source": [
        "Run(case_20_cluster, \"c\")"
      ],
      "metadata": {
        "id": "U_x9e4rvSopQ"
      },
      "execution_count": null,
      "outputs": []
    },
    {
      "cell_type": "markdown",
      "source": [
        "#### Case 21"
      ],
      "metadata": {
        "id": "GDtO9JQXSxp-"
      }
    },
    {
      "cell_type": "code",
      "source": [
        "case_21_cluster = case.case_21_cluster()\n",
        "case_21_cluster.summary()"
      ],
      "metadata": {
        "id": "a-hOAfLHSzOc"
      },
      "execution_count": null,
      "outputs": []
    },
    {
      "cell_type": "code",
      "source": [
        "print(case_21_cluster.bd)"
      ],
      "metadata": {
        "id": "SmkJKSKNS19A"
      },
      "execution_count": null,
      "outputs": []
    },
    {
      "cell_type": "code",
      "source": [
        "Run(case_21_cluster, \"c\")"
      ],
      "metadata": {
        "id": "KczCwGTgtgEv"
      },
      "execution_count": null,
      "outputs": []
    },
    {
      "cell_type": "markdown",
      "source": [
        "### Semi-GNN-learner 0"
      ],
      "metadata": {
        "id": "Ogk-NUbWRt7a"
      }
    },
    {
      "cell_type": "markdown",
      "source": [
        "#### case 10"
      ],
      "metadata": {
        "id": "CVfYA-GKcuzp"
      }
    },
    {
      "cell_type": "code",
      "source": [
        "case_10 = case.case_10()\n",
        "case_10.summary()"
      ],
      "metadata": {
        "id": "zdyIcNo8R0oa"
      },
      "execution_count": null,
      "outputs": []
    },
    {
      "cell_type": "code",
      "source": [
        "print(case_10.bd)"
      ],
      "metadata": {
        "id": "BPdxrrysR8jB"
      },
      "execution_count": null,
      "outputs": []
    },
    {
      "cell_type": "code",
      "source": [
        "Run(case_10, \"se\", Learner = 0, LearnerIter = 0)"
      ],
      "metadata": {
        "id": "Dh8A6zMsR9AS"
      },
      "execution_count": null,
      "outputs": []
    },
    {
      "cell_type": "markdown",
      "source": [
        "#### case 11"
      ],
      "metadata": {
        "id": "UPlxtEk4c4e7"
      }
    },
    {
      "cell_type": "code",
      "source": [
        "case_11 = case.case_11()\n",
        "case_11.summary()"
      ],
      "metadata": {
        "id": "wS_VQPxRc7vP"
      },
      "execution_count": null,
      "outputs": []
    },
    {
      "cell_type": "code",
      "source": [
        "print(case_11.bd)"
      ],
      "metadata": {
        "id": "V6GsXPf1dAvk"
      },
      "execution_count": null,
      "outputs": []
    },
    {
      "cell_type": "code",
      "source": [
        "Run(case_11, \"se\", Learner = 0, LearnerIter = 0)"
      ],
      "metadata": {
        "id": "c1D3q4ZVdCgZ"
      },
      "execution_count": null,
      "outputs": []
    },
    {
      "cell_type": "markdown",
      "source": [
        "#### case 20"
      ],
      "metadata": {
        "id": "-LQybSHfd7_X"
      }
    },
    {
      "cell_type": "code",
      "source": [
        "case_20 = case.case_20()\n",
        "case_20.summary()"
      ],
      "metadata": {
        "id": "rt0qKImJd7Z7"
      },
      "execution_count": null,
      "outputs": []
    },
    {
      "cell_type": "code",
      "source": [
        "print(case_20.bd)"
      ],
      "metadata": {
        "id": "FU7MP70ulExG"
      },
      "execution_count": null,
      "outputs": []
    },
    {
      "cell_type": "code",
      "source": [
        "Run(case_20, \"se\", Learner = 0, LearnerIter = 0)"
      ],
      "metadata": {
        "id": "nijLFB_dlI9h"
      },
      "execution_count": null,
      "outputs": []
    },
    {
      "cell_type": "markdown",
      "source": [
        "#### case 21"
      ],
      "metadata": {
        "id": "Rwaz9dvrlRDI"
      }
    },
    {
      "cell_type": "code",
      "source": [
        "case_21 = case.case_21()\n",
        "case_21.summary()"
      ],
      "metadata": {
        "id": "qxo9Nb5YlUys"
      },
      "execution_count": null,
      "outputs": []
    },
    {
      "cell_type": "code",
      "source": [
        "print(case_21.bd)"
      ],
      "metadata": {
        "id": "7yFGXpaPlZZF"
      },
      "execution_count": null,
      "outputs": []
    },
    {
      "cell_type": "code",
      "source": [
        "Run(case_21, \"se\", Learner = 0, LearnerIter = 0)"
      ],
      "metadata": {
        "id": "VYPLa8KOlcJd"
      },
      "execution_count": null,
      "outputs": []
    },
    {
      "cell_type": "markdown",
      "source": [
        "### Semi-LDA-learner 1"
      ],
      "metadata": {
        "id": "U317fXLund_1"
      }
    },
    {
      "cell_type": "markdown",
      "source": [
        "#### case 10"
      ],
      "metadata": {
        "id": "cqLx_ig1o2V3"
      }
    },
    {
      "cell_type": "code",
      "source": [
        "case_10 = case.case_10()\n",
        "case_10.summary()"
      ],
      "metadata": {
        "id": "xgfFmJido2V4"
      },
      "execution_count": null,
      "outputs": []
    },
    {
      "cell_type": "code",
      "source": [
        "print(case_10.bd)"
      ],
      "metadata": {
        "id": "w87BmRDgo2V4"
      },
      "execution_count": null,
      "outputs": []
    },
    {
      "cell_type": "code",
      "source": [
        "Run(case_10, \"se\", Learner = 1, LearnerIter = 10)"
      ],
      "metadata": {
        "id": "osPREqpYo2V4"
      },
      "execution_count": null,
      "outputs": []
    },
    {
      "cell_type": "markdown",
      "source": [
        "#### case 11"
      ],
      "metadata": {
        "id": "x9nrL5zkpHCS"
      }
    },
    {
      "cell_type": "code",
      "source": [
        "case_11 = case.case_11()\n",
        "case_11.summary()"
      ],
      "metadata": {
        "id": "pzehdIQfpHCT"
      },
      "execution_count": null,
      "outputs": []
    },
    {
      "cell_type": "code",
      "source": [
        "print(case_11.bd)"
      ],
      "metadata": {
        "id": "-KBPngN5pHCU"
      },
      "execution_count": null,
      "outputs": []
    },
    {
      "cell_type": "code",
      "source": [
        "Run(case_11, \"se\", Learner = 1, LearnerIter = 10)"
      ],
      "metadata": {
        "id": "bKCwC_FvpHCU"
      },
      "execution_count": null,
      "outputs": []
    },
    {
      "cell_type": "markdown",
      "source": [
        "#### case 20"
      ],
      "metadata": {
        "id": "-yB1tYRFpXsW"
      }
    },
    {
      "cell_type": "code",
      "source": [
        "case_20 = case.case_20()\n",
        "case_20.summary()"
      ],
      "metadata": {
        "id": "1NyIc18vpXsW"
      },
      "execution_count": null,
      "outputs": []
    },
    {
      "cell_type": "code",
      "source": [
        "print(case_20.bd)"
      ],
      "metadata": {
        "id": "bhYEf9_LpXsX"
      },
      "execution_count": null,
      "outputs": []
    },
    {
      "cell_type": "code",
      "source": [
        "Run(case_20, \"se\", Learner = 1, LearnerIter = 10)"
      ],
      "metadata": {
        "id": "LXkhcwm3pXsX"
      },
      "execution_count": null,
      "outputs": []
    },
    {
      "cell_type": "markdown",
      "source": [
        "#### case 21"
      ],
      "metadata": {
        "id": "Z6MgVfOXpifc"
      }
    },
    {
      "cell_type": "code",
      "source": [
        "case_21 = case.case_21()\n",
        "case_21.summary()"
      ],
      "metadata": {
        "id": "I0sc04Gbpifd"
      },
      "execution_count": null,
      "outputs": []
    },
    {
      "cell_type": "code",
      "source": [
        "print(case_21.bd)"
      ],
      "metadata": {
        "id": "n2Ej-mtcpifd"
      },
      "execution_count": null,
      "outputs": []
    },
    {
      "cell_type": "code",
      "source": [
        "Run(case_21, \"se\", Learner = 1, LearnerIter = 10)"
      ],
      "metadata": {
        "id": "wpkXVJHkpifd"
      },
      "execution_count": null,
      "outputs": []
    },
    {
      "cell_type": "markdown",
      "source": [
        "### Semi-GNN-learner 2 - update using y_temp"
      ],
      "metadata": {
        "id": "Kgc3k3SdMyLC"
      }
    },
    {
      "cell_type": "markdown",
      "source": [
        "#### case 10"
      ],
      "metadata": {
        "id": "jrm100KVlEro"
      }
    },
    {
      "cell_type": "code",
      "source": [
        "case_10 = case.case_10()\n",
        "case_10.summary()"
      ],
      "metadata": {
        "id": "TxdQtKGz2nx8"
      },
      "execution_count": null,
      "outputs": []
    },
    {
      "cell_type": "code",
      "source": [
        "print(case_10.bd)"
      ],
      "metadata": {
        "id": "taH4vaeUGFzK"
      },
      "execution_count": null,
      "outputs": []
    },
    {
      "cell_type": "code",
      "source": [
        "Run(case_10, \"se\", Learner = 2, LearnerIter = 10)"
      ],
      "metadata": {
        "id": "PEFDMYxYWL8V"
      },
      "execution_count": null,
      "outputs": []
    },
    {
      "cell_type": "markdown",
      "source": [
        "#### case 11"
      ],
      "metadata": {
        "id": "ZoZe1vWhWDNY"
      }
    },
    {
      "cell_type": "code",
      "source": [
        "case_11 = case.case_11()\n",
        "case_11.summary()"
      ],
      "metadata": {
        "id": "_7LR00zW2yQz"
      },
      "execution_count": null,
      "outputs": []
    },
    {
      "cell_type": "code",
      "source": [
        "print(case_11.bd)"
      ],
      "metadata": {
        "id": "Pamtz2cxWHuf"
      },
      "execution_count": null,
      "outputs": []
    },
    {
      "cell_type": "code",
      "source": [
        "Run(case_11, \"se\", Learner = 2, LearnerIter = 10)"
      ],
      "metadata": {
        "id": "BGc6blETWSwG"
      },
      "execution_count": null,
      "outputs": []
    },
    {
      "cell_type": "markdown",
      "source": [
        "#### Case 20"
      ],
      "metadata": {
        "id": "opxkDZwJWWf9"
      }
    },
    {
      "cell_type": "code",
      "source": [
        "case_20 = case.case_20()\n",
        "case_20.summary()"
      ],
      "metadata": {
        "id": "BWoTnljzWZsc"
      },
      "execution_count": null,
      "outputs": []
    },
    {
      "cell_type": "code",
      "source": [
        "print(case_20.bd)"
      ],
      "metadata": {
        "id": "ABSmj25YWeUE"
      },
      "execution_count": null,
      "outputs": []
    },
    {
      "cell_type": "code",
      "source": [
        "Run(case_20, \"se\", Learner = 2, LearnerIter = 10)"
      ],
      "metadata": {
        "id": "xFUqmlUrWhli"
      },
      "execution_count": null,
      "outputs": []
    },
    {
      "cell_type": "markdown",
      "source": [
        "#### Case 21"
      ],
      "metadata": {
        "id": "nEfdXpU6WlAL"
      }
    },
    {
      "cell_type": "code",
      "source": [
        "case_21 = case.case_21()\n",
        "case_21.summary()"
      ],
      "metadata": {
        "id": "SPOx57FnWnxX"
      },
      "execution_count": null,
      "outputs": []
    },
    {
      "cell_type": "code",
      "source": [
        "print(case_21.bd)"
      ],
      "metadata": {
        "id": "mTrHIaPwWrjX"
      },
      "execution_count": null,
      "outputs": []
    },
    {
      "cell_type": "code",
      "source": [
        "Run(case_21, \"se\", Learner = 2, LearnerIter = 10)"
      ],
      "metadata": {
        "id": "LSJXkr7NWtZ7"
      },
      "execution_count": null,
      "outputs": []
    },
    {
      "cell_type": "markdown",
      "source": [
        "### Semi-GNN-learner 2 - update using y_temp_one_hot"
      ],
      "metadata": {
        "id": "EdhZ_SCjs0y8"
      }
    },
    {
      "cell_type": "markdown",
      "source": [
        "#### case 10"
      ],
      "metadata": {
        "id": "Bg8JwwmOs0y_"
      }
    },
    {
      "cell_type": "code",
      "source": [
        "case_10 = case.case_10()\n",
        "case_10.summary()"
      ],
      "metadata": {
        "id": "5STxwPW5s0y_"
      },
      "execution_count": null,
      "outputs": []
    },
    {
      "cell_type": "code",
      "source": [
        "print(case_10.bd)"
      ],
      "metadata": {
        "id": "VxEIhWMvs0y_"
      },
      "execution_count": null,
      "outputs": []
    },
    {
      "cell_type": "code",
      "source": [
        "Run(case_10, \"se\", Learner = 2, LearnerIter = 10)"
      ],
      "metadata": {
        "id": "W8sK2sgNs0y_"
      },
      "execution_count": null,
      "outputs": []
    },
    {
      "cell_type": "markdown",
      "source": [
        "#### case 11"
      ],
      "metadata": {
        "id": "jEF_J1jFs0y_"
      }
    },
    {
      "cell_type": "code",
      "source": [
        "case_11 = case.case_11()\n",
        "case_11.summary()"
      ],
      "metadata": {
        "id": "v8yrqkxOs0y_"
      },
      "execution_count": null,
      "outputs": []
    },
    {
      "cell_type": "code",
      "source": [
        "print(case_11.bd)"
      ],
      "metadata": {
        "id": "MtcBUC_Cs0zA"
      },
      "execution_count": null,
      "outputs": []
    },
    {
      "cell_type": "code",
      "source": [
        "Run(case_11, \"se\", Learner = 2, LearnerIter = 10)"
      ],
      "metadata": {
        "id": "ZhGFRQvos0zA"
      },
      "execution_count": null,
      "outputs": []
    },
    {
      "cell_type": "markdown",
      "source": [
        "#### Case 20"
      ],
      "metadata": {
        "id": "iDFX8XaZs0zA"
      }
    },
    {
      "cell_type": "code",
      "source": [
        "case_20 = case.case_20()\n",
        "case_20.summary()"
      ],
      "metadata": {
        "id": "1wPWo_rgs0zA"
      },
      "execution_count": null,
      "outputs": []
    },
    {
      "cell_type": "code",
      "source": [
        "print(case_20.bd)"
      ],
      "metadata": {
        "id": "ODuq_u1ms0zA"
      },
      "execution_count": null,
      "outputs": []
    },
    {
      "cell_type": "code",
      "source": [
        "Run(case_20, \"se\", Learner = 2, LearnerIter = 10)"
      ],
      "metadata": {
        "id": "fv4Px8Kas0zA"
      },
      "execution_count": null,
      "outputs": []
    },
    {
      "cell_type": "markdown",
      "source": [
        "#### Case 21"
      ],
      "metadata": {
        "id": "j5f1h5FAs0zA"
      }
    },
    {
      "cell_type": "code",
      "source": [
        "case_21 = case.case_21()\n",
        "case_21.summary()"
      ],
      "metadata": {
        "id": "jE0msohms0zA"
      },
      "execution_count": null,
      "outputs": []
    },
    {
      "cell_type": "code",
      "source": [
        "print(case_21.bd)"
      ],
      "metadata": {
        "id": "grJAf_K9s0zB"
      },
      "execution_count": null,
      "outputs": []
    },
    {
      "cell_type": "code",
      "source": [
        "Run(case_21, \"se\", Learner = 2, LearnerIter = 10)"
      ],
      "metadata": {
        "id": "m1Viv_rcs0zB"
      },
      "execution_count": null,
      "outputs": []
    }
  ]
}