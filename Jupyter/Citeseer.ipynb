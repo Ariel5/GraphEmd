{
 "cells": [
  {
   "cell_type": "code",
   "execution_count": 1,
   "metadata": {},
   "outputs": [],
   "source": [
    "import numpy as np\n",
    "import pandas as pd\n",
    "import random\n",
    "import time\n",
    "from sklearn.model_selection import RepeatedKFold\n",
    "from sklearn.discriminant_analysis import LinearDiscriminantAnalysis\n",
    "from scipy import linalg\n",
    "from sklearn.neural_network import MLPClassifier\n",
    "from sklearn.neighbors import KNeighborsClassifier\n",
    "import requests"
   ]
  },
  {
   "cell_type": "code",
   "execution_count": 2,
   "metadata": {},
   "outputs": [],
   "source": [
    "Edges = pd.read_csv(\"citeseer Edges.csv\",header=None)\n",
    "Edges = np.array(Edges)"
   ]
  },
  {
   "cell_type": "code",
   "execution_count": 3,
   "metadata": {},
   "outputs": [],
   "source": [
    "Labels = pd.read_csv(\"citeseer node_labels.csv\",header=None)\n",
    "y = np.array(Labels)"
   ]
  },
  {
   "cell_type": "code",
   "execution_count": 4,
   "metadata": {},
   "outputs": [
    {
     "data": {
      "text/plain": [
       "(3264, (4536, 2), (3264, 1))"
      ]
     },
     "execution_count": 4,
     "metadata": {},
     "output_type": "execute_result"
    }
   ],
   "source": [
    "Edges.max(),np.shape(Edges),np.shape(y)"
   ]
  },
  {
   "cell_type": "code",
   "execution_count": 5,
   "metadata": {},
   "outputs": [],
   "source": [
    "A = np.zeros((3264,3264))\n",
    "for i in range (0,4536):\n",
    "    A[Edges[i,0]-1,Edges[i,1]-1]=1"
   ]
  },
  {
   "cell_type": "code",
   "execution_count": 6,
   "metadata": {},
   "outputs": [],
   "source": [
    "def EncoderLDA(A):\n",
    "#Split Data\n",
    "    rkf = RepeatedKFold(n_splits=5, n_repeats=10, random_state=5)\n",
    "    for train_index, test_index in rkf.split(A):\n",
    "         #print(\"TRAIN:\", train_index, \"TEST:\", test_index)\n",
    "         X_train, X_test = A[train_index], A[test_index]\n",
    "         y_train, y_test = y[train_index], y[test_index]\n",
    "         X1 = X_train.transpose()\n",
    "         X_train, X_test = X1[train_index], X1[test_index]\n",
    "#ASE*LDA\n",
    "    begin1 = time.time()\n",
    "    U, s, VT = np.linalg.svd(A)\n",
    "    end1 = time.time()\n",
    "    newx=([])\n",
    "    dmax=50\n",
    "    tmp = np.zeros([dmax,1])\n",
    "    for d in range (1,dmax):\n",
    "        newx=np.concatenate(U[:,0:d]*s[0:d]**0.5)\n",
    "        newx=np.reshape(newx,(n,d))\n",
    "        clf2 = LinearDiscriminantAnalysis()\n",
    "        newx_train, newx_test =newx[train_index], newx[test_index]\n",
    "        clf2.fit(newx_train, y_train.ravel())\n",
    "        tmp[d,0]=clf2.score(newx_test, y_test.ravel())\n",
    "    db=tmp.argmax()\n",
    "    ASELDAACC=tmp.max()\n",
    "    ASELDATIME=end1-begin1\n",
    "    #eigenvalues=s**2\n",
    "    #Top=eigenvalues[:10]\n",
    "#nk,w,Z\n",
    "    begin5 = time.time()\n",
    "    global k\n",
    "    nk = np.zeros((1,k))\n",
    "    for i in range(0,len(y_train)-1):\n",
    "        nk[0,int(y_train[i,0]-1)]=nk[0,int(y_train[i,0]-1)]+1\n",
    "    w = np.zeros((int(np.size(y_train)),k))\n",
    "    for i in range(0,int(np.size(y_train))):\n",
    "        k=int(y_train[i])\n",
    "        w[i][k-1]=1/nk[0,k-1]\n",
    "    z_train=np.matmul(X_train,w)\n",
    "    z_test = np.matmul(X_test,w)\n",
    "    end5 = time.time()\n",
    "    zTIME=end5 - begin5\n",
    "#AEE*KNN\n",
    "    begin2 = time.time()\n",
    "    neigh = KNeighborsClassifier(weights='uniform',metric='euclidean')\n",
    "    neigh.fit(z_train, y_train.ravel())\n",
    "    AEEKNNACC = neigh.score(z_test, y_test)\n",
    "    end2 = time.time()\n",
    "    AEEKNNTIME=end2-begin2\n",
    "#AEE*LDA\n",
    "    begin3 = time.time()\n",
    "    clf4 = LinearDiscriminantAnalysis()\n",
    "    clf4.fit(z_train,y_train.ravel())\n",
    "    AEELDAACC = clf4.score(z_test, y_test.ravel())\n",
    "    end3 = time.time()\n",
    "    AEELDATIME=end3-begin3\n",
    "#Get result\n",
    "    Acc=np.array([ASELDAACC,AEEKNNACC,AEELDAACC])\n",
    "    Time=np.array([ASELDATIME,AEEKNNTIME+zTIME,AEELDATIME+zTIME])\n",
    "    print(f\"d = {db}\")\n",
    "    print(f\"Accuracy for each method: {Acc}\")\n",
    "    print(f\"Time for each method: {Time}\")"
   ]
  },
  {
   "cell_type": "code",
   "execution_count": 7,
   "metadata": {},
   "outputs": [
    {
     "name": "stdout",
     "output_type": "stream",
     "text": [
      "d = 28\n",
      "Accuracy for each method: [0.32515337 0.49539877 0.47392638]\n",
      "Time for each method: [19.02563787  0.06806612  0.02360988]\n"
     ]
    }
   ],
   "source": [
    "n=3264\n",
    "k=int(y.max())\n",
    "EncoderLDA(A)"
   ]
  },
  {
   "cell_type": "code",
   "execution_count": null,
   "metadata": {},
   "outputs": [],
   "source": []
  }
 ],
 "metadata": {
  "kernelspec": {
   "display_name": "Python 3",
   "language": "python",
   "name": "python3"
  },
  "language_info": {
   "codemirror_mode": {
    "name": "ipython",
    "version": 3
   },
   "file_extension": ".py",
   "mimetype": "text/x-python",
   "name": "python",
   "nbconvert_exporter": "python",
   "pygments_lexer": "ipython3",
   "version": "3.8.5"
  }
 },
 "nbformat": 4,
 "nbformat_minor": 4
}
