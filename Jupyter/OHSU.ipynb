{
 "cells": [
  {
   "cell_type": "code",
   "execution_count": 3,
   "metadata": {},
   "outputs": [],
   "source": [
    "import numpy as np\n",
    "import pandas as pd\n",
    "import random\n",
    "import time\n",
    "from sklearn.model_selection import RepeatedKFold\n",
    "from sklearn.discriminant_analysis import LinearDiscriminantAnalysis\n",
    "from scipy import linalg\n",
    "from sklearn.neural_network import MLPClassifier\n",
    "from sklearn.neighbors import KNeighborsClassifier\n",
    "import requests"
   ]
  },
  {
   "cell_type": "code",
   "execution_count": 4,
   "metadata": {},
   "outputs": [
    {
     "data": {
      "text/plain": [
       "(6479, (31546, 2), (6479, 1))"
      ]
     },
     "execution_count": 4,
     "metadata": {},
     "output_type": "execute_result"
    }
   ],
   "source": [
    "Edges = pd.read_csv(\"/Users/qizhe/Documents/GitHub/GraphNN/Data/OHSU/OHSU edges.csv\",header=None)\n",
    "Edges = np.array(Edges)\n",
    "Labels = pd.read_csv(\"/Users/qizhe/Documents/GitHub/GraphNN/Data/OHSU/OHSU node_labels.csv\",header=None)\n",
    "y = np.array(Labels)\n",
    "Edges.max(),np.shape(Edges),np.shape(y)"
   ]
  },
  {
   "cell_type": "code",
   "execution_count": 5,
   "metadata": {},
   "outputs": [],
   "source": [
    "A = np.zeros((6479,6479))\n",
    "for i in range (0,31546):\n",
    "    A[Edges[i,0]-1,Edges[i,1]-1]=1"
   ]
  },
  {
   "cell_type": "code",
   "execution_count": 6,
   "metadata": {},
   "outputs": [
    {
     "name": "stdout",
     "output_type": "stream",
     "text": [
      "d = 14\n",
      "Accuracy for each method: [0.00490819 0.15652143 0.2977316 ]\n",
      "Time for each method: [102.18084502   9.54811907   8.36794305]\n"
     ]
    }
   ],
   "source": [
    "n=6479\n",
    "K=int(y.max())\n",
    "%run Encoder.ipynb\n",
    "EncoderLDA(A)"
   ]
  },
  {
   "cell_type": "code",
   "execution_count": null,
   "metadata": {},
   "outputs": [],
   "source": []
  }
 ],
 "metadata": {
  "kernelspec": {
   "display_name": "Python 3",
   "language": "python",
   "name": "python3"
  },
  "language_info": {
   "codemirror_mode": {
    "name": "ipython",
    "version": 3
   },
   "file_extension": ".py",
   "mimetype": "text/x-python",
   "name": "python",
   "nbconvert_exporter": "python",
   "pygments_lexer": "ipython3",
   "version": "3.8.5"
  }
 },
 "nbformat": 4,
 "nbformat_minor": 4
}
