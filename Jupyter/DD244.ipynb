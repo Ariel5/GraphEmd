{
 "cells": [
  {
   "cell_type": "code",
   "execution_count": 208,
   "metadata": {},
   "outputs": [],
   "source": [
    "import numpy as np\n",
    "import pandas as pd\n",
    "import random\n",
    "import time\n",
    "from sklearn.model_selection import RepeatedKFold\n",
    "from sklearn.discriminant_analysis import LinearDiscriminantAnalysis\n",
    "from scipy import linalg\n",
    "from sklearn.neural_network import MLPClassifier\n",
    "from sklearn.neighbors import KNeighborsClassifier"
   ]
  },
  {
   "cell_type": "code",
   "execution_count": 209,
   "metadata": {},
   "outputs": [],
   "source": [
    "Edges = pd.read_csv(\"/Users/qizhe/Documents/GitHub/GraphNN/Data/DD244/DD244 Edges.csv\",header=None)\n",
    "Edges = np.array(Edges)"
   ]
  },
  {
   "cell_type": "code",
   "execution_count": 210,
   "metadata": {},
   "outputs": [],
   "source": [
    "Labels = pd.read_csv(\"/Users/qizhe/Documents/GitHub/GraphNN/Data/DD244/DD244 node_labels.csv\",header=None)\n",
    "y = np.array(Labels)"
   ]
  },
  {
   "cell_type": "code",
   "execution_count": 211,
   "metadata": {},
   "outputs": [],
   "source": [
    "A = np.zeros((291,291))\n",
    "for i in range (0,822):\n",
    "    A[Edges[i,0]-1,Edges[i,1]-1]=1"
   ]
  },
  {
   "cell_type": "code",
   "execution_count": 212,
   "metadata": {},
   "outputs": [
    {
     "data": {
      "text/plain": [
       "20"
      ]
     },
     "execution_count": 212,
     "metadata": {},
     "output_type": "execute_result"
    }
   ],
   "source": [
    "n=291\n",
    "k=int(y.max())\n",
    "acc_ase=[]\n",
    "k"
   ]
  },
  {
   "cell_type": "code",
   "execution_count": 199,
   "metadata": {},
   "outputs": [],
   "source": [
    "def get_acc(model,X_train,X_test,y_train,y_test):\n",
    "    model.fit(X_train,y_train.ravel())\n",
    "    return model.score(X_test,y_test.ravel())"
   ]
  },
  {
   "cell_type": "code",
   "execution_count": null,
   "metadata": {},
   "outputs": [],
   "source": []
  },
  {
   "cell_type": "code",
   "execution_count": 205,
   "metadata": {},
   "outputs": [
    {
     "name": "stdout",
     "output_type": "stream",
     "text": [
      "0.0955230859146698\n",
      "0.04063677787780762\n"
     ]
    }
   ],
   "source": [
    "begin1 = time.time()\n",
    "U, s, VT = np.linalg.svd(A)\n",
    "end1 = time.time()\n",
    "newx=([])\n",
    "dmax=50\n",
    "tmp = np.zeros([dmax,1])\n",
    "rkf = RepeatedKFold(n_splits=5, n_repeats=10, random_state=5)\n",
    "for train_index, test_index in rkf.split(A):\n",
    "     #print(\"TRAIN:\", train_index, \"TEST:\", test_index)\n",
    "     X_train, X_test = A[train_index], A[test_index]\n",
    "     y_train, y_test = y[train_index], y[test_index]\n",
    "     X1 = X_train.transpose()\n",
    "     X_train, X_test = X1[train_index], X1[test_index]\n",
    "     for d in range (1,dmax):\n",
    "        newx=U[:,0:d]*s[0:d]**0.5\n",
    "        #newx=np.reshape(newx,(n,d))\n",
    "        clf2 = LinearDiscriminantAnalysis()\n",
    "        newx_train, newx_test =newx[train_index], newx[test_index]\n",
    "        clf2.fit(newx_train, y_train.ravel())\n",
    "        tmp[d,0]=tmp[d,0]+clf2.score(newx_test, y_test.ravel())/50\n",
    "db=tmp.argmax()\n",
    "ASELDAACC=tmp.max()\n",
    "ASELDATIME=end1-begin1\n",
    "print(ASELDAACC)\n",
    "print(ASELDATIME)"
   ]
  },
  {
   "cell_type": "code",
   "execution_count": 200,
   "metadata": {},
   "outputs": [],
   "source": [
    "global k\n",
    "nk = np.zeros((1,k))\n",
    "AEEKNNACC=[]\n",
    "AEELDAACC=[]\n",
    "for i in range(0,len(y_train)-1):\n",
    "    nk[0,int(y_train[i,0]-1)]=nk[0,int(y_train[i,0]-1)]+1\n",
    "w = np.zeros((int(np.size(y_train)),k))\n",
    "for i in range(0,int(np.size(y_train))):\n",
    "    k=int(y_train[i])\n",
    "    w[i][k-1]=1/nk[0,k-1]\n",
    "for train_index, test_index in rkf.split(A):\n",
    "    #print(\"TRAIN:\", train_index, \"TEST:\", test_index)\n",
    "     z_train=np.matmul(X_train,w)\n",
    "     z_test = np.matmul(X_test,w)\n",
    "     neigh = KNeighborsClassifier(weights='uniform',metric='euclidean')\n",
    "     neigh.fit(z_train, y_train.ravel())\n",
    "     AEEKNNACC.append(neigh.score(z_test, y_test))\n",
    "     clf4 = LinearDiscriminantAnalysis()\n",
    "     clf4.fit(z_train,y_train.ravel())\n",
    "     AEELDAACC.append(clf4.score(z_test, y_test.ravel()))"
   ]
  },
  {
   "cell_type": "code",
   "execution_count": 213,
   "metadata": {},
   "outputs": [
    {
     "name": "stdout",
     "output_type": "stream",
     "text": [
      "d = 16\n",
      "Accuracy for each method: [0.09552309 0.10344828 0.05172414]\n",
      "Time for each method: [0.03059697 0.00513887 0.00314212]\n"
     ]
    }
   ],
   "source": [
    "%run Encoder.ipynb\n",
    "EncoderLDA(A)"
   ]
  },
  {
   "cell_type": "code",
   "execution_count": null,
   "metadata": {},
   "outputs": [],
   "source": []
  }
 ],
 "metadata": {
  "kernelspec": {
   "display_name": "Python 3",
   "language": "python",
   "name": "python3"
  },
  "language_info": {
   "codemirror_mode": {
    "name": "ipython",
    "version": 3
   },
   "file_extension": ".py",
   "mimetype": "text/x-python",
   "name": "python",
   "nbconvert_exporter": "python",
   "pygments_lexer": "ipython3",
   "version": "3.8.5"
  }
 },
 "nbformat": 4,
 "nbformat_minor": 4
}
