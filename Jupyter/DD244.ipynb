{
 "cells": [
  {
   "cell_type": "code",
   "execution_count": 1,
   "metadata": {},
   "outputs": [],
   "source": [
    "import numpy as np\n",
    "import pandas as pd\n",
    "import random\n",
    "import time\n",
    "from sklearn.model_selection import RepeatedKFold\n",
    "from sklearn.discriminant_analysis import LinearDiscriminantAnalysis\n",
    "from scipy import linalg\n",
    "from sklearn.neural_network import MLPClassifier\n",
    "from sklearn.neighbors import KNeighborsClassifier"
   ]
  },
  {
   "cell_type": "code",
   "execution_count": 2,
   "metadata": {},
   "outputs": [],
   "source": [
    "Edges = pd.read_csv(\"/Users/qizhe/Documents/GitHub/GraphNN/Data/DD244/DD244 Edges.csv\",header=None)\n",
    "Edges = np.array(Edges)"
   ]
  },
  {
   "cell_type": "code",
   "execution_count": 3,
   "metadata": {},
   "outputs": [],
   "source": [
    "Labels = pd.read_csv(\"/Users/qizhe/Documents/GitHub/GraphNN/Data/DD244/DD244 node_labels.csv\",header=None)\n",
    "y = np.array(Labels)"
   ]
  },
  {
   "cell_type": "code",
   "execution_count": 4,
   "metadata": {},
   "outputs": [],
   "source": [
    "A = np.zeros((291,291))\n",
    "for i in range (0,822):\n",
    "    A[Edges[i,0]-1,Edges[i,1]-1]=1"
   ]
  },
  {
   "cell_type": "code",
   "execution_count": 5,
   "metadata": {},
   "outputs": [
    {
     "name": "stdout",
     "output_type": "stream",
     "text": [
      "d = 16\n",
      "Accuracy for each method: ASELDA=0.096,ASEKNN=0.098,AEEKNN=0.058,AEELDA=0.059,AEEKNN2=0.058\n",
      "Time for each method: [0.024 0.006 0.004]\n"
     ]
    }
   ],
   "source": [
    "n=291\n",
    "K=int(y.max())\n",
    "%run Encoder.ipynb\n",
    "EncoderLDA(A)"
   ]
  },
  {
   "cell_type": "code",
   "execution_count": null,
   "metadata": {},
   "outputs": [],
   "source": []
  }
 ],
 "metadata": {
  "kernelspec": {
   "display_name": "Python 3",
   "language": "python",
   "name": "python3"
  },
  "language_info": {
   "codemirror_mode": {
    "name": "ipython",
    "version": 3
   },
   "file_extension": ".py",
   "mimetype": "text/x-python",
   "name": "python",
   "nbconvert_exporter": "python",
   "pygments_lexer": "ipython3",
   "version": "3.8.5"
  }
 },
 "nbformat": 4,
 "nbformat_minor": 4
}
