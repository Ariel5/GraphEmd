{
 "cells": [
  {
   "cell_type": "code",
   "execution_count": 11,
   "metadata": {},
   "outputs": [],
   "source": [
    "import numpy as np\n",
    "import pandas as pd\n",
    "import random\n",
    "import time\n",
    "from sklearn.model_selection import RepeatedKFold\n",
    "from sklearn.discriminant_analysis import LinearDiscriminantAnalysis\n",
    "from scipy import linalg\n",
    "from sklearn.neural_network import MLPClassifier"
   ]
  },
  {
   "cell_type": "code",
   "execution_count": 12,
   "metadata": {},
   "outputs": [],
   "source": [
    "def ASBM(n,k):\n",
    "    A = np.zeros((n,n))\n",
    "    #np.random.seed(1)\n",
    "    for i in range(0,n):\n",
    "        for j in range(0,n):\n",
    "            if y[i] == y[j]:\n",
    "                A[i,j] = np.random.binomial(1, 0.13)\n",
    "            else:\n",
    "                A[i,j] = np.random.binomial(1, 0.1)\n",
    "    for i in range(0,n):\n",
    "        for j in range(i,n):\n",
    "            A[i,j]=A[j,i]\n",
    "    return A"
   ]
  },
  {
   "cell_type": "code",
   "execution_count": 13,
   "metadata": {},
   "outputs": [],
   "source": [
    "def ADCSBM(n,k):\n",
    "    A = np.zeros((n,n))\n",
    "    theta = np.random.beta(1, 4, n)\n",
    "    theta2 = theta/sum(theta)\n",
    "    B=np.array([[0.9,0.1,0.1],[0.1,0.6,0.1],[0.1,0.1,0.3]])\n",
    "    for i in range(0,n):\n",
    "        for j in range(i+1,n):\n",
    "            if y[i] == y[j] == 1:\n",
    "                A[i,j]=np.random.binomial(1,theta[i]*theta[j]*B[0,0])\n",
    "            elif y[i] == y[j] == 2:\n",
    "                A[i,j]=np.random.binomial(1,theta[i]*theta[j]*B[1,1])\n",
    "            elif y[i] == y[j] == 3:\n",
    "                A[i,j]=np.random.binomial(1,theta[i]*theta[j]*B[2,2])\n",
    "            else:\n",
    "                A[i,j]=np.random.binomial(1,theta[i]*theta[j]*0.1)\n",
    "    for i in range(0,n):\n",
    "        for j in range(0,i):\n",
    "            A[i,j]=A[j,i]\n",
    "    return A"
   ]
  },
  {
   "cell_type": "code",
   "execution_count": 14,
   "metadata": {},
   "outputs": [],
   "source": [
    "def ARDPG(n,k):\n",
    "    A = np.zeros((n,n))\n",
    "    X = np.random.uniform(0.0, 1.0, (n,1))\n",
    "    for i in range(0,n):\n",
    "        if y[i] == 1:\n",
    "            X[i,:] = np.random.beta(1,3)\n",
    "        elif y[i] == 2:\n",
    "            X[i,:] = np.random.beta(3,3)\n",
    "        else:\n",
    "            X[i,:] = np.random.beta(3,1)\n",
    "    P=np.matmul(X,X.transpose())\n",
    "    for i in range(0,n):\n",
    "        for j in range(1,n):\n",
    "            A[i,j]=np.random.binomial(2,P[i,j])\n",
    "    for i in range(0,n):\n",
    "        for j in range(0,i):\n",
    "            A[i,j] = A[j,i]\n",
    "            A[i,i]=0\n",
    "    return A"
   ]
  },
  {
   "cell_type": "code",
   "execution_count": 15,
   "metadata": {},
   "outputs": [],
   "source": [
    "def y(n):\n",
    "    y = np.zeros((n,1))\n",
    "    #np.random.seed(2)\n",
    "    for i in range(0,n):\n",
    "        y[i,0] = np.random.choice(np.arange(1, 4), p=[0.2, 0.3,0.5])\n",
    "    return(y)"
   ]
  },
  {
   "cell_type": "code",
   "execution_count": 16,
   "metadata": {},
   "outputs": [],
   "source": [
    "def EncoderLDA(A):\n",
    "#Split Data\n",
    "    rkf = RepeatedKFold(n_splits=5, n_repeats=10, random_state=5)\n",
    "    for train_index, test_index in rkf.split(A):\n",
    "         #print(\"TRAIN:\", train_index, \"TEST:\", test_index)\n",
    "         X_train, X_test = A[train_index], A[test_index]\n",
    "         y_train, y_test = y[train_index], y[test_index]\n",
    "         X1 = X_train.transpose()\n",
    "         X_train, X_test = X1[train_index], X1[test_index]\n",
    "#ASE*LDA\n",
    "    begin1 = time.time()\n",
    "    U, s, VT = np.linalg.svd(A)\n",
    "    newx=([])\n",
    "    d=2\n",
    "    newx=np.concatenate(U[:,0:d]*s[0:d]**0.5)\n",
    "    newx=np.reshape(newx,(n,2))\n",
    "    clf2 = LinearDiscriminantAnalysis()\n",
    "    #print(np.shape(newx))\n",
    "    newx_train, newx_test =newx[train_index], newx[test_index]\n",
    "    clf2.fit(newx_train, y_train.ravel())\n",
    "    ASELDAACC=clf2.score(newx_test, y_test.ravel())\n",
    "    time.sleep(2) \n",
    "    end1 = time.time()\n",
    "    ASELDATIME=end1-begin1\n",
    "    eigenvalues=s**2\n",
    "    Top=eigenvalues[:10]\n",
    "#nk,w,Z\n",
    "    begin5 = time.time()\n",
    "    global k\n",
    "    nk = np.zeros((1,k))\n",
    "    for i in range(0,len(y_train)-1):\n",
    "        nk[0,int(y_train[i,0]-1)]=nk[0,int(y_train[i,0]-1)]+1\n",
    "    w = np.zeros((int(np.size(y_train)),k))\n",
    "    for i in range(0,int(np.size(y_train))):\n",
    "        k=int(y_train[i])\n",
    "        w[i][k-1]=1/nk[0,k-1]\n",
    "    z_train=np.matmul(X_train,w)\n",
    "    z_test = np.matmul(X_test,w)\n",
    "    time.sleep(5)\n",
    "    end5 = time.time()\n",
    "    zTIME=end5 - begin5\n",
    "#AEE*MLP\n",
    "    begin2 = time.time()\n",
    "    clf3 = MLPClassifier(random_state=2, max_iter=5000)\n",
    "    clf3.fit(z_train, y_train.ravel())\n",
    "    AEEMLPACC = clf3.score(z_test, y_test)\n",
    "    time.sleep(3) \n",
    "    end2 = time.time()\n",
    "    AEEMLPTIME=end2-begin2\n",
    "#AEE*LDA\n",
    "    begin3 = time.time()\n",
    "    clf4 = LinearDiscriminantAnalysis()\n",
    "    clf4.fit(z_train,y_train.ravel())\n",
    "    AEELDAACC = clf4.score(z_test, y_test.ravel())\n",
    "    time.sleep(4) \n",
    "    end3 = time.time()\n",
    "    AEELDATIME=end3-begin3\n",
    "#Get result\n",
    "    Acc=np.array([ASELDAACC,AEEMLPACC,AEELDAACC])\n",
    "    Time=np.array([ASELDATIME,AEEMLPTIME,AEELDATIME])\n",
    "    print(f\"Accuracy for each method: {Acc}\")\n",
    "    print(f\"Time for each method: {Time}\")"
   ]
  },
  {
   "cell_type": "code",
   "execution_count": 17,
   "metadata": {},
   "outputs": [],
   "source": [
    "n=1000\n",
    "k=3\n",
    "y=y(n=n)"
   ]
  },
  {
   "cell_type": "code",
   "execution_count": 18,
   "metadata": {},
   "outputs": [
    {
     "name": "stdout",
     "output_type": "stream",
     "text": [
      "(1000, 2)\n",
      "Accuracy for each method: [0.66  0.795 0.81 ]\n",
      "Time for each method: [2.52763295 5.01148391 4.00483465]\n"
     ]
    }
   ],
   "source": [
    "EncoderLDA(ASBM(n=n,k=k))"
   ]
  },
  {
   "cell_type": "code",
   "execution_count": 19,
   "metadata": {},
   "outputs": [],
   "source": [
    "#EncoderLDA(ADCSBM(n=n,k=k))"
   ]
  },
  {
   "cell_type": "code",
   "execution_count": 20,
   "metadata": {},
   "outputs": [],
   "source": [
    "#EncoderLDA(ARDPG(n=n,k=k))"
   ]
  },
  {
   "cell_type": "code",
   "execution_count": null,
   "metadata": {},
   "outputs": [],
   "source": []
  }
 ],
 "metadata": {
  "kernelspec": {
   "display_name": "Python 3",
   "language": "python",
   "name": "python3"
  },
  "language_info": {
   "codemirror_mode": {
    "name": "ipython",
    "version": 3
   },
   "file_extension": ".py",
   "mimetype": "text/x-python",
   "name": "python",
   "nbconvert_exporter": "python",
   "pygments_lexer": "ipython3",
   "version": "3.8.5"
  }
 },
 "nbformat": 4,
 "nbformat_minor": 4
}
