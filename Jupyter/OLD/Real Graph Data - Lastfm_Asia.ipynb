{
 "cells": [
  {
   "cell_type": "code",
   "execution_count": 32,
   "metadata": {},
   "outputs": [
    {
     "data": {
      "text/html": [
       "<div>\n",
       "<style scoped>\n",
       "    .dataframe tbody tr th:only-of-type {\n",
       "        vertical-align: middle;\n",
       "    }\n",
       "\n",
       "    .dataframe tbody tr th {\n",
       "        vertical-align: top;\n",
       "    }\n",
       "\n",
       "    .dataframe thead th {\n",
       "        text-align: right;\n",
       "    }\n",
       "</style>\n",
       "<table border=\"1\" class=\"dataframe\">\n",
       "  <thead>\n",
       "    <tr style=\"text-align: right;\">\n",
       "      <th></th>\n",
       "      <th>node_1</th>\n",
       "      <th>node_2</th>\n",
       "    </tr>\n",
       "  </thead>\n",
       "  <tbody>\n",
       "    <tr>\n",
       "      <th>0</th>\n",
       "      <td>0</td>\n",
       "      <td>747</td>\n",
       "    </tr>\n",
       "    <tr>\n",
       "      <th>1</th>\n",
       "      <td>1</td>\n",
       "      <td>4257</td>\n",
       "    </tr>\n",
       "    <tr>\n",
       "      <th>2</th>\n",
       "      <td>1</td>\n",
       "      <td>2194</td>\n",
       "    </tr>\n",
       "    <tr>\n",
       "      <th>3</th>\n",
       "      <td>1</td>\n",
       "      <td>580</td>\n",
       "    </tr>\n",
       "    <tr>\n",
       "      <th>4</th>\n",
       "      <td>1</td>\n",
       "      <td>6478</td>\n",
       "    </tr>\n",
       "    <tr>\n",
       "      <th>...</th>\n",
       "      <td>...</td>\n",
       "      <td>...</td>\n",
       "    </tr>\n",
       "    <tr>\n",
       "      <th>27801</th>\n",
       "      <td>7488</td>\n",
       "      <td>7564</td>\n",
       "    </tr>\n",
       "    <tr>\n",
       "      <th>27802</th>\n",
       "      <td>7505</td>\n",
       "      <td>7579</td>\n",
       "    </tr>\n",
       "    <tr>\n",
       "      <th>27803</th>\n",
       "      <td>7533</td>\n",
       "      <td>7536</td>\n",
       "    </tr>\n",
       "    <tr>\n",
       "      <th>27804</th>\n",
       "      <td>7569</td>\n",
       "      <td>7587</td>\n",
       "    </tr>\n",
       "    <tr>\n",
       "      <th>27805</th>\n",
       "      <td>7580</td>\n",
       "      <td>7595</td>\n",
       "    </tr>\n",
       "  </tbody>\n",
       "</table>\n",
       "<p>27806 rows × 2 columns</p>\n",
       "</div>"
      ],
      "text/plain": [
       "       node_1  node_2\n",
       "0           0     747\n",
       "1           1    4257\n",
       "2           1    2194\n",
       "3           1     580\n",
       "4           1    6478\n",
       "...       ...     ...\n",
       "27801    7488    7564\n",
       "27802    7505    7579\n",
       "27803    7533    7536\n",
       "27804    7569    7587\n",
       "27805    7580    7595\n",
       "\n",
       "[27806 rows x 2 columns]"
      ]
     },
     "execution_count": 32,
     "metadata": {},
     "output_type": "execute_result"
    }
   ],
   "source": [
    "import numpy as np\n",
    "import pandas as pd\n",
    "Edges = pd.read_csv(\"https://raw.githubusercontent.com/cshen6/GraphNN/main/Data/Lastfm_Asia/lastfm_asia_edges.csv\")\n",
    "Edges"
   ]
  },
  {
   "cell_type": "code",
   "execution_count": 33,
   "metadata": {},
   "outputs": [
    {
     "data": {
      "text/plain": [
       "array([[   0,  747],\n",
       "       [   1, 4257],\n",
       "       [   1, 2194],\n",
       "       ...,\n",
       "       [7533, 7536],\n",
       "       [7569, 7587],\n",
       "       [7580, 7595]])"
      ]
     },
     "execution_count": 33,
     "metadata": {},
     "output_type": "execute_result"
    }
   ],
   "source": [
    "Edges = np.array(Edges)\n",
    "Edges"
   ]
  },
  {
   "cell_type": "code",
   "execution_count": 34,
   "metadata": {},
   "outputs": [
    {
     "data": {
      "text/html": [
       "<div>\n",
       "<style scoped>\n",
       "    .dataframe tbody tr th:only-of-type {\n",
       "        vertical-align: middle;\n",
       "    }\n",
       "\n",
       "    .dataframe tbody tr th {\n",
       "        vertical-align: top;\n",
       "    }\n",
       "\n",
       "    .dataframe thead th {\n",
       "        text-align: right;\n",
       "    }\n",
       "</style>\n",
       "<table border=\"1\" class=\"dataframe\">\n",
       "  <thead>\n",
       "    <tr style=\"text-align: right;\">\n",
       "      <th></th>\n",
       "      <th>target</th>\n",
       "    </tr>\n",
       "  </thead>\n",
       "  <tbody>\n",
       "    <tr>\n",
       "      <th>0</th>\n",
       "      <td>8</td>\n",
       "    </tr>\n",
       "    <tr>\n",
       "      <th>1</th>\n",
       "      <td>17</td>\n",
       "    </tr>\n",
       "    <tr>\n",
       "      <th>2</th>\n",
       "      <td>3</td>\n",
       "    </tr>\n",
       "    <tr>\n",
       "      <th>3</th>\n",
       "      <td>17</td>\n",
       "    </tr>\n",
       "    <tr>\n",
       "      <th>4</th>\n",
       "      <td>5</td>\n",
       "    </tr>\n",
       "    <tr>\n",
       "      <th>...</th>\n",
       "      <td>...</td>\n",
       "    </tr>\n",
       "    <tr>\n",
       "      <th>7619</th>\n",
       "      <td>10</td>\n",
       "    </tr>\n",
       "    <tr>\n",
       "      <th>7620</th>\n",
       "      <td>10</td>\n",
       "    </tr>\n",
       "    <tr>\n",
       "      <th>7621</th>\n",
       "      <td>0</td>\n",
       "    </tr>\n",
       "    <tr>\n",
       "      <th>7622</th>\n",
       "      <td>17</td>\n",
       "    </tr>\n",
       "    <tr>\n",
       "      <th>7623</th>\n",
       "      <td>11</td>\n",
       "    </tr>\n",
       "  </tbody>\n",
       "</table>\n",
       "<p>7624 rows × 1 columns</p>\n",
       "</div>"
      ],
      "text/plain": [
       "      target\n",
       "0          8\n",
       "1         17\n",
       "2          3\n",
       "3         17\n",
       "4          5\n",
       "...      ...\n",
       "7619      10\n",
       "7620      10\n",
       "7621       0\n",
       "7622      17\n",
       "7623      11\n",
       "\n",
       "[7624 rows x 1 columns]"
      ]
     },
     "execution_count": 34,
     "metadata": {},
     "output_type": "execute_result"
    }
   ],
   "source": [
    "Target = pd.read_csv(\"https://raw.githubusercontent.com/cshen6/GraphNN/main/Data/Lastfm_Asia/lastfm_asia_target.csv\")\n",
    "Target = Target.drop(columns=\"id\")\n",
    "Target"
   ]
  },
  {
   "cell_type": "code",
   "execution_count": 35,
   "metadata": {},
   "outputs": [
    {
     "data": {
      "text/plain": [
       "(array([[ 8],\n",
       "        [17],\n",
       "        [ 3],\n",
       "        ...,\n",
       "        [ 0],\n",
       "        [17],\n",
       "        [11]]),\n",
       " 17)"
      ]
     },
     "execution_count": 35,
     "metadata": {},
     "output_type": "execute_result"
    }
   ],
   "source": [
    "y = np.array(Target)\n",
    "y,y.max()"
   ]
  },
  {
   "cell_type": "code",
   "execution_count": 36,
   "metadata": {},
   "outputs": [
    {
     "data": {
      "text/plain": [
       "array([[0., 0., 0., ..., 0., 0., 0.],\n",
       "       [0., 0., 0., ..., 0., 0., 0.],\n",
       "       [0., 0., 0., ..., 0., 0., 0.],\n",
       "       ...,\n",
       "       [0., 0., 0., ..., 0., 0., 0.],\n",
       "       [0., 0., 0., ..., 0., 0., 0.],\n",
       "       [0., 0., 0., ..., 0., 0., 0.]])"
      ]
     },
     "execution_count": 36,
     "metadata": {},
     "output_type": "execute_result"
    }
   ],
   "source": [
    "A = np.zeros((7624,7624))\n",
    "A"
   ]
  },
  {
   "cell_type": "code",
   "execution_count": 37,
   "metadata": {},
   "outputs": [
    {
     "data": {
      "text/plain": [
       "array([[0., 0., 0., ..., 0., 0., 0.],\n",
       "       [0., 0., 0., ..., 0., 0., 0.],\n",
       "       [0., 0., 0., ..., 0., 0., 0.],\n",
       "       ...,\n",
       "       [0., 0., 0., ..., 0., 0., 0.],\n",
       "       [0., 0., 0., ..., 0., 0., 0.],\n",
       "       [0., 0., 0., ..., 0., 0., 0.]])"
      ]
     },
     "execution_count": 37,
     "metadata": {},
     "output_type": "execute_result"
    }
   ],
   "source": [
    "for i in range (0,7624):\n",
    "    A[Edges[i,0],Edges[i,1]]=1\n",
    "A"
   ]
  },
  {
   "cell_type": "markdown",
   "metadata": {},
   "source": [
    "# Split Data"
   ]
  },
  {
   "cell_type": "code",
   "execution_count": 38,
   "metadata": {
    "scrolled": true
   },
   "outputs": [
    {
     "name": "stdout",
     "output_type": "stream",
     "text": [
      "TRAIN: [   3    4    5 ... 7621 7622 7623] TEST: [   0    1    2 ... 7609 7613 7619]\n",
      "TRAIN: [   0    1    2 ... 7620 7621 7623] TEST: [   4   13   15 ... 7616 7617 7622]\n",
      "TRAIN: [   0    1    2 ... 7620 7621 7622] TEST: [   5    8   12 ... 7615 7618 7623]\n",
      "TRAIN: [   0    1    2 ... 7620 7622 7623] TEST: [   3   10   16 ... 7600 7612 7621]\n",
      "TRAIN: [   0    1    2 ... 7621 7622 7623] TEST: [  18   25   36 ... 7566 7591 7620]\n",
      "TRAIN: [   0    1    2 ... 7620 7622 7623] TEST: [   5    8   12 ... 7613 7617 7621]\n",
      "TRAIN: [   0    1    2 ... 7620 7621 7623] TEST: [   6   16   23 ... 7611 7615 7622]\n",
      "TRAIN: [   0    2    3 ... 7621 7622 7623] TEST: [   1   18   28 ... 7607 7609 7612]\n",
      "TRAIN: [   1    3    4 ... 7621 7622 7623] TEST: [   0    2   10 ... 7614 7616 7619]\n",
      "TRAIN: [   0    1    2 ... 7619 7621 7622] TEST: [   3    4    7 ... 7618 7620 7623]\n",
      "TRAIN: [   0    2    3 ... 7619 7620 7622] TEST: [   1    7   10 ... 7613 7621 7623]\n",
      "TRAIN: [   0    1    2 ... 7621 7622 7623] TEST: [  12   16   18 ... 7612 7617 7620]\n",
      "TRAIN: [   0    1    3 ... 7620 7621 7623] TEST: [   2   13   17 ... 7616 7618 7622]\n",
      "TRAIN: [   0    1    2 ... 7621 7622 7623] TEST: [   3    4    5 ... 7610 7614 7615]\n",
      "TRAIN: [   1    2    3 ... 7621 7622 7623] TEST: [   0   11   26 ... 7592 7593 7619]\n",
      "TRAIN: [   1    3    4 ... 7618 7622 7623] TEST: [   0    2    5 ... 7619 7620 7621]\n",
      "TRAIN: [   0    2    3 ... 7620 7621 7622] TEST: [   1   17   20 ... 7610 7618 7623]\n",
      "TRAIN: [   0    1    2 ... 7621 7622 7623] TEST: [   3    7   22 ... 7607 7612 7617]\n",
      "TRAIN: [   0    1    2 ... 7620 7621 7623] TEST: [   4    6    9 ... 7605 7606 7622]\n",
      "TRAIN: [   0    1    2 ... 7621 7622 7623] TEST: [   8   12   16 ... 7613 7615 7616]\n",
      "TRAIN: [   0    1    2 ... 7618 7619 7620] TEST: [   4   20   21 ... 7621 7622 7623]\n",
      "TRAIN: [   0    1    2 ... 7621 7622 7623] TEST: [   8   10   13 ... 7617 7618 7619]\n",
      "TRAIN: [   3    4    5 ... 7621 7622 7623] TEST: [   0    1    2 ... 7601 7602 7615]\n",
      "TRAIN: [   0    1    2 ... 7621 7622 7623] TEST: [   5    7   15 ... 7595 7606 7620]\n",
      "TRAIN: [   0    1    2 ... 7621 7622 7623] TEST: [   3   11   12 ... 7610 7611 7616]\n",
      "TRAIN: [   1    2    3 ... 7620 7621 7622] TEST: [   0   21   23 ... 7615 7616 7623]\n",
      "TRAIN: [   0    1    3 ... 7621 7622 7623] TEST: [   2    5   12 ... 7598 7602 7606]\n",
      "TRAIN: [   0    2    3 ... 7621 7622 7623] TEST: [   1    8   30 ... 7609 7618 7620]\n",
      "TRAIN: [   0    1    2 ... 7620 7621 7623] TEST: [   3    7    9 ... 7611 7614 7622]\n",
      "TRAIN: [   0    1    2 ... 7620 7622 7623] TEST: [   4    6   10 ... 7617 7619 7621]\n",
      "TRAIN: [   0    1    2 ... 7617 7619 7623] TEST: [   7   11   15 ... 7620 7621 7622]\n",
      "TRAIN: [   1    2    3 ... 7621 7622 7623] TEST: [   0   12   14 ... 7597 7611 7613]\n",
      "TRAIN: [   0    2    4 ... 7621 7622 7623] TEST: [   1    3    6 ... 7614 7616 7619]\n",
      "TRAIN: [   0    1    2 ... 7620 7621 7622] TEST: [   9   13   20 ... 7593 7615 7623]\n",
      "TRAIN: [   0    1    3 ... 7621 7622 7623] TEST: [   2    4    5 ... 7609 7610 7617]\n",
      "TRAIN: [   0    1    3 ... 7619 7622 7623] TEST: [   2    4    6 ... 7617 7620 7621]\n",
      "TRAIN: [   0    1    2 ... 7620 7621 7623] TEST: [  12   19   23 ... 7604 7605 7622]\n",
      "TRAIN: [   0    1    2 ... 7621 7622 7623] TEST: [  14   15   16 ... 7600 7609 7613]\n",
      "TRAIN: [   0    2    4 ... 7620 7621 7622] TEST: [   1    3    5 ... 7607 7616 7623]\n",
      "TRAIN: [   1    2    3 ... 7621 7622 7623] TEST: [   0    7    8 ... 7614 7618 7619]\n",
      "TRAIN: [   0    3    7 ... 7621 7622 7623] TEST: [   1    2    4 ... 7618 7619 7620]\n",
      "TRAIN: [   0    1    2 ... 7621 7622 7623] TEST: [  15   18   19 ... 7608 7611 7617]\n",
      "TRAIN: [   0    1    2 ... 7621 7622 7623] TEST: [   7   11   20 ... 7600 7609 7612]\n",
      "TRAIN: [   1    2    3 ... 7619 7620 7621] TEST: [   0   13   16 ... 7615 7622 7623]\n",
      "TRAIN: [   0    1    2 ... 7620 7622 7623] TEST: [   3    9   27 ... 7614 7616 7621]\n",
      "TRAIN: [   0    1    2 ... 7620 7621 7623] TEST: [  10   12   14 ... 7615 7618 7622]\n",
      "TRAIN: [   0    2    3 ... 7618 7621 7622] TEST: [   1    8    9 ... 7619 7620 7623]\n",
      "TRAIN: [   1    2    3 ... 7621 7622 7623] TEST: [   0    4    7 ... 7602 7604 7610]\n",
      "TRAIN: [   0    1    4 ... 7621 7622 7623] TEST: [   2    3   17 ... 7609 7612 7613]\n",
      "TRAIN: [   0    1    2 ... 7620 7622 7623] TEST: [   5    6   24 ... 7611 7614 7621]\n"
     ]
    }
   ],
   "source": [
    "from sklearn.model_selection import RepeatedKFold\n",
    "rkf = RepeatedKFold(n_splits=5, n_repeats=10, random_state=5)\n",
    "for train_index, test_index in rkf.split(A):\n",
    "     print(\"TRAIN:\", train_index, \"TEST:\", test_index)\n",
    "     X_train, X_test = A[train_index], A[test_index]\n",
    "     y_train, y_test = y[train_index], y[test_index]"
   ]
  },
  {
   "cell_type": "code",
   "execution_count": 39,
   "metadata": {},
   "outputs": [
    {
     "data": {
      "text/plain": [
       "((6100, 7624), (1524, 7624))"
      ]
     },
     "execution_count": 39,
     "metadata": {},
     "output_type": "execute_result"
    }
   ],
   "source": [
    "X_train.shape,X_test.shape"
   ]
  },
  {
   "cell_type": "code",
   "execution_count": 40,
   "metadata": {
    "scrolled": true
   },
   "outputs": [
    {
     "name": "stdout",
     "output_type": "stream",
     "text": [
      "TRAIN: [   3    4    5 ... 7621 7622 7623] TEST: [   0    1    2 ... 7609 7613 7619]\n",
      "TRAIN: [   0    1    2 ... 7620 7621 7623] TEST: [   4   13   15 ... 7616 7617 7622]\n",
      "TRAIN: [   0    1    2 ... 7620 7621 7622] TEST: [   5    8   12 ... 7615 7618 7623]\n",
      "TRAIN: [   0    1    2 ... 7620 7622 7623] TEST: [   3   10   16 ... 7600 7612 7621]\n",
      "TRAIN: [   0    1    2 ... 7621 7622 7623] TEST: [  18   25   36 ... 7566 7591 7620]\n",
      "TRAIN: [   0    1    2 ... 7620 7622 7623] TEST: [   5    8   12 ... 7613 7617 7621]\n",
      "TRAIN: [   0    1    2 ... 7620 7621 7623] TEST: [   6   16   23 ... 7611 7615 7622]\n",
      "TRAIN: [   0    2    3 ... 7621 7622 7623] TEST: [   1   18   28 ... 7607 7609 7612]\n",
      "TRAIN: [   1    3    4 ... 7621 7622 7623] TEST: [   0    2   10 ... 7614 7616 7619]\n",
      "TRAIN: [   0    1    2 ... 7619 7621 7622] TEST: [   3    4    7 ... 7618 7620 7623]\n",
      "TRAIN: [   0    2    3 ... 7619 7620 7622] TEST: [   1    7   10 ... 7613 7621 7623]\n",
      "TRAIN: [   0    1    2 ... 7621 7622 7623] TEST: [  12   16   18 ... 7612 7617 7620]\n",
      "TRAIN: [   0    1    3 ... 7620 7621 7623] TEST: [   2   13   17 ... 7616 7618 7622]\n",
      "TRAIN: [   0    1    2 ... 7621 7622 7623] TEST: [   3    4    5 ... 7610 7614 7615]\n",
      "TRAIN: [   1    2    3 ... 7621 7622 7623] TEST: [   0   11   26 ... 7592 7593 7619]\n",
      "TRAIN: [   1    3    4 ... 7618 7622 7623] TEST: [   0    2    5 ... 7619 7620 7621]\n",
      "TRAIN: [   0    2    3 ... 7620 7621 7622] TEST: [   1   17   20 ... 7610 7618 7623]\n",
      "TRAIN: [   0    1    2 ... 7621 7622 7623] TEST: [   3    7   22 ... 7607 7612 7617]\n",
      "TRAIN: [   0    1    2 ... 7620 7621 7623] TEST: [   4    6    9 ... 7605 7606 7622]\n",
      "TRAIN: [   0    1    2 ... 7621 7622 7623] TEST: [   8   12   16 ... 7613 7615 7616]\n",
      "TRAIN: [   0    1    2 ... 7618 7619 7620] TEST: [   4   20   21 ... 7621 7622 7623]\n",
      "TRAIN: [   0    1    2 ... 7621 7622 7623] TEST: [   8   10   13 ... 7617 7618 7619]\n",
      "TRAIN: [   3    4    5 ... 7621 7622 7623] TEST: [   0    1    2 ... 7601 7602 7615]\n",
      "TRAIN: [   0    1    2 ... 7621 7622 7623] TEST: [   5    7   15 ... 7595 7606 7620]\n",
      "TRAIN: [   0    1    2 ... 7621 7622 7623] TEST: [   3   11   12 ... 7610 7611 7616]\n",
      "TRAIN: [   1    2    3 ... 7620 7621 7622] TEST: [   0   21   23 ... 7615 7616 7623]\n",
      "TRAIN: [   0    1    3 ... 7621 7622 7623] TEST: [   2    5   12 ... 7598 7602 7606]\n",
      "TRAIN: [   0    2    3 ... 7621 7622 7623] TEST: [   1    8   30 ... 7609 7618 7620]\n",
      "TRAIN: [   0    1    2 ... 7620 7621 7623] TEST: [   3    7    9 ... 7611 7614 7622]\n",
      "TRAIN: [   0    1    2 ... 7620 7622 7623] TEST: [   4    6   10 ... 7617 7619 7621]\n",
      "TRAIN: [   0    1    2 ... 7617 7619 7623] TEST: [   7   11   15 ... 7620 7621 7622]\n",
      "TRAIN: [   1    2    3 ... 7621 7622 7623] TEST: [   0   12   14 ... 7597 7611 7613]\n",
      "TRAIN: [   0    2    4 ... 7621 7622 7623] TEST: [   1    3    6 ... 7614 7616 7619]\n",
      "TRAIN: [   0    1    2 ... 7620 7621 7622] TEST: [   9   13   20 ... 7593 7615 7623]\n",
      "TRAIN: [   0    1    3 ... 7621 7622 7623] TEST: [   2    4    5 ... 7609 7610 7617]\n",
      "TRAIN: [   0    1    3 ... 7619 7622 7623] TEST: [   2    4    6 ... 7617 7620 7621]\n",
      "TRAIN: [   0    1    2 ... 7620 7621 7623] TEST: [  12   19   23 ... 7604 7605 7622]\n",
      "TRAIN: [   0    1    2 ... 7621 7622 7623] TEST: [  14   15   16 ... 7600 7609 7613]\n",
      "TRAIN: [   0    2    4 ... 7620 7621 7622] TEST: [   1    3    5 ... 7607 7616 7623]\n",
      "TRAIN: [   1    2    3 ... 7621 7622 7623] TEST: [   0    7    8 ... 7614 7618 7619]\n",
      "TRAIN: [   0    3    7 ... 7621 7622 7623] TEST: [   1    2    4 ... 7618 7619 7620]\n",
      "TRAIN: [   0    1    2 ... 7621 7622 7623] TEST: [  15   18   19 ... 7608 7611 7617]\n",
      "TRAIN: [   0    1    2 ... 7621 7622 7623] TEST: [   7   11   20 ... 7600 7609 7612]\n",
      "TRAIN: [   1    2    3 ... 7619 7620 7621] TEST: [   0   13   16 ... 7615 7622 7623]\n",
      "TRAIN: [   0    1    2 ... 7620 7622 7623] TEST: [   3    9   27 ... 7614 7616 7621]\n",
      "TRAIN: [   0    1    2 ... 7620 7621 7623] TEST: [  10   12   14 ... 7615 7618 7622]\n",
      "TRAIN: [   0    2    3 ... 7618 7621 7622] TEST: [   1    8    9 ... 7619 7620 7623]\n",
      "TRAIN: [   1    2    3 ... 7621 7622 7623] TEST: [   0    4    7 ... 7602 7604 7610]\n",
      "TRAIN: [   0    1    4 ... 7621 7622 7623] TEST: [   2    3   17 ... 7609 7612 7613]\n",
      "TRAIN: [   0    1    2 ... 7620 7622 7623] TEST: [   5    6   24 ... 7611 7614 7621]\n"
     ]
    }
   ],
   "source": [
    "rkf = RepeatedKFold(n_splits=5, n_repeats=10, random_state=5)\n",
    "for train_index, test_index in rkf.split(A):\n",
    "     print(\"TRAIN:\", train_index, \"TEST:\", test_index)\n",
    "     X_train, X_test = A[train_index], A[test_index]\n",
    "     y_train, y_test = y[train_index], y[test_index]\n",
    "     X1 = X_train.transpose()\n",
    "     X_train, X_test = X1[train_index], X1[test_index]"
   ]
  },
  {
   "cell_type": "code",
   "execution_count": 41,
   "metadata": {},
   "outputs": [
    {
     "data": {
      "text/plain": [
       "((6100, 6100), (1524, 6100))"
      ]
     },
     "execution_count": 41,
     "metadata": {},
     "output_type": "execute_result"
    }
   ],
   "source": [
    "X_train.shape,X_test.shape"
   ]
  },
  {
   "cell_type": "markdown",
   "metadata": {},
   "source": [
    "# LDA(A,y)"
   ]
  },
  {
   "cell_type": "code",
   "execution_count": 42,
   "metadata": {},
   "outputs": [
    {
     "name": "stdout",
     "output_type": "stream",
     "text": [
      "0.4356955380577428\n",
      "Total runtime of the program is 142.88495516777039\n"
     ]
    }
   ],
   "source": [
    "import time\n",
    "from sklearn.discriminant_analysis import LinearDiscriminantAnalysis\n",
    "begin = time.time()\n",
    "clf = LinearDiscriminantAnalysis()\n",
    "clf.fit(X_train, y_train.ravel())\n",
    "LDAacc = clf.score(X_test, y_test)\n",
    "print(LDAacc)\n",
    "time.sleep(1) \n",
    "end = time.time()\n",
    "print(f\"Total runtime of the program is {end - begin}\")"
   ]
  },
  {
   "cell_type": "markdown",
   "metadata": {},
   "source": [
    "# SVD with LDA"
   ]
  },
  {
   "cell_type": "code",
   "execution_count": 43,
   "metadata": {},
   "outputs": [
    {
     "name": "stdout",
     "output_type": "stream",
     "text": [
      "[0.21511017838405036, 0.21694648478488981, 0.22730849947534104, 0.229800629590766, 0.23176810073452256, 0.23216159496327388, 0.23478488982161594, 0.23491605456453304, 0.23885099685204617]\n",
      "Total runtime of the program is 201.73337197303772\n"
     ]
    }
   ],
   "source": [
    "from scipy import linalg\n",
    "begin1 = time.time()\n",
    "U, s, VT = linalg.svd(A)\n",
    "newx=[]\n",
    "for c in range(1,10) :\n",
    "   newx.append(U[:,0:c]*s[0:c]**0.5)\n",
    "clf2 = LinearDiscriminantAnalysis()\n",
    "SVDaccuracy=[]\n",
    "for i in range(0,9):\n",
    "    clf.fit(newx[i], y.ravel())\n",
    "    SVDaccuracy.append(clf.score(newx[i], y.ravel()))\n",
    "print(SVDaccuracy)\n",
    "time.sleep(2) \n",
    "end1 = time.time()\n",
    "print(f\"Total runtime of the program is {end1 - begin1}\")"
   ]
  },
  {
   "cell_type": "code",
   "execution_count": 44,
   "metadata": {},
   "outputs": [
    {
     "data": {
      "text/plain": [
       "[<matplotlib.lines.Line2D at 0x7ff474111280>]"
      ]
     },
     "execution_count": 44,
     "metadata": {},
     "output_type": "execute_result"
    },
    {
     "data": {
      "image/png": "[encoded data removed]",
      "text/plain": [
       "<Figure size 432x288 with 1 Axes>"
      ]
     },
     "metadata": {
      "needs_background": "light"
     },
     "output_type": "display_data"
    }
   ],
   "source": [
    "import matplotlib.pyplot as plt\n",
    "plt.plot(SVDaccuracy)"
   ]
  },
  {
   "cell_type": "markdown",
   "metadata": {},
   "source": [
    "# MLP(z,y)"
   ]
  },
  {
   "cell_type": "code",
   "execution_count": 45,
   "metadata": {},
   "outputs": [
    {
     "data": {
      "text/plain": [
       "array([[0., 0., 0., ..., 0., 0., 0.],\n",
       "       [0., 0., 0., ..., 0., 0., 1.],\n",
       "       [0., 0., 0., ..., 0., 0., 0.],\n",
       "       ...,\n",
       "       [0., 0., 0., ..., 0., 0., 0.],\n",
       "       [0., 0., 0., ..., 0., 0., 1.],\n",
       "       [0., 0., 0., ..., 0., 0., 0.]])"
      ]
     },
     "execution_count": 45,
     "metadata": {},
     "output_type": "execute_result"
    }
   ],
   "source": [
    "w = np.zeros((6100,18))\n",
    "for x in range(0,6100):\n",
    "    i=int(y_train[x])\n",
    "    w[x][i]=1\n",
    "w"
   ]
  },
  {
   "cell_type": "code",
   "execution_count": 46,
   "metadata": {},
   "outputs": [
    {
     "data": {
      "text/plain": [
       "array([[0., 0., 0., ..., 0., 0., 0.],\n",
       "       [0., 0., 0., ..., 0., 0., 0.],\n",
       "       [0., 0., 0., ..., 0., 0., 0.],\n",
       "       ...,\n",
       "       [0., 0., 0., ..., 0., 0., 0.],\n",
       "       [0., 0., 0., ..., 0., 0., 0.],\n",
       "       [0., 0., 0., ..., 0., 0., 0.]])"
      ]
     },
     "execution_count": 46,
     "metadata": {},
     "output_type": "execute_result"
    }
   ],
   "source": [
    "z_train=np.matmul(X_train,w)\n",
    "z_train"
   ]
  },
  {
   "cell_type": "code",
   "execution_count": 47,
   "metadata": {},
   "outputs": [
    {
     "data": {
      "text/plain": [
       "(array([[0., 0., 0., ..., 0., 0., 0.],\n",
       "        [0., 0., 0., ..., 0., 0., 0.],\n",
       "        [0., 0., 0., ..., 0., 0., 0.],\n",
       "        ...,\n",
       "        [0., 0., 0., ..., 0., 0., 0.],\n",
       "        [0., 0., 0., ..., 0., 0., 1.],\n",
       "        [3., 0., 0., ..., 0., 0., 0.]]),\n",
       " (1524, 18))"
      ]
     },
     "execution_count": 47,
     "metadata": {},
     "output_type": "execute_result"
    }
   ],
   "source": [
    "z_test = np.matmul(X_test,w)\n",
    "z_test,z_test.shape"
   ]
  },
  {
   "cell_type": "code",
   "execution_count": 48,
   "metadata": {},
   "outputs": [
    {
     "name": "stdout",
     "output_type": "stream",
     "text": [
      "0.4744094488188976\n",
      "Total runtime of the program is 10.74592399597168\n"
     ]
    }
   ],
   "source": [
    "from sklearn.neural_network import MLPClassifier\n",
    "begin2 = time.time()\n",
    "clf3 = MLPClassifier(random_state=2, max_iter=1000)\n",
    "clf3.fit(z_train, y_train.ravel())\n",
    "ZYAcc = clf3.score(z_test, y_test)\n",
    "print(ZYAcc)\n",
    "time.sleep(3) \n",
    "end2 = time.time()\n",
    "print(f\"Total runtime of the program is {end2 - begin2}\")"
   ]
  },
  {
   "cell_type": "markdown",
   "metadata": {},
   "source": [
    "# LDA(z,y)"
   ]
  },
  {
   "cell_type": "code",
   "execution_count": 49,
   "metadata": {},
   "outputs": [
    {
     "name": "stdout",
     "output_type": "stream",
     "text": [
      "0.4744094488188976\n",
      "Total runtime of the program is 4.039222002029419\n"
     ]
    }
   ],
   "source": [
    "begin3 = time.time()\n",
    "clf4 = LinearDiscriminantAnalysis()\n",
    "clf4.fit(z_train,y_train.ravel())\n",
    "ZYLDA = clf4.score(z_test, y_test.ravel())\n",
    "print(ZYLDA)\n",
    "time.sleep(4) \n",
    "end3 = time.time()\n",
    "print(f\"Total runtime of the program is {end3 - begin3}\")"
   ]
  },
  {
   "cell_type": "code",
   "execution_count": null,
   "metadata": {},
   "outputs": [],
   "source": []
  }
 ],
 "metadata": {
  "kernelspec": {
   "display_name": "Python 3",
   "language": "python",
   "name": "python3"
  },
  "language_info": {
   "codemirror_mode": {
    "name": "ipython",
    "version": 3
   },
   "file_extension": ".py",
   "mimetype": "text/x-python",
   "name": "python",
   "nbconvert_exporter": "python",
   "pygments_lexer": "ipython3",
   "version": "3.8.5"
  }
 },
 "nbformat": 4,
 "nbformat_minor": 4
}
