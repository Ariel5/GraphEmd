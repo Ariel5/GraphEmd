{
 "cells": [
  {
   "cell_type": "code",
   "execution_count": 1,
   "id": "ab995bd9",
   "metadata": {},
   "outputs": [
    {
     "name": "stdout",
     "output_type": "stream",
     "text": [
      "Benchmarks.ipynb   Evaluation.py      Run.py             \u001b[34mutils\u001b[m\u001b[m\r\n",
      "Clustering.py      GNN.py             __init__.py\r\n",
      "DataPreprocess.py  Hyperperameters.py \u001b[34m__pycache__\u001b[m\u001b[m\r\n",
      "Encode.py          LDA.py             setup.py\r\n"
     ]
    }
   ],
   "source": [
    "!ls"
   ]
  },
  {
   "cell_type": "code",
   "execution_count": 2,
   "id": "256ae608",
   "metadata": {},
   "outputs": [],
   "source": [
    "import numpy as np"
   ]
  },
  {
   "cell_type": "code",
   "execution_count": 3,
   "id": "51e5635d",
   "metadata": {},
   "outputs": [],
   "source": [
    "import DataPreprocess"
   ]
  },
  {
   "cell_type": "code",
   "execution_count": 7,
   "id": "60cdb97c",
   "metadata": {},
   "outputs": [
    {
     "name": "stdout",
     "output_type": "stream",
     "text": [
      "Loading Twitch graph\n"
     ]
    }
   ],
   "source": [
    "print(\"Loading Twitch graph\")\n",
    "\n",
    "G_edgelist = np.load(\"../../../Thesis-Graph-Data/original-graphs/twitch.npy\")\n",
    "# G_edgelist = np.loadtxt(\"../../../Thesis-Graph-Data/twitch-SNAP-bidir-manually\", delimiter=\" \", dtype=np.int32)\n",
    "\n",
    "G_edgelist = G_edgelist[G_edgelist[:, 0].argsort()] # Sort by first column\n",
    "\n",
    "# Add column of ones - weights\n",
    "G_edgelist = np.hstack((G_edgelist, np.ones((G_edgelist.shape[0], 1))))#.astype(np.int32)\n",
    "# Make sure G_edgelist isn't restricted to int-s\n",
    "\n",
    "n = int(np.max(G_edgelist[:,1]) + 1) # Nr. vertices"
   ]
  },
  {
   "cell_type": "markdown",
   "id": "0585e54d",
   "metadata": {},
   "source": [
    "# Unweighted, Non-Laplacian"
   ]
  },
  {
   "cell_type": "markdown",
   "id": "eba0b3cd",
   "metadata": {},
   "source": [
    "## GEE pure"
   ]
  },
  {
   "cell_type": "markdown",
   "id": "e3a01144",
   "metadata": {},
   "source": [
    "### Twitch"
   ]
  },
  {
   "cell_type": "code",
   "execution_count": 13,
   "id": "21d9638f",
   "metadata": {},
   "outputs": [
    {
     "name": "stdout",
     "output_type": "stream",
     "text": [
      "14 s ± 106 ms per loop (mean ± std. dev. of 7 runs, 1 loop each)\n"
     ]
    }
   ],
   "source": [
    "%%timeit\n",
    "\n",
    "\n",
    "Y = np.load(\"../../../Thesis-Graph-Data/Ys/twitch-Y20.npy\") # For Ligra fairness - ligra cannot preload this\n",
    "_ = DataPreprocess.graph_encoder_embed(G_edgelist, Y, n, Correlation = False, Laplacian = False)"
   ]
  },
  {
   "cell_type": "markdown",
   "id": "69cf81af",
   "metadata": {},
   "source": [
    "### Pokec"
   ]
  },
  {
   "cell_type": "code",
   "execution_count": 18,
   "id": "8a2a4069",
   "metadata": {},
   "outputs": [
    {
     "name": "stdout",
     "output_type": "stream",
     "text": [
      "Loading Pokec graph - 400MB\n"
     ]
    }
   ],
   "source": [
    "print(\"Loading Pokec graph - 400MB\")\n",
    "\n",
    "G_edgelist = np.load(\"../../../Thesis-Graph-Data/original-graphs/pokec.npy\")\n",
    "\n",
    "G_edgelist = G_edgelist[G_edgelist[:, 0].argsort()] # Sort by first column\n",
    "\n",
    "# Add column of ones - weights\n",
    "G_edgelist = np.hstack((G_edgelist, np.ones((G_edgelist.shape[0], 1))))\n",
    "\n",
    "n = int(np.max(G_edgelist[:,1]) + 1) # Nr. vertices"
   ]
  },
  {
   "cell_type": "code",
   "execution_count": 19,
   "id": "da7214fd",
   "metadata": {},
   "outputs": [
    {
     "name": "stdout",
     "output_type": "stream",
     "text": [
      "1min 3s ± 704 ms per loop (mean ± std. dev. of 7 runs, 1 loop each)\n"
     ]
    }
   ],
   "source": [
    "%%timeit\n",
    "\n",
    "\n",
    "Y = np.load(\"../../../Thesis-Graph-Data/Ys/pokec-Y50.npy\") # For Ligra fairness - ligra cannot preload this\n",
    "_ = DataPreprocess.graph_encoder_embed(G_edgelist, Y, n, Correlation = False, Laplacian = False)"
   ]
  },
  {
   "cell_type": "markdown",
   "id": "c106508d",
   "metadata": {},
   "source": [
    "### LiveJournal"
   ]
  },
  {
   "cell_type": "code",
   "execution_count": 4,
   "id": "850b741c",
   "metadata": {},
   "outputs": [
    {
     "name": "stdout",
     "output_type": "stream",
     "text": [
      "Loading LiveJournal graph - 1GB\n"
     ]
    }
   ],
   "source": [
    "print(\"Loading LiveJournal graph - 1GB\")\n",
    "\n",
    "G_edgelist = np.load(\"../../../Thesis-Graph-Data/NPY-graphs/liveJournal.npy\")\n",
    "\n",
    "# Add column of ones - weights\n",
    "G_edgelist = np.hstack((G_edgelist, np.ones((G_edgelist.shape[0], 1))))\n",
    "\n",
    "n = int(np.max(G_edgelist[:,1]) + 1) # Nr. vertices"
   ]
  },
  {
   "cell_type": "code",
   "execution_count": 5,
   "id": "fd2c4d7c",
   "metadata": {},
   "outputs": [
    {
     "name": "stdout",
     "output_type": "stream",
     "text": [
      "2min 27s ± 1.01 s per loop (mean ± std. dev. of 7 runs, 1 loop each)\n"
     ]
    }
   ],
   "source": [
    "%%timeit\n",
    "\n",
    "Y = np.load(\"../../../Thesis-Graph-Data/Ys/liveJournal-Y50.npy\") # For Ligra fairness - ligra cannot preload this\n",
    "_ = DataPreprocess.graph_encoder_embed(G_edgelist, Y, n, Correlation = False, Laplacian = False)"
   ]
  },
  {
   "cell_type": "markdown",
   "id": "4505f7a4",
   "metadata": {},
   "source": [
    "### Orkut"
   ]
  },
  {
   "cell_type": "code",
   "execution_count": 14,
   "id": "49d5cf7c",
   "metadata": {},
   "outputs": [
    {
     "name": "stdout",
     "output_type": "stream",
     "text": [
      "Loading Orkut graph - 1.8GB\n"
     ]
    }
   ],
   "source": [
    "print(\"Loading Orkut graph - 1.8GB\")\n",
    "\n",
    "G_edgelist = np.load(\"../../../Thesis-Graph-Data/NPY-graphs/orkut.npy\")\n",
    "\n",
    "# Add column of ones - weights\n",
    "G_edgelist = np.hstack((G_edgelist, np.ones((G_edgelist.shape[0], 1))))\n",
    "\n",
    "n = int(np.max(G_edgelist[:, 1]) + 1)  # Nr. vertices"
   ]
  },
  {
   "cell_type": "code",
   "execution_count": 16,
   "id": "ff71b84d",
   "metadata": {},
   "outputs": [
    {
     "name": "stdout",
     "output_type": "stream",
     "text": [
      "4min 3s ± 1.67 s per loop (mean ± std. dev. of 7 runs, 1 loop each)\n"
     ]
    }
   ],
   "source": [
    "%%timeit\n",
    "\n",
    "Y = np.load(\"../../../Thesis-Graph-Data/Ys/orkut-Y50.npy\") # For Ligra fairness - ligra cannot preload this\n",
    "_ = DataPreprocess.graph_encoder_embed(G_edgelist, Y, n, Correlation = False, Laplacian = False)"
   ]
  },
  {
   "cell_type": "markdown",
   "id": "06a99167",
   "metadata": {},
   "source": [
    "### Orkut-Groups 5.1GB"
   ]
  },
  {
   "cell_type": "code",
   "execution_count": 18,
   "id": "150f668a",
   "metadata": {},
   "outputs": [
    {
     "name": "stdout",
     "output_type": "stream",
     "text": [
      "Loading Orkut Groups graph - 5.1GB\n"
     ]
    }
   ],
   "source": [
    "print(\"Loading Orkut Groups graph - 5.1GB\")\n",
    "\n",
    "G_edgelist = np.load(\"../../../Thesis-Graph-Data/NPY-graphs/orkut-groups.npy\")\n",
    "\n",
    "# Add column of ones - weights\n",
    "G_edgelist = np.hstack((G_edgelist, np.ones((G_edgelist.shape[0], 1))))\n",
    "\n",
    "n = int(np.max(G_edgelist[:, 1]) + 1)  # Nr. vertices"
   ]
  },
  {
   "cell_type": "code",
   "execution_count": 19,
   "id": "dc96c55f",
   "metadata": {},
   "outputs": [
    {
     "name": "stdout",
     "output_type": "stream",
     "text": [
      "10min 52s ± 1.66 s per loop (mean ± std. dev. of 7 runs, 1 loop each)\n"
     ]
    }
   ],
   "source": [
    "%%timeit\n",
    "\n",
    "Y = np.load(\"../../../Thesis-Graph-Data/Ys/orkut-groups-Y40.npy\") # For Ligra fairness - ligra cannot preload this\n",
    "_ = DataPreprocess.graph_encoder_embed(G_edgelist, Y, n, Correlation = False, Laplacian = False)"
   ]
  },
  {
   "cell_type": "markdown",
   "id": "0ecb9d39",
   "metadata": {},
   "source": [
    "## Numba Serial\n",
    "\n",
    "Un-comment `@jit` parts of the code"
   ]
  },
  {
   "cell_type": "code",
   "execution_count": 1,
   "id": "adc49542",
   "metadata": {},
   "outputs": [],
   "source": [
    "import numpy as np\n",
    "import DataPreprocess"
   ]
  },
  {
   "cell_type": "code",
   "execution_count": 2,
   "id": "bb0308f0",
   "metadata": {},
   "outputs": [
    {
     "name": "stdout",
     "output_type": "stream",
     "text": [
      "Loading Twitch graph\n"
     ]
    }
   ],
   "source": [
    "print(\"Loading Twitch graph\")\n",
    "\n",
    "G_edgelist = np.load(\"../../../Thesis-Graph-Data/NPY-graphs/twitch.npy\")\n",
    "# G_edgelist = np.loadtxt(\"../../../Thesis-Graph-Data/twitch-SNAP-bidir-manually\", delimiter=\" \", dtype=np.int32)\n",
    "\n",
    "G_edgelist = G_edgelist[G_edgelist[:, 0].argsort()] # Sort by first column\n",
    "\n",
    "# Add column of ones - weights\n",
    "G_edgelist = np.hstack((G_edgelist, np.ones((G_edgelist.shape[0], 1))))#.astype(np.int32)\n",
    "# Make sure G_edgelist isn't restricted to int-s\n",
    "\n",
    "n = int(np.max(G_edgelist[:,1]) + 1) # Nr. vertices"
   ]
  },
  {
   "cell_type": "code",
   "execution_count": 3,
   "id": "8504d229",
   "metadata": {},
   "outputs": [
    {
     "name": "stdout",
     "output_type": "stream",
     "text": [
      "164 ms ± 2.47 ms per loop (mean ± std. dev. of 7 runs, 1 loop each)\n"
     ]
    }
   ],
   "source": [
    "%%timeit\n",
    "\n",
    "\n",
    "Y = np.load(\"../../../Thesis-Graph-Data/Ys/twitch-Y20.npy\") # For Ligra fairness - ligra cannot preload this\n",
    "_ = DataPreprocess.graph_encoder_embed(G_edgelist, Y, n, Correlation = False, Laplacian = False)"
   ]
  },
  {
   "cell_type": "markdown",
   "id": "8c23f78a",
   "metadata": {},
   "source": [
    "### Pokec"
   ]
  },
  {
   "cell_type": "code",
   "execution_count": 4,
   "id": "e4692850",
   "metadata": {},
   "outputs": [
    {
     "name": "stdout",
     "output_type": "stream",
     "text": [
      "Loading Pokec graph - 400MB\n"
     ]
    }
   ],
   "source": [
    "print(\"Loading Pokec graph - 400MB\")\n",
    "\n",
    "G_edgelist = np.load(\"../../../Thesis-Graph-Data/NPY-graphs/pokec.npy\")\n",
    "\n",
    "G_edgelist = G_edgelist[G_edgelist[:, 0].argsort()] # Sort by first column\n",
    "\n",
    "# Add column of ones - weights\n",
    "G_edgelist = np.hstack((G_edgelist, np.ones((G_edgelist.shape[0], 1))))\n",
    "\n",
    "n = int(np.max(G_edgelist[:,1]) + 1) # Nr. vertices"
   ]
  },
  {
   "cell_type": "code",
   "execution_count": 5,
   "id": "a1674f26",
   "metadata": {},
   "outputs": [
    {
     "name": "stdout",
     "output_type": "stream",
     "text": [
      "1.65 s ± 51.4 ms per loop (mean ± std. dev. of 7 runs, 1 loop each)\n"
     ]
    }
   ],
   "source": [
    "%%timeit\n",
    "\n",
    "\n",
    "Y = np.load(\"../../../Thesis-Graph-Data/Ys/pokec-Y50.npy\") # For Ligra fairness - ligra cannot preload this\n",
    "_ = DataPreprocess.graph_encoder_embed(G_edgelist, Y, n, Correlation = False, Laplacian = False)"
   ]
  },
  {
   "cell_type": "markdown",
   "id": "6bd757f1",
   "metadata": {},
   "source": [
    "### LiveJournal"
   ]
  },
  {
   "cell_type": "code",
   "execution_count": 18,
   "id": "abd91ba5",
   "metadata": {},
   "outputs": [
    {
     "name": "stdout",
     "output_type": "stream",
     "text": [
      "Loading LiveJournal graph - 1GB\n"
     ]
    }
   ],
   "source": [
    "print(\"Loading LiveJournal graph - 1GB\")\n",
    "\n",
    "G_edgelist = np.load(\"../../../Thesis-Graph-Data/NPY-graphs/liveJournal.npy\")\n",
    "\n",
    "# Add column of ones - weights\n",
    "G_edgelist = np.hstack((G_edgelist, np.ones((G_edgelist.shape[0], 1))))\n",
    "\n",
    "n = int(np.max(G_edgelist[:,1]) + 1) # Nr. vertices"
   ]
  },
  {
   "cell_type": "code",
   "execution_count": 19,
   "id": "1c87b523",
   "metadata": {},
   "outputs": [
    {
     "name": "stdout",
     "output_type": "stream",
     "text": [
      "4.66 s ± 70.6 ms per loop (mean ± std. dev. of 7 runs, 1 loop each)\n"
     ]
    }
   ],
   "source": [
    "%%timeit\n",
    "\n",
    "Y = np.load(\"../../../Thesis-Graph-Data/Ys/liveJournal-Y50.npy\") # For Ligra fairness - ligra cannot preload this\n",
    "_ = DataPreprocess.graph_encoder_embed(G_edgelist, Y, n, Correlation = False, Laplacian = False)"
   ]
  },
  {
   "cell_type": "markdown",
   "id": "db0710af",
   "metadata": {},
   "source": [
    "### Orkut"
   ]
  },
  {
   "cell_type": "code",
   "execution_count": 22,
   "id": "f202a68a",
   "metadata": {},
   "outputs": [
    {
     "name": "stdout",
     "output_type": "stream",
     "text": [
      "Loading Orkut graph - 1.8GB\n"
     ]
    }
   ],
   "source": [
    "print(\"Loading Orkut graph - 1.8GB\")\n",
    "\n",
    "G_edgelist = np.load(\"../../../Thesis-Graph-Data/NPY-graphs/orkut.npy\")\n",
    "\n",
    "# Add column of ones - weights\n",
    "G_edgelist = np.hstack((G_edgelist, np.ones((G_edgelist.shape[0], 1))))\n",
    "\n",
    "n = int(np.max(G_edgelist[:, 1]) + 1)  # Nr. vertices"
   ]
  },
  {
   "cell_type": "code",
   "execution_count": 23,
   "id": "efb47287",
   "metadata": {},
   "outputs": [
    {
     "name": "stdout",
     "output_type": "stream",
     "text": [
      "3.65 s ± 126 ms per loop (mean ± std. dev. of 7 runs, 1 loop each)\n"
     ]
    }
   ],
   "source": [
    "%%timeit\n",
    "\n",
    "Y = np.load(\"../../../Thesis-Graph-Data/Ys/orkut-Y50.npy\") # For Ligra fairness - ligra cannot preload this\n",
    "_ = DataPreprocess.graph_encoder_embed(G_edgelist, Y, n, Correlation = False, Laplacian = False)"
   ]
  },
  {
   "cell_type": "markdown",
   "id": "cbe45bbd",
   "metadata": {},
   "source": [
    "### Orkut-groups"
   ]
  },
  {
   "cell_type": "code",
   "execution_count": 10,
   "id": "380b95f0",
   "metadata": {},
   "outputs": [
    {
     "name": "stdout",
     "output_type": "stream",
     "text": [
      "Loading Orkut Groups graph - 5.1GB\n"
     ]
    }
   ],
   "source": [
    "print(\"Loading Orkut Groups graph - 5.1GB\")\n",
    "\n",
    "G_edgelist = np.load(\"../../../Thesis-Graph-Data/NPY-graphs/orkut-groups.npy\")\n",
    "\n",
    "# Add column of ones - weights\n",
    "G_edgelist = np.hstack((G_edgelist, np.ones((G_edgelist.shape[0], 1))))\n",
    "\n",
    "n = int(np.max(G_edgelist[:, 1]) + 1)  # Nr. vertices"
   ]
  },
  {
   "cell_type": "code",
   "execution_count": 11,
   "id": "8686192d",
   "metadata": {
    "scrolled": true
   },
   "outputs": [
    {
     "name": "stdout",
     "output_type": "stream",
     "text": [
      "8.86 s ± 160 ms per loop (mean ± std. dev. of 7 runs, 1 loop each)\n"
     ]
    }
   ],
   "source": [
    "%%timeit\n",
    "\n",
    "Y = np.load(\"../../../Thesis-Graph-Data/Ys/orkut-groups-Y40.npy\") # For Ligra fairness - ligra cannot preload this\n",
    "_ = DataPreprocess.graph_encoder_embed(G_edgelist, Y, n, Correlation = False, Laplacian = False)"
   ]
  },
  {
   "cell_type": "markdown",
   "id": "a4a0b587",
   "metadata": {},
   "source": [
    "## Numba parallel=true, fastmath=true"
   ]
  },
  {
   "cell_type": "code",
   "execution_count": 1,
   "id": "c8817731",
   "metadata": {},
   "outputs": [],
   "source": [
    "import numpy as np\n",
    "import DataPreprocess"
   ]
  },
  {
   "cell_type": "markdown",
   "id": "d0d7f2c8",
   "metadata": {},
   "source": [
    "### Twitch"
   ]
  },
  {
   "cell_type": "code",
   "execution_count": 2,
   "id": "7285238f",
   "metadata": {},
   "outputs": [
    {
     "name": "stdout",
     "output_type": "stream",
     "text": [
      "Loading Twitch graph\n"
     ]
    }
   ],
   "source": [
    "print(\"Loading Twitch graph\")\n",
    "\n",
    "G_edgelist = np.load(\"../../../Thesis-Graph-Data/NPY-graphs/twitch.npy\")\n",
    "# G_edgelist = np.loadtxt(\"../../../Thesis-Graph-Data/twitch-SNAP-bidir-manually\", delimiter=\" \", dtype=np.int32)\n",
    "\n",
    "G_edgelist = G_edgelist[G_edgelist[:, 0].argsort()] # Sort by first column\n",
    "\n",
    "# Add column of ones - weights\n",
    "G_edgelist = np.hstack((G_edgelist, np.ones((G_edgelist.shape[0], 1))))#.astype(np.int32)\n",
    "# Make sure G_edgelist isn't restricted to int-s\n",
    "\n",
    "n = int(np.max(G_edgelist[:,1]) + 1) # Nr. vertices"
   ]
  },
  {
   "cell_type": "code",
   "execution_count": 3,
   "id": "63ed3dcc",
   "metadata": {},
   "outputs": [
    {
     "name": "stderr",
     "output_type": "stream",
     "text": [
      "OMP: Info #276: omp_set_nested routine deprecated, please use omp_set_max_active_levels instead.\n"
     ]
    },
    {
     "name": "stdout",
     "output_type": "stream",
     "text": [
      "133 ms ± 1.98 ms per loop (mean ± std. dev. of 7 runs, 1 loop each)\n"
     ]
    }
   ],
   "source": [
    "%%timeit\n",
    "\n",
    "\n",
    "Y = np.load(\"../../../Thesis-Graph-Data/Ys/twitch-Y20.npy\") # For Ligra fairness - ligra cannot preload this\n",
    "_ = DataPreprocess.graph_encoder_embed(G_edgelist, Y, n, Correlation = False, Laplacian = False)"
   ]
  },
  {
   "cell_type": "markdown",
   "id": "29ab24b7",
   "metadata": {},
   "source": [
    "### Pokec"
   ]
  },
  {
   "cell_type": "code",
   "execution_count": 4,
   "id": "268f0a22",
   "metadata": {},
   "outputs": [
    {
     "name": "stdout",
     "output_type": "stream",
     "text": [
      "Loading Pokec graph - 400MB\n"
     ]
    }
   ],
   "source": [
    "print(\"Loading Pokec graph - 400MB\")\n",
    "\n",
    "G_edgelist = np.load(\"../../../Thesis-Graph-Data/NPY-graphs/pokec.npy\")\n",
    "\n",
    "G_edgelist = G_edgelist[G_edgelist[:, 0].argsort()] # Sort by first column\n",
    "\n",
    "# Add column of ones - weights\n",
    "G_edgelist = np.hstack((G_edgelist, np.ones((G_edgelist.shape[0], 1))))\n",
    "\n",
    "n = int(np.max(G_edgelist[:,1]) + 1) # Nr. vertices"
   ]
  },
  {
   "cell_type": "code",
   "execution_count": 5,
   "id": "2495bbbb",
   "metadata": {},
   "outputs": [
    {
     "name": "stdout",
     "output_type": "stream",
     "text": [
      "1.3 s ± 15.6 ms per loop (mean ± std. dev. of 7 runs, 1 loop each)\n"
     ]
    }
   ],
   "source": [
    "%%timeit\n",
    "\n",
    "\n",
    "Y = np.load(\"../../../Thesis-Graph-Data/Ys/pokec-Y50.npy\") # For Ligra fairness - ligra cannot preload this\n",
    "_ = DataPreprocess.graph_encoder_embed(G_edgelist, Y, n, Correlation = False, Laplacian = False)"
   ]
  },
  {
   "cell_type": "markdown",
   "id": "570e0616",
   "metadata": {},
   "source": [
    "### LiveJournal"
   ]
  },
  {
   "cell_type": "code",
   "execution_count": 6,
   "id": "4594225d",
   "metadata": {},
   "outputs": [
    {
     "name": "stdout",
     "output_type": "stream",
     "text": [
      "Loading LiveJournal graph - 1GB\n"
     ]
    }
   ],
   "source": [
    "print(\"Loading LiveJournal graph - 1GB\")\n",
    "\n",
    "G_edgelist = np.load(\"../../../Thesis-Graph-Data/NPY-graphs/liveJournal.npy\")\n",
    "\n",
    "# Add column of ones - weights\n",
    "G_edgelist = np.hstack((G_edgelist, np.ones((G_edgelist.shape[0], 1))))\n",
    "\n",
    "n = int(np.max(G_edgelist[:,1]) + 1) # Nr. vertices"
   ]
  },
  {
   "cell_type": "code",
   "execution_count": 7,
   "id": "a61eaca4",
   "metadata": {},
   "outputs": [
    {
     "name": "stdout",
     "output_type": "stream",
     "text": [
      "3.77 s ± 32 ms per loop (mean ± std. dev. of 7 runs, 1 loop each)\n"
     ]
    }
   ],
   "source": [
    "%%timeit\n",
    "\n",
    "Y = np.load(\"../../../Thesis-Graph-Data/Ys/liveJournal-Y50.npy\") # For Ligra fairness - ligra cannot preload this\n",
    "_ = DataPreprocess.graph_encoder_embed(G_edgelist, Y, n, Correlation = False, Laplacian = False)"
   ]
  },
  {
   "cell_type": "markdown",
   "id": "35ec6d91",
   "metadata": {},
   "source": [
    "### Orkut"
   ]
  },
  {
   "cell_type": "code",
   "execution_count": 8,
   "id": "f011c1ed",
   "metadata": {},
   "outputs": [
    {
     "name": "stdout",
     "output_type": "stream",
     "text": [
      "Loading Orkut graph - 1.8GB\n"
     ]
    }
   ],
   "source": [
    "print(\"Loading Orkut graph - 1.8GB\")\n",
    "\n",
    "G_edgelist = np.load(\"../../../Thesis-Graph-Data/NPY-graphs/orkut.npy\")\n",
    "\n",
    "# Add column of ones - weights\n",
    "G_edgelist = np.hstack((G_edgelist, np.ones((G_edgelist.shape[0], 1))))\n",
    "\n",
    "n = int(np.max(G_edgelist[:, 1]) + 1)  # Nr. vertices"
   ]
  },
  {
   "cell_type": "code",
   "execution_count": 9,
   "id": "e6269b45",
   "metadata": {},
   "outputs": [
    {
     "name": "stdout",
     "output_type": "stream",
     "text": [
      "2.51 s ± 20.1 ms per loop (mean ± std. dev. of 7 runs, 1 loop each)\n"
     ]
    }
   ],
   "source": [
    "%%timeit\n",
    "\n",
    "Y = np.load(\"../../../Thesis-Graph-Data/Ys/orkut-Y50.npy\") # For Ligra fairness - ligra cannot preload this\n",
    "_ = DataPreprocess.graph_encoder_embed(G_edgelist, Y, n, Correlation = False, Laplacian = False)"
   ]
  },
  {
   "cell_type": "markdown",
   "id": "ec4df485",
   "metadata": {},
   "source": [
    "### Orkut-groups"
   ]
  },
  {
   "cell_type": "code",
   "execution_count": 10,
   "id": "8ce0cfc6",
   "metadata": {},
   "outputs": [
    {
     "name": "stdout",
     "output_type": "stream",
     "text": [
      "Loading Orkut Groups graph - 5.1GB\n"
     ]
    }
   ],
   "source": [
    "print(\"Loading Orkut Groups graph - 5.1GB\")\n",
    "\n",
    "G_edgelist = np.load(\"../../../Thesis-Graph-Data/NPY-graphs/orkut-groups.npy\")\n",
    "\n",
    "# Add column of ones - weights\n",
    "G_edgelist = np.hstack((G_edgelist, np.ones((G_edgelist.shape[0], 1))))\n",
    "\n",
    "n = int(np.max(G_edgelist[:, 1]) + 1)  # Nr. vertices"
   ]
  },
  {
   "cell_type": "code",
   "execution_count": 11,
   "id": "720ab510",
   "metadata": {},
   "outputs": [
    {
     "name": "stdout",
     "output_type": "stream",
     "text": [
      "6.64 s ± 47.6 ms per loop (mean ± std. dev. of 7 runs, 1 loop each)\n"
     ]
    }
   ],
   "source": [
    "%%timeit\n",
    "\n",
    "Y = np.load(\"../../../Thesis-Graph-Data/Ys/orkut-groups-Y40.npy\") # For Ligra fairness - ligra cannot preload this\n",
    "_ = DataPreprocess.graph_encoder_embed(G_edgelist, Y, n, Correlation = False, Laplacian = False)"
   ]
  }
 ],
 "metadata": {
  "kernelspec": {
   "display_name": "Python 3 (ipykernel)",
   "language": "python",
   "name": "python3"
  },
  "language_info": {
   "codemirror_mode": {
    "name": "ipython",
    "version": 3
   },
   "file_extension": ".py",
   "mimetype": "text/x-python",
   "name": "python",
   "nbconvert_exporter": "python",
   "pygments_lexer": "ipython3",
   "version": "3.10.8"
  }
 },
 "nbformat": 4,
 "nbformat_minor": 5
}
