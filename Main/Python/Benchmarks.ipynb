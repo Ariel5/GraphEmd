{
 "cells": [
  {
   "cell_type": "markdown",
   "id": "0585e54d",
   "metadata": {},
   "source": [
    "# Unweighted, Non-Laplacian"
   ]
  },
  {
   "cell_type": "markdown",
   "id": "eba0b3cd",
   "metadata": {},
   "source": [
    "## GEE pure, Numba Serial, Numba Parallel\n",
    "\n",
    "Edit `@jit` part of the code, then rerun these benchmarks to get the timing results"
   ]
  },
  {
   "cell_type": "code",
   "execution_count": 16,
   "id": "256ae608",
   "metadata": {},
   "outputs": [
    {
     "data": {
      "text/plain": [
       "48"
      ]
     },
     "execution_count": 16,
     "metadata": {},
     "output_type": "execute_result"
    }
   ],
   "source": [
    "import numpy as np\n",
    "import DataPreprocess\n",
    "from numba import set_num_threads, get_num_threads\n",
    "\n",
    "get_num_threads()"
   ]
  },
  {
   "cell_type": "markdown",
   "id": "e3a01144",
   "metadata": {},
   "source": [
    "### Twitch"
   ]
  },
  {
   "cell_type": "code",
   "execution_count": 17,
   "id": "60cdb97c",
   "metadata": {},
   "outputs": [
    {
     "name": "stdout",
     "output_type": "stream",
     "text": [
      "Loading Twitch graph\n"
     ]
    }
   ],
   "source": [
    "print(\"Loading Twitch graph\")\n",
    "\n",
    "G_edgelist = np.load(\"../../../Thesis-Graph-Data/NPY-graphs/twitch.npy\")\n",
    "# G_edgelist = np.loadtxt(\"../../../Thesis-Graph-Data/twitch-SNAP-bidir-manually\", delimiter=\" \", dtype=np.int32)\n",
    "\n",
    "G_edgelist = G_edgelist[G_edgelist[:, 0].argsort()] # Sort by first column\n",
    "\n",
    "# Add column of ones - weights\n",
    "G_edgelist = np.hstack((G_edgelist, np.ones((G_edgelist.shape[0], 1))))#.astype(np.int32)\n",
    "# Make sure G_edgelist isn't restricted to int-s\n",
    "\n",
    "n = int(np.max(G_edgelist[:,1]) + 1) # Nr. vertices"
   ]
  },
  {
   "cell_type": "code",
   "execution_count": 18,
   "id": "21d9638f",
   "metadata": {},
   "outputs": [
    {
     "name": "stdout",
     "output_type": "stream",
     "text": [
      "104 ms ± 0 ns per loop (mean ± std. dev. of 1 run, 1 loop each)\n"
     ]
    }
   ],
   "source": [
    "%%timeit -n 1 -r 1\n",
    "\n",
    "\n",
    "Y = np.load(\"../../../Thesis-Graph-Data/Ys/twitch-Y20.npy\") # For Ligra fairness - ligra cannot preload this\n",
    "_ = DataPreprocess.graph_encoder_embed(G_edgelist, Y, n, Correlation = False, Laplacian = False)"
   ]
  },
  {
   "cell_type": "code",
   "execution_count": 19,
   "id": "bd2630dd",
   "metadata": {},
   "outputs": [
    {
     "name": "stdout",
     "output_type": "stream",
     "text": [
      "Loading Twitch graph\n"
     ]
    }
   ],
   "source": [
    "print(\"Loading Twitch graph\")\n",
    "\n",
    "G_edgelist = np.load(\"../../../Thesis-Graph-Data/NPY-graphs/twitch.npy\")\n",
    "# G_edgelist = np.loadtxt(\"../../../Thesis-Graph-Data/twitch-SNAP-bidir-manually\", delimiter=\" \", dtype=np.int32)\n",
    "\n",
    "G_edgelist = G_edgelist[G_edgelist[:, 0].argsort()] # Sort by first column\n",
    "\n",
    "# Add column of ones - weights\n",
    "G_edgelist = np.hstack((G_edgelist, np.ones((G_edgelist.shape[0], 1))))#.astype(np.int32)\n",
    "# Make sure G_edgelist isn't restricted to int-s\n",
    "\n",
    "n = int(np.max(G_edgelist[:,1]) + 1) # Nr. vertices"
   ]
  },
  {
   "cell_type": "code",
   "execution_count": 20,
   "id": "687029e0",
   "metadata": {},
   "outputs": [
    {
     "name": "stdout",
     "output_type": "stream",
     "text": [
      "101 ms ± 0 ns per loop (mean ± std. dev. of 1 run, 1 loop each)\n"
     ]
    }
   ],
   "source": [
    "%%timeit -n 1 -r 1\n",
    "\n",
    "\n",
    "Y = np.load(\"../../../Thesis-Graph-Data/Ys/twitch-Y20.npy\") # For Ligra fairness - ligra cannot preload this\n",
    "_ = DataPreprocess.graph_encoder_embed(G_edgelist, Y, n, Correlation = False, Laplacian = False)"
   ]
  },
  {
   "cell_type": "code",
   "execution_count": 21,
   "id": "ae7f0205",
   "metadata": {},
   "outputs": [
    {
     "name": "stdout",
     "output_type": "stream",
     "text": [
      "Loading Twitch graph\n"
     ]
    }
   ],
   "source": [
    "print(\"Loading Twitch graph\")\n",
    "\n",
    "G_edgelist = np.load(\"../../../Thesis-Graph-Data/NPY-graphs/twitch.npy\")\n",
    "# G_edgelist = np.loadtxt(\"../../../Thesis-Graph-Data/twitch-SNAP-bidir-manually\", delimiter=\" \", dtype=np.int32)\n",
    "\n",
    "G_edgelist = G_edgelist[G_edgelist[:, 0].argsort()] # Sort by first column\n",
    "\n",
    "# Add column of ones - weights\n",
    "G_edgelist = np.hstack((G_edgelist, np.ones((G_edgelist.shape[0], 1))))#.astype(np.int32)\n",
    "# Make sure G_edgelist isn't restricted to int-s\n",
    "\n",
    "n = int(np.max(G_edgelist[:,1]) + 1) # Nr. vertices"
   ]
  },
  {
   "cell_type": "code",
   "execution_count": 22,
   "id": "2cfbe72c",
   "metadata": {},
   "outputs": [
    {
     "name": "stdout",
     "output_type": "stream",
     "text": [
      "125 ms ± 0 ns per loop (mean ± std. dev. of 1 run, 1 loop each)\n"
     ]
    }
   ],
   "source": [
    "%%timeit -n 1 -r 1\n",
    "\n",
    "\n",
    "Y = np.load(\"../../../Thesis-Graph-Data/Ys/twitch-Y20.npy\") # For Ligra fairness - ligra cannot preload this\n",
    "_ = DataPreprocess.graph_encoder_embed(G_edgelist, Y, n, Correlation = False, Laplacian = False)"
   ]
  },
  {
   "cell_type": "code",
   "execution_count": 23,
   "id": "3d304c83",
   "metadata": {},
   "outputs": [
    {
     "name": "stdout",
     "output_type": "stream",
     "text": [
      "Loading Twitch graph\n"
     ]
    }
   ],
   "source": [
    "print(\"Loading Twitch graph\")\n",
    "\n",
    "G_edgelist = np.load(\"../../../Thesis-Graph-Data/NPY-graphs/twitch.npy\")\n",
    "# G_edgelist = np.loadtxt(\"../../../Thesis-Graph-Data/twitch-SNAP-bidir-manually\", delimiter=\" \", dtype=np.int32)\n",
    "\n",
    "G_edgelist = G_edgelist[G_edgelist[:, 0].argsort()] # Sort by first column\n",
    "\n",
    "# Add column of ones - weights\n",
    "G_edgelist = np.hstack((G_edgelist, np.ones((G_edgelist.shape[0], 1))))#.astype(np.int32)\n",
    "# Make sure G_edgelist isn't restricted to int-s\n",
    "\n",
    "n = int(np.max(G_edgelist[:,1]) + 1) # Nr. vertices"
   ]
  },
  {
   "cell_type": "code",
   "execution_count": 24,
   "id": "1d7775a5",
   "metadata": {},
   "outputs": [
    {
     "name": "stdout",
     "output_type": "stream",
     "text": [
      "102 ms ± 0 ns per loop (mean ± std. dev. of 1 run, 1 loop each)\n"
     ]
    }
   ],
   "source": [
    "%%timeit -n 1 -r 1\n",
    "\n",
    "\n",
    "Y = np.load(\"../../../Thesis-Graph-Data/Ys/twitch-Y20.npy\") # For Ligra fairness - ligra cannot preload this\n",
    "_ = DataPreprocess.graph_encoder_embed(G_edgelist, Y, n, Correlation = False, Laplacian = False)"
   ]
  },
  {
   "cell_type": "code",
   "execution_count": 25,
   "id": "1bf1d01d",
   "metadata": {},
   "outputs": [
    {
     "name": "stdout",
     "output_type": "stream",
     "text": [
      "Loading Twitch graph\n"
     ]
    }
   ],
   "source": [
    "print(\"Loading Twitch graph\")\n",
    "\n",
    "G_edgelist = np.load(\"../../../Thesis-Graph-Data/NPY-graphs/twitch.npy\")\n",
    "# G_edgelist = np.loadtxt(\"../../../Thesis-Graph-Data/twitch-SNAP-bidir-manually\", delimiter=\" \", dtype=np.int32)\n",
    "\n",
    "G_edgelist = G_edgelist[G_edgelist[:, 0].argsort()] # Sort by first column\n",
    "\n",
    "# Add column of ones - weights\n",
    "G_edgelist = np.hstack((G_edgelist, np.ones((G_edgelist.shape[0], 1))))#.astype(np.int32)\n",
    "# Make sure G_edgelist isn't restricted to int-s\n",
    "\n",
    "n = int(np.max(G_edgelist[:,1]) + 1) # Nr. vertices"
   ]
  },
  {
   "cell_type": "code",
   "execution_count": 26,
   "id": "a969062a",
   "metadata": {},
   "outputs": [
    {
     "name": "stdout",
     "output_type": "stream",
     "text": [
      "102 ms ± 0 ns per loop (mean ± std. dev. of 1 run, 1 loop each)\n"
     ]
    }
   ],
   "source": [
    "%%timeit -n 1 -r 1\n",
    "\n",
    "\n",
    "Y = np.load(\"../../../Thesis-Graph-Data/Ys/twitch-Y20.npy\") # For Ligra fairness - ligra cannot preload this\n",
    "_ = DataPreprocess.graph_encoder_embed(G_edgelist, Y, n, Correlation = False, Laplacian = False)"
   ]
  },
  {
   "cell_type": "code",
   "execution_count": 27,
   "id": "c8362608",
   "metadata": {},
   "outputs": [
    {
     "name": "stdout",
     "output_type": "stream",
     "text": [
      "Loading Twitch graph\n"
     ]
    }
   ],
   "source": [
    "print(\"Loading Twitch graph\")\n",
    "\n",
    "G_edgelist = np.load(\"../../../Thesis-Graph-Data/NPY-graphs/twitch.npy\")\n",
    "# G_edgelist = np.loadtxt(\"../../../Thesis-Graph-Data/twitch-SNAP-bidir-manually\", delimiter=\" \", dtype=np.int32)\n",
    "\n",
    "G_edgelist = G_edgelist[G_edgelist[:, 0].argsort()] # Sort by first column\n",
    "\n",
    "# Add column of ones - weights\n",
    "G_edgelist = np.hstack((G_edgelist, np.ones((G_edgelist.shape[0], 1))))#.astype(np.int32)\n",
    "# Make sure G_edgelist isn't restricted to int-s\n",
    "\n",
    "n = int(np.max(G_edgelist[:,1]) + 1) # Nr. vertices"
   ]
  },
  {
   "cell_type": "code",
   "execution_count": 28,
   "id": "7bfe5a0a",
   "metadata": {},
   "outputs": [
    {
     "name": "stdout",
     "output_type": "stream",
     "text": [
      "103 ms ± 0 ns per loop (mean ± std. dev. of 1 run, 1 loop each)\n"
     ]
    }
   ],
   "source": [
    "%%timeit -n 1 -r 1\n",
    "\n",
    "\n",
    "Y = np.load(\"../../../Thesis-Graph-Data/Ys/twitch-Y20.npy\") # For Ligra fairness - ligra cannot preload this\n",
    "_ = DataPreprocess.graph_encoder_embed(G_edgelist, Y, n, Correlation = False, Laplacian = False)"
   ]
  },
  {
   "cell_type": "code",
   "execution_count": 29,
   "id": "47dbf09c",
   "metadata": {},
   "outputs": [
    {
     "name": "stdout",
     "output_type": "stream",
     "text": [
      "Loading Twitch graph\n"
     ]
    }
   ],
   "source": [
    "print(\"Loading Twitch graph\")\n",
    "\n",
    "G_edgelist = np.load(\"../../../Thesis-Graph-Data/NPY-graphs/twitch.npy\")\n",
    "# G_edgelist = np.loadtxt(\"../../../Thesis-Graph-Data/twitch-SNAP-bidir-manually\", delimiter=\" \", dtype=np.int32)\n",
    "\n",
    "G_edgelist = G_edgelist[G_edgelist[:, 0].argsort()] # Sort by first column\n",
    "\n",
    "# Add column of ones - weights\n",
    "G_edgelist = np.hstack((G_edgelist, np.ones((G_edgelist.shape[0], 1))))#.astype(np.int32)\n",
    "# Make sure G_edgelist isn't restricted to int-s\n",
    "\n",
    "n = int(np.max(G_edgelist[:,1]) + 1) # Nr. vertices"
   ]
  },
  {
   "cell_type": "code",
   "execution_count": 30,
   "id": "24de5afb",
   "metadata": {},
   "outputs": [
    {
     "name": "stdout",
     "output_type": "stream",
     "text": [
      "104 ms ± 0 ns per loop (mean ± std. dev. of 1 run, 1 loop each)\n"
     ]
    }
   ],
   "source": [
    "%%timeit -n 1 -r 1\n",
    "\n",
    "\n",
    "Y = np.load(\"../../../Thesis-Graph-Data/Ys/twitch-Y20.npy\") # For Ligra fairness - ligra cannot preload this\n",
    "_ = DataPreprocess.graph_encoder_embed(G_edgelist, Y, n, Correlation = False, Laplacian = False)"
   ]
  },
  {
   "cell_type": "markdown",
   "id": "69cf81af",
   "metadata": {},
   "source": [
    "### Pokec"
   ]
  },
  {
   "cell_type": "code",
   "execution_count": 31,
   "id": "8a2a4069",
   "metadata": {},
   "outputs": [
    {
     "name": "stdout",
     "output_type": "stream",
     "text": [
      "Loading Pokec graph - 400MB\n"
     ]
    }
   ],
   "source": [
    "print(\"Loading Pokec graph - 400MB\")\n",
    "\n",
    "G_edgelist = np.load(\"../../../Thesis-Graph-Data/NPY-graphs/pokec.npy\")\n",
    "\n",
    "G_edgelist = G_edgelist[G_edgelist[:, 0].argsort()] # Sort by first column\n",
    "\n",
    "# Add column of ones - weights\n",
    "G_edgelist = np.hstack((G_edgelist, np.ones((G_edgelist.shape[0], 1))))\n",
    "\n",
    "n = int(np.max(G_edgelist[:,1]) + 1) # Nr. vertices"
   ]
  },
  {
   "cell_type": "code",
   "execution_count": 32,
   "id": "da7214fd",
   "metadata": {},
   "outputs": [
    {
     "name": "stdout",
     "output_type": "stream",
     "text": [
      "757 ms ± 575 µs per loop (mean ± std. dev. of 7 runs, 1 loop each)\n"
     ]
    }
   ],
   "source": [
    "%%timeit -n 1 -r 1\n",
    "\n",
    "\n",
    "Y = np.load(\"../../../Thesis-Graph-Data/Ys/pokec-Y50.npy\") # For Ligra fairness - ligra cannot preload this\n",
    "_ = DataPreprocess.graph_encoder_embed(G_edgelist, Y, n, Correlation = False, Laplacian = False)"
   ]
  },
  {
   "cell_type": "code",
   "execution_count": 33,
   "id": "537337fe",
   "metadata": {},
   "outputs": [
    {
     "name": "stdout",
     "output_type": "stream",
     "text": [
      "Loading Pokec graph - 400MB\n"
     ]
    }
   ],
   "source": [
    "print(\"Loading Pokec graph - 400MB\")\n",
    "\n",
    "G_edgelist = np.load(\"../../../Thesis-Graph-Data/NPY-graphs/pokec.npy\")\n",
    "\n",
    "G_edgelist = G_edgelist[G_edgelist[:, 0].argsort()] # Sort by first column\n",
    "\n",
    "# Add column of ones - weights\n",
    "G_edgelist = np.hstack((G_edgelist, np.ones((G_edgelist.shape[0], 1))))\n",
    "\n",
    "n = int(np.max(G_edgelist[:,1]) + 1) # Nr. vertices"
   ]
  },
  {
   "cell_type": "code",
   "execution_count": 34,
   "id": "288a7182",
   "metadata": {},
   "outputs": [
    {
     "name": "stdout",
     "output_type": "stream",
     "text": [
      "758 ms ± 443 µs per loop (mean ± std. dev. of 7 runs, 1 loop each)\n"
     ]
    }
   ],
   "source": [
    "%%timeit -n 1 -r 1\n",
    "\n",
    "\n",
    "Y = np.load(\"../../../Thesis-Graph-Data/Ys/pokec-Y50.npy\") # For Ligra fairness - ligra cannot preload this\n",
    "_ = DataPreprocess.graph_encoder_embed(G_edgelist, Y, n, Correlation = False, Laplacian = False)"
   ]
  },
  {
   "cell_type": "code",
   "execution_count": 35,
   "id": "86eb00e6",
   "metadata": {},
   "outputs": [
    {
     "name": "stdout",
     "output_type": "stream",
     "text": [
      "Loading Pokec graph - 400MB\n"
     ]
    }
   ],
   "source": [
    "print(\"Loading Pokec graph - 400MB\")\n",
    "\n",
    "G_edgelist = np.load(\"../../../Thesis-Graph-Data/NPY-graphs/pokec.npy\")\n",
    "\n",
    "G_edgelist = G_edgelist[G_edgelist[:, 0].argsort()] # Sort by first column\n",
    "\n",
    "# Add column of ones - weights\n",
    "G_edgelist = np.hstack((G_edgelist, np.ones((G_edgelist.shape[0], 1))))\n",
    "\n",
    "n = int(np.max(G_edgelist[:,1]) + 1) # Nr. vertices"
   ]
  },
  {
   "cell_type": "code",
   "execution_count": 36,
   "id": "0e8f021c",
   "metadata": {},
   "outputs": [
    {
     "name": "stdout",
     "output_type": "stream",
     "text": [
      "757 ms ± 270 µs per loop (mean ± std. dev. of 7 runs, 1 loop each)\n"
     ]
    }
   ],
   "source": [
    "%%timeit -n 1 -r 1\n",
    "\n",
    "\n",
    "Y = np.load(\"../../../Thesis-Graph-Data/Ys/pokec-Y50.npy\") # For Ligra fairness - ligra cannot preload this\n",
    "_ = DataPreprocess.graph_encoder_embed(G_edgelist, Y, n, Correlation = False, Laplacian = False)"
   ]
  },
  {
   "cell_type": "code",
   "execution_count": 37,
   "id": "6af824a9",
   "metadata": {},
   "outputs": [
    {
     "name": "stdout",
     "output_type": "stream",
     "text": [
      "Loading Pokec graph - 400MB\n"
     ]
    }
   ],
   "source": [
    "print(\"Loading Pokec graph - 400MB\")\n",
    "\n",
    "G_edgelist = np.load(\"../../../Thesis-Graph-Data/NPY-graphs/pokec.npy\")\n",
    "\n",
    "G_edgelist = G_edgelist[G_edgelist[:, 0].argsort()] # Sort by first column\n",
    "\n",
    "# Add column of ones - weights\n",
    "G_edgelist = np.hstack((G_edgelist, np.ones((G_edgelist.shape[0], 1))))\n",
    "\n",
    "n = int(np.max(G_edgelist[:,1]) + 1) # Nr. vertices"
   ]
  },
  {
   "cell_type": "code",
   "execution_count": 38,
   "id": "85cecfe5",
   "metadata": {},
   "outputs": [
    {
     "name": "stdout",
     "output_type": "stream",
     "text": [
      "758 ms ± 580 µs per loop (mean ± std. dev. of 7 runs, 1 loop each)\n"
     ]
    }
   ],
   "source": [
    "%%timeit -n 1 -r 1\n",
    "\n",
    "\n",
    "Y = np.load(\"../../../Thesis-Graph-Data/Ys/pokec-Y50.npy\") # For Ligra fairness - ligra cannot preload this\n",
    "_ = DataPreprocess.graph_encoder_embed(G_edgelist, Y, n, Correlation = False, Laplacian = False)"
   ]
  },
  {
   "cell_type": "code",
   "execution_count": 39,
   "id": "6249b585",
   "metadata": {},
   "outputs": [
    {
     "name": "stdout",
     "output_type": "stream",
     "text": [
      "Loading Pokec graph - 400MB\n"
     ]
    }
   ],
   "source": [
    "print(\"Loading Pokec graph - 400MB\")\n",
    "\n",
    "G_edgelist = np.load(\"../../../Thesis-Graph-Data/NPY-graphs/pokec.npy\")\n",
    "\n",
    "G_edgelist = G_edgelist[G_edgelist[:, 0].argsort()] # Sort by first column\n",
    "\n",
    "# Add column of ones - weights\n",
    "G_edgelist = np.hstack((G_edgelist, np.ones((G_edgelist.shape[0], 1))))\n",
    "\n",
    "n = int(np.max(G_edgelist[:,1]) + 1) # Nr. vertices"
   ]
  },
  {
   "cell_type": "code",
   "execution_count": 40,
   "id": "45fa79fc",
   "metadata": {},
   "outputs": [
    {
     "name": "stdout",
     "output_type": "stream",
     "text": [
      "757 ms ± 358 µs per loop (mean ± std. dev. of 7 runs, 1 loop each)\n"
     ]
    }
   ],
   "source": [
    "%%timeit -n 1 -r 1\n",
    "\n",
    "\n",
    "Y = np.load(\"../../../Thesis-Graph-Data/Ys/pokec-Y50.npy\") # For Ligra fairness - ligra cannot preload this\n",
    "_ = DataPreprocess.graph_encoder_embed(G_edgelist, Y, n, Correlation = False, Laplacian = False)"
   ]
  },
  {
   "cell_type": "code",
   "execution_count": 41,
   "id": "11924252",
   "metadata": {},
   "outputs": [
    {
     "name": "stdout",
     "output_type": "stream",
     "text": [
      "Loading Pokec graph - 400MB\n"
     ]
    }
   ],
   "source": [
    "print(\"Loading Pokec graph - 400MB\")\n",
    "\n",
    "G_edgelist = np.load(\"../../../Thesis-Graph-Data/NPY-graphs/pokec.npy\")\n",
    "\n",
    "G_edgelist = G_edgelist[G_edgelist[:, 0].argsort()] # Sort by first column\n",
    "\n",
    "# Add column of ones - weights\n",
    "G_edgelist = np.hstack((G_edgelist, np.ones((G_edgelist.shape[0], 1))))\n",
    "\n",
    "n = int(np.max(G_edgelist[:,1]) + 1) # Nr. vertices"
   ]
  },
  {
   "cell_type": "code",
   "execution_count": 42,
   "id": "1282843b",
   "metadata": {},
   "outputs": [
    {
     "name": "stdout",
     "output_type": "stream",
     "text": [
      "758 ms ± 381 µs per loop (mean ± std. dev. of 7 runs, 1 loop each)\n"
     ]
    }
   ],
   "source": [
    "%%timeit -n 1 -r 1\n",
    "\n",
    "\n",
    "Y = np.load(\"../../../Thesis-Graph-Data/Ys/pokec-Y50.npy\") # For Ligra fairness - ligra cannot preload this\n",
    "_ = DataPreprocess.graph_encoder_embed(G_edgelist, Y, n, Correlation = False, Laplacian = False)"
   ]
  },
  {
   "cell_type": "code",
   "execution_count": 43,
   "id": "83ee7a02",
   "metadata": {},
   "outputs": [
    {
     "name": "stdout",
     "output_type": "stream",
     "text": [
      "Loading Pokec graph - 400MB\n"
     ]
    }
   ],
   "source": [
    "print(\"Loading Pokec graph - 400MB\")\n",
    "\n",
    "G_edgelist = np.load(\"../../../Thesis-Graph-Data/NPY-graphs/pokec.npy\")\n",
    "\n",
    "G_edgelist = G_edgelist[G_edgelist[:, 0].argsort()] # Sort by first column\n",
    "\n",
    "# Add column of ones - weights\n",
    "G_edgelist = np.hstack((G_edgelist, np.ones((G_edgelist.shape[0], 1))))\n",
    "\n",
    "n = int(np.max(G_edgelist[:,1]) + 1) # Nr. vertices"
   ]
  },
  {
   "cell_type": "code",
   "execution_count": 44,
   "id": "c5bd7dfe",
   "metadata": {},
   "outputs": [
    {
     "name": "stdout",
     "output_type": "stream",
     "text": [
      "758 ms ± 847 µs per loop (mean ± std. dev. of 7 runs, 1 loop each)\n"
     ]
    }
   ],
   "source": [
    "%%timeit -n 1 -r 1\n",
    "\n",
    "\n",
    "Y = np.load(\"../../../Thesis-Graph-Data/Ys/pokec-Y50.npy\") # For Ligra fairness - ligra cannot preload this\n",
    "_ = DataPreprocess.graph_encoder_embed(G_edgelist, Y, n, Correlation = False, Laplacian = False)"
   ]
  },
  {
   "cell_type": "markdown",
   "id": "c106508d",
   "metadata": {},
   "source": [
    "### LiveJournal"
   ]
  },
  {
   "cell_type": "code",
   "execution_count": 45,
   "id": "850b741c",
   "metadata": {},
   "outputs": [
    {
     "name": "stdout",
     "output_type": "stream",
     "text": [
      "Loading LiveJournal graph - 1GB\n"
     ]
    }
   ],
   "source": [
    "print(\"Loading LiveJournal graph - 1GB\")\n",
    "\n",
    "G_edgelist = np.load(\"../../../Thesis-Graph-Data/NPY-graphs/liveJournal.npy\")\n",
    "\n",
    "# Add column of ones - weights\n",
    "G_edgelist = np.hstack((G_edgelist, np.ones((G_edgelist.shape[0], 1))))\n",
    "\n",
    "n = int(np.max(G_edgelist[:,1]) + 1) # Nr. vertices"
   ]
  },
  {
   "cell_type": "code",
   "execution_count": 46,
   "id": "fd2c4d7c",
   "metadata": {},
   "outputs": [
    {
     "name": "stdout",
     "output_type": "stream",
     "text": [
      "1.69 s ± 0 ns per loop (mean ± std. dev. of 1 run, 1 loop each)\n"
     ]
    }
   ],
   "source": [
    "%%timeit -n 1 -r 1\n",
    "\n",
    "Y = np.load(\"../../../Thesis-Graph-Data/Ys/liveJournal-Y50.npy\") # For Ligra fairness - ligra cannot preload this\n",
    "_ = DataPreprocess.graph_encoder_embed(G_edgelist, Y, n, Correlation = False, Laplacian = False)"
   ]
  },
  {
   "cell_type": "code",
   "execution_count": 47,
   "id": "2edbdcc0",
   "metadata": {},
   "outputs": [
    {
     "name": "stdout",
     "output_type": "stream",
     "text": [
      "Loading LiveJournal graph - 1GB\n"
     ]
    }
   ],
   "source": [
    "print(\"Loading LiveJournal graph - 1GB\")\n",
    "\n",
    "G_edgelist = np.load(\"../../../Thesis-Graph-Data/NPY-graphs/liveJournal.npy\")\n",
    "\n",
    "# Add column of ones - weights\n",
    "G_edgelist = np.hstack((G_edgelist, np.ones((G_edgelist.shape[0], 1))))\n",
    "\n",
    "n = int(np.max(G_edgelist[:,1]) + 1) # Nr. vertices"
   ]
  },
  {
   "cell_type": "code",
   "execution_count": 48,
   "id": "1f60733d",
   "metadata": {},
   "outputs": [
    {
     "name": "stdout",
     "output_type": "stream",
     "text": [
      "1.68 s ± 0 ns per loop (mean ± std. dev. of 1 run, 1 loop each)\n"
     ]
    }
   ],
   "source": [
    "%%timeit -n 1 -r 1\n",
    "\n",
    "Y = np.load(\"../../../Thesis-Graph-Data/Ys/liveJournal-Y50.npy\") # For Ligra fairness - ligra cannot preload this\n",
    "_ = DataPreprocess.graph_encoder_embed(G_edgelist, Y, n, Correlation = False, Laplacian = False)"
   ]
  },
  {
   "cell_type": "code",
   "execution_count": 49,
   "id": "45efdca0",
   "metadata": {},
   "outputs": [
    {
     "name": "stdout",
     "output_type": "stream",
     "text": [
      "Loading LiveJournal graph - 1GB\n"
     ]
    }
   ],
   "source": [
    "print(\"Loading LiveJournal graph - 1GB\")\n",
    "\n",
    "G_edgelist = np.load(\"../../../Thesis-Graph-Data/NPY-graphs/liveJournal.npy\")\n",
    "\n",
    "# Add column of ones - weights\n",
    "G_edgelist = np.hstack((G_edgelist, np.ones((G_edgelist.shape[0], 1))))\n",
    "\n",
    "n = int(np.max(G_edgelist[:,1]) + 1) # Nr. vertices"
   ]
  },
  {
   "cell_type": "code",
   "execution_count": 50,
   "id": "d53ccd9b",
   "metadata": {},
   "outputs": [
    {
     "name": "stdout",
     "output_type": "stream",
     "text": [
      "1.68 s ± 0 ns per loop (mean ± std. dev. of 1 run, 1 loop each)\n"
     ]
    }
   ],
   "source": [
    "%%timeit -n 1 -r 1\n",
    "\n",
    "Y = np.load(\"../../../Thesis-Graph-Data/Ys/liveJournal-Y50.npy\") # For Ligra fairness - ligra cannot preload this\n",
    "_ = DataPreprocess.graph_encoder_embed(G_edgelist, Y, n, Correlation = False, Laplacian = False)"
   ]
  },
  {
   "cell_type": "code",
   "execution_count": 51,
   "id": "ae76c683",
   "metadata": {},
   "outputs": [
    {
     "name": "stdout",
     "output_type": "stream",
     "text": [
      "Loading LiveJournal graph - 1GB\n"
     ]
    }
   ],
   "source": [
    "print(\"Loading LiveJournal graph - 1GB\")\n",
    "\n",
    "G_edgelist = np.load(\"../../../Thesis-Graph-Data/NPY-graphs/liveJournal.npy\")\n",
    "\n",
    "# Add column of ones - weights\n",
    "G_edgelist = np.hstack((G_edgelist, np.ones((G_edgelist.shape[0], 1))))\n",
    "\n",
    "n = int(np.max(G_edgelist[:,1]) + 1) # Nr. vertices"
   ]
  },
  {
   "cell_type": "code",
   "execution_count": 52,
   "id": "30a45b06",
   "metadata": {},
   "outputs": [
    {
     "name": "stdout",
     "output_type": "stream",
     "text": [
      "1.7 s ± 0 ns per loop (mean ± std. dev. of 1 run, 1 loop each)\n"
     ]
    }
   ],
   "source": [
    "%%timeit -n 1 -r 1\n",
    "\n",
    "Y = np.load(\"../../../Thesis-Graph-Data/Ys/liveJournal-Y50.npy\") # For Ligra fairness - ligra cannot preload this\n",
    "_ = DataPreprocess.graph_encoder_embed(G_edgelist, Y, n, Correlation = False, Laplacian = False)"
   ]
  },
  {
   "cell_type": "code",
   "execution_count": 53,
   "id": "799ffdd0",
   "metadata": {},
   "outputs": [
    {
     "name": "stdout",
     "output_type": "stream",
     "text": [
      "Loading LiveJournal graph - 1GB\n"
     ]
    }
   ],
   "source": [
    "print(\"Loading LiveJournal graph - 1GB\")\n",
    "\n",
    "G_edgelist = np.load(\"../../../Thesis-Graph-Data/NPY-graphs/liveJournal.npy\")\n",
    "\n",
    "# Add column of ones - weights\n",
    "G_edgelist = np.hstack((G_edgelist, np.ones((G_edgelist.shape[0], 1))))\n",
    "\n",
    "n = int(np.max(G_edgelist[:,1]) + 1) # Nr. vertices"
   ]
  },
  {
   "cell_type": "code",
   "execution_count": 54,
   "id": "3f003d22",
   "metadata": {},
   "outputs": [
    {
     "name": "stdout",
     "output_type": "stream",
     "text": [
      "1.68 s ± 0 ns per loop (mean ± std. dev. of 1 run, 1 loop each)\n"
     ]
    }
   ],
   "source": [
    "%%timeit -n 1 -r 1\n",
    "\n",
    "Y = np.load(\"../../../Thesis-Graph-Data/Ys/liveJournal-Y50.npy\") # For Ligra fairness - ligra cannot preload this\n",
    "_ = DataPreprocess.graph_encoder_embed(G_edgelist, Y, n, Correlation = False, Laplacian = False)"
   ]
  },
  {
   "cell_type": "code",
   "execution_count": 55,
   "id": "9084cc66",
   "metadata": {},
   "outputs": [
    {
     "name": "stdout",
     "output_type": "stream",
     "text": [
      "Loading LiveJournal graph - 1GB\n"
     ]
    }
   ],
   "source": [
    "print(\"Loading LiveJournal graph - 1GB\")\n",
    "\n",
    "G_edgelist = np.load(\"../../../Thesis-Graph-Data/NPY-graphs/liveJournal.npy\")\n",
    "\n",
    "# Add column of ones - weights\n",
    "G_edgelist = np.hstack((G_edgelist, np.ones((G_edgelist.shape[0], 1))))\n",
    "\n",
    "n = int(np.max(G_edgelist[:,1]) + 1) # Nr. vertices"
   ]
  },
  {
   "cell_type": "code",
   "execution_count": 56,
   "id": "50e9b639",
   "metadata": {},
   "outputs": [
    {
     "name": "stdout",
     "output_type": "stream",
     "text": [
      "1.68 s ± 0 ns per loop (mean ± std. dev. of 1 run, 1 loop each)\n"
     ]
    }
   ],
   "source": [
    "%%timeit -n 1 -r 1\n",
    "\n",
    "Y = np.load(\"../../../Thesis-Graph-Data/Ys/liveJournal-Y50.npy\") # For Ligra fairness - ligra cannot preload this\n",
    "_ = DataPreprocess.graph_encoder_embed(G_edgelist, Y, n, Correlation = False, Laplacian = False)"
   ]
  },
  {
   "cell_type": "code",
   "execution_count": 57,
   "id": "dedb93a4",
   "metadata": {},
   "outputs": [
    {
     "name": "stdout",
     "output_type": "stream",
     "text": [
      "Loading LiveJournal graph - 1GB\n"
     ]
    }
   ],
   "source": [
    "print(\"Loading LiveJournal graph - 1GB\")\n",
    "\n",
    "G_edgelist = np.load(\"../../../Thesis-Graph-Data/NPY-graphs/liveJournal.npy\")\n",
    "\n",
    "# Add column of ones - weights\n",
    "G_edgelist = np.hstack((G_edgelist, np.ones((G_edgelist.shape[0], 1))))\n",
    "\n",
    "n = int(np.max(G_edgelist[:,1]) + 1) # Nr. vertices"
   ]
  },
  {
   "cell_type": "code",
   "execution_count": 58,
   "id": "36d8b41a",
   "metadata": {},
   "outputs": [
    {
     "name": "stdout",
     "output_type": "stream",
     "text": [
      "1.68 s ± 0 ns per loop (mean ± std. dev. of 1 run, 1 loop each)\n"
     ]
    }
   ],
   "source": [
    "%%timeit -n 1 -r 1\n",
    "\n",
    "Y = np.load(\"../../../Thesis-Graph-Data/Ys/liveJournal-Y50.npy\") # For Ligra fairness - ligra cannot preload this\n",
    "_ = DataPreprocess.graph_encoder_embed(G_edgelist, Y, n, Correlation = False, Laplacian = False)"
   ]
  },
  {
   "cell_type": "markdown",
   "id": "4505f7a4",
   "metadata": {},
   "source": [
    "### Orkut"
   ]
  },
  {
   "cell_type": "code",
   "execution_count": 59,
   "id": "49d5cf7c",
   "metadata": {},
   "outputs": [
    {
     "name": "stdout",
     "output_type": "stream",
     "text": [
      "Loading Orkut graph - 1.8GB\n"
     ]
    }
   ],
   "source": [
    "print(\"Loading Orkut graph - 1.8GB\")\n",
    "\n",
    "G_edgelist = np.load(\"../../../Thesis-Graph-Data/NPY-graphs/orkut.npy\")\n",
    "\n",
    "# Add column of ones - weights\n",
    "G_edgelist = np.hstack((G_edgelist, np.ones((G_edgelist.shape[0], 1))))\n",
    "\n",
    "n = int(np.max(G_edgelist[:, 1]) + 1)  # Nr. vertices"
   ]
  },
  {
   "cell_type": "code",
   "execution_count": 60,
   "id": "ff71b84d",
   "metadata": {},
   "outputs": [
    {
     "name": "stdout",
     "output_type": "stream",
     "text": [
      "2.55 s ± 0 ns per loop (mean ± std. dev. of 1 run, 1 loop each)\n"
     ]
    }
   ],
   "source": [
    "%%timeit -r 1 -n 1\n",
    "\n",
    "Y = np.load(\"../../../Thesis-Graph-Data/Ys/orkut-Y50.npy\") # For Ligra fairness - ligra cannot preload this\n",
    "_ = DataPreprocess.graph_encoder_embed(G_edgelist, Y, n, Correlation = False, Laplacian = False)"
   ]
  },
  {
   "cell_type": "code",
   "execution_count": 61,
   "id": "cef34b28",
   "metadata": {},
   "outputs": [
    {
     "name": "stdout",
     "output_type": "stream",
     "text": [
      "Loading Orkut graph - 1.8GB\n"
     ]
    }
   ],
   "source": [
    "print(\"Loading Orkut graph - 1.8GB\")\n",
    "\n",
    "G_edgelist = np.load(\"../../../Thesis-Graph-Data/NPY-graphs/orkut.npy\")\n",
    "\n",
    "# Add column of ones - weights\n",
    "G_edgelist = np.hstack((G_edgelist, np.ones((G_edgelist.shape[0], 1))))\n",
    "\n",
    "n = int(np.max(G_edgelist[:, 1]) + 1)  # Nr. vertices"
   ]
  },
  {
   "cell_type": "code",
   "execution_count": 62,
   "id": "fe7506bd",
   "metadata": {},
   "outputs": [
    {
     "name": "stdout",
     "output_type": "stream",
     "text": [
      "2.55 s ± 0 ns per loop (mean ± std. dev. of 1 run, 1 loop each)\n"
     ]
    }
   ],
   "source": [
    "%%timeit -r 1 -n 1\n",
    "\n",
    "Y = np.load(\"../../../Thesis-Graph-Data/Ys/orkut-Y50.npy\") # For Ligra fairness - ligra cannot preload this\n",
    "_ = DataPreprocess.graph_encoder_embed(G_edgelist, Y, n, Correlation = False, Laplacian = False)"
   ]
  },
  {
   "cell_type": "code",
   "execution_count": 63,
   "id": "eda7b424",
   "metadata": {},
   "outputs": [
    {
     "name": "stdout",
     "output_type": "stream",
     "text": [
      "Loading Orkut graph - 1.8GB\n"
     ]
    }
   ],
   "source": [
    "print(\"Loading Orkut graph - 1.8GB\")\n",
    "\n",
    "G_edgelist = np.load(\"../../../Thesis-Graph-Data/NPY-graphs/orkut.npy\")\n",
    "\n",
    "# Add column of ones - weights\n",
    "G_edgelist = np.hstack((G_edgelist, np.ones((G_edgelist.shape[0], 1))))\n",
    "\n",
    "n = int(np.max(G_edgelist[:, 1]) + 1)  # Nr. vertices"
   ]
  },
  {
   "cell_type": "code",
   "execution_count": 64,
   "id": "9da3f07f",
   "metadata": {},
   "outputs": [
    {
     "name": "stdout",
     "output_type": "stream",
     "text": [
      "2.55 s ± 0 ns per loop (mean ± std. dev. of 1 run, 1 loop each)\n"
     ]
    }
   ],
   "source": [
    "%%timeit -r 1 -n 1\n",
    "\n",
    "Y = np.load(\"../../../Thesis-Graph-Data/Ys/orkut-Y50.npy\") # For Ligra fairness - ligra cannot preload this\n",
    "_ = DataPreprocess.graph_encoder_embed(G_edgelist, Y, n, Correlation = False, Laplacian = False)"
   ]
  },
  {
   "cell_type": "code",
   "execution_count": 65,
   "id": "3afdb8e7",
   "metadata": {},
   "outputs": [
    {
     "name": "stdout",
     "output_type": "stream",
     "text": [
      "Loading Orkut graph - 1.8GB\n"
     ]
    }
   ],
   "source": [
    "print(\"Loading Orkut graph - 1.8GB\")\n",
    "\n",
    "G_edgelist = np.load(\"../../../Thesis-Graph-Data/NPY-graphs/orkut.npy\")\n",
    "\n",
    "# Add column of ones - weights\n",
    "G_edgelist = np.hstack((G_edgelist, np.ones((G_edgelist.shape[0], 1))))\n",
    "\n",
    "n = int(np.max(G_edgelist[:, 1]) + 1)  # Nr. vertices"
   ]
  },
  {
   "cell_type": "code",
   "execution_count": 66,
   "id": "cfa115fe",
   "metadata": {},
   "outputs": [
    {
     "name": "stdout",
     "output_type": "stream",
     "text": [
      "2.55 s ± 0 ns per loop (mean ± std. dev. of 1 run, 1 loop each)\n"
     ]
    }
   ],
   "source": [
    "%%timeit -r 1 -n 1\n",
    "\n",
    "Y = np.load(\"../../../Thesis-Graph-Data/Ys/orkut-Y50.npy\") # For Ligra fairness - ligra cannot preload this\n",
    "_ = DataPreprocess.graph_encoder_embed(G_edgelist, Y, n, Correlation = False, Laplacian = False)"
   ]
  },
  {
   "cell_type": "code",
   "execution_count": 67,
   "id": "a0c61628",
   "metadata": {},
   "outputs": [
    {
     "name": "stdout",
     "output_type": "stream",
     "text": [
      "Loading Orkut graph - 1.8GB\n"
     ]
    }
   ],
   "source": [
    "print(\"Loading Orkut graph - 1.8GB\")\n",
    "\n",
    "G_edgelist = np.load(\"../../../Thesis-Graph-Data/NPY-graphs/orkut.npy\")\n",
    "\n",
    "# Add column of ones - weights\n",
    "G_edgelist = np.hstack((G_edgelist, np.ones((G_edgelist.shape[0], 1))))\n",
    "\n",
    "n = int(np.max(G_edgelist[:, 1]) + 1)  # Nr. vertices"
   ]
  },
  {
   "cell_type": "code",
   "execution_count": 68,
   "id": "da6d3db5",
   "metadata": {},
   "outputs": [
    {
     "name": "stdout",
     "output_type": "stream",
     "text": [
      "2.55 s ± 0 ns per loop (mean ± std. dev. of 1 run, 1 loop each)\n"
     ]
    }
   ],
   "source": [
    "%%timeit -r 1 -n 1\n",
    "\n",
    "Y = np.load(\"../../../Thesis-Graph-Data/Ys/orkut-Y50.npy\") # For Ligra fairness - ligra cannot preload this\n",
    "_ = DataPreprocess.graph_encoder_embed(G_edgelist, Y, n, Correlation = False, Laplacian = False)"
   ]
  },
  {
   "cell_type": "code",
   "execution_count": 69,
   "id": "b2bf59c6",
   "metadata": {},
   "outputs": [
    {
     "name": "stdout",
     "output_type": "stream",
     "text": [
      "Loading Orkut graph - 1.8GB\n"
     ]
    }
   ],
   "source": [
    "print(\"Loading Orkut graph - 1.8GB\")\n",
    "\n",
    "G_edgelist = np.load(\"../../../Thesis-Graph-Data/NPY-graphs/orkut.npy\")\n",
    "\n",
    "# Add column of ones - weights\n",
    "G_edgelist = np.hstack((G_edgelist, np.ones((G_edgelist.shape[0], 1))))\n",
    "\n",
    "n = int(np.max(G_edgelist[:, 1]) + 1)  # Nr. vertices"
   ]
  },
  {
   "cell_type": "code",
   "execution_count": 70,
   "id": "0aed5180",
   "metadata": {},
   "outputs": [
    {
     "name": "stdout",
     "output_type": "stream",
     "text": [
      "2.55 s ± 0 ns per loop (mean ± std. dev. of 1 run, 1 loop each)\n"
     ]
    }
   ],
   "source": [
    "%%timeit -r 1 -n 1\n",
    "\n",
    "Y = np.load(\"../../../Thesis-Graph-Data/Ys/orkut-Y50.npy\") # For Ligra fairness - ligra cannot preload this\n",
    "_ = DataPreprocess.graph_encoder_embed(G_edgelist, Y, n, Correlation = False, Laplacian = False)"
   ]
  },
  {
   "cell_type": "code",
   "execution_count": 71,
   "id": "06a004bd",
   "metadata": {},
   "outputs": [
    {
     "name": "stdout",
     "output_type": "stream",
     "text": [
      "Loading Orkut graph - 1.8GB\n"
     ]
    }
   ],
   "source": [
    "print(\"Loading Orkut graph - 1.8GB\")\n",
    "\n",
    "G_edgelist = np.load(\"../../../Thesis-Graph-Data/NPY-graphs/orkut.npy\")\n",
    "\n",
    "# Add column of ones - weights\n",
    "G_edgelist = np.hstack((G_edgelist, np.ones((G_edgelist.shape[0], 1))))\n",
    "\n",
    "n = int(np.max(G_edgelist[:, 1]) + 1)  # Nr. vertices"
   ]
  },
  {
   "cell_type": "code",
   "execution_count": 72,
   "id": "7601a1db",
   "metadata": {},
   "outputs": [
    {
     "name": "stdout",
     "output_type": "stream",
     "text": [
      "2.55 s ± 0 ns per loop (mean ± std. dev. of 1 run, 1 loop each)\n"
     ]
    }
   ],
   "source": [
    "%%timeit -r 1 -n 1\n",
    "\n",
    "Y = np.load(\"../../../Thesis-Graph-Data/Ys/orkut-Y50.npy\") # For Ligra fairness - ligra cannot preload this\n",
    "_ = DataPreprocess.graph_encoder_embed(G_edgelist, Y, n, Correlation = False, Laplacian = False)"
   ]
  },
  {
   "cell_type": "markdown",
   "id": "06a99167",
   "metadata": {},
   "source": [
    "### Orkut-Groups 5.1GB"
   ]
  },
  {
   "cell_type": "code",
   "execution_count": 73,
   "id": "150f668a",
   "metadata": {},
   "outputs": [
    {
     "name": "stdout",
     "output_type": "stream",
     "text": [
      "Loading Orkut Groups graph - 5.1GB\n"
     ]
    }
   ],
   "source": [
    "print(\"Loading Orkut Groups graph - 5.1GB\")\n",
    "\n",
    "G_edgelist = np.load(\"../../../Thesis-Graph-Data/NPY-graphs/orkut-groups.npy\")\n",
    "\n",
    "# Add column of ones - weights\n",
    "G_edgelist = np.hstack((G_edgelist, np.ones((G_edgelist.shape[0], 1))))\n",
    "\n",
    "n = int(np.max(G_edgelist[:, 1]) + 1)  # Nr. vertices"
   ]
  },
  {
   "cell_type": "code",
   "execution_count": 74,
   "id": "dc96c55f",
   "metadata": {},
   "outputs": [
    {
     "name": "stdout",
     "output_type": "stream",
     "text": [
      "4.92 s ± 0 ns per loop (mean ± std. dev. of 1 run, 1 loop each)\n"
     ]
    }
   ],
   "source": [
    "%%timeit -r 1 -n 1\n",
    "\n",
    "Y = np.load(\"../../../Thesis-Graph-Data/Ys/orkut-groups-Y40.npy\") # For Ligra fairness - ligra cannot preload this\n",
    "_ = DataPreprocess.graph_encoder_embed(G_edgelist, Y, n, Correlation = False, Laplacian = False)"
   ]
  },
  {
   "cell_type": "code",
   "execution_count": 75,
   "id": "a578f5f7",
   "metadata": {},
   "outputs": [
    {
     "name": "stdout",
     "output_type": "stream",
     "text": [
      "Loading Orkut Groups graph - 5.1GB\n"
     ]
    }
   ],
   "source": [
    "print(\"Loading Orkut Groups graph - 5.1GB\")\n",
    "\n",
    "G_edgelist = np.load(\"../../../Thesis-Graph-Data/NPY-graphs/orkut-groups.npy\")\n",
    "\n",
    "# Add column of ones - weights\n",
    "G_edgelist = np.hstack((G_edgelist, np.ones((G_edgelist.shape[0], 1))))\n",
    "\n",
    "n = int(np.max(G_edgelist[:, 1]) + 1)  # Nr. vertices"
   ]
  },
  {
   "cell_type": "code",
   "execution_count": 76,
   "id": "8e7b5303",
   "metadata": {},
   "outputs": [
    {
     "name": "stdout",
     "output_type": "stream",
     "text": [
      "4.92 s ± 0 ns per loop (mean ± std. dev. of 1 run, 1 loop each)\n"
     ]
    }
   ],
   "source": [
    "%%timeit -r 1 -n 1\n",
    "\n",
    "Y = np.load(\"../../../Thesis-Graph-Data/Ys/orkut-groups-Y40.npy\") # For Ligra fairness - ligra cannot preload this\n",
    "_ = DataPreprocess.graph_encoder_embed(G_edgelist, Y, n, Correlation = False, Laplacian = False)"
   ]
  },
  {
   "cell_type": "code",
   "execution_count": 77,
   "id": "2a9ea55b",
   "metadata": {},
   "outputs": [
    {
     "name": "stdout",
     "output_type": "stream",
     "text": [
      "Loading Orkut Groups graph - 5.1GB\n"
     ]
    }
   ],
   "source": [
    "print(\"Loading Orkut Groups graph - 5.1GB\")\n",
    "\n",
    "G_edgelist = np.load(\"../../../Thesis-Graph-Data/NPY-graphs/orkut-groups.npy\")\n",
    "\n",
    "# Add column of ones - weights\n",
    "G_edgelist = np.hstack((G_edgelist, np.ones((G_edgelist.shape[0], 1))))\n",
    "\n",
    "n = int(np.max(G_edgelist[:, 1]) + 1)  # Nr. vertices"
   ]
  },
  {
   "cell_type": "code",
   "execution_count": 78,
   "id": "bd844819",
   "metadata": {},
   "outputs": [
    {
     "name": "stdout",
     "output_type": "stream",
     "text": [
      "4.92 s ± 0 ns per loop (mean ± std. dev. of 1 run, 1 loop each)\n"
     ]
    }
   ],
   "source": [
    "%%timeit -r 1 -n 1\n",
    "\n",
    "Y = np.load(\"../../../Thesis-Graph-Data/Ys/orkut-groups-Y40.npy\") # For Ligra fairness - ligra cannot preload this\n",
    "_ = DataPreprocess.graph_encoder_embed(G_edgelist, Y, n, Correlation = False, Laplacian = False)"
   ]
  },
  {
   "cell_type": "code",
   "execution_count": 79,
   "id": "c2ba3c43",
   "metadata": {},
   "outputs": [
    {
     "name": "stdout",
     "output_type": "stream",
     "text": [
      "Loading Orkut Groups graph - 5.1GB\n"
     ]
    }
   ],
   "source": [
    "print(\"Loading Orkut Groups graph - 5.1GB\")\n",
    "\n",
    "G_edgelist = np.load(\"../../../Thesis-Graph-Data/NPY-graphs/orkut-groups.npy\")\n",
    "\n",
    "# Add column of ones - weights\n",
    "G_edgelist = np.hstack((G_edgelist, np.ones((G_edgelist.shape[0], 1))))\n",
    "\n",
    "n = int(np.max(G_edgelist[:, 1]) + 1)  # Nr. vertices"
   ]
  },
  {
   "cell_type": "code",
   "execution_count": 80,
   "id": "dab569ee",
   "metadata": {},
   "outputs": [
    {
     "name": "stdout",
     "output_type": "stream",
     "text": [
      "4.93 s ± 0 ns per loop (mean ± std. dev. of 1 run, 1 loop each)\n"
     ]
    }
   ],
   "source": [
    "%%timeit -r 1 -n 1\n",
    "\n",
    "Y = np.load(\"../../../Thesis-Graph-Data/Ys/orkut-groups-Y40.npy\") # For Ligra fairness - ligra cannot preload this\n",
    "_ = DataPreprocess.graph_encoder_embed(G_edgelist, Y, n, Correlation = False, Laplacian = False)"
   ]
  },
  {
   "cell_type": "code",
   "execution_count": 81,
   "id": "737a4768",
   "metadata": {},
   "outputs": [
    {
     "name": "stdout",
     "output_type": "stream",
     "text": [
      "Loading Orkut Groups graph - 5.1GB\n"
     ]
    }
   ],
   "source": [
    "print(\"Loading Orkut Groups graph - 5.1GB\")\n",
    "\n",
    "G_edgelist = np.load(\"../../../Thesis-Graph-Data/NPY-graphs/orkut-groups.npy\")\n",
    "\n",
    "# Add column of ones - weights\n",
    "G_edgelist = np.hstack((G_edgelist, np.ones((G_edgelist.shape[0], 1))))\n",
    "\n",
    "n = int(np.max(G_edgelist[:, 1]) + 1)  # Nr. vertices"
   ]
  },
  {
   "cell_type": "code",
   "execution_count": 82,
   "id": "b886c71c",
   "metadata": {},
   "outputs": [
    {
     "name": "stdout",
     "output_type": "stream",
     "text": [
      "4.92 s ± 0 ns per loop (mean ± std. dev. of 1 run, 1 loop each)\n"
     ]
    }
   ],
   "source": [
    "%%timeit -r 1 -n 1\n",
    "\n",
    "Y = np.load(\"../../../Thesis-Graph-Data/Ys/orkut-groups-Y40.npy\") # For Ligra fairness - ligra cannot preload this\n",
    "_ = DataPreprocess.graph_encoder_embed(G_edgelist, Y, n, Correlation = False, Laplacian = False)"
   ]
  },
  {
   "cell_type": "code",
   "execution_count": 83,
   "id": "87941064",
   "metadata": {},
   "outputs": [
    {
     "name": "stdout",
     "output_type": "stream",
     "text": [
      "Loading Orkut Groups graph - 5.1GB\n"
     ]
    }
   ],
   "source": [
    "print(\"Loading Orkut Groups graph - 5.1GB\")\n",
    "\n",
    "G_edgelist = np.load(\"../../../Thesis-Graph-Data/NPY-graphs/orkut-groups.npy\")\n",
    "\n",
    "# Add column of ones - weights\n",
    "G_edgelist = np.hstack((G_edgelist, np.ones((G_edgelist.shape[0], 1))))\n",
    "\n",
    "n = int(np.max(G_edgelist[:, 1]) + 1)  # Nr. vertices"
   ]
  },
  {
   "cell_type": "code",
   "execution_count": 84,
   "id": "d98a9f93",
   "metadata": {},
   "outputs": [
    {
     "name": "stdout",
     "output_type": "stream",
     "text": [
      "4.92 s ± 0 ns per loop (mean ± std. dev. of 1 run, 1 loop each)\n"
     ]
    }
   ],
   "source": [
    "%%timeit -r 1 -n 1\n",
    "\n",
    "Y = np.load(\"../../../Thesis-Graph-Data/Ys/orkut-groups-Y40.npy\") # For Ligra fairness - ligra cannot preload this\n",
    "_ = DataPreprocess.graph_encoder_embed(G_edgelist, Y, n, Correlation = False, Laplacian = False)"
   ]
  },
  {
   "cell_type": "code",
   "execution_count": 85,
   "id": "e04d691a",
   "metadata": {},
   "outputs": [
    {
     "name": "stdout",
     "output_type": "stream",
     "text": [
      "Loading Orkut Groups graph - 5.1GB\n"
     ]
    }
   ],
   "source": [
    "print(\"Loading Orkut Groups graph - 5.1GB\")\n",
    "\n",
    "G_edgelist = np.load(\"../../../Thesis-Graph-Data/NPY-graphs/orkut-groups.npy\")\n",
    "\n",
    "# Add column of ones - weights\n",
    "G_edgelist = np.hstack((G_edgelist, np.ones((G_edgelist.shape[0], 1))))\n",
    "\n",
    "n = int(np.max(G_edgelist[:, 1]) + 1)  # Nr. vertices"
   ]
  },
  {
   "cell_type": "code",
   "execution_count": 86,
   "id": "48f9c3a5",
   "metadata": {},
   "outputs": [
    {
     "name": "stdout",
     "output_type": "stream",
     "text": [
      "4.93 s ± 0 ns per loop (mean ± std. dev. of 1 run, 1 loop each)\n"
     ]
    }
   ],
   "source": [
    "%%timeit -r 1 -n 1\n",
    "\n",
    "Y = np.load(\"../../../Thesis-Graph-Data/Ys/orkut-groups-Y40.npy\") # For Ligra fairness - ligra cannot preload this\n",
    "_ = DataPreprocess.graph_encoder_embed(G_edgelist, Y, n, Correlation = False, Laplacian = False)"
   ]
  },
  {
   "cell_type": "markdown",
   "id": "9f756b50",
   "metadata": {},
   "source": [
    "### Friendster 30GB"
   ]
  },
  {
   "cell_type": "code",
   "execution_count": 87,
   "id": "624ccbd9",
   "metadata": {},
   "outputs": [
    {
     "name": "stdout",
     "output_type": "stream",
     "text": [
      "Loading Friendster graph - 31GB\n"
     ]
    }
   ],
   "source": [
    "print(\"Loading Friendster graph - 31GB\")\n",
    "\n",
    "G_edgelist = np.load(\"../../../Thesis-Graph-Data/NPY-graphs/friendster-0indexed-colswapped.npy\")\n",
    "\n",
    "# Add column of ones - weights\n",
    "G_edgelist = np.hstack((G_edgelist, np.ones((G_edgelist.shape[0], 1))))\n",
    "\n",
    "n = int(np.max(G_edgelist[:, 1]) + 1)  # Nr. vertices"
   ]
  },
  {
   "cell_type": "code",
   "execution_count": 88,
   "id": "f474978b",
   "metadata": {},
   "outputs": [],
   "source": [
    "# set_num_threads(24)"
   ]
  },
  {
   "cell_type": "code",
   "execution_count": 89,
   "id": "3f5ee0b7",
   "metadata": {},
   "outputs": [
    {
     "data": {
      "text/plain": [
       "48"
      ]
     },
     "execution_count": 89,
     "metadata": {},
     "output_type": "execute_result"
    }
   ],
   "source": [
    "get_num_threads()"
   ]
  },
  {
   "cell_type": "code",
   "execution_count": 90,
   "id": "e64307c5",
   "metadata": {
    "scrolled": true
   },
   "outputs": [
    {
     "name": "stdout",
     "output_type": "stream",
     "text": [
      "56.4 s ± 0 ns per loop (mean ± std. dev. of 1 run, 1 loop each)\n"
     ]
    }
   ],
   "source": [
    "%%timeit -n 1 -r 1\n",
    "\n",
    "Y = np.load(\"../../../Thesis-Graph-Data/Ys/friendster-Y50.npy\") # For Ligra fairness - ligra cannot preload this\n",
    "_ = DataPreprocess.graph_encoder_embed(G_edgelist, Y, n, Correlation = False, Laplacian = False)"
   ]
  },
  {
   "cell_type": "code",
   "execution_count": 91,
   "id": "ef498d28",
   "metadata": {},
   "outputs": [
    {
     "name": "stdout",
     "output_type": "stream",
     "text": [
      "Loading Friendster graph - 31GB\n"
     ]
    }
   ],
   "source": [
    "print(\"Loading Friendster graph - 31GB\")\n",
    "\n",
    "G_edgelist = np.load(\"../../../Thesis-Graph-Data/NPY-graphs/friendster-0indexed-colswapped.npy\")\n",
    "\n",
    "# Add column of ones - weights\n",
    "G_edgelist = np.hstack((G_edgelist, np.ones((G_edgelist.shape[0], 1))))\n",
    "\n",
    "n = int(np.max(G_edgelist[:, 1]) + 1)  # Nr. vertices"
   ]
  },
  {
   "cell_type": "code",
   "execution_count": 92,
   "id": "cbb1de41",
   "metadata": {},
   "outputs": [
    {
     "name": "stdout",
     "output_type": "stream",
     "text": [
      "56.4 s ± 0 ns per loop (mean ± std. dev. of 1 run, 1 loop each)\n"
     ]
    }
   ],
   "source": [
    "%%timeit -n 1 -r 1\n",
    "\n",
    "Y = np.load(\"../../../Thesis-Graph-Data/Ys/friendster-Y50.npy\") # For Ligra fairness - ligra cannot preload this\n",
    "_ = DataPreprocess.graph_encoder_embed(G_edgelist, Y, n, Correlation = False, Laplacian = False)"
   ]
  },
  {
   "cell_type": "code",
   "execution_count": 93,
   "id": "28b4ad50",
   "metadata": {},
   "outputs": [
    {
     "name": "stdout",
     "output_type": "stream",
     "text": [
      "Loading Friendster graph - 31GB\n"
     ]
    }
   ],
   "source": [
    "print(\"Loading Friendster graph - 31GB\")\n",
    "\n",
    "G_edgelist = np.load(\"../../../Thesis-Graph-Data/NPY-graphs/friendster-0indexed-colswapped.npy\")\n",
    "\n",
    "# Add column of ones - weights\n",
    "G_edgelist = np.hstack((G_edgelist, np.ones((G_edgelist.shape[0], 1))))\n",
    "\n",
    "n = int(np.max(G_edgelist[:, 1]) + 1)  # Nr. vertices"
   ]
  },
  {
   "cell_type": "code",
   "execution_count": 94,
   "id": "690c6749",
   "metadata": {},
   "outputs": [
    {
     "name": "stdout",
     "output_type": "stream",
     "text": [
      "56.4 s ± 0 ns per loop (mean ± std. dev. of 1 run, 1 loop each)\n"
     ]
    }
   ],
   "source": [
    "%%timeit -n 1 -r 1\n",
    "\n",
    "Y = np.load(\"../../../Thesis-Graph-Data/Ys/friendster-Y50.npy\") # For Ligra fairness - ligra cannot preload this\n",
    "_ = DataPreprocess.graph_encoder_embed(G_edgelist, Y, n, Correlation = False, Laplacian = False)"
   ]
  },
  {
   "cell_type": "code",
   "execution_count": 95,
   "id": "67e88d82",
   "metadata": {},
   "outputs": [
    {
     "name": "stdout",
     "output_type": "stream",
     "text": [
      "Loading Friendster graph - 31GB\n"
     ]
    }
   ],
   "source": [
    "print(\"Loading Friendster graph - 31GB\")\n",
    "\n",
    "G_edgelist = np.load(\"../../../Thesis-Graph-Data/NPY-graphs/friendster-0indexed-colswapped.npy\")\n",
    "\n",
    "# Add column of ones - weights\n",
    "G_edgelist = np.hstack((G_edgelist, np.ones((G_edgelist.shape[0], 1))))\n",
    "\n",
    "n = int(np.max(G_edgelist[:, 1]) + 1)  # Nr. vertices"
   ]
  },
  {
   "cell_type": "code",
   "execution_count": 96,
   "id": "19ec6dbf",
   "metadata": {},
   "outputs": [
    {
     "name": "stdout",
     "output_type": "stream",
     "text": [
      "56.3 s ± 0 ns per loop (mean ± std. dev. of 1 run, 1 loop each)\n"
     ]
    }
   ],
   "source": [
    "%%timeit -n 1 -r 1\n",
    "\n",
    "Y = np.load(\"../../../Thesis-Graph-Data/Ys/friendster-Y50.npy\") # For Ligra fairness - ligra cannot preload this\n",
    "_ = DataPreprocess.graph_encoder_embed(G_edgelist, Y, n, Correlation = False, Laplacian = False)"
   ]
  },
  {
   "cell_type": "code",
   "execution_count": 97,
   "id": "18fdb911",
   "metadata": {},
   "outputs": [
    {
     "name": "stdout",
     "output_type": "stream",
     "text": [
      "Loading Friendster graph - 31GB\n"
     ]
    }
   ],
   "source": [
    "print(\"Loading Friendster graph - 31GB\")\n",
    "\n",
    "G_edgelist = np.load(\"../../../Thesis-Graph-Data/NPY-graphs/friendster-0indexed-colswapped.npy\")\n",
    "\n",
    "# Add column of ones - weights\n",
    "G_edgelist = np.hstack((G_edgelist, np.ones((G_edgelist.shape[0], 1))))\n",
    "\n",
    "n = int(np.max(G_edgelist[:, 1]) + 1)  # Nr. vertices"
   ]
  },
  {
   "cell_type": "code",
   "execution_count": null,
   "id": "7450ebdc",
   "metadata": {},
   "outputs": [],
   "source": [
    "%%timeit -n 1 -r 1\n",
    "\n",
    "Y = np.load(\"../../../Thesis-Graph-Data/Ys/friendster-Y50.npy\") # For Ligra fairness - ligra cannot preload this\n",
    "_ = DataPreprocess.graph_encoder_embed(G_edgelist, Y, n, Correlation = False, Laplacian = False)"
   ]
  },
  {
   "cell_type": "code",
   "execution_count": null,
   "id": "0b11f028",
   "metadata": {},
   "outputs": [],
   "source": [
    "print(\"Loading Friendster graph - 31GB\")\n",
    "\n",
    "G_edgelist = np.load(\"../../../Thesis-Graph-Data/NPY-graphs/friendster-0indexed-colswapped.npy\")\n",
    "\n",
    "# Add column of ones - weights\n",
    "G_edgelist = np.hstack((G_edgelist, np.ones((G_edgelist.shape[0], 1))))\n",
    "\n",
    "n = int(np.max(G_edgelist[:, 1]) + 1)  # Nr. vertices"
   ]
  },
  {
   "cell_type": "code",
   "execution_count": null,
   "id": "3094805b",
   "metadata": {},
   "outputs": [],
   "source": [
    "%%timeit -n 1 -r 1\n",
    "\n",
    "Y = np.load(\"../../../Thesis-Graph-Data/Ys/friendster-Y50.npy\") # For Ligra fairness - ligra cannot preload this\n",
    "_ = DataPreprocess.graph_encoder_embed(G_edgelist, Y, n, Correlation = False, Laplacian = False)"
   ]
  },
  {
   "cell_type": "code",
   "execution_count": null,
   "id": "6d07f25e",
   "metadata": {},
   "outputs": [],
   "source": [
    "print(\"Loading Friendster graph - 31GB\")\n",
    "\n",
    "G_edgelist = np.load(\"../../../Thesis-Graph-Data/NPY-graphs/friendster-0indexed-colswapped.npy\")\n",
    "\n",
    "# Add column of ones - weights\n",
    "G_edgelist = np.hstack((G_edgelist, np.ones((G_edgelist.shape[0], 1))))\n",
    "\n",
    "n = int(np.max(G_edgelist[:, 1]) + 1)  # Nr. vertices"
   ]
  },
  {
   "cell_type": "code",
   "execution_count": null,
   "id": "a269c236",
   "metadata": {},
   "outputs": [],
   "source": [
    "%%timeit -n 1 -r 1\n",
    "\n",
    "Y = np.load(\"../../../Thesis-Graph-Data/Ys/friendster-Y50.npy\") # For Ligra fairness - ligra cannot preload this\n",
    "_ = DataPreprocess.graph_encoder_embed(G_edgelist, Y, n, Correlation = False, Laplacian = False)"
   ]
  },
  {
   "cell_type": "markdown",
   "id": "3ddbd291",
   "metadata": {},
   "source": [
    "# Laplacian (also covers weighed)\n",
    "\n",
    "<font color=\"orange\">G_edgelist is edited, so repeated runs with timeit will result in divide-by-0 error</font>"
   ]
  },
  {
   "cell_type": "markdown",
   "id": "cfbfdb45",
   "metadata": {},
   "source": [
    "## GEE Pure & Numba Serial\n",
    "\n",
    "Make sure to checkout Main, not numba-parallel (makes Numba serial)\n",
    "\n",
    "Make corresponding changes to code (`@jit`) and then rerun all below to get Laplacian results"
   ]
  },
  {
   "cell_type": "markdown",
   "id": "1cd0526a",
   "metadata": {},
   "source": [
    "### Twitch"
   ]
  },
  {
   "cell_type": "code",
   "execution_count": null,
   "id": "eb88fae2",
   "metadata": {},
   "outputs": [],
   "source": [
    "import numpy as np\n",
    "import DataPreprocess"
   ]
  },
  {
   "cell_type": "code",
   "execution_count": null,
   "id": "77a94e2e",
   "metadata": {},
   "outputs": [],
   "source": [
    "print(\"Loading Twitch graph\")\n",
    "\n",
    "G_edgelist = np.load(\"../../../Thesis-Graph-Data/NPY-graphs/twitch.npy\")\n",
    "# G_edgelist = np.loadtxt(\"../../../Thesis-Graph-Data/twitch-SNAP-bidir-manually\", delimiter=\" \", dtype=np.int32)\n",
    "\n",
    "G_edgelist = G_edgelist[G_edgelist[:, 0].argsort()] # Sort by first column\n",
    "\n",
    "# Add column of ones - weights\n",
    "G_edgelist = np.hstack((G_edgelist, np.ones((G_edgelist.shape[0], 1))))#.astype(np.int32)\n",
    "# Make sure G_edgelist isn't restricted to int-s\n",
    "\n",
    "n = int(np.max(G_edgelist[:,1]) + 1) # Nr. vertices"
   ]
  },
  {
   "cell_type": "code",
   "execution_count": null,
   "id": "b043426f",
   "metadata": {},
   "outputs": [],
   "source": [
    "%%timeit -n 1 -r 1\n",
    "\n",
    "\n",
    "Y = np.load(\"../../../Thesis-Graph-Data/Ys/twitch-Y20.npy\") # For Ligra fairness - ligra cannot preload this\n",
    "_ = DataPreprocess.graph_encoder_embed(G_edgelist.astype(np.float64), Y, n, Correlation = False, Laplacian = True)"
   ]
  },
  {
   "cell_type": "code",
   "execution_count": null,
   "id": "e0f947f0",
   "metadata": {},
   "outputs": [],
   "source": [
    "print(\"Loading Twitch graph\")\n",
    "\n",
    "G_edgelist = np.load(\"../../../Thesis-Graph-Data/NPY-graphs/twitch.npy\")\n",
    "# G_edgelist = np.loadtxt(\"../../../Thesis-Graph-Data/twitch-SNAP-bidir-manually\", delimiter=\" \", dtype=np.int32)\n",
    "\n",
    "G_edgelist = G_edgelist[G_edgelist[:, 0].argsort()] # Sort by first column\n",
    "\n",
    "# Add column of ones - weights\n",
    "G_edgelist = np.hstack((G_edgelist, np.ones((G_edgelist.shape[0], 1))))#.astype(np.int32)\n",
    "# Make sure G_edgelist isn't restricted to int-s\n",
    "\n",
    "n = int(np.max(G_edgelist[:,1]) + 1) # Nr. vertices"
   ]
  },
  {
   "cell_type": "code",
   "execution_count": null,
   "id": "7cd75e81",
   "metadata": {},
   "outputs": [],
   "source": [
    "%%timeit -n 1 -r 1\n",
    "\n",
    "\n",
    "Y = np.load(\"../../../Thesis-Graph-Data/Ys/twitch-Y20.npy\") # For Ligra fairness - ligra cannot preload this\n",
    "_ = DataPreprocess.graph_encoder_embed(G_edgelist.astype(np.float64), Y, n, Correlation = False, Laplacian = True)"
   ]
  },
  {
   "cell_type": "code",
   "execution_count": null,
   "id": "34d137e2",
   "metadata": {},
   "outputs": [],
   "source": [
    "print(\"Loading Twitch graph\")\n",
    "\n",
    "G_edgelist = np.load(\"../../../Thesis-Graph-Data/NPY-graphs/twitch.npy\")\n",
    "# G_edgelist = np.loadtxt(\"../../../Thesis-Graph-Data/twitch-SNAP-bidir-manually\", delimiter=\" \", dtype=np.int32)\n",
    "\n",
    "G_edgelist = G_edgelist[G_edgelist[:, 0].argsort()] # Sort by first column\n",
    "\n",
    "# Add column of ones - weights\n",
    "G_edgelist = np.hstack((G_edgelist, np.ones((G_edgelist.shape[0], 1))))#.astype(np.int32)\n",
    "# Make sure G_edgelist isn't restricted to int-s\n",
    "\n",
    "n = int(np.max(G_edgelist[:,1]) + 1) # Nr. vertices"
   ]
  },
  {
   "cell_type": "code",
   "execution_count": null,
   "id": "3b911789",
   "metadata": {},
   "outputs": [],
   "source": [
    "%%timeit -n 1 -r 1\n",
    "\n",
    "\n",
    "Y = np.load(\"../../../Thesis-Graph-Data/Ys/twitch-Y20.npy\") # For Ligra fairness - ligra cannot preload this\n",
    "_ = DataPreprocess.graph_encoder_embed(G_edgelist.astype(np.float64), Y, n, Correlation = False, Laplacian = True)"
   ]
  },
  {
   "cell_type": "code",
   "execution_count": null,
   "id": "1d888c7d",
   "metadata": {},
   "outputs": [],
   "source": [
    "print(\"Loading Twitch graph\")\n",
    "\n",
    "G_edgelist = np.load(\"../../../Thesis-Graph-Data/NPY-graphs/twitch.npy\")\n",
    "# G_edgelist = np.loadtxt(\"../../../Thesis-Graph-Data/twitch-SNAP-bidir-manually\", delimiter=\" \", dtype=np.int32)\n",
    "\n",
    "G_edgelist = G_edgelist[G_edgelist[:, 0].argsort()] # Sort by first column\n",
    "\n",
    "# Add column of ones - weights\n",
    "G_edgelist = np.hstack((G_edgelist, np.ones((G_edgelist.shape[0], 1))))#.astype(np.int32)\n",
    "# Make sure G_edgelist isn't restricted to int-s\n",
    "\n",
    "n = int(np.max(G_edgelist[:,1]) + 1) # Nr. vertices"
   ]
  },
  {
   "cell_type": "code",
   "execution_count": null,
   "id": "07df9a81",
   "metadata": {},
   "outputs": [],
   "source": [
    "%%timeit -n 1 -r 1\n",
    "\n",
    "\n",
    "Y = np.load(\"../../../Thesis-Graph-Data/Ys/twitch-Y20.npy\") # For Ligra fairness - ligra cannot preload this\n",
    "_ = DataPreprocess.graph_encoder_embed(G_edgelist.astype(np.float64), Y, n, Correlation = False, Laplacian = True)"
   ]
  },
  {
   "cell_type": "code",
   "execution_count": null,
   "id": "9525fa7e",
   "metadata": {},
   "outputs": [],
   "source": [
    "print(\"Loading Twitch graph\")\n",
    "\n",
    "G_edgelist = np.load(\"../../../Thesis-Graph-Data/NPY-graphs/twitch.npy\")\n",
    "# G_edgelist = np.loadtxt(\"../../../Thesis-Graph-Data/twitch-SNAP-bidir-manually\", delimiter=\" \", dtype=np.int32)\n",
    "\n",
    "G_edgelist = G_edgelist[G_edgelist[:, 0].argsort()] # Sort by first column\n",
    "\n",
    "# Add column of ones - weights\n",
    "G_edgelist = np.hstack((G_edgelist, np.ones((G_edgelist.shape[0], 1))))#.astype(np.int32)\n",
    "# Make sure G_edgelist isn't restricted to int-s\n",
    "\n",
    "n = int(np.max(G_edgelist[:,1]) + 1) # Nr. vertices"
   ]
  },
  {
   "cell_type": "code",
   "execution_count": null,
   "id": "65535294",
   "metadata": {},
   "outputs": [],
   "source": [
    "%%timeit -n 1 -r 1\n",
    "\n",
    "\n",
    "Y = np.load(\"../../../Thesis-Graph-Data/Ys/twitch-Y20.npy\") # For Ligra fairness - ligra cannot preload this\n",
    "_ = DataPreprocess.graph_encoder_embed(G_edgelist.astype(np.float64), Y, n, Correlation = False, Laplacian = True)"
   ]
  },
  {
   "cell_type": "code",
   "execution_count": null,
   "id": "5d97605e",
   "metadata": {},
   "outputs": [],
   "source": [
    "print(\"Loading Twitch graph\")\n",
    "\n",
    "G_edgelist = np.load(\"../../../Thesis-Graph-Data/NPY-graphs/twitch.npy\")\n",
    "# G_edgelist = np.loadtxt(\"../../../Thesis-Graph-Data/twitch-SNAP-bidir-manually\", delimiter=\" \", dtype=np.int32)\n",
    "\n",
    "G_edgelist = G_edgelist[G_edgelist[:, 0].argsort()] # Sort by first column\n",
    "\n",
    "# Add column of ones - weights\n",
    "G_edgelist = np.hstack((G_edgelist, np.ones((G_edgelist.shape[0], 1))))#.astype(np.int32)\n",
    "# Make sure G_edgelist isn't restricted to int-s\n",
    "\n",
    "n = int(np.max(G_edgelist[:,1]) + 1) # Nr. vertices"
   ]
  },
  {
   "cell_type": "code",
   "execution_count": null,
   "id": "2749cc65",
   "metadata": {},
   "outputs": [],
   "source": [
    "%%timeit -n 1 -r 1\n",
    "\n",
    "\n",
    "Y = np.load(\"../../../Thesis-Graph-Data/Ys/twitch-Y20.npy\") # For Ligra fairness - ligra cannot preload this\n",
    "_ = DataPreprocess.graph_encoder_embed(G_edgelist.astype(np.float64), Y, n, Correlation = False, Laplacian = True)"
   ]
  },
  {
   "cell_type": "code",
   "execution_count": null,
   "id": "b22977b1",
   "metadata": {},
   "outputs": [],
   "source": [
    "print(\"Loading Twitch graph\")\n",
    "\n",
    "G_edgelist = np.load(\"../../../Thesis-Graph-Data/NPY-graphs/twitch.npy\")\n",
    "# G_edgelist = np.loadtxt(\"../../../Thesis-Graph-Data/twitch-SNAP-bidir-manually\", delimiter=\" \", dtype=np.int32)\n",
    "\n",
    "G_edgelist = G_edgelist[G_edgelist[:, 0].argsort()] # Sort by first column\n",
    "\n",
    "# Add column of ones - weights\n",
    "G_edgelist = np.hstack((G_edgelist, np.ones((G_edgelist.shape[0], 1))))#.astype(np.int32)\n",
    "# Make sure G_edgelist isn't restricted to int-s\n",
    "\n",
    "n = int(np.max(G_edgelist[:,1]) + 1) # Nr. vertices"
   ]
  },
  {
   "cell_type": "code",
   "execution_count": null,
   "id": "fb34f67c",
   "metadata": {},
   "outputs": [],
   "source": [
    "%%timeit -n 1 -r 1\n",
    "\n",
    "\n",
    "Y = np.load(\"../../../Thesis-Graph-Data/Ys/twitch-Y20.npy\") # For Ligra fairness - ligra cannot preload this\n",
    "_ = DataPreprocess.graph_encoder_embed(G_edgelist.astype(np.float64), Y, n, Correlation = False, Laplacian = True)"
   ]
  },
  {
   "cell_type": "markdown",
   "id": "9a89f57d",
   "metadata": {},
   "source": [
    "### Pokec"
   ]
  },
  {
   "cell_type": "code",
   "execution_count": null,
   "id": "71517269",
   "metadata": {},
   "outputs": [],
   "source": [
    "print(\"Loading Pokec graph - 400MB\")\n",
    "\n",
    "G_edgelist = np.load(\"../../../Thesis-Graph-Data/NPY-graphs/pokec.npy\")\n",
    "\n",
    "G_edgelist = G_edgelist[G_edgelist[:, 0].argsort()] # Sort by first column\n",
    "\n",
    "# Add column of ones - weights\n",
    "G_edgelist = np.hstack((G_edgelist, np.ones((G_edgelist.shape[0], 1))))\n",
    "\n",
    "n = int(np.max(G_edgelist[:,1]) + 1) # Nr. vertices"
   ]
  },
  {
   "cell_type": "code",
   "execution_count": null,
   "id": "ac6e1450",
   "metadata": {},
   "outputs": [],
   "source": [
    "%%timeit -n 1 -r 1\n",
    "\n",
    "\n",
    "Y = np.load(\"../../../Thesis-Graph-Data/Ys/pokec-Y50.npy\") # For Ligra fairness - ligra cannot preload this\n",
    "_ = DataPreprocess.graph_encoder_embed(G_edgelist.astype(np.float64), Y, n, Correlation = False, Laplacian = True)"
   ]
  },
  {
   "cell_type": "code",
   "execution_count": null,
   "id": "bbe69776",
   "metadata": {},
   "outputs": [],
   "source": [
    "print(\"Loading Pokec graph - 400MB\")\n",
    "\n",
    "G_edgelist = np.load(\"../../../Thesis-Graph-Data/NPY-graphs/pokec.npy\")\n",
    "\n",
    "G_edgelist = G_edgelist[G_edgelist[:, 0].argsort()] # Sort by first column\n",
    "\n",
    "# Add column of ones - weights\n",
    "G_edgelist = np.hstack((G_edgelist, np.ones((G_edgelist.shape[0], 1))))\n",
    "\n",
    "n = int(np.max(G_edgelist[:,1]) + 1) # Nr. vertices"
   ]
  },
  {
   "cell_type": "code",
   "execution_count": null,
   "id": "7aca6d59",
   "metadata": {},
   "outputs": [],
   "source": [
    "%%timeit -n 1 -r 1\n",
    "\n",
    "\n",
    "Y = np.load(\"../../../Thesis-Graph-Data/Ys/pokec-Y50.npy\") # For Ligra fairness - ligra cannot preload this\n",
    "_ = DataPreprocess.graph_encoder_embed(G_edgelist.astype(np.float64), Y, n, Correlation = False, Laplacian = True)"
   ]
  },
  {
   "cell_type": "code",
   "execution_count": null,
   "id": "ebbb3410",
   "metadata": {},
   "outputs": [],
   "source": [
    "print(\"Loading Pokec graph - 400MB\")\n",
    "\n",
    "G_edgelist = np.load(\"../../../Thesis-Graph-Data/NPY-graphs/pokec.npy\")\n",
    "\n",
    "G_edgelist = G_edgelist[G_edgelist[:, 0].argsort()] # Sort by first column\n",
    "\n",
    "# Add column of ones - weights\n",
    "G_edgelist = np.hstack((G_edgelist, np.ones((G_edgelist.shape[0], 1))))\n",
    "\n",
    "n = int(np.max(G_edgelist[:,1]) + 1) # Nr. vertices"
   ]
  },
  {
   "cell_type": "code",
   "execution_count": null,
   "id": "495e324c",
   "metadata": {},
   "outputs": [],
   "source": [
    "%%timeit -n 1 -r 1\n",
    "\n",
    "\n",
    "Y = np.load(\"../../../Thesis-Graph-Data/Ys/pokec-Y50.npy\") # For Ligra fairness - ligra cannot preload this\n",
    "_ = DataPreprocess.graph_encoder_embed(G_edgelist.astype(np.float64), Y, n, Correlation = False, Laplacian = True)"
   ]
  },
  {
   "cell_type": "code",
   "execution_count": null,
   "id": "73b7daa1",
   "metadata": {},
   "outputs": [],
   "source": [
    "print(\"Loading Pokec graph - 400MB\")\n",
    "\n",
    "G_edgelist = np.load(\"../../../Thesis-Graph-Data/NPY-graphs/pokec.npy\")\n",
    "\n",
    "G_edgelist = G_edgelist[G_edgelist[:, 0].argsort()] # Sort by first column\n",
    "\n",
    "# Add column of ones - weights\n",
    "G_edgelist = np.hstack((G_edgelist, np.ones((G_edgelist.shape[0], 1))))\n",
    "\n",
    "n = int(np.max(G_edgelist[:,1]) + 1) # Nr. vertices"
   ]
  },
  {
   "cell_type": "code",
   "execution_count": null,
   "id": "266afee8",
   "metadata": {},
   "outputs": [],
   "source": [
    "%%timeit -n 1 -r 1\n",
    "\n",
    "\n",
    "Y = np.load(\"../../../Thesis-Graph-Data/Ys/pokec-Y50.npy\") # For Ligra fairness - ligra cannot preload this\n",
    "_ = DataPreprocess.graph_encoder_embed(G_edgelist.astype(np.float64), Y, n, Correlation = False, Laplacian = True)"
   ]
  },
  {
   "cell_type": "code",
   "execution_count": null,
   "id": "e724aae2",
   "metadata": {},
   "outputs": [],
   "source": [
    "print(\"Loading Pokec graph - 400MB\")\n",
    "\n",
    "G_edgelist = np.load(\"../../../Thesis-Graph-Data/NPY-graphs/pokec.npy\")\n",
    "\n",
    "G_edgelist = G_edgelist[G_edgelist[:, 0].argsort()] # Sort by first column\n",
    "\n",
    "# Add column of ones - weights\n",
    "G_edgelist = np.hstack((G_edgelist, np.ones((G_edgelist.shape[0], 1))))\n",
    "\n",
    "n = int(np.max(G_edgelist[:,1]) + 1) # Nr. vertices"
   ]
  },
  {
   "cell_type": "code",
   "execution_count": null,
   "id": "c03af1fa",
   "metadata": {},
   "outputs": [],
   "source": [
    "%%timeit -n 1 -r 1\n",
    "\n",
    "\n",
    "Y = np.load(\"../../../Thesis-Graph-Data/Ys/pokec-Y50.npy\") # For Ligra fairness - ligra cannot preload this\n",
    "_ = DataPreprocess.graph_encoder_embed(G_edgelist.astype(np.float64), Y, n, Correlation = False, Laplacian = True)"
   ]
  },
  {
   "cell_type": "code",
   "execution_count": null,
   "id": "2e3ed9ec",
   "metadata": {},
   "outputs": [],
   "source": [
    "print(\"Loading Pokec graph - 400MB\")\n",
    "\n",
    "G_edgelist = np.load(\"../../../Thesis-Graph-Data/NPY-graphs/pokec.npy\")\n",
    "\n",
    "G_edgelist = G_edgelist[G_edgelist[:, 0].argsort()] # Sort by first column\n",
    "\n",
    "# Add column of ones - weights\n",
    "G_edgelist = np.hstack((G_edgelist, np.ones((G_edgelist.shape[0], 1))))\n",
    "\n",
    "n = int(np.max(G_edgelist[:,1]) + 1) # Nr. vertices"
   ]
  },
  {
   "cell_type": "code",
   "execution_count": null,
   "id": "9d4ae8c4",
   "metadata": {},
   "outputs": [],
   "source": [
    "%%timeit -n 1 -r 1\n",
    "\n",
    "\n",
    "Y = np.load(\"../../../Thesis-Graph-Data/Ys/pokec-Y50.npy\") # For Ligra fairness - ligra cannot preload this\n",
    "_ = DataPreprocess.graph_encoder_embed(G_edgelist.astype(np.float64), Y, n, Correlation = False, Laplacian = True)"
   ]
  },
  {
   "cell_type": "code",
   "execution_count": null,
   "id": "b56dcc6a",
   "metadata": {},
   "outputs": [],
   "source": [
    "print(\"Loading Pokec graph - 400MB\")\n",
    "\n",
    "G_edgelist = np.load(\"../../../Thesis-Graph-Data/NPY-graphs/pokec.npy\")\n",
    "\n",
    "G_edgelist = G_edgelist[G_edgelist[:, 0].argsort()] # Sort by first column\n",
    "\n",
    "# Add column of ones - weights\n",
    "G_edgelist = np.hstack((G_edgelist, np.ones((G_edgelist.shape[0], 1))))\n",
    "\n",
    "n = int(np.max(G_edgelist[:,1]) + 1) # Nr. vertices"
   ]
  },
  {
   "cell_type": "code",
   "execution_count": null,
   "id": "ae28e42c",
   "metadata": {},
   "outputs": [],
   "source": [
    "%%timeit -n 1 -r 1\n",
    "\n",
    "\n",
    "Y = np.load(\"../../../Thesis-Graph-Data/Ys/pokec-Y50.npy\") # For Ligra fairness - ligra cannot preload this\n",
    "_ = DataPreprocess.graph_encoder_embed(G_edgelist.astype(np.float64), Y, n, Correlation = False, Laplacian = True)"
   ]
  },
  {
   "cell_type": "markdown",
   "id": "5a9a1e0c",
   "metadata": {},
   "source": [
    "### LiveJournal"
   ]
  },
  {
   "cell_type": "code",
   "execution_count": null,
   "id": "7b6514f2",
   "metadata": {},
   "outputs": [],
   "source": [
    "print(\"Loading LiveJournal graph - 1GB\")\n",
    "\n",
    "G_edgelist = np.load(\"../../../Thesis-Graph-Data/NPY-graphs/liveJournal.npy\")\n",
    "\n",
    "# Add column of ones - weights\n",
    "G_edgelist = np.hstack((G_edgelist, np.ones((G_edgelist.shape[0], 1))))\n",
    "\n",
    "n = int(np.max(G_edgelist[:,1]) + 1) # Nr. vertices"
   ]
  },
  {
   "cell_type": "code",
   "execution_count": null,
   "id": "0bdae35e",
   "metadata": {},
   "outputs": [],
   "source": [
    "%%timeit -n 1 -r 1\n",
    "\n",
    "Y = np.load(\"../../../Thesis-Graph-Data/Ys/liveJournal-Y50.npy\") # For Ligra fairness - ligra cannot preload this\n",
    "_ = DataPreprocess.graph_encoder_embed(G_edgelist.astype(np.float64), Y, n, Correlation = False, Laplacian = True)"
   ]
  },
  {
   "cell_type": "code",
   "execution_count": null,
   "id": "c1333b4e",
   "metadata": {},
   "outputs": [],
   "source": [
    "print(\"Loading LiveJournal graph - 1GB\")\n",
    "\n",
    "G_edgelist = np.load(\"../../../Thesis-Graph-Data/NPY-graphs/liveJournal.npy\")\n",
    "\n",
    "# Add column of ones - weights\n",
    "G_edgelist = np.hstack((G_edgelist, np.ones((G_edgelist.shape[0], 1))))\n",
    "\n",
    "n = int(np.max(G_edgelist[:,1]) + 1) # Nr. vertices"
   ]
  },
  {
   "cell_type": "code",
   "execution_count": null,
   "id": "4d1d3db2",
   "metadata": {},
   "outputs": [],
   "source": [
    "%%timeit -n 1 -r 1\n",
    "\n",
    "Y = np.load(\"../../../Thesis-Graph-Data/Ys/liveJournal-Y50.npy\") # For Ligra fairness - ligra cannot preload this\n",
    "_ = DataPreprocess.graph_encoder_embed(G_edgelist.astype(np.float64), Y, n, Correlation = False, Laplacian = True)"
   ]
  },
  {
   "cell_type": "code",
   "execution_count": null,
   "id": "6b0afc7f",
   "metadata": {},
   "outputs": [],
   "source": [
    "print(\"Loading LiveJournal graph - 1GB\")\n",
    "\n",
    "G_edgelist = np.load(\"../../../Thesis-Graph-Data/NPY-graphs/liveJournal.npy\")\n",
    "\n",
    "# Add column of ones - weights\n",
    "G_edgelist = np.hstack((G_edgelist, np.ones((G_edgelist.shape[0], 1))))\n",
    "\n",
    "n = int(np.max(G_edgelist[:,1]) + 1) # Nr. vertices"
   ]
  },
  {
   "cell_type": "code",
   "execution_count": null,
   "id": "71b0ec07",
   "metadata": {},
   "outputs": [],
   "source": [
    "%%timeit -n 1 -r 1\n",
    "\n",
    "Y = np.load(\"../../../Thesis-Graph-Data/Ys/liveJournal-Y50.npy\") # For Ligra fairness - ligra cannot preload this\n",
    "_ = DataPreprocess.graph_encoder_embed(G_edgelist.astype(np.float64), Y, n, Correlation = False, Laplacian = True)"
   ]
  },
  {
   "cell_type": "code",
   "execution_count": null,
   "id": "a65843fa",
   "metadata": {},
   "outputs": [],
   "source": [
    "print(\"Loading LiveJournal graph - 1GB\")\n",
    "\n",
    "G_edgelist = np.load(\"../../../Thesis-Graph-Data/NPY-graphs/liveJournal.npy\")\n",
    "\n",
    "# Add column of ones - weights\n",
    "G_edgelist = np.hstack((G_edgelist, np.ones((G_edgelist.shape[0], 1))))\n",
    "\n",
    "n = int(np.max(G_edgelist[:,1]) + 1) # Nr. vertices"
   ]
  },
  {
   "cell_type": "code",
   "execution_count": null,
   "id": "23dc002e",
   "metadata": {},
   "outputs": [],
   "source": [
    "%%timeit -n 1 -r 1\n",
    "\n",
    "Y = np.load(\"../../../Thesis-Graph-Data/Ys/liveJournal-Y50.npy\") # For Ligra fairness - ligra cannot preload this\n",
    "_ = DataPreprocess.graph_encoder_embed(G_edgelist.astype(np.float64), Y, n, Correlation = False, Laplacian = True)"
   ]
  },
  {
   "cell_type": "code",
   "execution_count": null,
   "id": "740b7104",
   "metadata": {},
   "outputs": [],
   "source": [
    "print(\"Loading LiveJournal graph - 1GB\")\n",
    "\n",
    "G_edgelist = np.load(\"../../../Thesis-Graph-Data/NPY-graphs/liveJournal.npy\")\n",
    "\n",
    "# Add column of ones - weights\n",
    "G_edgelist = np.hstack((G_edgelist, np.ones((G_edgelist.shape[0], 1))))\n",
    "\n",
    "n = int(np.max(G_edgelist[:,1]) + 1) # Nr. vertices"
   ]
  },
  {
   "cell_type": "code",
   "execution_count": null,
   "id": "52e835c2",
   "metadata": {},
   "outputs": [],
   "source": [
    "%%timeit -n 1 -r 1\n",
    "\n",
    "Y = np.load(\"../../../Thesis-Graph-Data/Ys/liveJournal-Y50.npy\") # For Ligra fairness - ligra cannot preload this\n",
    "_ = DataPreprocess.graph_encoder_embed(G_edgelist.astype(np.float64), Y, n, Correlation = False, Laplacian = True)"
   ]
  },
  {
   "cell_type": "code",
   "execution_count": null,
   "id": "4d2eb3e1",
   "metadata": {},
   "outputs": [],
   "source": [
    "print(\"Loading LiveJournal graph - 1GB\")\n",
    "\n",
    "G_edgelist = np.load(\"../../../Thesis-Graph-Data/NPY-graphs/liveJournal.npy\")\n",
    "\n",
    "# Add column of ones - weights\n",
    "G_edgelist = np.hstack((G_edgelist, np.ones((G_edgelist.shape[0], 1))))\n",
    "\n",
    "n = int(np.max(G_edgelist[:,1]) + 1) # Nr. vertices"
   ]
  },
  {
   "cell_type": "code",
   "execution_count": null,
   "id": "b31b294e",
   "metadata": {},
   "outputs": [],
   "source": [
    "%%timeit -n 1 -r 1\n",
    "\n",
    "Y = np.load(\"../../../Thesis-Graph-Data/Ys/liveJournal-Y50.npy\") # For Ligra fairness - ligra cannot preload this\n",
    "_ = DataPreprocess.graph_encoder_embed(G_edgelist.astype(np.float64), Y, n, Correlation = False, Laplacian = True)"
   ]
  },
  {
   "cell_type": "code",
   "execution_count": null,
   "id": "788dd004",
   "metadata": {},
   "outputs": [],
   "source": [
    "print(\"Loading LiveJournal graph - 1GB\")\n",
    "\n",
    "G_edgelist = np.load(\"../../../Thesis-Graph-Data/NPY-graphs/liveJournal.npy\")\n",
    "\n",
    "# Add column of ones - weights\n",
    "G_edgelist = np.hstack((G_edgelist, np.ones((G_edgelist.shape[0], 1))))\n",
    "\n",
    "n = int(np.max(G_edgelist[:,1]) + 1) # Nr. vertices"
   ]
  },
  {
   "cell_type": "code",
   "execution_count": null,
   "id": "f31f2b65",
   "metadata": {},
   "outputs": [],
   "source": [
    "%%timeit -n 1 -r 1\n",
    "\n",
    "Y = np.load(\"../../../Thesis-Graph-Data/Ys/liveJournal-Y50.npy\") # For Ligra fairness - ligra cannot preload this\n",
    "_ = DataPreprocess.graph_encoder_embed(G_edgelist.astype(np.float64), Y, n, Correlation = False, Laplacian = True)"
   ]
  },
  {
   "cell_type": "markdown",
   "id": "3692f961",
   "metadata": {},
   "source": [
    "### Orkut"
   ]
  },
  {
   "cell_type": "code",
   "execution_count": null,
   "id": "66fd98cb",
   "metadata": {},
   "outputs": [],
   "source": [
    "print(\"Loading Orkut graph - 1.8GB\")\n",
    "\n",
    "G_edgelist = np.load(\"../../../Thesis-Graph-Data/NPY-graphs/orkut.npy\")\n",
    "\n",
    "# Add column of ones - weights\n",
    "G_edgelist = np.hstack((G_edgelist, np.ones((G_edgelist.shape[0], 1))))\n",
    "\n",
    "n = int(np.max(G_edgelist[:, 1]) + 1)  # Nr. vertices"
   ]
  },
  {
   "cell_type": "code",
   "execution_count": null,
   "id": "49ab9660",
   "metadata": {},
   "outputs": [],
   "source": [
    "%%timeit -n 1 -r 1\n",
    "\n",
    "Y = np.load(\"../../../Thesis-Graph-Data/Ys/orkut-Y50.npy\") # For Ligra fairness - ligra cannot preload this\n",
    "_ = DataPreprocess.graph_encoder_embed(G_edgelist.astype(np.float64), Y, n, Correlation = False, Laplacian = True)"
   ]
  },
  {
   "cell_type": "code",
   "execution_count": null,
   "id": "61a8f1f7",
   "metadata": {},
   "outputs": [],
   "source": [
    "print(\"Loading Orkut graph - 1.8GB\")\n",
    "\n",
    "G_edgelist = np.load(\"../../../Thesis-Graph-Data/NPY-graphs/orkut.npy\")\n",
    "\n",
    "# Add column of ones - weights\n",
    "G_edgelist = np.hstack((G_edgelist, np.ones((G_edgelist.shape[0], 1))))\n",
    "\n",
    "n = int(np.max(G_edgelist[:, 1]) + 1)  # Nr. vertices"
   ]
  },
  {
   "cell_type": "code",
   "execution_count": null,
   "id": "b37cf07e",
   "metadata": {},
   "outputs": [],
   "source": [
    "%%timeit -n 1 -r 1\n",
    "\n",
    "Y = np.load(\"../../../Thesis-Graph-Data/Ys/orkut-Y50.npy\") # For Ligra fairness - ligra cannot preload this\n",
    "_ = DataPreprocess.graph_encoder_embed(G_edgelist.astype(np.float64), Y, n, Correlation = False, Laplacian = True)"
   ]
  },
  {
   "cell_type": "code",
   "execution_count": null,
   "id": "c1378081",
   "metadata": {},
   "outputs": [],
   "source": [
    "print(\"Loading Orkut graph - 1.8GB\")\n",
    "\n",
    "G_edgelist = np.load(\"../../../Thesis-Graph-Data/NPY-graphs/orkut.npy\")\n",
    "\n",
    "# Add column of ones - weights\n",
    "G_edgelist = np.hstack((G_edgelist, np.ones((G_edgelist.shape[0], 1))))\n",
    "\n",
    "n = int(np.max(G_edgelist[:, 1]) + 1)  # Nr. vertices"
   ]
  },
  {
   "cell_type": "code",
   "execution_count": null,
   "id": "7f972d2b",
   "metadata": {},
   "outputs": [],
   "source": [
    "%%timeit -n 1 -r 1\n",
    "\n",
    "Y = np.load(\"../../../Thesis-Graph-Data/Ys/orkut-Y50.npy\") # For Ligra fairness - ligra cannot preload this\n",
    "_ = DataPreprocess.graph_encoder_embed(G_edgelist.astype(np.float64), Y, n, Correlation = False, Laplacian = True)"
   ]
  },
  {
   "cell_type": "code",
   "execution_count": null,
   "id": "7759da75",
   "metadata": {},
   "outputs": [],
   "source": [
    "print(\"Loading Orkut graph - 1.8GB\")\n",
    "\n",
    "G_edgelist = np.load(\"../../../Thesis-Graph-Data/NPY-graphs/orkut.npy\")\n",
    "\n",
    "# Add column of ones - weights\n",
    "G_edgelist = np.hstack((G_edgelist, np.ones((G_edgelist.shape[0], 1))))\n",
    "\n",
    "n = int(np.max(G_edgelist[:, 1]) + 1)  # Nr. vertices"
   ]
  },
  {
   "cell_type": "code",
   "execution_count": null,
   "id": "3e5a030a",
   "metadata": {},
   "outputs": [],
   "source": [
    "%%timeit -n 1 -r 1\n",
    "\n",
    "Y = np.load(\"../../../Thesis-Graph-Data/Ys/orkut-Y50.npy\") # For Ligra fairness - ligra cannot preload this\n",
    "_ = DataPreprocess.graph_encoder_embed(G_edgelist.astype(np.float64), Y, n, Correlation = False, Laplacian = True)"
   ]
  },
  {
   "cell_type": "code",
   "execution_count": null,
   "id": "9eba83e5",
   "metadata": {},
   "outputs": [],
   "source": [
    "print(\"Loading Orkut graph - 1.8GB\")\n",
    "\n",
    "G_edgelist = np.load(\"../../../Thesis-Graph-Data/NPY-graphs/orkut.npy\")\n",
    "\n",
    "# Add column of ones - weights\n",
    "G_edgelist = np.hstack((G_edgelist, np.ones((G_edgelist.shape[0], 1))))\n",
    "\n",
    "n = int(np.max(G_edgelist[:, 1]) + 1)  # Nr. vertices"
   ]
  },
  {
   "cell_type": "code",
   "execution_count": null,
   "id": "b59f8d49",
   "metadata": {},
   "outputs": [],
   "source": [
    "%%timeit -n 1 -r 1\n",
    "\n",
    "Y = np.load(\"../../../Thesis-Graph-Data/Ys/orkut-Y50.npy\") # For Ligra fairness - ligra cannot preload this\n",
    "_ = DataPreprocess.graph_encoder_embed(G_edgelist.astype(np.float64), Y, n, Correlation = False, Laplacian = True)"
   ]
  },
  {
   "cell_type": "code",
   "execution_count": null,
   "id": "72c5015d",
   "metadata": {},
   "outputs": [],
   "source": [
    "print(\"Loading Orkut graph - 1.8GB\")\n",
    "\n",
    "G_edgelist = np.load(\"../../../Thesis-Graph-Data/NPY-graphs/orkut.npy\")\n",
    "\n",
    "# Add column of ones - weights\n",
    "G_edgelist = np.hstack((G_edgelist, np.ones((G_edgelist.shape[0], 1))))\n",
    "\n",
    "n = int(np.max(G_edgelist[:, 1]) + 1)  # Nr. vertices"
   ]
  },
  {
   "cell_type": "code",
   "execution_count": null,
   "id": "b9416009",
   "metadata": {},
   "outputs": [],
   "source": [
    "%%timeit -n 1 -r 1\n",
    "\n",
    "Y = np.load(\"../../../Thesis-Graph-Data/Ys/orkut-Y50.npy\") # For Ligra fairness - ligra cannot preload this\n",
    "_ = DataPreprocess.graph_encoder_embed(G_edgelist.astype(np.float64), Y, n, Correlation = False, Laplacian = True)"
   ]
  },
  {
   "cell_type": "code",
   "execution_count": null,
   "id": "ef17fa87",
   "metadata": {},
   "outputs": [],
   "source": [
    "print(\"Loading Orkut graph - 1.8GB\")\n",
    "\n",
    "G_edgelist = np.load(\"../../../Thesis-Graph-Data/NPY-graphs/orkut.npy\")\n",
    "\n",
    "# Add column of ones - weights\n",
    "G_edgelist = np.hstack((G_edgelist, np.ones((G_edgelist.shape[0], 1))))\n",
    "\n",
    "n = int(np.max(G_edgelist[:, 1]) + 1)  # Nr. vertices"
   ]
  },
  {
   "cell_type": "code",
   "execution_count": null,
   "id": "2b80df3d",
   "metadata": {},
   "outputs": [],
   "source": [
    "%%timeit -n 1 -r 1\n",
    "\n",
    "Y = np.load(\"../../../Thesis-Graph-Data/Ys/orkut-Y50.npy\") # For Ligra fairness - ligra cannot preload this\n",
    "_ = DataPreprocess.graph_encoder_embed(G_edgelist.astype(np.float64), Y, n, Correlation = False, Laplacian = True)"
   ]
  },
  {
   "cell_type": "markdown",
   "id": "d07451e7",
   "metadata": {},
   "source": [
    "### Orkut-groups"
   ]
  },
  {
   "cell_type": "code",
   "execution_count": null,
   "id": "3688210a",
   "metadata": {},
   "outputs": [],
   "source": [
    "print(\"Loading Orkut Groups graph - 5.1GB\")\n",
    "\n",
    "G_edgelist = np.load(\"../../../Thesis-Graph-Data/NPY-graphs/orkut-groups.npy\")\n",
    "\n",
    "# Add column of ones - weights\n",
    "G_edgelist = np.hstack((G_edgelist, np.ones((G_edgelist.shape[0], 1))))\n",
    "\n",
    "n = int(np.max(G_edgelist[:, 1]) + 1)  # Nr. vertices"
   ]
  },
  {
   "cell_type": "code",
   "execution_count": null,
   "id": "9740b9ec",
   "metadata": {},
   "outputs": [],
   "source": [
    "%%timeit -n 1 -r 1\n",
    "\n",
    "Y = np.load(\"../../../Thesis-Graph-Data/Ys/orkut-groups-Y40.npy\") # For Ligra fairness - ligra cannot preload this\n",
    "_ = DataPreprocess.graph_encoder_embed(G_edgelist.astype(np.float64), Y, n, Correlation = False, Laplacian = True)"
   ]
  },
  {
   "cell_type": "code",
   "execution_count": null,
   "id": "bd2e7382",
   "metadata": {},
   "outputs": [],
   "source": [
    "print(\"Loading Orkut Groups graph - 5.1GB\")\n",
    "\n",
    "G_edgelist = np.load(\"../../../Thesis-Graph-Data/NPY-graphs/orkut-groups.npy\")\n",
    "\n",
    "# Add column of ones - weights\n",
    "G_edgelist = np.hstack((G_edgelist, np.ones((G_edgelist.shape[0], 1))))\n",
    "\n",
    "n = int(np.max(G_edgelist[:, 1]) + 1)  # Nr. vertices"
   ]
  },
  {
   "cell_type": "code",
   "execution_count": null,
   "id": "bd3f8609",
   "metadata": {},
   "outputs": [],
   "source": [
    "%%timeit -n 1 -r 1\n",
    "\n",
    "Y = np.load(\"../../../Thesis-Graph-Data/Ys/orkut-groups-Y40.npy\") # For Ligra fairness - ligra cannot preload this\n",
    "_ = DataPreprocess.graph_encoder_embed(G_edgelist.astype(np.float64), Y, n, Correlation = False, Laplacian = True)"
   ]
  },
  {
   "cell_type": "code",
   "execution_count": null,
   "id": "cae2c39c",
   "metadata": {},
   "outputs": [],
   "source": [
    "print(\"Loading Orkut Groups graph - 5.1GB\")\n",
    "\n",
    "G_edgelist = np.load(\"../../../Thesis-Graph-Data/NPY-graphs/orkut-groups.npy\")\n",
    "\n",
    "# Add column of ones - weights\n",
    "G_edgelist = np.hstack((G_edgelist, np.ones((G_edgelist.shape[0], 1))))\n",
    "\n",
    "n = int(np.max(G_edgelist[:, 1]) + 1)  # Nr. vertices"
   ]
  },
  {
   "cell_type": "code",
   "execution_count": null,
   "id": "a674a699",
   "metadata": {},
   "outputs": [],
   "source": [
    "%%timeit -n 1 -r 1\n",
    "\n",
    "Y = np.load(\"../../../Thesis-Graph-Data/Ys/orkut-groups-Y40.npy\") # For Ligra fairness - ligra cannot preload this\n",
    "_ = DataPreprocess.graph_encoder_embed(G_edgelist.astype(np.float64), Y, n, Correlation = False, Laplacian = True)"
   ]
  },
  {
   "cell_type": "code",
   "execution_count": null,
   "id": "e1baa6ca",
   "metadata": {},
   "outputs": [],
   "source": [
    "print(\"Loading Orkut Groups graph - 5.1GB\")\n",
    "\n",
    "G_edgelist = np.load(\"../../../Thesis-Graph-Data/NPY-graphs/orkut-groups.npy\")\n",
    "\n",
    "# Add column of ones - weights\n",
    "G_edgelist = np.hstack((G_edgelist, np.ones((G_edgelist.shape[0], 1))))\n",
    "\n",
    "n = int(np.max(G_edgelist[:, 1]) + 1)  # Nr. vertices"
   ]
  },
  {
   "cell_type": "code",
   "execution_count": null,
   "id": "434162c5",
   "metadata": {},
   "outputs": [],
   "source": [
    "%%timeit -n 1 -r 1\n",
    "\n",
    "Y = np.load(\"../../../Thesis-Graph-Data/Ys/orkut-groups-Y40.npy\") # For Ligra fairness - ligra cannot preload this\n",
    "_ = DataPreprocess.graph_encoder_embed(G_edgelist.astype(np.float64), Y, n, Correlation = False, Laplacian = True)"
   ]
  },
  {
   "cell_type": "code",
   "execution_count": null,
   "id": "22d6450e",
   "metadata": {},
   "outputs": [],
   "source": [
    "print(\"Loading Orkut Groups graph - 5.1GB\")\n",
    "\n",
    "G_edgelist = np.load(\"../../../Thesis-Graph-Data/NPY-graphs/orkut-groups.npy\")\n",
    "\n",
    "# Add column of ones - weights\n",
    "G_edgelist = np.hstack((G_edgelist, np.ones((G_edgelist.shape[0], 1))))\n",
    "\n",
    "n = int(np.max(G_edgelist[:, 1]) + 1)  # Nr. vertices"
   ]
  },
  {
   "cell_type": "code",
   "execution_count": null,
   "id": "4105e999",
   "metadata": {},
   "outputs": [],
   "source": [
    "%%timeit -n 1 -r 1\n",
    "\n",
    "Y = np.load(\"../../../Thesis-Graph-Data/Ys/orkut-groups-Y40.npy\") # For Ligra fairness - ligra cannot preload this\n",
    "_ = DataPreprocess.graph_encoder_embed(G_edgelist.astype(np.float64), Y, n, Correlation = False, Laplacian = True)"
   ]
  },
  {
   "cell_type": "code",
   "execution_count": null,
   "id": "8d5e9787",
   "metadata": {},
   "outputs": [],
   "source": [
    "print(\"Loading Orkut Groups graph - 5.1GB\")\n",
    "\n",
    "G_edgelist = np.load(\"../../../Thesis-Graph-Data/NPY-graphs/orkut-groups.npy\")\n",
    "\n",
    "# Add column of ones - weights\n",
    "G_edgelist = np.hstack((G_edgelist, np.ones((G_edgelist.shape[0], 1))))\n",
    "\n",
    "n = int(np.max(G_edgelist[:, 1]) + 1)  # Nr. vertices"
   ]
  },
  {
   "cell_type": "code",
   "execution_count": null,
   "id": "c3e5d013",
   "metadata": {},
   "outputs": [],
   "source": [
    "%%timeit -n 1 -r 1\n",
    "\n",
    "Y = np.load(\"../../../Thesis-Graph-Data/Ys/orkut-groups-Y40.npy\") # For Ligra fairness - ligra cannot preload this\n",
    "_ = DataPreprocess.graph_encoder_embed(G_edgelist.astype(np.float64), Y, n, Correlation = False, Laplacian = True)"
   ]
  },
  {
   "cell_type": "code",
   "execution_count": null,
   "id": "cfaca7e7",
   "metadata": {},
   "outputs": [],
   "source": [
    "print(\"Loading Orkut Groups graph - 5.1GB\")\n",
    "\n",
    "G_edgelist = np.load(\"../../../Thesis-Graph-Data/NPY-graphs/orkut-groups.npy\")\n",
    "\n",
    "# Add column of ones - weights\n",
    "G_edgelist = np.hstack((G_edgelist, np.ones((G_edgelist.shape[0], 1))))\n",
    "\n",
    "n = int(np.max(G_edgelist[:, 1]) + 1)  # Nr. vertices"
   ]
  },
  {
   "cell_type": "code",
   "execution_count": null,
   "id": "d4f8f5c3",
   "metadata": {},
   "outputs": [],
   "source": [
    "%%timeit -n 1 -r 1\n",
    "\n",
    "Y = np.load(\"../../../Thesis-Graph-Data/Ys/orkut-groups-Y40.npy\") # For Ligra fairness - ligra cannot preload this\n",
    "_ = DataPreprocess.graph_encoder_embed(G_edgelist.astype(np.float64), Y, n, Correlation = False, Laplacian = True)"
   ]
  },
  {
   "cell_type": "markdown",
   "id": "83ada7ac",
   "metadata": {},
   "source": [
    "### Friendster"
   ]
  },
  {
   "cell_type": "code",
   "execution_count": null,
   "id": "472d5510",
   "metadata": {},
   "outputs": [],
   "source": [
    "print(\"Loading Friendster graph - 31GB\")\n",
    "\n",
    "G_edgelist = np.load(\"../../../Thesis-Graph-Data/NPY-graphs/friendster-0indexed-colswapped.npy\")\n",
    "\n",
    "# Add column of ones - weights\n",
    "G_edgelist = np.hstack((G_edgelist, np.ones((G_edgelist.shape[0], 1))))\n",
    "\n",
    "n = int(np.max(G_edgelist[:, 1]) + 1)  # Nr. vertices"
   ]
  },
  {
   "cell_type": "code",
   "execution_count": null,
   "id": "db2e32e0",
   "metadata": {},
   "outputs": [],
   "source": [
    "%%timeit -n 1 -r 1\n",
    "\n",
    "Y = np.load(\"../../../Thesis-Graph-Data/Ys/friendster-Y50.npy\") # For Ligra fairness - ligra cannot preload this\n",
    "_ = DataPreprocess.graph_encoder_embed(G_edgelist.astype(np.float64), Y, n, Correlation = False, Laplacian = True)"
   ]
  },
  {
   "cell_type": "code",
   "execution_count": null,
   "id": "0ee0ea1b",
   "metadata": {},
   "outputs": [],
   "source": [
    "print(\"Loading Friendster graph - 31GB\")\n",
    "\n",
    "G_edgelist = np.load(\"../../../Thesis-Graph-Data/NPY-graphs/friendster-0indexed-colswapped.npy\")\n",
    "\n",
    "# Add column of ones - weights\n",
    "G_edgelist = np.hstack((G_edgelist, np.ones((G_edgelist.shape[0], 1))))\n",
    "\n",
    "n = int(np.max(G_edgelist[:, 1]) + 1)  # Nr. vertices"
   ]
  },
  {
   "cell_type": "code",
   "execution_count": null,
   "id": "6b625875",
   "metadata": {},
   "outputs": [],
   "source": [
    "%%timeit -n 1 -r 1\n",
    "\n",
    "Y = np.load(\"../../../Thesis-Graph-Data/Ys/friendster-Y50.npy\") # For Ligra fairness - ligra cannot preload this\n",
    "_ = DataPreprocess.graph_encoder_embed(G_edgelist.astype(np.float64), Y, n, Correlation = False, Laplacian = True)"
   ]
  },
  {
   "cell_type": "code",
   "execution_count": null,
   "id": "648444fb",
   "metadata": {},
   "outputs": [],
   "source": [
    "print(\"Loading Friendster graph - 31GB\")\n",
    "\n",
    "G_edgelist = np.load(\"../../../Thesis-Graph-Data/NPY-graphs/friendster-0indexed-colswapped.npy\")\n",
    "\n",
    "# Add column of ones - weights\n",
    "G_edgelist = np.hstack((G_edgelist, np.ones((G_edgelist.shape[0], 1))))\n",
    "\n",
    "n = int(np.max(G_edgelist[:, 1]) + 1)  # Nr. vertices"
   ]
  },
  {
   "cell_type": "code",
   "execution_count": null,
   "id": "e93f8f50",
   "metadata": {},
   "outputs": [],
   "source": [
    "%%timeit -n 1 -r 1\n",
    "\n",
    "Y = np.load(\"../../../Thesis-Graph-Data/Ys/friendster-Y50.npy\") # For Ligra fairness - ligra cannot preload this\n",
    "_ = DataPreprocess.graph_encoder_embed(G_edgelist.astype(np.float64), Y, n, Correlation = False, Laplacian = True)"
   ]
  },
  {
   "cell_type": "code",
   "execution_count": null,
   "id": "c29066e8",
   "metadata": {},
   "outputs": [],
   "source": [
    "print(\"Loading Friendster graph - 31GB\")\n",
    "\n",
    "G_edgelist = np.load(\"../../../Thesis-Graph-Data/NPY-graphs/friendster-0indexed-colswapped.npy\")\n",
    "\n",
    "# Add column of ones - weights\n",
    "G_edgelist = np.hstack((G_edgelist, np.ones((G_edgelist.shape[0], 1))))\n",
    "\n",
    "n = int(np.max(G_edgelist[:, 1]) + 1)  # Nr. vertices"
   ]
  },
  {
   "cell_type": "code",
   "execution_count": null,
   "id": "eece889a",
   "metadata": {},
   "outputs": [],
   "source": [
    "%%timeit -n 1 -r 1\n",
    "\n",
    "Y = np.load(\"../../../Thesis-Graph-Data/Ys/friendster-Y50.npy\") # For Ligra fairness - ligra cannot preload this\n",
    "_ = DataPreprocess.graph_encoder_embed(G_edgelist.astype(np.float64), Y, n, Correlation = False, Laplacian = True)"
   ]
  },
  {
   "cell_type": "code",
   "execution_count": null,
   "id": "5e232c62",
   "metadata": {},
   "outputs": [],
   "source": [
    "print(\"Loading Friendster graph - 31GB\")\n",
    "\n",
    "G_edgelist = np.load(\"../../../Thesis-Graph-Data/NPY-graphs/friendster-0indexed-colswapped.npy\")\n",
    "\n",
    "# Add column of ones - weights\n",
    "G_edgelist = np.hstack((G_edgelist, np.ones((G_edgelist.shape[0], 1))))\n",
    "\n",
    "n = int(np.max(G_edgelist[:, 1]) + 1)  # Nr. vertices"
   ]
  },
  {
   "cell_type": "code",
   "execution_count": null,
   "id": "13db5f3c",
   "metadata": {},
   "outputs": [],
   "source": [
    "%%timeit -n 1 -r 1\n",
    "\n",
    "Y = np.load(\"../../../Thesis-Graph-Data/Ys/friendster-Y50.npy\") # For Ligra fairness - ligra cannot preload this\n",
    "_ = DataPreprocess.graph_encoder_embed(G_edgelist.astype(np.float64), Y, n, Correlation = False, Laplacian = True)"
   ]
  },
  {
   "cell_type": "code",
   "execution_count": null,
   "id": "341cc0ec",
   "metadata": {},
   "outputs": [],
   "source": [
    "print(\"Loading Friendster graph - 31GB\")\n",
    "\n",
    "G_edgelist = np.load(\"../../../Thesis-Graph-Data/NPY-graphs/friendster-0indexed-colswapped.npy\")\n",
    "\n",
    "# Add column of ones - weights\n",
    "G_edgelist = np.hstack((G_edgelist, np.ones((G_edgelist.shape[0], 1))))\n",
    "\n",
    "n = int(np.max(G_edgelist[:, 1]) + 1)  # Nr. vertices"
   ]
  },
  {
   "cell_type": "code",
   "execution_count": null,
   "id": "e8bc644b",
   "metadata": {},
   "outputs": [],
   "source": [
    "%%timeit -n 1 -r 1\n",
    "\n",
    "Y = np.load(\"../../../Thesis-Graph-Data/Ys/friendster-Y50.npy\") # For Ligra fairness - ligra cannot preload this\n",
    "_ = DataPreprocess.graph_encoder_embed(G_edgelist.astype(np.float64), Y, n, Correlation = False, Laplacian = True)"
   ]
  },
  {
   "cell_type": "code",
   "execution_count": null,
   "id": "a8b3ad5f",
   "metadata": {},
   "outputs": [],
   "source": [
    "print(\"Loading Friendster graph - 31GB\")\n",
    "\n",
    "G_edgelist = np.load(\"../../../Thesis-Graph-Data/NPY-graphs/friendster-0indexed-colswapped.npy\")\n",
    "\n",
    "# Add column of ones - weights\n",
    "G_edgelist = np.hstack((G_edgelist, np.ones((G_edgelist.shape[0], 1))))\n",
    "\n",
    "n = int(np.max(G_edgelist[:, 1]) + 1)  # Nr. vertices"
   ]
  },
  {
   "cell_type": "code",
   "execution_count": null,
   "id": "db4d7ec1",
   "metadata": {},
   "outputs": [],
   "source": [
    "%%timeit -n 1 -r 1\n",
    "\n",
    "Y = np.load(\"../../../Thesis-Graph-Data/Ys/friendster-Y50.npy\") # For Ligra fairness - ligra cannot preload this\n",
    "_ = DataPreprocess.graph_encoder_embed(G_edgelist.astype(np.float64), Y, n, Correlation = False, Laplacian = True)"
   ]
  },
  {
   "cell_type": "code",
   "execution_count": null,
   "id": "7a7bfa1d",
   "metadata": {},
   "outputs": [],
   "source": []
  }
 ],
 "metadata": {
  "kernelspec": {
   "display_name": "Python 3 (ipykernel)",
   "language": "python",
   "name": "python3"
  },
  "language_info": {
   "codemirror_mode": {
    "name": "ipython",
    "version": 3
   },
   "file_extension": ".py",
   "mimetype": "text/x-python",
   "name": "python",
   "nbconvert_exporter": "python",
   "pygments_lexer": "ipython3",
   "version": "3.9.2"
  }
 },
 "nbformat": 4,
 "nbformat_minor": 5
}
