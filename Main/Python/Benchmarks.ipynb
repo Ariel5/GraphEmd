{
 "cells": [
  {
   "cell_type": "code",
   "execution_count": 1,
   "id": "9bc40cd6",
   "metadata": {},
   "outputs": [
    {
     "name": "stdout",
     "output_type": "stream",
     "text": [
      "Benchmarks.ipynb   Evaluation.py      Run.py             \u001b[34mutils\u001b[m\u001b[m\r\n",
      "Clustering.py      GNN.py             __init__.py\r\n",
      "DataPreprocess.py  Hyperperameters.py \u001b[34m__pycache__\u001b[m\u001b[m\r\n",
      "Encode.py          LDA.py             setup.py\r\n"
     ]
    }
   ],
   "source": [
    "!ls"
   ]
  },
  {
   "cell_type": "code",
   "execution_count": 2,
   "id": "46ec442b",
   "metadata": {},
   "outputs": [],
   "source": [
    "import numpy as np"
   ]
  },
  {
   "cell_type": "code",
   "execution_count": 3,
   "id": "b6323044",
   "metadata": {},
   "outputs": [],
   "source": [
    "import DataPreprocess"
   ]
  },
  {
   "cell_type": "code",
   "execution_count": 7,
   "id": "90f7332b",
   "metadata": {},
   "outputs": [
    {
     "name": "stdout",
     "output_type": "stream",
     "text": [
      "Loading Twitch graph\n"
     ]
    }
   ],
   "source": [
    "print(\"Loading Twitch graph\")\n",
    "\n",
    "G_edgelist = np.load(\"../../../Thesis-Graph-Data/original-graphs/twitch.npy\")\n",
    "# G_edgelist = np.loadtxt(\"../../../Thesis-Graph-Data/twitch-SNAP-bidir-manually\", delimiter=\" \", dtype=np.int32)\n",
    "\n",
    "G_edgelist = G_edgelist[G_edgelist[:, 0].argsort()] # Sort by first column\n",
    "\n",
    "# Add column of ones - weights\n",
    "G_edgelist = np.hstack((G_edgelist, np.ones((G_edgelist.shape[0], 1))))#.astype(np.int32)\n",
    "# Make sure G_edgelist isn't restricted to int-s\n",
    "\n",
    "n = int(np.max(G_edgelist[:,1]) + 1) # Nr. vertices"
   ]
  },
  {
   "cell_type": "markdown",
   "id": "bebc59e0",
   "metadata": {},
   "source": [
    "# Unweighted, Non-Laplacian"
   ]
  },
  {
   "cell_type": "markdown",
   "id": "6c8914c1",
   "metadata": {},
   "source": [
    "## GEE pure"
   ]
  },
  {
   "cell_type": "markdown",
   "id": "2d3a0de3",
   "metadata": {},
   "source": [
    "### Twitch"
   ]
  },
  {
   "cell_type": "code",
   "execution_count": 13,
   "id": "87251e43",
   "metadata": {},
   "outputs": [
    {
     "name": "stdout",
     "output_type": "stream",
     "text": [
      "14 s ± 106 ms per loop (mean ± std. dev. of 7 runs, 1 loop each)\n"
     ]
    }
   ],
   "source": [
    "%%timeit\n",
    "\n",
    "\n",
    "Y = np.load(\"../../../Thesis-Graph-Data/Ys/twitch-Y20.npy\") # For Ligra fairness - ligra cannot preload this\n",
    "_ = DataPreprocess.graph_encoder_embed(G_edgelist, Y, n, Correlation = False, Laplacian = False)"
   ]
  },
  {
   "cell_type": "markdown",
   "id": "5835b05e",
   "metadata": {},
   "source": [
    "### Pokec"
   ]
  },
  {
   "cell_type": "code",
   "execution_count": 18,
   "id": "2a5fe50d",
   "metadata": {},
   "outputs": [
    {
     "name": "stdout",
     "output_type": "stream",
     "text": [
      "Loading Pokec graph - 400MB\n"
     ]
    }
   ],
   "source": [
    "print(\"Loading Pokec graph - 400MB\")\n",
    "\n",
    "G_edgelist = np.load(\"../../../Thesis-Graph-Data/original-graphs/pokec.npy\")\n",
    "\n",
    "G_edgelist = G_edgelist[G_edgelist[:, 0].argsort()] # Sort by first column\n",
    "\n",
    "# Add column of ones - weights\n",
    "G_edgelist = np.hstack((G_edgelist, np.ones((G_edgelist.shape[0], 1))))\n",
    "\n",
    "n = int(np.max(G_edgelist[:,1]) + 1) # Nr. vertices"
   ]
  },
  {
   "cell_type": "code",
   "execution_count": 19,
   "id": "6b52ce58",
   "metadata": {},
   "outputs": [
    {
     "name": "stdout",
     "output_type": "stream",
     "text": [
      "1min 3s ± 704 ms per loop (mean ± std. dev. of 7 runs, 1 loop each)\n"
     ]
    }
   ],
   "source": [
    "%%timeit\n",
    "\n",
    "\n",
    "Y = np.load(\"../../../Thesis-Graph-Data/Ys/pokec-Y50.npy\") # For Ligra fairness - ligra cannot preload this\n",
    "_ = DataPreprocess.graph_encoder_embed(G_edgelist, Y, n, Correlation = False, Laplacian = False)"
   ]
  },
  {
   "cell_type": "markdown",
   "id": "6b9ca4e0",
   "metadata": {},
   "source": [
    "### LiveJournal"
   ]
  },
  {
   "cell_type": "code",
   "execution_count": 4,
   "id": "7f625793",
   "metadata": {},
   "outputs": [
    {
     "name": "stdout",
     "output_type": "stream",
     "text": [
      "Loading LiveJournal graph - 1GB\n"
     ]
    }
   ],
   "source": [
    "print(\"Loading LiveJournal graph - 1GB\")\n",
    "\n",
    "G_edgelist = np.loadtxt(\"../../../Thesis-Graph-Data/original-graphs/soc-LiveJournal1.txt\", dtype=np.int32)\n",
    "\n",
    "# Add column of ones - weights\n",
    "G_edgelist = np.hstack((G_edgelist, np.ones((G_edgelist.shape[0], 1))))\n",
    "\n",
    "n = int(np.max(G_edgelist[:,1]) + 1) # Nr. vertices"
   ]
  },
  {
   "cell_type": "code",
   "execution_count": 5,
   "id": "8a391873",
   "metadata": {},
   "outputs": [
    {
     "name": "stdout",
     "output_type": "stream",
     "text": [
      "2min 27s ± 1.01 s per loop (mean ± std. dev. of 7 runs, 1 loop each)\n"
     ]
    }
   ],
   "source": [
    "%%timeit\n",
    "\n",
    "Y = np.load(\"../../../Thesis-Graph-Data/Ys/liveJournal-Y50.npy\") # For Ligra fairness - ligra cannot preload this\n",
    "_ = DataPreprocess.graph_encoder_embed(G_edgelist, Y, n, Correlation = False, Laplacian = False)"
   ]
  },
  {
   "cell_type": "markdown",
   "id": "3d105d22",
   "metadata": {},
   "source": [
    "### Orkut"
   ]
  },
  {
   "cell_type": "code",
   "execution_count": 14,
   "id": "6707e733",
   "metadata": {},
   "outputs": [
    {
     "name": "stdout",
     "output_type": "stream",
     "text": [
      "Loading Orkut graph - 1.8GB\n"
     ]
    }
   ],
   "source": [
    "print(\"Loading Orkut graph - 1.8GB\")\n",
    "\n",
    "G_edgelist = np.loadtxt(\"../../../Thesis-Graph-Data/original-graphs/orkut-svs.txt\", dtype=np.int32)\n",
    "\n",
    "# Add column of ones - weights\n",
    "G_edgelist = np.hstack((G_edgelist, np.ones((G_edgelist.shape[0], 1))))\n",
    "\n",
    "n = int(np.max(G_edgelist[:, 1]) + 1)  # Nr. vertices"
   ]
  },
  {
   "cell_type": "code",
   "execution_count": 16,
   "id": "23cee343",
   "metadata": {},
   "outputs": [
    {
     "name": "stdout",
     "output_type": "stream",
     "text": [
      "4min 3s ± 1.67 s per loop (mean ± std. dev. of 7 runs, 1 loop each)\n"
     ]
    }
   ],
   "source": [
    "%%timeit\n",
    "\n",
    "Y = np.load(\"../../../Thesis-Graph-Data/Ys/orkut-Y50.npy\") # For Ligra fairness - ligra cannot preload this\n",
    "_ = DataPreprocess.graph_encoder_embed(G_edgelist, Y, n, Correlation = False, Laplacian = False)"
   ]
  },
  {
   "cell_type": "markdown",
   "id": "f311c051",
   "metadata": {},
   "source": [
    "### Orkut-Groups 5.1GB"
   ]
  },
  {
   "cell_type": "code",
   "execution_count": 18,
   "id": "ac698703",
   "metadata": {},
   "outputs": [
    {
     "name": "stdout",
     "output_type": "stream",
     "text": [
      "Loading Orkut Groups graph - 5.1GB\n"
     ]
    }
   ],
   "source": [
    "print(\"Loading Orkut Groups graph - 5.1GB\")\n",
    "\n",
    "G_edgelist = np.loadtxt(\"../../../Thesis-Graph-Data/original-graphs/orkut-user2groups.edges\", comments='%', dtype=np.int32)\n",
    "\n",
    "# Add column of ones - weights\n",
    "G_edgelist = np.hstack((G_edgelist, np.ones((G_edgelist.shape[0], 1))))\n",
    "\n",
    "n = int(np.max(G_edgelist[:, 1]) + 1)  # Nr. vertices"
   ]
  },
  {
   "cell_type": "code",
   "execution_count": 19,
   "id": "1ccdf3e9",
   "metadata": {},
   "outputs": [
    {
     "name": "stdout",
     "output_type": "stream",
     "text": [
      "10min 52s ± 1.66 s per loop (mean ± std. dev. of 7 runs, 1 loop each)\n"
     ]
    }
   ],
   "source": [
    "%%timeit\n",
    "\n",
    "Y = np.load(\"../../../Thesis-Graph-Data/Ys/orkut-groups-Y40.npy\") # For Ligra fairness - ligra cannot preload this\n",
    "_ = DataPreprocess.graph_encoder_embed(G_edgelist, Y, n, Correlation = False, Laplacian = False)"
   ]
  },
  {
   "cell_type": "markdown",
   "id": "376d0f4b",
   "metadata": {},
   "source": [
    "## Numba Serial"
   ]
  },
  {
   "cell_type": "code",
   "execution_count": null,
   "id": "405113db",
   "metadata": {},
   "outputs": [],
   "source": []
  }
 ],
 "metadata": {
  "kernelspec": {
   "display_name": "Python 3 (ipykernel)",
   "language": "python",
   "name": "python3"
  },
  "language_info": {
   "codemirror_mode": {
    "name": "ipython",
    "version": 3
   },
   "file_extension": ".py",
   "mimetype": "text/x-python",
   "name": "python",
   "nbconvert_exporter": "python",
   "pygments_lexer": "ipython3",
   "version": "3.10.8"
  }
 },
 "nbformat": 4,
 "nbformat_minor": 5
}
