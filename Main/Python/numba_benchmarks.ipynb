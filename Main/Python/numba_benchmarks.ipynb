{
 "cells": [
  {
   "cell_type": "markdown",
   "id": "0585e54d",
   "metadata": {},
   "source": [
    "# Unweighted, Non-Laplacian"
   ]
  },
  {
   "cell_type": "markdown",
   "id": "eba0b3cd",
   "metadata": {},
   "source": [
    "## GEE pure, Numba Serial, Numba Parallel\n",
    "\n",
    "Edit `@jit` part of the code, then rerun these benchmarks to get the timing results"
   ]
  },
  {
   "cell_type": "code",
   "execution_count": 1,
   "id": "256ae608",
   "metadata": {},
   "outputs": [
    {
     "data": {
      "text/plain": [
       "48"
      ]
     },
     "execution_count": 1,
     "metadata": {},
     "output_type": "execute_result"
    }
   ],
   "source": [
    "import os\n",
    "import numpy as np\n",
    "import DataPreprocess\n",
    "from numba import set_num_threads, get_num_threads\n",
    "import timeit\n",
    "\n",
    "get_num_threads()"
   ]
  },
  {
   "cell_type": "code",
   "execution_count": null,
   "id": "8f9905b7-1f11-4b27-ad94-d636b76261c7",
   "metadata": {},
   "outputs": [],
   "source": [
    "import multiprocessing\n",
    "multiprocessing.cpu_count()"
   ]
  },
  {
   "cell_type": "markdown",
   "id": "5459dc69-c331-4746-80b0-f9a5c6f870f0",
   "metadata": {},
   "source": [
    "## Erdos-Renyi $2^{13} \\to 2^{31}$\n",
    "\n",
    "All graphs have average degree of 10"
   ]
  },
  {
   "cell_type": "code",
   "execution_count": 2,
   "id": "917513ef-2077-41a5-80aa-a23a347afca3",
   "metadata": {},
   "outputs": [],
   "source": [
    "base_dir = \"/home/ubuntu/prog/erdos-new\"\n",
    "\n",
    "erdos_10_degree_graphs_npy_path = os.path.join(base_dir, \"NPY\")\n",
    "erdos_labels_path = os.path.join(base_dir, \"Ys\")"
   ]
  },
  {
   "cell_type": "code",
   "execution_count": 3,
   "id": "12235fab-a925-40eb-9630-24131a5802f4",
   "metadata": {},
   "outputs": [],
   "source": [
    "def setup_gee(graph_name):\n",
    "    # Run this every time to not cache results\n",
    "    # print(\"Loading\", graph_name)\n",
    "\n",
    "    G_edgelist = np.load(os.path.join(erdos_10_degree_graphs_npy_path , graph_name))\n",
    "    # G_edgelist = np.loadtxt(\"../../../Thesis-Graph-Data/twitch-SNAP-bidir-manually\", delimiter=\" \", dtype=np.int32)\n",
    "    \n",
    "    G_edgelist = G_edgelist[G_edgelist[:, 0].argsort()] # Sort by first column\n",
    "    \n",
    "    # Add column of ones - weights\n",
    "    G_edgelist = np.hstack((G_edgelist, np.ones((G_edgelist.shape[0], 1))))#.astype(np.int32)\n",
    "    # Make sure G_edgelist isn't restricted to int-s\n",
    "    \n",
    "    n = int(np.max(G_edgelist[:,1]) + 1) # Nr. vertices\n",
    "\n",
    "    return G_edgelist, n"
   ]
  },
  {
   "cell_type": "code",
   "execution_count": 4,
   "id": "a062ea8e-93be-4418-b841-24431b339187",
   "metadata": {},
   "outputs": [],
   "source": [
    "def run_gee(erdos_labels_path , graph_name, G_edgelist, n):\n",
    "    Y = np.load(os.path.join(erdos_labels_path , graph_name)) # For Ligra fairness - ligra cannot preload this\n",
    "    _ = DataPreprocess.graph_encoder_embed(G_edgelist, Y, n, Correlation = False, Laplacian = False)"
   ]
  },
  {
   "cell_type": "markdown",
   "id": "e043a4bd-698c-4eab-aed8-d74f140ccdb2",
   "metadata": {},
   "source": [
    "#### Timing these results manually won't match bcs. we're running `setup_gee()` for caching purposes, which should not be counted into the time"
   ]
  },
  {
   "cell_type": "code",
   "execution_count": null,
   "id": "8d617a76-4abf-49c2-bff4-bba52e5372ba",
   "metadata": {},
   "outputs": [
    {
     "name": "stdout",
     "output_type": "stream",
     "text": [
      "\n",
      "\n",
      "Running experiments for 214748365-nodes_1073796575-edges.npy\n",
      "\n",
      "Experiment 1 for 214748365-nodes_1073796575-edges.npy: 2198.0943059069996 seconds\n"
     ]
    }
   ],
   "source": [
    "graph_files = [f for f in os.listdir(erdos_10_degree_graphs_npy_path) if f.endswith('.npy')]\n",
    "\n",
    "# Sort files by number of nodes (optional, for structured progression)\n",
    "graph_files.sort(key=lambda x: int(x.split('-')[0].split('_')[0]))\n",
    "\n",
    "# Loop over each graph file\n",
    "for graph_name in graph_files:\n",
    "    with open(\"runtime_results.txt\", \"a\") as result_file:\n",
    "        result_file.write(f\"\\n\\n{graph_name}\\n\\n\")\n",
    "\n",
    "    print(f\"\\n\\nRunning experiments for {graph_name}\\n\")\n",
    "\n",
    "    for i in range(7):\n",
    "        # Setup GEE (outside of timing)\n",
    "        G_edgelist, n = setup_gee(graph_name)\n",
    "\n",
    "        # Time the run_gee function\n",
    "        runtime = timeit.timeit(lambda: run_gee(erdos_labels_path, graph_name, G_edgelist, n), number=1)\n",
    "        result_string = f\"Experiment {i+1} for {graph_name}: {runtime} seconds\"\n",
    "\n",
    "        # Print and write the result to runtime_results.txt\n",
    "        print(result_string)\n",
    "        with open(\"runtime_results.txt\", \"a\") as result_file:\n",
    "            result_file.write(str(runtime)+'\\n')"
   ]
  },
  {
   "cell_type": "markdown",
   "id": "e533ef84-f50b-4629-80f3-bc46888b7213",
   "metadata": {},
   "source": [
    "# Named Graphs\n",
    "## Adjacency"
   ]
  },
  {
   "cell_type": "markdown",
   "id": "e3a01144",
   "metadata": {
    "jp-MarkdownHeadingCollapsed": true
   },
   "source": [
    "### Twitch"
   ]
  },
  {
   "cell_type": "code",
   "execution_count": 3,
   "id": "60cdb97c",
   "metadata": {},
   "outputs": [
    {
     "name": "stdout",
     "output_type": "stream",
     "text": [
      "Loading Twitch graph\n"
     ]
    }
   ],
   "source": [
    "print(\"Loading Twitch graph\")\n",
    "\n",
    "G_edgelist = np.load(\"../../../Thesis-Graph-Data/NPY-graphs/twitch.npy\")\n",
    "# G_edgelist = np.loadtxt(\"../../../Thesis-Graph-Data/twitch-SNAP-bidir-manually\", delimiter=\" \", dtype=np.int32)\n",
    "\n",
    "G_edgelist = G_edgelist[G_edgelist[:, 0].argsort()] # Sort by first column\n",
    "\n",
    "# Add column of ones - weights\n",
    "G_edgelist = np.hstack((G_edgelist, np.ones((G_edgelist.shape[0], 1))))#.astype(np.int32)\n",
    "# Make sure G_edgelist isn't restricted to int-s\n",
    "\n",
    "n = int(np.max(G_edgelist[:,1]) + 1) # Nr. vertices"
   ]
  },
  {
   "cell_type": "code",
   "execution_count": 4,
   "id": "21d9638f",
   "metadata": {},
   "outputs": [
    {
     "name": "stdout",
     "output_type": "stream",
     "text": [
      "31.2 s ± 0 ns per loop (mean ± std. dev. of 1 run, 1 loop each)\n"
     ]
    }
   ],
   "source": [
    "%%timeit -n 1 -r 1\n",
    "\n",
    "\n",
    "Y = np.load(\"../../../Thesis-Graph-Data/Ys/twitch-Y20.npy\") # For Ligra fairness - ligra cannot preload this\n",
    "_ = DataPreprocess.graph_encoder_embed(G_edgelist, Y, n, Correlation = False, Laplacian = False)"
   ]
  },
  {
   "cell_type": "code",
   "execution_count": 5,
   "id": "bd2630dd",
   "metadata": {},
   "outputs": [
    {
     "name": "stdout",
     "output_type": "stream",
     "text": [
      "Loading Twitch graph\n"
     ]
    }
   ],
   "source": [
    "print(\"Loading Twitch graph\")\n",
    "\n",
    "G_edgelist = np.load(\"../../../Thesis-Graph-Data/NPY-graphs/twitch.npy\")\n",
    "# G_edgelist = np.loadtxt(\"../../../Thesis-Graph-Data/twitch-SNAP-bidir-manually\", delimiter=\" \", dtype=np.int32)\n",
    "\n",
    "G_edgelist = G_edgelist[G_edgelist[:, 0].argsort()] # Sort by first column\n",
    "\n",
    "# Add column of ones - weights\n",
    "G_edgelist = np.hstack((G_edgelist, np.ones((G_edgelist.shape[0], 1))))#.astype(np.int32)\n",
    "# Make sure G_edgelist isn't restricted to int-s\n",
    "\n",
    "n = int(np.max(G_edgelist[:,1]) + 1) # Nr. vertices"
   ]
  },
  {
   "cell_type": "code",
   "execution_count": 6,
   "id": "687029e0",
   "metadata": {},
   "outputs": [
    {
     "name": "stdout",
     "output_type": "stream",
     "text": [
      "31.1 s ± 0 ns per loop (mean ± std. dev. of 1 run, 1 loop each)\n"
     ]
    }
   ],
   "source": [
    "%%timeit -n 1 -r 1\n",
    "\n",
    "\n",
    "Y = np.load(\"../../../Thesis-Graph-Data/Ys/twitch-Y20.npy\") # For Ligra fairness - ligra cannot preload this\n",
    "_ = DataPreprocess.graph_encoder_embed(G_edgelist, Y, n, Correlation = False, Laplacian = False)"
   ]
  },
  {
   "cell_type": "code",
   "execution_count": 21,
   "id": "ae7f0205",
   "metadata": {},
   "outputs": [
    {
     "name": "stdout",
     "output_type": "stream",
     "text": [
      "Loading Twitch graph\n"
     ]
    }
   ],
   "source": [
    "print(\"Loading Twitch graph\")\n",
    "\n",
    "G_edgelist = np.load(\"../../../Thesis-Graph-Data/NPY-graphs/twitch.npy\")\n",
    "# G_edgelist = np.loadtxt(\"../../../Thesis-Graph-Data/twitch-SNAP-bidir-manually\", delimiter=\" \", dtype=np.int32)\n",
    "\n",
    "G_edgelist = G_edgelist[G_edgelist[:, 0].argsort()] # Sort by first column\n",
    "\n",
    "# Add column of ones - weights\n",
    "G_edgelist = np.hstack((G_edgelist, np.ones((G_edgelist.shape[0], 1))))#.astype(np.int32)\n",
    "# Make sure G_edgelist isn't restricted to int-s\n",
    "\n",
    "n = int(np.max(G_edgelist[:,1]) + 1) # Nr. vertices"
   ]
  },
  {
   "cell_type": "code",
   "execution_count": 22,
   "id": "2cfbe72c",
   "metadata": {},
   "outputs": [
    {
     "name": "stdout",
     "output_type": "stream",
     "text": [
      "125 ms ± 0 ns per loop (mean ± std. dev. of 1 run, 1 loop each)\n"
     ]
    }
   ],
   "source": [
    "%%timeit -n 1 -r 1\n",
    "\n",
    "\n",
    "Y = np.load(\"../../../Thesis-Graph-Data/Ys/twitch-Y20.npy\") # For Ligra fairness - ligra cannot preload this\n",
    "_ = DataPreprocess.graph_encoder_embed(G_edgelist, Y, n, Correlation = False, Laplacian = False)"
   ]
  },
  {
   "cell_type": "code",
   "execution_count": 23,
   "id": "3d304c83",
   "metadata": {},
   "outputs": [
    {
     "name": "stdout",
     "output_type": "stream",
     "text": [
      "Loading Twitch graph\n"
     ]
    }
   ],
   "source": [
    "print(\"Loading Twitch graph\")\n",
    "\n",
    "G_edgelist = np.load(\"../../../Thesis-Graph-Data/NPY-graphs/twitch.npy\")\n",
    "# G_edgelist = np.loadtxt(\"../../../Thesis-Graph-Data/twitch-SNAP-bidir-manually\", delimiter=\" \", dtype=np.int32)\n",
    "\n",
    "G_edgelist = G_edgelist[G_edgelist[:, 0].argsort()] # Sort by first column\n",
    "\n",
    "# Add column of ones - weights\n",
    "G_edgelist = np.hstack((G_edgelist, np.ones((G_edgelist.shape[0], 1))))#.astype(np.int32)\n",
    "# Make sure G_edgelist isn't restricted to int-s\n",
    "\n",
    "n = int(np.max(G_edgelist[:,1]) + 1) # Nr. vertices"
   ]
  },
  {
   "cell_type": "code",
   "execution_count": 24,
   "id": "1d7775a5",
   "metadata": {},
   "outputs": [
    {
     "name": "stdout",
     "output_type": "stream",
     "text": [
      "102 ms ± 0 ns per loop (mean ± std. dev. of 1 run, 1 loop each)\n"
     ]
    }
   ],
   "source": [
    "%%timeit -n 1 -r 1\n",
    "\n",
    "\n",
    "Y = np.load(\"../../../Thesis-Graph-Data/Ys/twitch-Y20.npy\") # For Ligra fairness - ligra cannot preload this\n",
    "_ = DataPreprocess.graph_encoder_embed(G_edgelist, Y, n, Correlation = False, Laplacian = False)"
   ]
  },
  {
   "cell_type": "code",
   "execution_count": 25,
   "id": "1bf1d01d",
   "metadata": {},
   "outputs": [
    {
     "name": "stdout",
     "output_type": "stream",
     "text": [
      "Loading Twitch graph\n"
     ]
    }
   ],
   "source": [
    "print(\"Loading Twitch graph\")\n",
    "\n",
    "G_edgelist = np.load(\"../../../Thesis-Graph-Data/NPY-graphs/twitch.npy\")\n",
    "# G_edgelist = np.loadtxt(\"../../../Thesis-Graph-Data/twitch-SNAP-bidir-manually\", delimiter=\" \", dtype=np.int32)\n",
    "\n",
    "G_edgelist = G_edgelist[G_edgelist[:, 0].argsort()] # Sort by first column\n",
    "\n",
    "# Add column of ones - weights\n",
    "G_edgelist = np.hstack((G_edgelist, np.ones((G_edgelist.shape[0], 1))))#.astype(np.int32)\n",
    "# Make sure G_edgelist isn't restricted to int-s\n",
    "\n",
    "n = int(np.max(G_edgelist[:,1]) + 1) # Nr. vertices"
   ]
  },
  {
   "cell_type": "code",
   "execution_count": 26,
   "id": "a969062a",
   "metadata": {},
   "outputs": [
    {
     "name": "stdout",
     "output_type": "stream",
     "text": [
      "102 ms ± 0 ns per loop (mean ± std. dev. of 1 run, 1 loop each)\n"
     ]
    }
   ],
   "source": [
    "%%timeit -n 1 -r 1\n",
    "\n",
    "\n",
    "Y = np.load(\"../../../Thesis-Graph-Data/Ys/twitch-Y20.npy\") # For Ligra fairness - ligra cannot preload this\n",
    "_ = DataPreprocess.graph_encoder_embed(G_edgelist, Y, n, Correlation = False, Laplacian = False)"
   ]
  },
  {
   "cell_type": "code",
   "execution_count": 27,
   "id": "c8362608",
   "metadata": {},
   "outputs": [
    {
     "name": "stdout",
     "output_type": "stream",
     "text": [
      "Loading Twitch graph\n"
     ]
    }
   ],
   "source": [
    "print(\"Loading Twitch graph\")\n",
    "\n",
    "G_edgelist = np.load(\"../../../Thesis-Graph-Data/NPY-graphs/twitch.npy\")\n",
    "# G_edgelist = np.loadtxt(\"../../../Thesis-Graph-Data/twitch-SNAP-bidir-manually\", delimiter=\" \", dtype=np.int32)\n",
    "\n",
    "G_edgelist = G_edgelist[G_edgelist[:, 0].argsort()] # Sort by first column\n",
    "\n",
    "# Add column of ones - weights\n",
    "G_edgelist = np.hstack((G_edgelist, np.ones((G_edgelist.shape[0], 1))))#.astype(np.int32)\n",
    "# Make sure G_edgelist isn't restricted to int-s\n",
    "\n",
    "n = int(np.max(G_edgelist[:,1]) + 1) # Nr. vertices"
   ]
  },
  {
   "cell_type": "code",
   "execution_count": 28,
   "id": "7bfe5a0a",
   "metadata": {},
   "outputs": [
    {
     "name": "stdout",
     "output_type": "stream",
     "text": [
      "103 ms ± 0 ns per loop (mean ± std. dev. of 1 run, 1 loop each)\n"
     ]
    }
   ],
   "source": [
    "%%timeit -n 1 -r 1\n",
    "\n",
    "\n",
    "Y = np.load(\"../../../Thesis-Graph-Data/Ys/twitch-Y20.npy\") # For Ligra fairness - ligra cannot preload this\n",
    "_ = DataPreprocess.graph_encoder_embed(G_edgelist, Y, n, Correlation = False, Laplacian = False)"
   ]
  },
  {
   "cell_type": "code",
   "execution_count": 29,
   "id": "47dbf09c",
   "metadata": {},
   "outputs": [
    {
     "name": "stdout",
     "output_type": "stream",
     "text": [
      "Loading Twitch graph\n"
     ]
    }
   ],
   "source": [
    "print(\"Loading Twitch graph\")\n",
    "\n",
    "G_edgelist = np.load(\"../../../Thesis-Graph-Data/NPY-graphs/twitch.npy\")\n",
    "# G_edgelist = np.loadtxt(\"../../../Thesis-Graph-Data/twitch-SNAP-bidir-manually\", delimiter=\" \", dtype=np.int32)\n",
    "\n",
    "G_edgelist = G_edgelist[G_edgelist[:, 0].argsort()] # Sort by first column\n",
    "\n",
    "# Add column of ones - weights\n",
    "G_edgelist = np.hstack((G_edgelist, np.ones((G_edgelist.shape[0], 1))))#.astype(np.int32)\n",
    "# Make sure G_edgelist isn't restricted to int-s\n",
    "\n",
    "n = int(np.max(G_edgelist[:,1]) + 1) # Nr. vertices"
   ]
  },
  {
   "cell_type": "code",
   "execution_count": 30,
   "id": "24de5afb",
   "metadata": {},
   "outputs": [
    {
     "name": "stdout",
     "output_type": "stream",
     "text": [
      "104 ms ± 0 ns per loop (mean ± std. dev. of 1 run, 1 loop each)\n"
     ]
    }
   ],
   "source": [
    "%%timeit -n 1 -r 1\n",
    "\n",
    "\n",
    "Y = np.load(\"../../../Thesis-Graph-Data/Ys/twitch-Y20.npy\") # For Ligra fairness - ligra cannot preload this\n",
    "_ = DataPreprocess.graph_encoder_embed(G_edgelist, Y, n, Correlation = False, Laplacian = False)"
   ]
  },
  {
   "cell_type": "markdown",
   "id": "69cf81af",
   "metadata": {
    "jp-MarkdownHeadingCollapsed": true
   },
   "source": [
    "### Pokec"
   ]
  },
  {
   "cell_type": "code",
   "execution_count": 7,
   "id": "8a2a4069",
   "metadata": {},
   "outputs": [
    {
     "name": "stdout",
     "output_type": "stream",
     "text": [
      "Loading Pokec graph - 400MB\n"
     ]
    }
   ],
   "source": [
    "print(\"Loading Pokec graph - 400MB\")\n",
    "\n",
    "G_edgelist = np.load(\"../../../Thesis-Graph-Data/NPY-graphs/pokec.npy\")\n",
    "\n",
    "G_edgelist = G_edgelist[G_edgelist[:, 0].argsort()] # Sort by first column\n",
    "\n",
    "# Add column of ones - weights\n",
    "G_edgelist = np.hstack((G_edgelist, np.ones((G_edgelist.shape[0], 1))))\n",
    "\n",
    "n = int(np.max(G_edgelist[:,1]) + 1) # Nr. vertices"
   ]
  },
  {
   "cell_type": "code",
   "execution_count": 8,
   "id": "da7214fd",
   "metadata": {},
   "outputs": [
    {
     "name": "stdout",
     "output_type": "stream",
     "text": [
      "2min 22s ± 0 ns per loop (mean ± std. dev. of 1 run, 1 loop each)\n"
     ]
    }
   ],
   "source": [
    "%%timeit -n 1 -r 1\n",
    "\n",
    "\n",
    "Y = np.load(\"../../../Thesis-Graph-Data/Ys/pokec-Y50.npy\") # For Ligra fairness - ligra cannot preload this\n",
    "_ = DataPreprocess.graph_encoder_embed(G_edgelist, Y, n, Correlation = False, Laplacian = False)"
   ]
  },
  {
   "cell_type": "code",
   "execution_count": 33,
   "id": "537337fe",
   "metadata": {},
   "outputs": [
    {
     "name": "stdout",
     "output_type": "stream",
     "text": [
      "Loading Pokec graph - 400MB\n"
     ]
    }
   ],
   "source": [
    "print(\"Loading Pokec graph - 400MB\")\n",
    "\n",
    "G_edgelist = np.load(\"../../../Thesis-Graph-Data/NPY-graphs/pokec.npy\")\n",
    "\n",
    "G_edgelist = G_edgelist[G_edgelist[:, 0].argsort()] # Sort by first column\n",
    "\n",
    "# Add column of ones - weights\n",
    "G_edgelist = np.hstack((G_edgelist, np.ones((G_edgelist.shape[0], 1))))\n",
    "\n",
    "n = int(np.max(G_edgelist[:,1]) + 1) # Nr. vertices"
   ]
  },
  {
   "cell_type": "code",
   "execution_count": 34,
   "id": "288a7182",
   "metadata": {},
   "outputs": [
    {
     "name": "stdout",
     "output_type": "stream",
     "text": [
      "758 ms ± 443 µs per loop (mean ± std. dev. of 7 runs, 1 loop each)\n"
     ]
    }
   ],
   "source": [
    "%%timeit -n 1 -r 1\n",
    "\n",
    "\n",
    "Y = np.load(\"../../../Thesis-Graph-Data/Ys/pokec-Y50.npy\") # For Ligra fairness - ligra cannot preload this\n",
    "_ = DataPreprocess.graph_encoder_embed(G_edgelist, Y, n, Correlation = False, Laplacian = False)"
   ]
  },
  {
   "cell_type": "code",
   "execution_count": 35,
   "id": "86eb00e6",
   "metadata": {},
   "outputs": [
    {
     "name": "stdout",
     "output_type": "stream",
     "text": [
      "Loading Pokec graph - 400MB\n"
     ]
    }
   ],
   "source": [
    "print(\"Loading Pokec graph - 400MB\")\n",
    "\n",
    "G_edgelist = np.load(\"../../../Thesis-Graph-Data/NPY-graphs/pokec.npy\")\n",
    "\n",
    "G_edgelist = G_edgelist[G_edgelist[:, 0].argsort()] # Sort by first column\n",
    "\n",
    "# Add column of ones - weights\n",
    "G_edgelist = np.hstack((G_edgelist, np.ones((G_edgelist.shape[0], 1))))\n",
    "\n",
    "n = int(np.max(G_edgelist[:,1]) + 1) # Nr. vertices"
   ]
  },
  {
   "cell_type": "code",
   "execution_count": 36,
   "id": "0e8f021c",
   "metadata": {},
   "outputs": [
    {
     "name": "stdout",
     "output_type": "stream",
     "text": [
      "757 ms ± 270 µs per loop (mean ± std. dev. of 7 runs, 1 loop each)\n"
     ]
    }
   ],
   "source": [
    "%%timeit -n 1 -r 1\n",
    "\n",
    "\n",
    "Y = np.load(\"../../../Thesis-Graph-Data/Ys/pokec-Y50.npy\") # For Ligra fairness - ligra cannot preload this\n",
    "_ = DataPreprocess.graph_encoder_embed(G_edgelist, Y, n, Correlation = False, Laplacian = False)"
   ]
  },
  {
   "cell_type": "code",
   "execution_count": 37,
   "id": "6af824a9",
   "metadata": {},
   "outputs": [
    {
     "name": "stdout",
     "output_type": "stream",
     "text": [
      "Loading Pokec graph - 400MB\n"
     ]
    }
   ],
   "source": [
    "print(\"Loading Pokec graph - 400MB\")\n",
    "\n",
    "G_edgelist = np.load(\"../../../Thesis-Graph-Data/NPY-graphs/pokec.npy\")\n",
    "\n",
    "G_edgelist = G_edgelist[G_edgelist[:, 0].argsort()] # Sort by first column\n",
    "\n",
    "# Add column of ones - weights\n",
    "G_edgelist = np.hstack((G_edgelist, np.ones((G_edgelist.shape[0], 1))))\n",
    "\n",
    "n = int(np.max(G_edgelist[:,1]) + 1) # Nr. vertices"
   ]
  },
  {
   "cell_type": "code",
   "execution_count": 38,
   "id": "85cecfe5",
   "metadata": {},
   "outputs": [
    {
     "name": "stdout",
     "output_type": "stream",
     "text": [
      "758 ms ± 580 µs per loop (mean ± std. dev. of 7 runs, 1 loop each)\n"
     ]
    }
   ],
   "source": [
    "%%timeit -n 1 -r 1\n",
    "\n",
    "\n",
    "Y = np.load(\"../../../Thesis-Graph-Data/Ys/pokec-Y50.npy\") # For Ligra fairness - ligra cannot preload this\n",
    "_ = DataPreprocess.graph_encoder_embed(G_edgelist, Y, n, Correlation = False, Laplacian = False)"
   ]
  },
  {
   "cell_type": "code",
   "execution_count": 39,
   "id": "6249b585",
   "metadata": {},
   "outputs": [
    {
     "name": "stdout",
     "output_type": "stream",
     "text": [
      "Loading Pokec graph - 400MB\n"
     ]
    }
   ],
   "source": [
    "print(\"Loading Pokec graph - 400MB\")\n",
    "\n",
    "G_edgelist = np.load(\"../../../Thesis-Graph-Data/NPY-graphs/pokec.npy\")\n",
    "\n",
    "G_edgelist = G_edgelist[G_edgelist[:, 0].argsort()] # Sort by first column\n",
    "\n",
    "# Add column of ones - weights\n",
    "G_edgelist = np.hstack((G_edgelist, np.ones((G_edgelist.shape[0], 1))))\n",
    "\n",
    "n = int(np.max(G_edgelist[:,1]) + 1) # Nr. vertices"
   ]
  },
  {
   "cell_type": "code",
   "execution_count": 40,
   "id": "45fa79fc",
   "metadata": {},
   "outputs": [
    {
     "name": "stdout",
     "output_type": "stream",
     "text": [
      "757 ms ± 358 µs per loop (mean ± std. dev. of 7 runs, 1 loop each)\n"
     ]
    }
   ],
   "source": [
    "%%timeit -n 1 -r 1\n",
    "\n",
    "\n",
    "Y = np.load(\"../../../Thesis-Graph-Data/Ys/pokec-Y50.npy\") # For Ligra fairness - ligra cannot preload this\n",
    "_ = DataPreprocess.graph_encoder_embed(G_edgelist, Y, n, Correlation = False, Laplacian = False)"
   ]
  },
  {
   "cell_type": "code",
   "execution_count": 41,
   "id": "11924252",
   "metadata": {},
   "outputs": [
    {
     "name": "stdout",
     "output_type": "stream",
     "text": [
      "Loading Pokec graph - 400MB\n"
     ]
    }
   ],
   "source": [
    "print(\"Loading Pokec graph - 400MB\")\n",
    "\n",
    "G_edgelist = np.load(\"../../../Thesis-Graph-Data/NPY-graphs/pokec.npy\")\n",
    "\n",
    "G_edgelist = G_edgelist[G_edgelist[:, 0].argsort()] # Sort by first column\n",
    "\n",
    "# Add column of ones - weights\n",
    "G_edgelist = np.hstack((G_edgelist, np.ones((G_edgelist.shape[0], 1))))\n",
    "\n",
    "n = int(np.max(G_edgelist[:,1]) + 1) # Nr. vertices"
   ]
  },
  {
   "cell_type": "code",
   "execution_count": 42,
   "id": "1282843b",
   "metadata": {},
   "outputs": [
    {
     "name": "stdout",
     "output_type": "stream",
     "text": [
      "758 ms ± 381 µs per loop (mean ± std. dev. of 7 runs, 1 loop each)\n"
     ]
    }
   ],
   "source": [
    "%%timeit -n 1 -r 1\n",
    "\n",
    "\n",
    "Y = np.load(\"../../../Thesis-Graph-Data/Ys/pokec-Y50.npy\") # For Ligra fairness - ligra cannot preload this\n",
    "_ = DataPreprocess.graph_encoder_embed(G_edgelist, Y, n, Correlation = False, Laplacian = False)"
   ]
  },
  {
   "cell_type": "code",
   "execution_count": 43,
   "id": "83ee7a02",
   "metadata": {},
   "outputs": [
    {
     "name": "stdout",
     "output_type": "stream",
     "text": [
      "Loading Pokec graph - 400MB\n"
     ]
    }
   ],
   "source": [
    "print(\"Loading Pokec graph - 400MB\")\n",
    "\n",
    "G_edgelist = np.load(\"../../../Thesis-Graph-Data/NPY-graphs/pokec.npy\")\n",
    "\n",
    "G_edgelist = G_edgelist[G_edgelist[:, 0].argsort()] # Sort by first column\n",
    "\n",
    "# Add column of ones - weights\n",
    "G_edgelist = np.hstack((G_edgelist, np.ones((G_edgelist.shape[0], 1))))\n",
    "\n",
    "n = int(np.max(G_edgelist[:,1]) + 1) # Nr. vertices"
   ]
  },
  {
   "cell_type": "code",
   "execution_count": 44,
   "id": "c5bd7dfe",
   "metadata": {},
   "outputs": [
    {
     "name": "stdout",
     "output_type": "stream",
     "text": [
      "758 ms ± 847 µs per loop (mean ± std. dev. of 7 runs, 1 loop each)\n"
     ]
    }
   ],
   "source": [
    "%%timeit -n 1 -r 1\n",
    "\n",
    "\n",
    "Y = np.load(\"../../../Thesis-Graph-Data/Ys/pokec-Y50.npy\") # For Ligra fairness - ligra cannot preload this\n",
    "_ = DataPreprocess.graph_encoder_embed(G_edgelist, Y, n, Correlation = False, Laplacian = False)"
   ]
  },
  {
   "cell_type": "markdown",
   "id": "c106508d",
   "metadata": {
    "jp-MarkdownHeadingCollapsed": true
   },
   "source": [
    "### LiveJournal"
   ]
  },
  {
   "cell_type": "code",
   "execution_count": 9,
   "id": "850b741c",
   "metadata": {},
   "outputs": [
    {
     "name": "stdout",
     "output_type": "stream",
     "text": [
      "Loading LiveJournal graph - 1GB\n"
     ]
    }
   ],
   "source": [
    "print(\"Loading LiveJournal graph - 1GB\")\n",
    "\n",
    "G_edgelist = np.load(\"../../../Thesis-Graph-Data/NPY-graphs/liveJournal.npy\")\n",
    "\n",
    "# Add column of ones - weights\n",
    "G_edgelist = np.hstack((G_edgelist, np.ones((G_edgelist.shape[0], 1))))\n",
    "\n",
    "n = int(np.max(G_edgelist[:,1]) + 1) # Nr. vertices"
   ]
  },
  {
   "cell_type": "code",
   "execution_count": 10,
   "id": "fd2c4d7c",
   "metadata": {},
   "outputs": [
    {
     "name": "stdout",
     "output_type": "stream",
     "text": [
      "5min 22s ± 0 ns per loop (mean ± std. dev. of 1 run, 1 loop each)\n"
     ]
    }
   ],
   "source": [
    "%%timeit -n 1 -r 1\n",
    "\n",
    "Y = np.load(\"../../../Thesis-Graph-Data/Ys/liveJournal-Y50.npy\") # For Ligra fairness - ligra cannot preload this\n",
    "_ = DataPreprocess.graph_encoder_embed(G_edgelist, Y, n, Correlation = False, Laplacian = False)"
   ]
  },
  {
   "cell_type": "code",
   "execution_count": 47,
   "id": "2edbdcc0",
   "metadata": {},
   "outputs": [
    {
     "name": "stdout",
     "output_type": "stream",
     "text": [
      "Loading LiveJournal graph - 1GB\n"
     ]
    }
   ],
   "source": [
    "print(\"Loading LiveJournal graph - 1GB\")\n",
    "\n",
    "G_edgelist = np.load(\"../../../Thesis-Graph-Data/NPY-graphs/liveJournal.npy\")\n",
    "\n",
    "# Add column of ones - weights\n",
    "G_edgelist = np.hstack((G_edgelist, np.ones((G_edgelist.shape[0], 1))))\n",
    "\n",
    "n = int(np.max(G_edgelist[:,1]) + 1) # Nr. vertices"
   ]
  },
  {
   "cell_type": "code",
   "execution_count": 48,
   "id": "1f60733d",
   "metadata": {},
   "outputs": [
    {
     "name": "stdout",
     "output_type": "stream",
     "text": [
      "1.68 s ± 0 ns per loop (mean ± std. dev. of 1 run, 1 loop each)\n"
     ]
    }
   ],
   "source": [
    "%%timeit -n 1 -r 1\n",
    "\n",
    "Y = np.load(\"../../../Thesis-Graph-Data/Ys/liveJournal-Y50.npy\") # For Ligra fairness - ligra cannot preload this\n",
    "_ = DataPreprocess.graph_encoder_embed(G_edgelist, Y, n, Correlation = False, Laplacian = False)"
   ]
  },
  {
   "cell_type": "code",
   "execution_count": 49,
   "id": "45efdca0",
   "metadata": {},
   "outputs": [
    {
     "name": "stdout",
     "output_type": "stream",
     "text": [
      "Loading LiveJournal graph - 1GB\n"
     ]
    }
   ],
   "source": [
    "print(\"Loading LiveJournal graph - 1GB\")\n",
    "\n",
    "G_edgelist = np.load(\"../../../Thesis-Graph-Data/NPY-graphs/liveJournal.npy\")\n",
    "\n",
    "# Add column of ones - weights\n",
    "G_edgelist = np.hstack((G_edgelist, np.ones((G_edgelist.shape[0], 1))))\n",
    "\n",
    "n = int(np.max(G_edgelist[:,1]) + 1) # Nr. vertices"
   ]
  },
  {
   "cell_type": "code",
   "execution_count": 50,
   "id": "d53ccd9b",
   "metadata": {},
   "outputs": [
    {
     "name": "stdout",
     "output_type": "stream",
     "text": [
      "1.68 s ± 0 ns per loop (mean ± std. dev. of 1 run, 1 loop each)\n"
     ]
    }
   ],
   "source": [
    "%%timeit -n 1 -r 1\n",
    "\n",
    "Y = np.load(\"../../../Thesis-Graph-Data/Ys/liveJournal-Y50.npy\") # For Ligra fairness - ligra cannot preload this\n",
    "_ = DataPreprocess.graph_encoder_embed(G_edgelist, Y, n, Correlation = False, Laplacian = False)"
   ]
  },
  {
   "cell_type": "code",
   "execution_count": 51,
   "id": "ae76c683",
   "metadata": {},
   "outputs": [
    {
     "name": "stdout",
     "output_type": "stream",
     "text": [
      "Loading LiveJournal graph - 1GB\n"
     ]
    }
   ],
   "source": [
    "print(\"Loading LiveJournal graph - 1GB\")\n",
    "\n",
    "G_edgelist = np.load(\"../../../Thesis-Graph-Data/NPY-graphs/liveJournal.npy\")\n",
    "\n",
    "# Add column of ones - weights\n",
    "G_edgelist = np.hstack((G_edgelist, np.ones((G_edgelist.shape[0], 1))))\n",
    "\n",
    "n = int(np.max(G_edgelist[:,1]) + 1) # Nr. vertices"
   ]
  },
  {
   "cell_type": "code",
   "execution_count": 52,
   "id": "30a45b06",
   "metadata": {},
   "outputs": [
    {
     "name": "stdout",
     "output_type": "stream",
     "text": [
      "1.7 s ± 0 ns per loop (mean ± std. dev. of 1 run, 1 loop each)\n"
     ]
    }
   ],
   "source": [
    "%%timeit -n 1 -r 1\n",
    "\n",
    "Y = np.load(\"../../../Thesis-Graph-Data/Ys/liveJournal-Y50.npy\") # For Ligra fairness - ligra cannot preload this\n",
    "_ = DataPreprocess.graph_encoder_embed(G_edgelist, Y, n, Correlation = False, Laplacian = False)"
   ]
  },
  {
   "cell_type": "code",
   "execution_count": 53,
   "id": "799ffdd0",
   "metadata": {},
   "outputs": [
    {
     "name": "stdout",
     "output_type": "stream",
     "text": [
      "Loading LiveJournal graph - 1GB\n"
     ]
    }
   ],
   "source": [
    "print(\"Loading LiveJournal graph - 1GB\")\n",
    "\n",
    "G_edgelist = np.load(\"../../../Thesis-Graph-Data/NPY-graphs/liveJournal.npy\")\n",
    "\n",
    "# Add column of ones - weights\n",
    "G_edgelist = np.hstack((G_edgelist, np.ones((G_edgelist.shape[0], 1))))\n",
    "\n",
    "n = int(np.max(G_edgelist[:,1]) + 1) # Nr. vertices"
   ]
  },
  {
   "cell_type": "code",
   "execution_count": 54,
   "id": "3f003d22",
   "metadata": {},
   "outputs": [
    {
     "name": "stdout",
     "output_type": "stream",
     "text": [
      "1.68 s ± 0 ns per loop (mean ± std. dev. of 1 run, 1 loop each)\n"
     ]
    }
   ],
   "source": [
    "%%timeit -n 1 -r 1\n",
    "\n",
    "Y = np.load(\"../../../Thesis-Graph-Data/Ys/liveJournal-Y50.npy\") # For Ligra fairness - ligra cannot preload this\n",
    "_ = DataPreprocess.graph_encoder_embed(G_edgelist, Y, n, Correlation = False, Laplacian = False)"
   ]
  },
  {
   "cell_type": "code",
   "execution_count": 55,
   "id": "9084cc66",
   "metadata": {},
   "outputs": [
    {
     "name": "stdout",
     "output_type": "stream",
     "text": [
      "Loading LiveJournal graph - 1GB\n"
     ]
    }
   ],
   "source": [
    "print(\"Loading LiveJournal graph - 1GB\")\n",
    "\n",
    "G_edgelist = np.load(\"../../../Thesis-Graph-Data/NPY-graphs/liveJournal.npy\")\n",
    "\n",
    "# Add column of ones - weights\n",
    "G_edgelist = np.hstack((G_edgelist, np.ones((G_edgelist.shape[0], 1))))\n",
    "\n",
    "n = int(np.max(G_edgelist[:,1]) + 1) # Nr. vertices"
   ]
  },
  {
   "cell_type": "code",
   "execution_count": 56,
   "id": "50e9b639",
   "metadata": {},
   "outputs": [
    {
     "name": "stdout",
     "output_type": "stream",
     "text": [
      "1.68 s ± 0 ns per loop (mean ± std. dev. of 1 run, 1 loop each)\n"
     ]
    }
   ],
   "source": [
    "%%timeit -n 1 -r 1\n",
    "\n",
    "Y = np.load(\"../../../Thesis-Graph-Data/Ys/liveJournal-Y50.npy\") # For Ligra fairness - ligra cannot preload this\n",
    "_ = DataPreprocess.graph_encoder_embed(G_edgelist, Y, n, Correlation = False, Laplacian = False)"
   ]
  },
  {
   "cell_type": "code",
   "execution_count": 57,
   "id": "dedb93a4",
   "metadata": {},
   "outputs": [
    {
     "name": "stdout",
     "output_type": "stream",
     "text": [
      "Loading LiveJournal graph - 1GB\n"
     ]
    }
   ],
   "source": [
    "print(\"Loading LiveJournal graph - 1GB\")\n",
    "\n",
    "G_edgelist = np.load(\"../../../Thesis-Graph-Data/NPY-graphs/liveJournal.npy\")\n",
    "\n",
    "# Add column of ones - weights\n",
    "G_edgelist = np.hstack((G_edgelist, np.ones((G_edgelist.shape[0], 1))))\n",
    "\n",
    "n = int(np.max(G_edgelist[:,1]) + 1) # Nr. vertices"
   ]
  },
  {
   "cell_type": "code",
   "execution_count": 58,
   "id": "36d8b41a",
   "metadata": {},
   "outputs": [
    {
     "name": "stdout",
     "output_type": "stream",
     "text": [
      "1.68 s ± 0 ns per loop (mean ± std. dev. of 1 run, 1 loop each)\n"
     ]
    }
   ],
   "source": [
    "%%timeit -n 1 -r 1\n",
    "\n",
    "Y = np.load(\"../../../Thesis-Graph-Data/Ys/liveJournal-Y50.npy\") # For Ligra fairness - ligra cannot preload this\n",
    "_ = DataPreprocess.graph_encoder_embed(G_edgelist, Y, n, Correlation = False, Laplacian = False)"
   ]
  },
  {
   "cell_type": "markdown",
   "id": "4505f7a4",
   "metadata": {
    "jp-MarkdownHeadingCollapsed": true
   },
   "source": [
    "### Orkut"
   ]
  },
  {
   "cell_type": "code",
   "execution_count": 59,
   "id": "49d5cf7c",
   "metadata": {},
   "outputs": [
    {
     "name": "stdout",
     "output_type": "stream",
     "text": [
      "Loading Orkut graph - 1.8GB\n"
     ]
    }
   ],
   "source": [
    "print(\"Loading Orkut graph - 1.8GB\")\n",
    "\n",
    "G_edgelist = np.load(\"../../../Thesis-Graph-Data/NPY-graphs/orkut.npy\")\n",
    "\n",
    "# Add column of ones - weights\n",
    "G_edgelist = np.hstack((G_edgelist, np.ones((G_edgelist.shape[0], 1))))\n",
    "\n",
    "n = int(np.max(G_edgelist[:, 1]) + 1)  # Nr. vertices"
   ]
  },
  {
   "cell_type": "code",
   "execution_count": 60,
   "id": "ff71b84d",
   "metadata": {},
   "outputs": [
    {
     "name": "stdout",
     "output_type": "stream",
     "text": [
      "2.55 s ± 0 ns per loop (mean ± std. dev. of 1 run, 1 loop each)\n"
     ]
    }
   ],
   "source": [
    "%%timeit -r 1 -n 1\n",
    "\n",
    "Y = np.load(\"../../../Thesis-Graph-Data/Ys/orkut-Y50.npy\") # For Ligra fairness - ligra cannot preload this\n",
    "_ = DataPreprocess.graph_encoder_embed(G_edgelist, Y, n, Correlation = False, Laplacian = False)"
   ]
  },
  {
   "cell_type": "code",
   "execution_count": 61,
   "id": "cef34b28",
   "metadata": {},
   "outputs": [
    {
     "name": "stdout",
     "output_type": "stream",
     "text": [
      "Loading Orkut graph - 1.8GB\n"
     ]
    }
   ],
   "source": [
    "print(\"Loading Orkut graph - 1.8GB\")\n",
    "\n",
    "G_edgelist = np.load(\"../../../Thesis-Graph-Data/NPY-graphs/orkut.npy\")\n",
    "\n",
    "# Add column of ones - weights\n",
    "G_edgelist = np.hstack((G_edgelist, np.ones((G_edgelist.shape[0], 1))))\n",
    "\n",
    "n = int(np.max(G_edgelist[:, 1]) + 1)  # Nr. vertices"
   ]
  },
  {
   "cell_type": "code",
   "execution_count": 62,
   "id": "fe7506bd",
   "metadata": {},
   "outputs": [
    {
     "name": "stdout",
     "output_type": "stream",
     "text": [
      "2.55 s ± 0 ns per loop (mean ± std. dev. of 1 run, 1 loop each)\n"
     ]
    }
   ],
   "source": [
    "%%timeit -r 1 -n 1\n",
    "\n",
    "Y = np.load(\"../../../Thesis-Graph-Data/Ys/orkut-Y50.npy\") # For Ligra fairness - ligra cannot preload this\n",
    "_ = DataPreprocess.graph_encoder_embed(G_edgelist, Y, n, Correlation = False, Laplacian = False)"
   ]
  },
  {
   "cell_type": "code",
   "execution_count": 63,
   "id": "eda7b424",
   "metadata": {},
   "outputs": [
    {
     "name": "stdout",
     "output_type": "stream",
     "text": [
      "Loading Orkut graph - 1.8GB\n"
     ]
    }
   ],
   "source": [
    "print(\"Loading Orkut graph - 1.8GB\")\n",
    "\n",
    "G_edgelist = np.load(\"../../../Thesis-Graph-Data/NPY-graphs/orkut.npy\")\n",
    "\n",
    "# Add column of ones - weights\n",
    "G_edgelist = np.hstack((G_edgelist, np.ones((G_edgelist.shape[0], 1))))\n",
    "\n",
    "n = int(np.max(G_edgelist[:, 1]) + 1)  # Nr. vertices"
   ]
  },
  {
   "cell_type": "code",
   "execution_count": 64,
   "id": "9da3f07f",
   "metadata": {},
   "outputs": [
    {
     "name": "stdout",
     "output_type": "stream",
     "text": [
      "2.55 s ± 0 ns per loop (mean ± std. dev. of 1 run, 1 loop each)\n"
     ]
    }
   ],
   "source": [
    "%%timeit -r 1 -n 1\n",
    "\n",
    "Y = np.load(\"../../../Thesis-Graph-Data/Ys/orkut-Y50.npy\") # For Ligra fairness - ligra cannot preload this\n",
    "_ = DataPreprocess.graph_encoder_embed(G_edgelist, Y, n, Correlation = False, Laplacian = False)"
   ]
  },
  {
   "cell_type": "code",
   "execution_count": 65,
   "id": "3afdb8e7",
   "metadata": {},
   "outputs": [
    {
     "name": "stdout",
     "output_type": "stream",
     "text": [
      "Loading Orkut graph - 1.8GB\n"
     ]
    }
   ],
   "source": [
    "print(\"Loading Orkut graph - 1.8GB\")\n",
    "\n",
    "G_edgelist = np.load(\"../../../Thesis-Graph-Data/NPY-graphs/orkut.npy\")\n",
    "\n",
    "# Add column of ones - weights\n",
    "G_edgelist = np.hstack((G_edgelist, np.ones((G_edgelist.shape[0], 1))))\n",
    "\n",
    "n = int(np.max(G_edgelist[:, 1]) + 1)  # Nr. vertices"
   ]
  },
  {
   "cell_type": "code",
   "execution_count": 66,
   "id": "cfa115fe",
   "metadata": {},
   "outputs": [
    {
     "name": "stdout",
     "output_type": "stream",
     "text": [
      "2.55 s ± 0 ns per loop (mean ± std. dev. of 1 run, 1 loop each)\n"
     ]
    }
   ],
   "source": [
    "%%timeit -r 1 -n 1\n",
    "\n",
    "Y = np.load(\"../../../Thesis-Graph-Data/Ys/orkut-Y50.npy\") # For Ligra fairness - ligra cannot preload this\n",
    "_ = DataPreprocess.graph_encoder_embed(G_edgelist, Y, n, Correlation = False, Laplacian = False)"
   ]
  },
  {
   "cell_type": "code",
   "execution_count": 67,
   "id": "a0c61628",
   "metadata": {},
   "outputs": [
    {
     "name": "stdout",
     "output_type": "stream",
     "text": [
      "Loading Orkut graph - 1.8GB\n"
     ]
    }
   ],
   "source": [
    "print(\"Loading Orkut graph - 1.8GB\")\n",
    "\n",
    "G_edgelist = np.load(\"../../../Thesis-Graph-Data/NPY-graphs/orkut.npy\")\n",
    "\n",
    "# Add column of ones - weights\n",
    "G_edgelist = np.hstack((G_edgelist, np.ones((G_edgelist.shape[0], 1))))\n",
    "\n",
    "n = int(np.max(G_edgelist[:, 1]) + 1)  # Nr. vertices"
   ]
  },
  {
   "cell_type": "code",
   "execution_count": 68,
   "id": "da6d3db5",
   "metadata": {},
   "outputs": [
    {
     "name": "stdout",
     "output_type": "stream",
     "text": [
      "2.55 s ± 0 ns per loop (mean ± std. dev. of 1 run, 1 loop each)\n"
     ]
    }
   ],
   "source": [
    "%%timeit -r 1 -n 1\n",
    "\n",
    "Y = np.load(\"../../../Thesis-Graph-Data/Ys/orkut-Y50.npy\") # For Ligra fairness - ligra cannot preload this\n",
    "_ = DataPreprocess.graph_encoder_embed(G_edgelist, Y, n, Correlation = False, Laplacian = False)"
   ]
  },
  {
   "cell_type": "code",
   "execution_count": 69,
   "id": "b2bf59c6",
   "metadata": {},
   "outputs": [
    {
     "name": "stdout",
     "output_type": "stream",
     "text": [
      "Loading Orkut graph - 1.8GB\n"
     ]
    }
   ],
   "source": [
    "print(\"Loading Orkut graph - 1.8GB\")\n",
    "\n",
    "G_edgelist = np.load(\"../../../Thesis-Graph-Data/NPY-graphs/orkut.npy\")\n",
    "\n",
    "# Add column of ones - weights\n",
    "G_edgelist = np.hstack((G_edgelist, np.ones((G_edgelist.shape[0], 1))))\n",
    "\n",
    "n = int(np.max(G_edgelist[:, 1]) + 1)  # Nr. vertices"
   ]
  },
  {
   "cell_type": "code",
   "execution_count": 70,
   "id": "0aed5180",
   "metadata": {},
   "outputs": [
    {
     "name": "stdout",
     "output_type": "stream",
     "text": [
      "2.55 s ± 0 ns per loop (mean ± std. dev. of 1 run, 1 loop each)\n"
     ]
    }
   ],
   "source": [
    "%%timeit -r 1 -n 1\n",
    "\n",
    "Y = np.load(\"../../../Thesis-Graph-Data/Ys/orkut-Y50.npy\") # For Ligra fairness - ligra cannot preload this\n",
    "_ = DataPreprocess.graph_encoder_embed(G_edgelist, Y, n, Correlation = False, Laplacian = False)"
   ]
  },
  {
   "cell_type": "code",
   "execution_count": 71,
   "id": "06a004bd",
   "metadata": {},
   "outputs": [
    {
     "name": "stdout",
     "output_type": "stream",
     "text": [
      "Loading Orkut graph - 1.8GB\n"
     ]
    }
   ],
   "source": [
    "print(\"Loading Orkut graph - 1.8GB\")\n",
    "\n",
    "G_edgelist = np.load(\"../../../Thesis-Graph-Data/NPY-graphs/orkut.npy\")\n",
    "\n",
    "# Add column of ones - weights\n",
    "G_edgelist = np.hstack((G_edgelist, np.ones((G_edgelist.shape[0], 1))))\n",
    "\n",
    "n = int(np.max(G_edgelist[:, 1]) + 1)  # Nr. vertices"
   ]
  },
  {
   "cell_type": "code",
   "execution_count": 72,
   "id": "7601a1db",
   "metadata": {},
   "outputs": [
    {
     "name": "stdout",
     "output_type": "stream",
     "text": [
      "2.55 s ± 0 ns per loop (mean ± std. dev. of 1 run, 1 loop each)\n"
     ]
    }
   ],
   "source": [
    "%%timeit -r 1 -n 1\n",
    "\n",
    "Y = np.load(\"../../../Thesis-Graph-Data/Ys/orkut-Y50.npy\") # For Ligra fairness - ligra cannot preload this\n",
    "_ = DataPreprocess.graph_encoder_embed(G_edgelist, Y, n, Correlation = False, Laplacian = False)"
   ]
  },
  {
   "cell_type": "markdown",
   "id": "06a99167",
   "metadata": {
    "jp-MarkdownHeadingCollapsed": true
   },
   "source": [
    "### Orkut-Groups 5.1GB"
   ]
  },
  {
   "cell_type": "code",
   "execution_count": 73,
   "id": "150f668a",
   "metadata": {},
   "outputs": [
    {
     "name": "stdout",
     "output_type": "stream",
     "text": [
      "Loading Orkut Groups graph - 5.1GB\n"
     ]
    }
   ],
   "source": [
    "print(\"Loading Orkut Groups graph - 5.1GB\")\n",
    "\n",
    "G_edgelist = np.load(\"../../../Thesis-Graph-Data/NPY-graphs/orkut-groups.npy\")\n",
    "\n",
    "# Add column of ones - weights\n",
    "G_edgelist = np.hstack((G_edgelist, np.ones((G_edgelist.shape[0], 1))))\n",
    "\n",
    "n = int(np.max(G_edgelist[:, 1]) + 1)  # Nr. vertices"
   ]
  },
  {
   "cell_type": "code",
   "execution_count": 74,
   "id": "dc96c55f",
   "metadata": {},
   "outputs": [
    {
     "name": "stdout",
     "output_type": "stream",
     "text": [
      "4.92 s ± 0 ns per loop (mean ± std. dev. of 1 run, 1 loop each)\n"
     ]
    }
   ],
   "source": [
    "%%timeit -r 1 -n 1\n",
    "\n",
    "Y = np.load(\"../../../Thesis-Graph-Data/Ys/orkut-groups-Y40.npy\") # For Ligra fairness - ligra cannot preload this\n",
    "_ = DataPreprocess.graph_encoder_embed(G_edgelist, Y, n, Correlation = False, Laplacian = False)"
   ]
  },
  {
   "cell_type": "code",
   "execution_count": 75,
   "id": "a578f5f7",
   "metadata": {},
   "outputs": [
    {
     "name": "stdout",
     "output_type": "stream",
     "text": [
      "Loading Orkut Groups graph - 5.1GB\n"
     ]
    }
   ],
   "source": [
    "print(\"Loading Orkut Groups graph - 5.1GB\")\n",
    "\n",
    "G_edgelist = np.load(\"../../../Thesis-Graph-Data/NPY-graphs/orkut-groups.npy\")\n",
    "\n",
    "# Add column of ones - weights\n",
    "G_edgelist = np.hstack((G_edgelist, np.ones((G_edgelist.shape[0], 1))))\n",
    "\n",
    "n = int(np.max(G_edgelist[:, 1]) + 1)  # Nr. vertices"
   ]
  },
  {
   "cell_type": "code",
   "execution_count": 76,
   "id": "8e7b5303",
   "metadata": {},
   "outputs": [
    {
     "name": "stdout",
     "output_type": "stream",
     "text": [
      "4.92 s ± 0 ns per loop (mean ± std. dev. of 1 run, 1 loop each)\n"
     ]
    }
   ],
   "source": [
    "%%timeit -r 1 -n 1\n",
    "\n",
    "Y = np.load(\"../../../Thesis-Graph-Data/Ys/orkut-groups-Y40.npy\") # For Ligra fairness - ligra cannot preload this\n",
    "_ = DataPreprocess.graph_encoder_embed(G_edgelist, Y, n, Correlation = False, Laplacian = False)"
   ]
  },
  {
   "cell_type": "code",
   "execution_count": 77,
   "id": "2a9ea55b",
   "metadata": {},
   "outputs": [
    {
     "name": "stdout",
     "output_type": "stream",
     "text": [
      "Loading Orkut Groups graph - 5.1GB\n"
     ]
    }
   ],
   "source": [
    "print(\"Loading Orkut Groups graph - 5.1GB\")\n",
    "\n",
    "G_edgelist = np.load(\"../../../Thesis-Graph-Data/NPY-graphs/orkut-groups.npy\")\n",
    "\n",
    "# Add column of ones - weights\n",
    "G_edgelist = np.hstack((G_edgelist, np.ones((G_edgelist.shape[0], 1))))\n",
    "\n",
    "n = int(np.max(G_edgelist[:, 1]) + 1)  # Nr. vertices"
   ]
  },
  {
   "cell_type": "code",
   "execution_count": 78,
   "id": "bd844819",
   "metadata": {},
   "outputs": [
    {
     "name": "stdout",
     "output_type": "stream",
     "text": [
      "4.92 s ± 0 ns per loop (mean ± std. dev. of 1 run, 1 loop each)\n"
     ]
    }
   ],
   "source": [
    "%%timeit -r 1 -n 1\n",
    "\n",
    "Y = np.load(\"../../../Thesis-Graph-Data/Ys/orkut-groups-Y40.npy\") # For Ligra fairness - ligra cannot preload this\n",
    "_ = DataPreprocess.graph_encoder_embed(G_edgelist, Y, n, Correlation = False, Laplacian = False)"
   ]
  },
  {
   "cell_type": "code",
   "execution_count": 79,
   "id": "c2ba3c43",
   "metadata": {},
   "outputs": [
    {
     "name": "stdout",
     "output_type": "stream",
     "text": [
      "Loading Orkut Groups graph - 5.1GB\n"
     ]
    }
   ],
   "source": [
    "print(\"Loading Orkut Groups graph - 5.1GB\")\n",
    "\n",
    "G_edgelist = np.load(\"../../../Thesis-Graph-Data/NPY-graphs/orkut-groups.npy\")\n",
    "\n",
    "# Add column of ones - weights\n",
    "G_edgelist = np.hstack((G_edgelist, np.ones((G_edgelist.shape[0], 1))))\n",
    "\n",
    "n = int(np.max(G_edgelist[:, 1]) + 1)  # Nr. vertices"
   ]
  },
  {
   "cell_type": "code",
   "execution_count": 80,
   "id": "dab569ee",
   "metadata": {},
   "outputs": [
    {
     "name": "stdout",
     "output_type": "stream",
     "text": [
      "4.93 s ± 0 ns per loop (mean ± std. dev. of 1 run, 1 loop each)\n"
     ]
    }
   ],
   "source": [
    "%%timeit -r 1 -n 1\n",
    "\n",
    "Y = np.load(\"../../../Thesis-Graph-Data/Ys/orkut-groups-Y40.npy\") # For Ligra fairness - ligra cannot preload this\n",
    "_ = DataPreprocess.graph_encoder_embed(G_edgelist, Y, n, Correlation = False, Laplacian = False)"
   ]
  },
  {
   "cell_type": "code",
   "execution_count": 81,
   "id": "737a4768",
   "metadata": {},
   "outputs": [
    {
     "name": "stdout",
     "output_type": "stream",
     "text": [
      "Loading Orkut Groups graph - 5.1GB\n"
     ]
    }
   ],
   "source": [
    "print(\"Loading Orkut Groups graph - 5.1GB\")\n",
    "\n",
    "G_edgelist = np.load(\"../../../Thesis-Graph-Data/NPY-graphs/orkut-groups.npy\")\n",
    "\n",
    "# Add column of ones - weights\n",
    "G_edgelist = np.hstack((G_edgelist, np.ones((G_edgelist.shape[0], 1))))\n",
    "\n",
    "n = int(np.max(G_edgelist[:, 1]) + 1)  # Nr. vertices"
   ]
  },
  {
   "cell_type": "code",
   "execution_count": 82,
   "id": "b886c71c",
   "metadata": {},
   "outputs": [
    {
     "name": "stdout",
     "output_type": "stream",
     "text": [
      "4.92 s ± 0 ns per loop (mean ± std. dev. of 1 run, 1 loop each)\n"
     ]
    }
   ],
   "source": [
    "%%timeit -r 1 -n 1\n",
    "\n",
    "Y = np.load(\"../../../Thesis-Graph-Data/Ys/orkut-groups-Y40.npy\") # For Ligra fairness - ligra cannot preload this\n",
    "_ = DataPreprocess.graph_encoder_embed(G_edgelist, Y, n, Correlation = False, Laplacian = False)"
   ]
  },
  {
   "cell_type": "code",
   "execution_count": 83,
   "id": "87941064",
   "metadata": {},
   "outputs": [
    {
     "name": "stdout",
     "output_type": "stream",
     "text": [
      "Loading Orkut Groups graph - 5.1GB\n"
     ]
    }
   ],
   "source": [
    "print(\"Loading Orkut Groups graph - 5.1GB\")\n",
    "\n",
    "G_edgelist = np.load(\"../../../Thesis-Graph-Data/NPY-graphs/orkut-groups.npy\")\n",
    "\n",
    "# Add column of ones - weights\n",
    "G_edgelist = np.hstack((G_edgelist, np.ones((G_edgelist.shape[0], 1))))\n",
    "\n",
    "n = int(np.max(G_edgelist[:, 1]) + 1)  # Nr. vertices"
   ]
  },
  {
   "cell_type": "code",
   "execution_count": 84,
   "id": "d98a9f93",
   "metadata": {},
   "outputs": [
    {
     "name": "stdout",
     "output_type": "stream",
     "text": [
      "4.92 s ± 0 ns per loop (mean ± std. dev. of 1 run, 1 loop each)\n"
     ]
    }
   ],
   "source": [
    "%%timeit -r 1 -n 1\n",
    "\n",
    "Y = np.load(\"../../../Thesis-Graph-Data/Ys/orkut-groups-Y40.npy\") # For Ligra fairness - ligra cannot preload this\n",
    "_ = DataPreprocess.graph_encoder_embed(G_edgelist, Y, n, Correlation = False, Laplacian = False)"
   ]
  },
  {
   "cell_type": "code",
   "execution_count": 85,
   "id": "e04d691a",
   "metadata": {},
   "outputs": [
    {
     "name": "stdout",
     "output_type": "stream",
     "text": [
      "Loading Orkut Groups graph - 5.1GB\n"
     ]
    }
   ],
   "source": [
    "print(\"Loading Orkut Groups graph - 5.1GB\")\n",
    "\n",
    "G_edgelist = np.load(\"../../../Thesis-Graph-Data/NPY-graphs/orkut-groups.npy\")\n",
    "\n",
    "# Add column of ones - weights\n",
    "G_edgelist = np.hstack((G_edgelist, np.ones((G_edgelist.shape[0], 1))))\n",
    "\n",
    "n = int(np.max(G_edgelist[:, 1]) + 1)  # Nr. vertices"
   ]
  },
  {
   "cell_type": "code",
   "execution_count": 86,
   "id": "48f9c3a5",
   "metadata": {},
   "outputs": [
    {
     "name": "stdout",
     "output_type": "stream",
     "text": [
      "4.93 s ± 0 ns per loop (mean ± std. dev. of 1 run, 1 loop each)\n"
     ]
    }
   ],
   "source": [
    "%%timeit -r 1 -n 1\n",
    "\n",
    "Y = np.load(\"../../../Thesis-Graph-Data/Ys/orkut-groups-Y40.npy\") # For Ligra fairness - ligra cannot preload this\n",
    "_ = DataPreprocess.graph_encoder_embed(G_edgelist, Y, n, Correlation = False, Laplacian = False)"
   ]
  },
  {
   "cell_type": "markdown",
   "id": "9f756b50",
   "metadata": {},
   "source": [
    "### Friendster 30GB"
   ]
  },
  {
   "cell_type": "code",
   "execution_count": 2,
   "id": "cda921ac-6864-4dd4-adc6-6f9694c2e04f",
   "metadata": {},
   "outputs": [],
   "source": [
    "os.environ['NUMBA'] = \"Serial\""
   ]
  },
  {
   "cell_type": "code",
   "execution_count": null,
   "id": "703757ec-c4e8-415d-9dcc-eb56754d3519",
   "metadata": {},
   "outputs": [],
   "source": [
    "os.environ['NUMBA'] = \"Parallel\""
   ]
  },
  {
   "cell_type": "code",
   "execution_count": 23,
   "id": "c9147939-3bd7-4b2d-a620-41ac53429182",
   "metadata": {},
   "outputs": [],
   "source": [
    "set_num_threads(8)"
   ]
  },
  {
   "cell_type": "code",
   "execution_count": 24,
   "id": "3f5ee0b7",
   "metadata": {},
   "outputs": [
    {
     "data": {
      "text/plain": [
       "8"
      ]
     },
     "execution_count": 24,
     "metadata": {},
     "output_type": "execute_result"
    }
   ],
   "source": [
    "get_num_threads()"
   ]
  },
  {
   "cell_type": "code",
   "execution_count": 25,
   "id": "624ccbd9",
   "metadata": {},
   "outputs": [
    {
     "name": "stdout",
     "output_type": "stream",
     "text": [
      "Loading Friendster graph - 31GB\n"
     ]
    }
   ],
   "source": [
    "print(\"Loading Friendster graph - 31GB\")\n",
    "\n",
    "G_edgelist = np.load(\"../../../Thesis-Graph-Data/NPY-graphs/friendster-0indexed-colswapped.npy\")\n",
    "\n",
    "# Add column of ones - weights\n",
    "G_edgelist = np.hstack((G_edgelist, np.ones((G_edgelist.shape[0], 1))))\n",
    "\n",
    "n = int(np.max(G_edgelist[:, 1]) + 1)  # Nr. vertices"
   ]
  },
  {
   "cell_type": "code",
   "execution_count": 26,
   "id": "e64307c5",
   "metadata": {
    "scrolled": true
   },
   "outputs": [
    {
     "name": "stdout",
     "output_type": "stream",
     "text": [
      "Done loading Y\n",
      "Running numba with parallel = True\n",
      "1min 21s ± 0 ns per loop (mean ± std. dev. of 1 run, 1 loop each)\n"
     ]
    }
   ],
   "source": [
    "%%timeit -n 1 -r 1\n",
    "\n",
    "Y = np.load(\"../../../Thesis-Graph-Data/Ys/friendster-Y50.npy\") # For Ligra fairness - ligra cannot preload this\n",
    "\n",
    "print(\"Done loading Y\")\n",
    "\n",
    "if os.environ.get('NUMBA') == 'None':\n",
    "    _ = DataPreprocess.graph_encoder_embed(G_edgelist, Y, n, Correlation = False, Laplacian = False) # Stock GEE\n",
    "else:\n",
    "    _ = DataPreprocess.numba_graph_encoder_embed(G_edgelist, Y, n, Correlation = False, Laplacian = False)"
   ]
  },
  {
   "cell_type": "code",
   "execution_count": 27,
   "id": "ef498d28",
   "metadata": {},
   "outputs": [
    {
     "name": "stdout",
     "output_type": "stream",
     "text": [
      "Loading Friendster graph - 31GB\n"
     ]
    }
   ],
   "source": [
    "print(\"Loading Friendster graph - 31GB\")\n",
    "\n",
    "G_edgelist = np.load(\"../../../Thesis-Graph-Data/NPY-graphs/friendster-0indexed-colswapped.npy\")\n",
    "\n",
    "# Add column of ones - weights\n",
    "G_edgelist = np.hstack((G_edgelist, np.ones((G_edgelist.shape[0], 1))))\n",
    "\n",
    "n = int(np.max(G_edgelist[:, 1]) + 1)  # Nr. vertices"
   ]
  },
  {
   "cell_type": "code",
   "execution_count": 28,
   "id": "cbb1de41",
   "metadata": {},
   "outputs": [
    {
     "name": "stdout",
     "output_type": "stream",
     "text": [
      "Done loading Y\n",
      "Running numba with parallel = True\n",
      "1min 21s ± 0 ns per loop (mean ± std. dev. of 1 run, 1 loop each)\n"
     ]
    }
   ],
   "source": [
    "%%timeit -n 1 -r 1\n",
    "\n",
    "Y = np.load(\"../../../Thesis-Graph-Data/Ys/friendster-Y50.npy\") # For Ligra fairness - ligra cannot preload this\n",
    "\n",
    "print(\"Done loading Y\")\n",
    "\n",
    "if os.environ.get('NUMBA') == 'None':\n",
    "    _ = DataPreprocess.graph_encoder_embed(G_edgelist, Y, n, Correlation = False, Laplacian = False) # Stock GEE\n",
    "else:\n",
    "    _ = DataPreprocess.numba_graph_encoder_embed(G_edgelist, Y, n, Correlation = False, Laplacian = False)"
   ]
  },
  {
   "cell_type": "code",
   "execution_count": 29,
   "id": "28b4ad50",
   "metadata": {},
   "outputs": [
    {
     "name": "stdout",
     "output_type": "stream",
     "text": [
      "Loading Friendster graph - 31GB\n"
     ]
    }
   ],
   "source": [
    "print(\"Loading Friendster graph - 31GB\")\n",
    "\n",
    "G_edgelist = np.load(\"../../../Thesis-Graph-Data/NPY-graphs/friendster-0indexed-colswapped.npy\")\n",
    "\n",
    "# Add column of ones - weights\n",
    "G_edgelist = np.hstack((G_edgelist, np.ones((G_edgelist.shape[0], 1))))\n",
    "\n",
    "n = int(np.max(G_edgelist[:, 1]) + 1)  # Nr. vertices"
   ]
  },
  {
   "cell_type": "code",
   "execution_count": 30,
   "id": "690c6749",
   "metadata": {},
   "outputs": [
    {
     "name": "stdout",
     "output_type": "stream",
     "text": [
      "Done loading Y\n",
      "Running numba with parallel = True\n",
      "1min 21s ± 0 ns per loop (mean ± std. dev. of 1 run, 1 loop each)\n"
     ]
    }
   ],
   "source": [
    "%%timeit -n 1 -r 1\n",
    "\n",
    "Y = np.load(\"../../../Thesis-Graph-Data/Ys/friendster-Y50.npy\") # For Ligra fairness - ligra cannot preload this\n",
    "\n",
    "print(\"Done loading Y\")\n",
    "\n",
    "if os.environ.get('NUMBA') == 'None':\n",
    "    _ = DataPreprocess.graph_encoder_embed(G_edgelist, Y, n, Correlation = False, Laplacian = False) # Stock GEE\n",
    "else:\n",
    "    _ = DataPreprocess.numba_graph_encoder_embed(G_edgelist, Y, n, Correlation = False, Laplacian = False)"
   ]
  },
  {
   "cell_type": "code",
   "execution_count": 95,
   "id": "67e88d82",
   "metadata": {},
   "outputs": [
    {
     "name": "stdout",
     "output_type": "stream",
     "text": [
      "Loading Friendster graph - 31GB\n"
     ]
    }
   ],
   "source": [
    "print(\"Loading Friendster graph - 31GB\")\n",
    "\n",
    "G_edgelist = np.load(\"../../../Thesis-Graph-Data/NPY-graphs/friendster-0indexed-colswapped.npy\")\n",
    "\n",
    "# Add column of ones - weights\n",
    "G_edgelist = np.hstack((G_edgelist, np.ones((G_edgelist.shape[0], 1))))\n",
    "\n",
    "n = int(np.max(G_edgelist[:, 1]) + 1)  # Nr. vertices"
   ]
  },
  {
   "cell_type": "code",
   "execution_count": 96,
   "id": "19ec6dbf",
   "metadata": {},
   "outputs": [
    {
     "name": "stdout",
     "output_type": "stream",
     "text": [
      "56.3 s ± 0 ns per loop (mean ± std. dev. of 1 run, 1 loop each)\n"
     ]
    }
   ],
   "source": [
    "%%timeit -n 1 -r 1\n",
    "\n",
    "Y = np.load(\"../../../Thesis-Graph-Data/Ys/friendster-Y50.npy\") # For Ligra fairness - ligra cannot preload this\n",
    "\n",
    "if os.environ.get('NUMBA') == 'None':\n",
    "    _ = DataPreprocess.graph_encoder_embed(G_edgelist, Y, n, Correlation = False, Laplacian = False) # Stock GEE\n",
    "else:\n",
    "    _ = DataPreprocess.numba_graph_encoder_embed(G_edgelist, Y, n, Correlation = False, Laplacian = False)"
   ]
  },
  {
   "cell_type": "code",
   "execution_count": 97,
   "id": "18fdb911",
   "metadata": {},
   "outputs": [
    {
     "name": "stdout",
     "output_type": "stream",
     "text": [
      "Loading Friendster graph - 31GB\n"
     ]
    }
   ],
   "source": [
    "print(\"Loading Friendster graph - 31GB\")\n",
    "\n",
    "G_edgelist = np.load(\"../../../Thesis-Graph-Data/NPY-graphs/friendster-0indexed-colswapped.npy\")\n",
    "\n",
    "# Add column of ones - weights\n",
    "G_edgelist = np.hstack((G_edgelist, np.ones((G_edgelist.shape[0], 1))))\n",
    "\n",
    "n = int(np.max(G_edgelist[:, 1]) + 1)  # Nr. vertices"
   ]
  },
  {
   "cell_type": "code",
   "execution_count": null,
   "id": "7450ebdc",
   "metadata": {},
   "outputs": [],
   "source": [
    "%%timeit -n 1 -r 1\n",
    "\n",
    "Y = np.load(\"../../../Thesis-Graph-Data/Ys/friendster-Y50.npy\") # For Ligra fairness - ligra cannot preload this\n",
    "\n",
    "if os.environ.get('NUMBA') == 'None':\n",
    "    _ = DataPreprocess.graph_encoder_embed(G_edgelist, Y, n, Correlation = False, Laplacian = False) # Stock GEE\n",
    "else:\n",
    "    _ = DataPreprocess.numba_graph_encoder_embed(G_edgelist, Y, n, Correlation = False, Laplacian = False)"
   ]
  },
  {
   "cell_type": "code",
   "execution_count": null,
   "id": "0b11f028",
   "metadata": {},
   "outputs": [],
   "source": [
    "print(\"Loading Friendster graph - 31GB\")\n",
    "\n",
    "G_edgelist = np.load(\"../../../Thesis-Graph-Data/NPY-graphs/friendster-0indexed-colswapped.npy\")\n",
    "\n",
    "# Add column of ones - weights\n",
    "G_edgelist = np.hstack((G_edgelist, np.ones((G_edgelist.shape[0], 1))))\n",
    "\n",
    "n = int(np.max(G_edgelist[:, 1]) + 1)  # Nr. vertices"
   ]
  },
  {
   "cell_type": "code",
   "execution_count": null,
   "id": "3094805b",
   "metadata": {},
   "outputs": [],
   "source": [
    "%%timeit -n 1 -r 1\n",
    "\n",
    "Y = np.load(\"../../../Thesis-Graph-Data/Ys/friendster-Y50.npy\") # For Ligra fairness - ligra cannot preload this\n",
    "\n",
    "if os.environ.get('NUMBA') == 'None':\n",
    "    _ = DataPreprocess.graph_encoder_embed(G_edgelist, Y, n, Correlation = False, Laplacian = False) # Stock GEE\n",
    "else:\n",
    "    _ = DataPreprocess.numba_graph_encoder_embed(G_edgelist, Y, n, Correlation = False, Laplacian = False)"
   ]
  },
  {
   "cell_type": "code",
   "execution_count": null,
   "id": "6d07f25e",
   "metadata": {},
   "outputs": [],
   "source": [
    "print(\"Loading Friendster graph - 31GB\")\n",
    "\n",
    "G_edgelist = np.load(\"../../../Thesis-Graph-Data/NPY-graphs/friendster-0indexed-colswapped.npy\")\n",
    "\n",
    "# Add column of ones - weights\n",
    "G_edgelist = np.hstack((G_edgelist, np.ones((G_edgelist.shape[0], 1))))\n",
    "\n",
    "n = int(np.max(G_edgelist[:, 1]) + 1)  # Nr. vertices"
   ]
  },
  {
   "cell_type": "code",
   "execution_count": null,
   "id": "a269c236",
   "metadata": {},
   "outputs": [],
   "source": [
    "%%timeit -n 1 -r 1\n",
    "\n",
    "Y = np.load(\"../../../Thesis-Graph-Data/Ys/friendster-Y50.npy\") # For Ligra fairness - ligra cannot preload this\n",
    "\n",
    "if os.environ.get('NUMBA') == 'None':\n",
    "    _ = DataPreprocess.graph_encoder_embed(G_edgelist, Y, n, Correlation = False, Laplacian = False) # Stock GEE\n",
    "else:\n",
    "    _ = DataPreprocess.numba_graph_encoder_embed(G_edgelist, Y, n, Correlation = False, Laplacian = False)"
   ]
  },
  {
   "cell_type": "markdown",
   "id": "3ddbd291",
   "metadata": {
    "jp-MarkdownHeadingCollapsed": true
   },
   "source": [
    "# Laplacian (also covers weighed)\n",
    "\n",
    "<font color=\"red\">G_edgelist is edited, so repeated runs with timeit will result in divide-by-0 error</font>"
   ]
  },
  {
   "cell_type": "markdown",
   "id": "cfbfdb45",
   "metadata": {},
   "source": [
    "## GEE Pure & Numba Serial\n",
    "\n",
    "Make sure to checkout Main, not numba-parallel (makes Numba serial)\n",
    "\n",
    "Make corresponding changes to code (`@jit`) and then rerun all below to get Laplacian results"
   ]
  },
  {
   "cell_type": "markdown",
   "id": "1cd0526a",
   "metadata": {},
   "source": [
    "### Twitch"
   ]
  },
  {
   "cell_type": "code",
   "execution_count": 1,
   "id": "eb88fae2",
   "metadata": {},
   "outputs": [],
   "source": [
    "import numpy as np\n",
    "import DataPreprocess"
   ]
  },
  {
   "cell_type": "code",
   "execution_count": 2,
   "id": "77a94e2e",
   "metadata": {},
   "outputs": [
    {
     "name": "stdout",
     "output_type": "stream",
     "text": [
      "Loading Twitch graph\n"
     ]
    }
   ],
   "source": [
    "print(\"Loading Twitch graph\")\n",
    "\n",
    "G_edgelist = np.load(\"../../../Thesis-Graph-Data/NPY-graphs/twitch.npy\")\n",
    "# G_edgelist = np.loadtxt(\"../../../Thesis-Graph-Data/twitch-SNAP-bidir-manually\", delimiter=\" \", dtype=np.int32)\n",
    "\n",
    "G_edgelist = G_edgelist[G_edgelist[:, 0].argsort()] # Sort by first column\n",
    "\n",
    "# Add column of ones - weights\n",
    "G_edgelist = np.hstack((G_edgelist, np.ones((G_edgelist.shape[0], 1)))).astype(np.float64)\n",
    "# Make sure G_edgelist isn't restricted to int-s\n",
    "\n",
    "n = int(np.max(G_edgelist[:,1]) + 1) # Nr. vertices"
   ]
  },
  {
   "cell_type": "code",
   "execution_count": 3,
   "id": "b043426f",
   "metadata": {},
   "outputs": [
    {
     "name": "stdout",
     "output_type": "stream",
     "text": [
      "3.63 s ± 0 ns per loop (mean ± std. dev. of 1 run, 1 loop each)\n"
     ]
    }
   ],
   "source": [
    "%%timeit -n 1 -r 1\n",
    "\n",
    "\n",
    "Y = np.load(\"../../../Thesis-Graph-Data/Ys/twitch-Y20.npy\") # For Ligra fairness - ligra cannot preload this\n",
    "_ = DataPreprocess.graph_encoder_embed(G_edgelist, Y, n, Correlation = False, Laplacian = True)"
   ]
  },
  {
   "cell_type": "code",
   "execution_count": 4,
   "id": "e0f947f0",
   "metadata": {},
   "outputs": [
    {
     "name": "stdout",
     "output_type": "stream",
     "text": [
      "Loading Twitch graph\n"
     ]
    }
   ],
   "source": [
    "print(\"Loading Twitch graph\")\n",
    "\n",
    "G_edgelist = np.load(\"../../../Thesis-Graph-Data/NPY-graphs/twitch.npy\")\n",
    "# G_edgelist = np.loadtxt(\"../../../Thesis-Graph-Data/twitch-SNAP-bidir-manually\", delimiter=\" \", dtype=np.int32)\n",
    "\n",
    "G_edgelist = G_edgelist[G_edgelist[:, 0].argsort()] # Sort by first column\n",
    "\n",
    "# Add column of ones - weights\n",
    "G_edgelist = np.hstack((G_edgelist, np.ones((G_edgelist.shape[0], 1)))).astype(np.float64)\n",
    "# Make sure G_edgelist isn't restricted to int-s\n",
    "\n",
    "n = int(np.max(G_edgelist[:,1]) + 1) # Nr. vertices"
   ]
  },
  {
   "cell_type": "code",
   "execution_count": 5,
   "id": "7cd75e81",
   "metadata": {},
   "outputs": [
    {
     "name": "stdout",
     "output_type": "stream",
     "text": [
      "717 ms ± 0 ns per loop (mean ± std. dev. of 1 run, 1 loop each)\n"
     ]
    }
   ],
   "source": [
    "%%timeit -n 1 -r 1\n",
    "\n",
    "\n",
    "Y = np.load(\"../../../Thesis-Graph-Data/Ys/twitch-Y20.npy\") # For Ligra fairness - ligra cannot preload this\n",
    "_ = DataPreprocess.graph_encoder_embed(G_edgelist, Y, n, Correlation = False, Laplacian = True)"
   ]
  },
  {
   "cell_type": "code",
   "execution_count": 6,
   "id": "34d137e2",
   "metadata": {},
   "outputs": [
    {
     "name": "stdout",
     "output_type": "stream",
     "text": [
      "Loading Twitch graph\n"
     ]
    }
   ],
   "source": [
    "print(\"Loading Twitch graph\")\n",
    "\n",
    "G_edgelist = np.load(\"../../../Thesis-Graph-Data/NPY-graphs/twitch.npy\")\n",
    "# G_edgelist = np.loadtxt(\"../../../Thesis-Graph-Data/twitch-SNAP-bidir-manually\", delimiter=\" \", dtype=np.int32)\n",
    "\n",
    "G_edgelist = G_edgelist[G_edgelist[:, 0].argsort()] # Sort by first column\n",
    "\n",
    "# Add column of ones - weights\n",
    "G_edgelist = np.hstack((G_edgelist, np.ones((G_edgelist.shape[0], 1)))).astype(np.float64)\n",
    "# Make sure G_edgelist isn't restricted to int-s\n",
    "\n",
    "n = int(np.max(G_edgelist[:,1]) + 1) # Nr. vertices"
   ]
  },
  {
   "cell_type": "code",
   "execution_count": 7,
   "id": "3b911789",
   "metadata": {},
   "outputs": [
    {
     "name": "stdout",
     "output_type": "stream",
     "text": [
      "691 ms ± 0 ns per loop (mean ± std. dev. of 1 run, 1 loop each)\n"
     ]
    }
   ],
   "source": [
    "%%timeit -n 1 -r 1\n",
    "\n",
    "\n",
    "Y = np.load(\"../../../Thesis-Graph-Data/Ys/twitch-Y20.npy\") # For Ligra fairness - ligra cannot preload this\n",
    "_ = DataPreprocess.graph_encoder_embed(G_edgelist, Y, n, Correlation = False, Laplacian = True)"
   ]
  },
  {
   "cell_type": "code",
   "execution_count": 8,
   "id": "1d888c7d",
   "metadata": {},
   "outputs": [
    {
     "name": "stdout",
     "output_type": "stream",
     "text": [
      "Loading Twitch graph\n"
     ]
    }
   ],
   "source": [
    "print(\"Loading Twitch graph\")\n",
    "\n",
    "G_edgelist = np.load(\"../../../Thesis-Graph-Data/NPY-graphs/twitch.npy\")\n",
    "# G_edgelist = np.loadtxt(\"../../../Thesis-Graph-Data/twitch-SNAP-bidir-manually\", delimiter=\" \", dtype=np.int32)\n",
    "\n",
    "G_edgelist = G_edgelist[G_edgelist[:, 0].argsort()] # Sort by first column\n",
    "\n",
    "# Add column of ones - weights\n",
    "G_edgelist = np.hstack((G_edgelist, np.ones((G_edgelist.shape[0], 1)))).astype(np.float64)\n",
    "# Make sure G_edgelist isn't restricted to int-s\n",
    "\n",
    "n = int(np.max(G_edgelist[:,1]) + 1) # Nr. vertices"
   ]
  },
  {
   "cell_type": "code",
   "execution_count": 9,
   "id": "07df9a81",
   "metadata": {},
   "outputs": [
    {
     "name": "stdout",
     "output_type": "stream",
     "text": [
      "679 ms ± 0 ns per loop (mean ± std. dev. of 1 run, 1 loop each)\n"
     ]
    }
   ],
   "source": [
    "%%timeit -n 1 -r 1\n",
    "\n",
    "\n",
    "Y = np.load(\"../../../Thesis-Graph-Data/Ys/twitch-Y20.npy\") # For Ligra fairness - ligra cannot preload this\n",
    "_ = DataPreprocess.graph_encoder_embed(G_edgelist, Y, n, Correlation = False, Laplacian = True)"
   ]
  },
  {
   "cell_type": "code",
   "execution_count": 10,
   "id": "9525fa7e",
   "metadata": {},
   "outputs": [
    {
     "name": "stdout",
     "output_type": "stream",
     "text": [
      "Loading Twitch graph\n"
     ]
    }
   ],
   "source": [
    "print(\"Loading Twitch graph\")\n",
    "\n",
    "G_edgelist = np.load(\"../../../Thesis-Graph-Data/NPY-graphs/twitch.npy\")\n",
    "# G_edgelist = np.loadtxt(\"../../../Thesis-Graph-Data/twitch-SNAP-bidir-manually\", delimiter=\" \", dtype=np.int32)\n",
    "\n",
    "G_edgelist = G_edgelist[G_edgelist[:, 0].argsort()] # Sort by first column\n",
    "\n",
    "# Add column of ones - weights\n",
    "G_edgelist = np.hstack((G_edgelist, np.ones((G_edgelist.shape[0], 1)))).astype(np.float64)\n",
    "# Make sure G_edgelist isn't restricted to int-s\n",
    "\n",
    "n = int(np.max(G_edgelist[:,1]) + 1) # Nr. vertices"
   ]
  },
  {
   "cell_type": "code",
   "execution_count": 11,
   "id": "65535294",
   "metadata": {},
   "outputs": [
    {
     "name": "stdout",
     "output_type": "stream",
     "text": [
      "683 ms ± 0 ns per loop (mean ± std. dev. of 1 run, 1 loop each)\n"
     ]
    }
   ],
   "source": [
    "%%timeit -n 1 -r 1\n",
    "\n",
    "\n",
    "Y = np.load(\"../../../Thesis-Graph-Data/Ys/twitch-Y20.npy\") # For Ligra fairness - ligra cannot preload this\n",
    "_ = DataPreprocess.graph_encoder_embed(G_edgelist, Y, n, Correlation = False, Laplacian = True)"
   ]
  },
  {
   "cell_type": "code",
   "execution_count": 12,
   "id": "5d97605e",
   "metadata": {},
   "outputs": [
    {
     "name": "stdout",
     "output_type": "stream",
     "text": [
      "Loading Twitch graph\n"
     ]
    }
   ],
   "source": [
    "print(\"Loading Twitch graph\")\n",
    "\n",
    "G_edgelist = np.load(\"../../../Thesis-Graph-Data/NPY-graphs/twitch.npy\")\n",
    "# G_edgelist = np.loadtxt(\"../../../Thesis-Graph-Data/twitch-SNAP-bidir-manually\", delimiter=\" \", dtype=np.int32)\n",
    "\n",
    "G_edgelist = G_edgelist[G_edgelist[:, 0].argsort()] # Sort by first column\n",
    "\n",
    "# Add column of ones - weights\n",
    "G_edgelist = np.hstack((G_edgelist, np.ones((G_edgelist.shape[0], 1)))).astype(np.float64)\n",
    "# Make sure G_edgelist isn't restricted to int-s\n",
    "\n",
    "n = int(np.max(G_edgelist[:,1]) + 1) # Nr. vertices"
   ]
  },
  {
   "cell_type": "code",
   "execution_count": 13,
   "id": "2749cc65",
   "metadata": {},
   "outputs": [
    {
     "name": "stdout",
     "output_type": "stream",
     "text": [
      "676 ms ± 0 ns per loop (mean ± std. dev. of 1 run, 1 loop each)\n"
     ]
    }
   ],
   "source": [
    "%%timeit -n 1 -r 1\n",
    "\n",
    "\n",
    "Y = np.load(\"../../../Thesis-Graph-Data/Ys/twitch-Y20.npy\") # For Ligra fairness - ligra cannot preload this\n",
    "_ = DataPreprocess.graph_encoder_embed(G_edgelist, Y, n, Correlation = False, Laplacian = True)"
   ]
  },
  {
   "cell_type": "code",
   "execution_count": 14,
   "id": "b22977b1",
   "metadata": {},
   "outputs": [
    {
     "name": "stdout",
     "output_type": "stream",
     "text": [
      "Loading Twitch graph\n"
     ]
    }
   ],
   "source": [
    "print(\"Loading Twitch graph\")\n",
    "\n",
    "G_edgelist = np.load(\"../../../Thesis-Graph-Data/NPY-graphs/twitch.npy\")\n",
    "# G_edgelist = np.loadtxt(\"../../../Thesis-Graph-Data/twitch-SNAP-bidir-manually\", delimiter=\" \", dtype=np.int32)\n",
    "\n",
    "G_edgelist = G_edgelist[G_edgelist[:, 0].argsort()] # Sort by first column\n",
    "\n",
    "# Add column of ones - weights\n",
    "G_edgelist = np.hstack((G_edgelist, np.ones((G_edgelist.shape[0], 1)))).astype(np.float64)\n",
    "# Make sure G_edgelist isn't restricted to int-s\n",
    "\n",
    "n = int(np.max(G_edgelist[:,1]) + 1) # Nr. vertices"
   ]
  },
  {
   "cell_type": "code",
   "execution_count": 15,
   "id": "fb34f67c",
   "metadata": {},
   "outputs": [
    {
     "name": "stdout",
     "output_type": "stream",
     "text": [
      "675 ms ± 0 ns per loop (mean ± std. dev. of 1 run, 1 loop each)\n"
     ]
    }
   ],
   "source": [
    "%%timeit -n 1 -r 1\n",
    "\n",
    "\n",
    "Y = np.load(\"../../../Thesis-Graph-Data/Ys/twitch-Y20.npy\") # For Ligra fairness - ligra cannot preload this\n",
    "_ = DataPreprocess.graph_encoder_embed(G_edgelist, Y, n, Correlation = False, Laplacian = True)"
   ]
  },
  {
   "cell_type": "markdown",
   "id": "9a89f57d",
   "metadata": {},
   "source": [
    "### Pokec"
   ]
  },
  {
   "cell_type": "code",
   "execution_count": 16,
   "id": "71517269",
   "metadata": {},
   "outputs": [
    {
     "name": "stdout",
     "output_type": "stream",
     "text": [
      "Loading Pokec graph - 400MB\n"
     ]
    }
   ],
   "source": [
    "print(\"Loading Pokec graph - 400MB\")\n",
    "\n",
    "G_edgelist = np.load(\"../../../Thesis-Graph-Data/NPY-graphs/pokec.npy\")\n",
    "\n",
    "G_edgelist = G_edgelist[G_edgelist[:, 0].argsort()] # Sort by first column\n",
    "\n",
    "# Add column of ones - weights\n",
    "G_edgelist = np.hstack((G_edgelist, np.ones((G_edgelist.shape[0], 1)))).astype(np.float64)\n",
    "\n",
    "n = int(np.max(G_edgelist[:,1]) + 1) # Nr. vertices"
   ]
  },
  {
   "cell_type": "code",
   "execution_count": 17,
   "id": "ac6e1450",
   "metadata": {},
   "outputs": [
    {
     "name": "stdout",
     "output_type": "stream",
     "text": [
      "4.07 s ± 0 ns per loop (mean ± std. dev. of 1 run, 1 loop each)\n"
     ]
    }
   ],
   "source": [
    "%%timeit -n 1 -r 1\n",
    "\n",
    "\n",
    "Y = np.load(\"../../../Thesis-Graph-Data/Ys/pokec-Y50.npy\") # For Ligra fairness - ligra cannot preload this\n",
    "_ = DataPreprocess.graph_encoder_embed(G_edgelist, Y, n, Correlation = False, Laplacian = True)"
   ]
  },
  {
   "cell_type": "code",
   "execution_count": 18,
   "id": "bbe69776",
   "metadata": {},
   "outputs": [
    {
     "name": "stdout",
     "output_type": "stream",
     "text": [
      "Loading Pokec graph - 400MB\n"
     ]
    }
   ],
   "source": [
    "print(\"Loading Pokec graph - 400MB\")\n",
    "\n",
    "G_edgelist = np.load(\"../../../Thesis-Graph-Data/NPY-graphs/pokec.npy\")\n",
    "\n",
    "G_edgelist = G_edgelist[G_edgelist[:, 0].argsort()] # Sort by first column\n",
    "\n",
    "# Add column of ones - weights\n",
    "G_edgelist = np.hstack((G_edgelist, np.ones((G_edgelist.shape[0], 1)))).astype(np.float64)\n",
    "\n",
    "n = int(np.max(G_edgelist[:,1]) + 1) # Nr. vertices"
   ]
  },
  {
   "cell_type": "code",
   "execution_count": 19,
   "id": "7aca6d59",
   "metadata": {},
   "outputs": [
    {
     "name": "stdout",
     "output_type": "stream",
     "text": [
      "4.09 s ± 0 ns per loop (mean ± std. dev. of 1 run, 1 loop each)\n"
     ]
    }
   ],
   "source": [
    "%%timeit -n 1 -r 1\n",
    "\n",
    "\n",
    "Y = np.load(\"../../../Thesis-Graph-Data/Ys/pokec-Y50.npy\") # For Ligra fairness - ligra cannot preload this\n",
    "_ = DataPreprocess.graph_encoder_embed(G_edgelist, Y, n, Correlation = False, Laplacian = True)"
   ]
  },
  {
   "cell_type": "code",
   "execution_count": 20,
   "id": "ebbb3410",
   "metadata": {},
   "outputs": [
    {
     "name": "stdout",
     "output_type": "stream",
     "text": [
      "Loading Pokec graph - 400MB\n"
     ]
    }
   ],
   "source": [
    "print(\"Loading Pokec graph - 400MB\")\n",
    "\n",
    "G_edgelist = np.load(\"../../../Thesis-Graph-Data/NPY-graphs/pokec.npy\")\n",
    "\n",
    "G_edgelist = G_edgelist[G_edgelist[:, 0].argsort()] # Sort by first column\n",
    "\n",
    "# Add column of ones - weights\n",
    "G_edgelist = np.hstack((G_edgelist, np.ones((G_edgelist.shape[0], 1)))).astype(np.float64)\n",
    "\n",
    "n = int(np.max(G_edgelist[:,1]) + 1) # Nr. vertices"
   ]
  },
  {
   "cell_type": "code",
   "execution_count": 21,
   "id": "495e324c",
   "metadata": {},
   "outputs": [
    {
     "name": "stdout",
     "output_type": "stream",
     "text": [
      "3.95 s ± 0 ns per loop (mean ± std. dev. of 1 run, 1 loop each)\n"
     ]
    }
   ],
   "source": [
    "%%timeit -n 1 -r 1\n",
    "\n",
    "\n",
    "Y = np.load(\"../../../Thesis-Graph-Data/Ys/pokec-Y50.npy\") # For Ligra fairness - ligra cannot preload this\n",
    "_ = DataPreprocess.graph_encoder_embed(G_edgelist, Y, n, Correlation = False, Laplacian = True)"
   ]
  },
  {
   "cell_type": "code",
   "execution_count": 22,
   "id": "73b7daa1",
   "metadata": {},
   "outputs": [
    {
     "name": "stdout",
     "output_type": "stream",
     "text": [
      "Loading Pokec graph - 400MB\n"
     ]
    }
   ],
   "source": [
    "print(\"Loading Pokec graph - 400MB\")\n",
    "\n",
    "G_edgelist = np.load(\"../../../Thesis-Graph-Data/NPY-graphs/pokec.npy\")\n",
    "\n",
    "G_edgelist = G_edgelist[G_edgelist[:, 0].argsort()] # Sort by first column\n",
    "\n",
    "# Add column of ones - weights\n",
    "G_edgelist = np.hstack((G_edgelist, np.ones((G_edgelist.shape[0], 1)))).astype(np.float64)\n",
    "\n",
    "n = int(np.max(G_edgelist[:,1]) + 1) # Nr. vertices"
   ]
  },
  {
   "cell_type": "code",
   "execution_count": 23,
   "id": "266afee8",
   "metadata": {},
   "outputs": [
    {
     "name": "stdout",
     "output_type": "stream",
     "text": [
      "3.48 s ± 0 ns per loop (mean ± std. dev. of 1 run, 1 loop each)\n"
     ]
    }
   ],
   "source": [
    "%%timeit -n 1 -r 1\n",
    "\n",
    "\n",
    "Y = np.load(\"../../../Thesis-Graph-Data/Ys/pokec-Y50.npy\") # For Ligra fairness - ligra cannot preload this\n",
    "_ = DataPreprocess.graph_encoder_embed(G_edgelist, Y, n, Correlation = False, Laplacian = True)"
   ]
  },
  {
   "cell_type": "code",
   "execution_count": 24,
   "id": "e724aae2",
   "metadata": {},
   "outputs": [
    {
     "name": "stdout",
     "output_type": "stream",
     "text": [
      "Loading Pokec graph - 400MB\n"
     ]
    }
   ],
   "source": [
    "print(\"Loading Pokec graph - 400MB\")\n",
    "\n",
    "G_edgelist = np.load(\"../../../Thesis-Graph-Data/NPY-graphs/pokec.npy\")\n",
    "\n",
    "G_edgelist = G_edgelist[G_edgelist[:, 0].argsort()] # Sort by first column\n",
    "\n",
    "# Add column of ones - weights\n",
    "G_edgelist = np.hstack((G_edgelist, np.ones((G_edgelist.shape[0], 1)))).astype(np.float64)\n",
    "\n",
    "n = int(np.max(G_edgelist[:,1]) + 1) # Nr. vertices"
   ]
  },
  {
   "cell_type": "code",
   "execution_count": 25,
   "id": "c03af1fa",
   "metadata": {},
   "outputs": [
    {
     "name": "stdout",
     "output_type": "stream",
     "text": [
      "3.49 s ± 0 ns per loop (mean ± std. dev. of 1 run, 1 loop each)\n"
     ]
    }
   ],
   "source": [
    "%%timeit -n 1 -r 1\n",
    "\n",
    "\n",
    "Y = np.load(\"../../../Thesis-Graph-Data/Ys/pokec-Y50.npy\") # For Ligra fairness - ligra cannot preload this\n",
    "_ = DataPreprocess.graph_encoder_embed(G_edgelist, Y, n, Correlation = False, Laplacian = True)"
   ]
  },
  {
   "cell_type": "code",
   "execution_count": 26,
   "id": "2e3ed9ec",
   "metadata": {},
   "outputs": [
    {
     "name": "stdout",
     "output_type": "stream",
     "text": [
      "Loading Pokec graph - 400MB\n"
     ]
    }
   ],
   "source": [
    "print(\"Loading Pokec graph - 400MB\")\n",
    "\n",
    "G_edgelist = np.load(\"../../../Thesis-Graph-Data/NPY-graphs/pokec.npy\")\n",
    "\n",
    "G_edgelist = G_edgelist[G_edgelist[:, 0].argsort()] # Sort by first column\n",
    "\n",
    "# Add column of ones - weights\n",
    "G_edgelist = np.hstack((G_edgelist, np.ones((G_edgelist.shape[0], 1)))).astype(np.float64)\n",
    "\n",
    "n = int(np.max(G_edgelist[:,1]) + 1) # Nr. vertices"
   ]
  },
  {
   "cell_type": "code",
   "execution_count": 27,
   "id": "9d4ae8c4",
   "metadata": {},
   "outputs": [
    {
     "name": "stdout",
     "output_type": "stream",
     "text": [
      "3.71 s ± 0 ns per loop (mean ± std. dev. of 1 run, 1 loop each)\n"
     ]
    }
   ],
   "source": [
    "%%timeit -n 1 -r 1\n",
    "\n",
    "\n",
    "Y = np.load(\"../../../Thesis-Graph-Data/Ys/pokec-Y50.npy\") # For Ligra fairness - ligra cannot preload this\n",
    "_ = DataPreprocess.graph_encoder_embed(G_edgelist, Y, n, Correlation = False, Laplacian = True)"
   ]
  },
  {
   "cell_type": "code",
   "execution_count": 28,
   "id": "b56dcc6a",
   "metadata": {},
   "outputs": [
    {
     "name": "stdout",
     "output_type": "stream",
     "text": [
      "Loading Pokec graph - 400MB\n"
     ]
    }
   ],
   "source": [
    "print(\"Loading Pokec graph - 400MB\")\n",
    "\n",
    "G_edgelist = np.load(\"../../../Thesis-Graph-Data/NPY-graphs/pokec.npy\")\n",
    "\n",
    "G_edgelist = G_edgelist[G_edgelist[:, 0].argsort()] # Sort by first column\n",
    "\n",
    "# Add column of ones - weights\n",
    "G_edgelist = np.hstack((G_edgelist, np.ones((G_edgelist.shape[0], 1)))).astype(np.float64)\n",
    "\n",
    "n = int(np.max(G_edgelist[:,1]) + 1) # Nr. vertices"
   ]
  },
  {
   "cell_type": "code",
   "execution_count": 29,
   "id": "ae28e42c",
   "metadata": {},
   "outputs": [
    {
     "name": "stdout",
     "output_type": "stream",
     "text": [
      "3.67 s ± 0 ns per loop (mean ± std. dev. of 1 run, 1 loop each)\n"
     ]
    }
   ],
   "source": [
    "%%timeit -n 1 -r 1\n",
    "\n",
    "\n",
    "Y = np.load(\"../../../Thesis-Graph-Data/Ys/pokec-Y50.npy\") # For Ligra fairness - ligra cannot preload this\n",
    "_ = DataPreprocess.graph_encoder_embed(G_edgelist, Y, n, Correlation = False, Laplacian = True)"
   ]
  },
  {
   "cell_type": "markdown",
   "id": "5a9a1e0c",
   "metadata": {},
   "source": [
    "### LiveJournal"
   ]
  },
  {
   "cell_type": "code",
   "execution_count": 30,
   "id": "7b6514f2",
   "metadata": {},
   "outputs": [
    {
     "name": "stdout",
     "output_type": "stream",
     "text": [
      "Loading LiveJournal graph - 1GB\n"
     ]
    }
   ],
   "source": [
    "print(\"Loading LiveJournal graph - 1GB\")\n",
    "\n",
    "G_edgelist = np.load(\"../../../Thesis-Graph-Data/NPY-graphs/liveJournal.npy\")\n",
    "\n",
    "# Add column of ones - weights\n",
    "G_edgelist = np.hstack((G_edgelist, np.ones((G_edgelist.shape[0], 1)))).astype(np.float64)\n",
    "\n",
    "n = int(np.max(G_edgelist[:,1]) + 1) # Nr. vertices"
   ]
  },
  {
   "cell_type": "code",
   "execution_count": 31,
   "id": "0bdae35e",
   "metadata": {},
   "outputs": [
    {
     "name": "stdout",
     "output_type": "stream",
     "text": [
      "9.26 s ± 0 ns per loop (mean ± std. dev. of 1 run, 1 loop each)\n"
     ]
    }
   ],
   "source": [
    "%%timeit -n 1 -r 1\n",
    "\n",
    "Y = np.load(\"../../../Thesis-Graph-Data/Ys/liveJournal-Y50.npy\") # For Ligra fairness - ligra cannot preload this\n",
    "_ = DataPreprocess.graph_encoder_embed(G_edgelist, Y, n, Correlation = False, Laplacian = True)"
   ]
  },
  {
   "cell_type": "code",
   "execution_count": 32,
   "id": "c1333b4e",
   "metadata": {},
   "outputs": [
    {
     "name": "stdout",
     "output_type": "stream",
     "text": [
      "Loading LiveJournal graph - 1GB\n"
     ]
    }
   ],
   "source": [
    "print(\"Loading LiveJournal graph - 1GB\")\n",
    "\n",
    "G_edgelist = np.load(\"../../../Thesis-Graph-Data/NPY-graphs/liveJournal.npy\")\n",
    "\n",
    "# Add column of ones - weights\n",
    "G_edgelist = np.hstack((G_edgelist, np.ones((G_edgelist.shape[0], 1)))).astype(np.float64)\n",
    "\n",
    "n = int(np.max(G_edgelist[:,1]) + 1) # Nr. vertices"
   ]
  },
  {
   "cell_type": "code",
   "execution_count": 33,
   "id": "4d1d3db2",
   "metadata": {},
   "outputs": [
    {
     "name": "stdout",
     "output_type": "stream",
     "text": [
      "8.68 s ± 0 ns per loop (mean ± std. dev. of 1 run, 1 loop each)\n"
     ]
    }
   ],
   "source": [
    "%%timeit -n 1 -r 1\n",
    "\n",
    "Y = np.load(\"../../../Thesis-Graph-Data/Ys/liveJournal-Y50.npy\") # For Ligra fairness - ligra cannot preload this\n",
    "_ = DataPreprocess.graph_encoder_embed(G_edgelist, Y, n, Correlation = False, Laplacian = True)"
   ]
  },
  {
   "cell_type": "code",
   "execution_count": 34,
   "id": "6b0afc7f",
   "metadata": {},
   "outputs": [
    {
     "name": "stdout",
     "output_type": "stream",
     "text": [
      "Loading LiveJournal graph - 1GB\n"
     ]
    }
   ],
   "source": [
    "print(\"Loading LiveJournal graph - 1GB\")\n",
    "\n",
    "G_edgelist = np.load(\"../../../Thesis-Graph-Data/NPY-graphs/liveJournal.npy\")\n",
    "\n",
    "# Add column of ones - weights\n",
    "G_edgelist = np.hstack((G_edgelist, np.ones((G_edgelist.shape[0], 1)))).astype(np.float64)\n",
    "\n",
    "n = int(np.max(G_edgelist[:,1]) + 1) # Nr. vertices"
   ]
  },
  {
   "cell_type": "code",
   "execution_count": 35,
   "id": "71b0ec07",
   "metadata": {},
   "outputs": [
    {
     "name": "stdout",
     "output_type": "stream",
     "text": [
      "9.23 s ± 0 ns per loop (mean ± std. dev. of 1 run, 1 loop each)\n"
     ]
    }
   ],
   "source": [
    "%%timeit -n 1 -r 1\n",
    "\n",
    "Y = np.load(\"../../../Thesis-Graph-Data/Ys/liveJournal-Y50.npy\") # For Ligra fairness - ligra cannot preload this\n",
    "_ = DataPreprocess.graph_encoder_embed(G_edgelist, Y, n, Correlation = False, Laplacian = True)"
   ]
  },
  {
   "cell_type": "code",
   "execution_count": 36,
   "id": "a65843fa",
   "metadata": {},
   "outputs": [
    {
     "name": "stdout",
     "output_type": "stream",
     "text": [
      "Loading LiveJournal graph - 1GB\n"
     ]
    }
   ],
   "source": [
    "print(\"Loading LiveJournal graph - 1GB\")\n",
    "\n",
    "G_edgelist = np.load(\"../../../Thesis-Graph-Data/NPY-graphs/liveJournal.npy\")\n",
    "\n",
    "# Add column of ones - weights\n",
    "G_edgelist = np.hstack((G_edgelist, np.ones((G_edgelist.shape[0], 1)))).astype(np.float64)\n",
    "\n",
    "n = int(np.max(G_edgelist[:,1]) + 1) # Nr. vertices"
   ]
  },
  {
   "cell_type": "code",
   "execution_count": 37,
   "id": "23dc002e",
   "metadata": {},
   "outputs": [
    {
     "name": "stdout",
     "output_type": "stream",
     "text": [
      "8.87 s ± 0 ns per loop (mean ± std. dev. of 1 run, 1 loop each)\n"
     ]
    }
   ],
   "source": [
    "%%timeit -n 1 -r 1\n",
    "\n",
    "Y = np.load(\"../../../Thesis-Graph-Data/Ys/liveJournal-Y50.npy\") # For Ligra fairness - ligra cannot preload this\n",
    "_ = DataPreprocess.graph_encoder_embed(G_edgelist, Y, n, Correlation = False, Laplacian = True)"
   ]
  },
  {
   "cell_type": "code",
   "execution_count": 38,
   "id": "740b7104",
   "metadata": {},
   "outputs": [
    {
     "name": "stdout",
     "output_type": "stream",
     "text": [
      "Loading LiveJournal graph - 1GB\n"
     ]
    }
   ],
   "source": [
    "print(\"Loading LiveJournal graph - 1GB\")\n",
    "\n",
    "G_edgelist = np.load(\"../../../Thesis-Graph-Data/NPY-graphs/liveJournal.npy\")\n",
    "\n",
    "# Add column of ones - weights\n",
    "G_edgelist = np.hstack((G_edgelist, np.ones((G_edgelist.shape[0], 1)))).astype(np.float64)\n",
    "\n",
    "n = int(np.max(G_edgelist[:,1]) + 1) # Nr. vertices"
   ]
  },
  {
   "cell_type": "code",
   "execution_count": 39,
   "id": "52e835c2",
   "metadata": {},
   "outputs": [
    {
     "name": "stdout",
     "output_type": "stream",
     "text": [
      "8.47 s ± 0 ns per loop (mean ± std. dev. of 1 run, 1 loop each)\n"
     ]
    }
   ],
   "source": [
    "%%timeit -n 1 -r 1\n",
    "\n",
    "Y = np.load(\"../../../Thesis-Graph-Data/Ys/liveJournal-Y50.npy\") # For Ligra fairness - ligra cannot preload this\n",
    "_ = DataPreprocess.graph_encoder_embed(G_edgelist, Y, n, Correlation = False, Laplacian = True)"
   ]
  },
  {
   "cell_type": "code",
   "execution_count": 40,
   "id": "4d2eb3e1",
   "metadata": {},
   "outputs": [
    {
     "name": "stdout",
     "output_type": "stream",
     "text": [
      "Loading LiveJournal graph - 1GB\n"
     ]
    }
   ],
   "source": [
    "print(\"Loading LiveJournal graph - 1GB\")\n",
    "\n",
    "G_edgelist = np.load(\"../../../Thesis-Graph-Data/NPY-graphs/liveJournal.npy\")\n",
    "\n",
    "# Add column of ones - weights\n",
    "G_edgelist = np.hstack((G_edgelist, np.ones((G_edgelist.shape[0], 1)))).astype(np.float64)\n",
    "\n",
    "n = int(np.max(G_edgelist[:,1]) + 1) # Nr. vertices"
   ]
  },
  {
   "cell_type": "code",
   "execution_count": 41,
   "id": "b31b294e",
   "metadata": {},
   "outputs": [
    {
     "name": "stdout",
     "output_type": "stream",
     "text": [
      "9.07 s ± 0 ns per loop (mean ± std. dev. of 1 run, 1 loop each)\n"
     ]
    }
   ],
   "source": [
    "%%timeit -n 1 -r 1\n",
    "\n",
    "Y = np.load(\"../../../Thesis-Graph-Data/Ys/liveJournal-Y50.npy\") # For Ligra fairness - ligra cannot preload this\n",
    "_ = DataPreprocess.graph_encoder_embed(G_edgelist, Y, n, Correlation = False, Laplacian = True)"
   ]
  },
  {
   "cell_type": "code",
   "execution_count": 42,
   "id": "788dd004",
   "metadata": {},
   "outputs": [
    {
     "name": "stdout",
     "output_type": "stream",
     "text": [
      "Loading LiveJournal graph - 1GB\n"
     ]
    }
   ],
   "source": [
    "print(\"Loading LiveJournal graph - 1GB\")\n",
    "\n",
    "G_edgelist = np.load(\"../../../Thesis-Graph-Data/NPY-graphs/liveJournal.npy\")\n",
    "\n",
    "# Add column of ones - weights\n",
    "G_edgelist = np.hstack((G_edgelist, np.ones((G_edgelist.shape[0], 1)))).astype(np.float64)\n",
    "\n",
    "n = int(np.max(G_edgelist[:,1]) + 1) # Nr. vertices"
   ]
  },
  {
   "cell_type": "code",
   "execution_count": 43,
   "id": "f31f2b65",
   "metadata": {},
   "outputs": [
    {
     "name": "stdout",
     "output_type": "stream",
     "text": [
      "8.52 s ± 0 ns per loop (mean ± std. dev. of 1 run, 1 loop each)\n"
     ]
    }
   ],
   "source": [
    "%%timeit -n 1 -r 1\n",
    "\n",
    "Y = np.load(\"../../../Thesis-Graph-Data/Ys/liveJournal-Y50.npy\") # For Ligra fairness - ligra cannot preload this\n",
    "_ = DataPreprocess.graph_encoder_embed(G_edgelist, Y, n, Correlation = False, Laplacian = True)"
   ]
  },
  {
   "cell_type": "markdown",
   "id": "3692f961",
   "metadata": {},
   "source": [
    "### Orkut"
   ]
  },
  {
   "cell_type": "code",
   "execution_count": 44,
   "id": "66fd98cb",
   "metadata": {},
   "outputs": [
    {
     "name": "stdout",
     "output_type": "stream",
     "text": [
      "Loading Orkut graph - 1.8GB\n"
     ]
    }
   ],
   "source": [
    "print(\"Loading Orkut graph - 1.8GB\")\n",
    "\n",
    "G_edgelist = np.load(\"../../../Thesis-Graph-Data/NPY-graphs/orkut.npy\")\n",
    "\n",
    "# Add column of ones - weights\n",
    "G_edgelist = np.hstack((G_edgelist, np.ones((G_edgelist.shape[0], 1)))).astype(np.float64)\n",
    "\n",
    "n = int(np.max(G_edgelist[:, 1]) + 1)  # Nr. vertices"
   ]
  },
  {
   "cell_type": "code",
   "execution_count": 45,
   "id": "49ab9660",
   "metadata": {},
   "outputs": [
    {
     "name": "stdout",
     "output_type": "stream",
     "text": [
      "13.9 s ± 0 ns per loop (mean ± std. dev. of 1 run, 1 loop each)\n"
     ]
    }
   ],
   "source": [
    "%%timeit -n 1 -r 1\n",
    "\n",
    "Y = np.load(\"../../../Thesis-Graph-Data/Ys/orkut-Y50.npy\") # For Ligra fairness - ligra cannot preload this\n",
    "_ = DataPreprocess.graph_encoder_embed(G_edgelist, Y, n, Correlation = False, Laplacian = True)"
   ]
  },
  {
   "cell_type": "code",
   "execution_count": 46,
   "id": "61a8f1f7",
   "metadata": {},
   "outputs": [
    {
     "name": "stdout",
     "output_type": "stream",
     "text": [
      "Loading Orkut graph - 1.8GB\n"
     ]
    }
   ],
   "source": [
    "print(\"Loading Orkut graph - 1.8GB\")\n",
    "\n",
    "G_edgelist = np.load(\"../../../Thesis-Graph-Data/NPY-graphs/orkut.npy\")\n",
    "\n",
    "# Add column of ones - weights\n",
    "G_edgelist = np.hstack((G_edgelist, np.ones((G_edgelist.shape[0], 1)))).astype(np.float64)\n",
    "\n",
    "n = int(np.max(G_edgelist[:, 1]) + 1)  # Nr. vertices"
   ]
  },
  {
   "cell_type": "code",
   "execution_count": 47,
   "id": "b37cf07e",
   "metadata": {},
   "outputs": [
    {
     "name": "stdout",
     "output_type": "stream",
     "text": [
      "16.2 s ± 0 ns per loop (mean ± std. dev. of 1 run, 1 loop each)\n"
     ]
    }
   ],
   "source": [
    "%%timeit -n 1 -r 1\n",
    "\n",
    "Y = np.load(\"../../../Thesis-Graph-Data/Ys/orkut-Y50.npy\") # For Ligra fairness - ligra cannot preload this\n",
    "_ = DataPreprocess.graph_encoder_embed(G_edgelist, Y, n, Correlation = False, Laplacian = True)"
   ]
  },
  {
   "cell_type": "code",
   "execution_count": 48,
   "id": "c1378081",
   "metadata": {},
   "outputs": [
    {
     "name": "stdout",
     "output_type": "stream",
     "text": [
      "Loading Orkut graph - 1.8GB\n"
     ]
    }
   ],
   "source": [
    "print(\"Loading Orkut graph - 1.8GB\")\n",
    "\n",
    "G_edgelist = np.load(\"../../../Thesis-Graph-Data/NPY-graphs/orkut.npy\")\n",
    "\n",
    "# Add column of ones - weights\n",
    "G_edgelist = np.hstack((G_edgelist, np.ones((G_edgelist.shape[0], 1)))).astype(np.float64)\n",
    "\n",
    "n = int(np.max(G_edgelist[:, 1]) + 1)  # Nr. vertices"
   ]
  },
  {
   "cell_type": "code",
   "execution_count": 49,
   "id": "7f972d2b",
   "metadata": {},
   "outputs": [
    {
     "name": "stdout",
     "output_type": "stream",
     "text": [
      "13.3 s ± 0 ns per loop (mean ± std. dev. of 1 run, 1 loop each)\n"
     ]
    }
   ],
   "source": [
    "%%timeit -n 1 -r 1\n",
    "\n",
    "Y = np.load(\"../../../Thesis-Graph-Data/Ys/orkut-Y50.npy\") # For Ligra fairness - ligra cannot preload this\n",
    "_ = DataPreprocess.graph_encoder_embed(G_edgelist, Y, n, Correlation = False, Laplacian = True)"
   ]
  },
  {
   "cell_type": "code",
   "execution_count": 61,
   "id": "7759da75",
   "metadata": {},
   "outputs": [
    {
     "name": "stdout",
     "output_type": "stream",
     "text": [
      "Loading Orkut graph - 1.8GB\n"
     ]
    }
   ],
   "source": [
    "print(\"Loading Orkut graph - 1.8GB\")\n",
    "\n",
    "G_edgelist = np.load(\"../../../Thesis-Graph-Data/NPY-graphs/orkut.npy\")\n",
    "\n",
    "# Add column of ones - weights\n",
    "G_edgelist = np.hstack((G_edgelist, np.ones((G_edgelist.shape[0], 1)))).astype(np.float64)\n",
    "\n",
    "\n",
    "n = int(np.max(G_edgelist[:, 1]) + 1)  # Nr. vertices"
   ]
  },
  {
   "cell_type": "code",
   "execution_count": 62,
   "id": "3e5a030a",
   "metadata": {},
   "outputs": [
    {
     "name": "stdout",
     "output_type": "stream",
     "text": [
      "12.1 s ± 0 ns per loop (mean ± std. dev. of 1 run, 1 loop each)\n"
     ]
    }
   ],
   "source": [
    "%%timeit -n 1 -r 1\n",
    "\n",
    "Y = np.load(\"../../../Thesis-Graph-Data/Ys/orkut-Y50.npy\") # For Ligra fairness - ligra cannot preload this\n",
    "_ = DataPreprocess.graph_encoder_embed(G_edgelist, Y, n, Correlation = False, Laplacian = True)"
   ]
  },
  {
   "cell_type": "code",
   "execution_count": 52,
   "id": "9eba83e5",
   "metadata": {},
   "outputs": [
    {
     "name": "stdout",
     "output_type": "stream",
     "text": [
      "Loading Orkut graph - 1.8GB\n"
     ]
    }
   ],
   "source": [
    "print(\"Loading Orkut graph - 1.8GB\")\n",
    "\n",
    "G_edgelist = np.load(\"../../../Thesis-Graph-Data/NPY-graphs/orkut.npy\")\n",
    "\n",
    "# Add column of ones - weights\n",
    "G_edgelist = np.hstack((G_edgelist, np.ones((G_edgelist.shape[0], 1)))).astype(np.float64)\n",
    "\n",
    "n = int(np.max(G_edgelist[:, 1]) + 1)  # Nr. vertices"
   ]
  },
  {
   "cell_type": "code",
   "execution_count": 53,
   "id": "b59f8d49",
   "metadata": {},
   "outputs": [
    {
     "name": "stdout",
     "output_type": "stream",
     "text": [
      "12.9 s ± 0 ns per loop (mean ± std. dev. of 1 run, 1 loop each)\n"
     ]
    }
   ],
   "source": [
    "%%timeit -n 1 -r 1\n",
    "\n",
    "Y = np.load(\"../../../Thesis-Graph-Data/Ys/orkut-Y50.npy\") # For Ligra fairness - ligra cannot preload this\n",
    "_ = DataPreprocess.graph_encoder_embed(G_edgelist, Y, n, Correlation = False, Laplacian = True)"
   ]
  },
  {
   "cell_type": "code",
   "execution_count": 54,
   "id": "72c5015d",
   "metadata": {},
   "outputs": [
    {
     "name": "stdout",
     "output_type": "stream",
     "text": [
      "Loading Orkut graph - 1.8GB\n"
     ]
    }
   ],
   "source": [
    "print(\"Loading Orkut graph - 1.8GB\")\n",
    "\n",
    "G_edgelist = np.load(\"../../../Thesis-Graph-Data/NPY-graphs/orkut.npy\")\n",
    "\n",
    "# Add column of ones - weights\n",
    "G_edgelist = np.hstack((G_edgelist, np.ones((G_edgelist.shape[0], 1)))).astype(np.float64)\n",
    "\n",
    "n = int(np.max(G_edgelist[:, 1]) + 1)  # Nr. vertices"
   ]
  },
  {
   "cell_type": "code",
   "execution_count": 55,
   "id": "b9416009",
   "metadata": {},
   "outputs": [
    {
     "name": "stdout",
     "output_type": "stream",
     "text": [
      "13.6 s ± 0 ns per loop (mean ± std. dev. of 1 run, 1 loop each)\n"
     ]
    }
   ],
   "source": [
    "%%timeit -n 1 -r 1\n",
    "\n",
    "Y = np.load(\"../../../Thesis-Graph-Data/Ys/orkut-Y50.npy\") # For Ligra fairness - ligra cannot preload this\n",
    "_ = DataPreprocess.graph_encoder_embed(G_edgelist, Y, n, Correlation = False, Laplacian = True)"
   ]
  },
  {
   "cell_type": "code",
   "execution_count": 56,
   "id": "ef17fa87",
   "metadata": {},
   "outputs": [
    {
     "name": "stdout",
     "output_type": "stream",
     "text": [
      "Loading Orkut graph - 1.8GB\n"
     ]
    }
   ],
   "source": [
    "print(\"Loading Orkut graph - 1.8GB\")\n",
    "\n",
    "G_edgelist = np.load(\"../../../Thesis-Graph-Data/NPY-graphs/orkut.npy\")\n",
    "\n",
    "# Add column of ones - weights\n",
    "G_edgelist = np.hstack((G_edgelist, np.ones((G_edgelist.shape[0], 1)))).astype(np.float64)\n",
    "\n",
    "n = int(np.max(G_edgelist[:, 1]) + 1)  # Nr. vertices"
   ]
  },
  {
   "cell_type": "code",
   "execution_count": 57,
   "id": "2b80df3d",
   "metadata": {
    "scrolled": true
   },
   "outputs": [
    {
     "ename": "SystemError",
     "evalue": "CPUDispatcher(<function graph_encoder_embed at 0x127217ac0>) returned a result with an exception set",
     "output_type": "error",
     "traceback": [
      "\u001b[0;31m---------------------------------------------------------------------------\u001b[0m",
      "\u001b[0;31mKeyboardInterrupt\u001b[0m                         Traceback (most recent call last)",
      "File \u001b[0;32m/opt/homebrew/lib/python3.10/site-packages/numba/core/serialize.py:29\u001b[0m, in \u001b[0;36m_numba_unpickle\u001b[0;34m(address, bytedata, hashed)\u001b[0m\n\u001b[1;32m     26\u001b[0m _unpickled_memo \u001b[38;5;241m=\u001b[39m {}\n\u001b[0;32m---> 29\u001b[0m \u001b[38;5;28;01mdef\u001b[39;00m \u001b[38;5;21m_numba_unpickle\u001b[39m(address, bytedata, hashed):\n\u001b[1;32m     30\u001b[0m     \u001b[38;5;124;03m\"\"\"Used by `numba_unpickle` from _helperlib.c\u001b[39;00m\n\u001b[1;32m     31\u001b[0m \n\u001b[1;32m     32\u001b[0m \u001b[38;5;124;03m    Parameters\u001b[39;00m\n\u001b[0;32m   (...)\u001b[0m\n\u001b[1;32m     41\u001b[0m \u001b[38;5;124;03m        unpickled object\u001b[39;00m\n\u001b[1;32m     42\u001b[0m \u001b[38;5;124;03m    \"\"\"\u001b[39;00m\n",
      "\u001b[0;31mKeyboardInterrupt\u001b[0m: ",
      "\nThe above exception was the direct cause of the following exception:\n",
      "\u001b[0;31mSystemError\u001b[0m                               Traceback (most recent call last)",
      "\u001b[0;31mSystemError\u001b[0m: _PyEval_EvalFrameDefault returned a result with an exception set",
      "\nThe above exception was the direct cause of the following exception:\n",
      "\u001b[0;31mSystemError\u001b[0m                               Traceback (most recent call last)",
      "Cell \u001b[0;32mIn [57], line 1\u001b[0m\n\u001b[0;32m----> 1\u001b[0m \u001b[43mget_ipython\u001b[49m\u001b[43m(\u001b[49m\u001b[43m)\u001b[49m\u001b[38;5;241;43m.\u001b[39;49m\u001b[43mrun_cell_magic\u001b[49m\u001b[43m(\u001b[49m\u001b[38;5;124;43m'\u001b[39;49m\u001b[38;5;124;43mtimeit\u001b[39;49m\u001b[38;5;124;43m'\u001b[39;49m\u001b[43m,\u001b[49m\u001b[43m \u001b[49m\u001b[38;5;124;43m'\u001b[39;49m\u001b[38;5;124;43m-n 1 -r 1\u001b[39;49m\u001b[38;5;124;43m'\u001b[39;49m\u001b[43m,\u001b[49m\u001b[43m \u001b[49m\u001b[38;5;124;43m'\u001b[39;49m\u001b[38;5;130;43;01m\\n\u001b[39;49;00m\u001b[38;5;124;43mY = np.load(\u001b[39;49m\u001b[38;5;124;43m\"\u001b[39;49m\u001b[38;5;124;43m../../../Thesis-Graph-Data/Ys/orkut-Y50.npy\u001b[39;49m\u001b[38;5;124;43m\"\u001b[39;49m\u001b[38;5;124;43m) # For Ligra fairness - ligra cannot preload this\u001b[39;49m\u001b[38;5;130;43;01m\\n\u001b[39;49;00m\u001b[38;5;124;43m_ = DataPreprocess.graph_encoder_embed(G_edgelist.astype(np.float64), Y, n, Correlation = False, Laplacian = True)\u001b[39;49m\u001b[38;5;130;43;01m\\n\u001b[39;49;00m\u001b[38;5;124;43m'\u001b[39;49m\u001b[43m)\u001b[49m\n",
      "File \u001b[0;32m/opt/homebrew/lib/python3.10/site-packages/IPython/core/interactiveshell.py:2362\u001b[0m, in \u001b[0;36mInteractiveShell.run_cell_magic\u001b[0;34m(self, magic_name, line, cell)\u001b[0m\n\u001b[1;32m   2360\u001b[0m \u001b[38;5;28;01mwith\u001b[39;00m \u001b[38;5;28mself\u001b[39m\u001b[38;5;241m.\u001b[39mbuiltin_trap:\n\u001b[1;32m   2361\u001b[0m     args \u001b[38;5;241m=\u001b[39m (magic_arg_s, cell)\n\u001b[0;32m-> 2362\u001b[0m     result \u001b[38;5;241m=\u001b[39m \u001b[43mfn\u001b[49m\u001b[43m(\u001b[49m\u001b[38;5;241;43m*\u001b[39;49m\u001b[43margs\u001b[49m\u001b[43m,\u001b[49m\u001b[43m \u001b[49m\u001b[38;5;241;43m*\u001b[39;49m\u001b[38;5;241;43m*\u001b[39;49m\u001b[43mkwargs\u001b[49m\u001b[43m)\u001b[49m\n\u001b[1;32m   2363\u001b[0m \u001b[38;5;28;01mreturn\u001b[39;00m result\n",
      "File \u001b[0;32m/opt/homebrew/lib/python3.10/site-packages/IPython/core/magics/execution.py:1166\u001b[0m, in \u001b[0;36mExecutionMagics.timeit\u001b[0;34m(self, line, cell, local_ns)\u001b[0m\n\u001b[1;32m   1163\u001b[0m         \u001b[38;5;28;01mif\u001b[39;00m time_number \u001b[38;5;241m>\u001b[39m\u001b[38;5;241m=\u001b[39m \u001b[38;5;241m0.2\u001b[39m:\n\u001b[1;32m   1164\u001b[0m             \u001b[38;5;28;01mbreak\u001b[39;00m\n\u001b[0;32m-> 1166\u001b[0m all_runs \u001b[38;5;241m=\u001b[39m \u001b[43mtimer\u001b[49m\u001b[38;5;241;43m.\u001b[39;49m\u001b[43mrepeat\u001b[49m\u001b[43m(\u001b[49m\u001b[43mrepeat\u001b[49m\u001b[43m,\u001b[49m\u001b[43m \u001b[49m\u001b[43mnumber\u001b[49m\u001b[43m)\u001b[49m\n\u001b[1;32m   1167\u001b[0m best \u001b[38;5;241m=\u001b[39m \u001b[38;5;28mmin\u001b[39m(all_runs) \u001b[38;5;241m/\u001b[39m number\n\u001b[1;32m   1168\u001b[0m worst \u001b[38;5;241m=\u001b[39m \u001b[38;5;28mmax\u001b[39m(all_runs) \u001b[38;5;241m/\u001b[39m number\n",
      "File \u001b[0;32m/opt/homebrew/Cellar/python@3.10/3.10.8/Frameworks/Python.framework/Versions/3.10/lib/python3.10/timeit.py:206\u001b[0m, in \u001b[0;36mTimer.repeat\u001b[0;34m(self, repeat, number)\u001b[0m\n\u001b[1;32m    204\u001b[0m r \u001b[38;5;241m=\u001b[39m []\n\u001b[1;32m    205\u001b[0m \u001b[38;5;28;01mfor\u001b[39;00m i \u001b[38;5;129;01min\u001b[39;00m \u001b[38;5;28mrange\u001b[39m(repeat):\n\u001b[0;32m--> 206\u001b[0m     t \u001b[38;5;241m=\u001b[39m \u001b[38;5;28;43mself\u001b[39;49m\u001b[38;5;241;43m.\u001b[39;49m\u001b[43mtimeit\u001b[49m\u001b[43m(\u001b[49m\u001b[43mnumber\u001b[49m\u001b[43m)\u001b[49m\n\u001b[1;32m    207\u001b[0m     r\u001b[38;5;241m.\u001b[39mappend(t)\n\u001b[1;32m    208\u001b[0m \u001b[38;5;28;01mreturn\u001b[39;00m r\n",
      "File \u001b[0;32m/opt/homebrew/lib/python3.10/site-packages/IPython/core/magics/execution.py:156\u001b[0m, in \u001b[0;36mTimer.timeit\u001b[0;34m(self, number)\u001b[0m\n\u001b[1;32m    154\u001b[0m gc\u001b[38;5;241m.\u001b[39mdisable()\n\u001b[1;32m    155\u001b[0m \u001b[38;5;28;01mtry\u001b[39;00m:\n\u001b[0;32m--> 156\u001b[0m     timing \u001b[38;5;241m=\u001b[39m \u001b[38;5;28;43mself\u001b[39;49m\u001b[38;5;241;43m.\u001b[39;49m\u001b[43minner\u001b[49m\u001b[43m(\u001b[49m\u001b[43mit\u001b[49m\u001b[43m,\u001b[49m\u001b[43m \u001b[49m\u001b[38;5;28;43mself\u001b[39;49m\u001b[38;5;241;43m.\u001b[39;49m\u001b[43mtimer\u001b[49m\u001b[43m)\u001b[49m\n\u001b[1;32m    157\u001b[0m \u001b[38;5;28;01mfinally\u001b[39;00m:\n\u001b[1;32m    158\u001b[0m     \u001b[38;5;28;01mif\u001b[39;00m gcold:\n",
      "File \u001b[0;32m<magic-timeit>:2\u001b[0m, in \u001b[0;36minner\u001b[0;34m(_it, _timer)\u001b[0m\n",
      "\u001b[0;31mSystemError\u001b[0m: CPUDispatcher(<function graph_encoder_embed at 0x127217ac0>) returned a result with an exception set"
     ]
    }
   ],
   "source": [
    "%%timeit -n 1 -r 1\n",
    "\n",
    "Y = np.load(\"../../../Thesis-Graph-Data/Ys/orkut-Y50.npy\") # For Ligra fairness - ligra cannot preload this\n",
    "_ = DataPreprocess.graph_encoder_embed(G_edgelist, Y, n, Correlation = False, Laplacian = True)"
   ]
  },
  {
   "cell_type": "markdown",
   "id": "d07451e7",
   "metadata": {},
   "source": [
    "### Orkut-groups"
   ]
  },
  {
   "cell_type": "code",
   "execution_count": null,
   "id": "3688210a",
   "metadata": {},
   "outputs": [],
   "source": [
    "print(\"Loading Orkut Groups graph - 5.1GB\")\n",
    "\n",
    "G_edgelist = np.load(\"../../../Thesis-Graph-Data/NPY-graphs/orkut-groups.npy\")\n",
    "\n",
    "# Add column of ones - weights\n",
    "G_edgelist = np.hstack((G_edgelist, np.ones((G_edgelist.shape[0], 1)))).astype(np.float64)\n",
    "\n",
    "n = int(np.max(G_edgelist[:, 1]) + 1)  # Nr. vertices"
   ]
  },
  {
   "cell_type": "code",
   "execution_count": null,
   "id": "9740b9ec",
   "metadata": {},
   "outputs": [],
   "source": [
    "%%timeit -n 1 -r 1\n",
    "\n",
    "Y = np.load(\"../../../Thesis-Graph-Data/Ys/orkut-groups-Y40.npy\") # For Ligra fairness - ligra cannot preload this\n",
    "_ = DataPreprocess.graph_encoder_embed(G_edgelist, Y, n, Correlation = False, Laplacian = True)"
   ]
  },
  {
   "cell_type": "code",
   "execution_count": null,
   "id": "bd2e7382",
   "metadata": {},
   "outputs": [],
   "source": [
    "print(\"Loading Orkut Groups graph - 5.1GB\")\n",
    "\n",
    "G_edgelist = np.load(\"../../../Thesis-Graph-Data/NPY-graphs/orkut-groups.npy\")\n",
    "\n",
    "# Add column of ones - weights\n",
    "G_edgelist = np.hstack((G_edgelist, np.ones((G_edgelist.shape[0], 1)))).astype(np.float64)\n",
    "\n",
    "n = int(np.max(G_edgelist[:, 1]) + 1)  # Nr. vertices"
   ]
  },
  {
   "cell_type": "code",
   "execution_count": null,
   "id": "bd3f8609",
   "metadata": {},
   "outputs": [],
   "source": [
    "%%timeit -n 1 -r 1\n",
    "\n",
    "Y = np.load(\"../../../Thesis-Graph-Data/Ys/orkut-groups-Y40.npy\") # For Ligra fairness - ligra cannot preload this\n",
    "_ = DataPreprocess.graph_encoder_embed(G_edgelist, Y, n, Correlation = False, Laplacian = True)"
   ]
  },
  {
   "cell_type": "code",
   "execution_count": null,
   "id": "cae2c39c",
   "metadata": {},
   "outputs": [],
   "source": [
    "print(\"Loading Orkut Groups graph - 5.1GB\")\n",
    "\n",
    "G_edgelist = np.load(\"../../../Thesis-Graph-Data/NPY-graphs/orkut-groups.npy\")\n",
    "\n",
    "# Add column of ones - weights\n",
    "G_edgelist = np.hstack((G_edgelist, np.ones((G_edgelist.shape[0], 1)))).astype(np.float64)\n",
    "\n",
    "n = int(np.max(G_edgelist[:, 1]) + 1)  # Nr. vertices"
   ]
  },
  {
   "cell_type": "code",
   "execution_count": null,
   "id": "a674a699",
   "metadata": {},
   "outputs": [],
   "source": [
    "%%timeit -n 1 -r 1\n",
    "\n",
    "Y = np.load(\"../../../Thesis-Graph-Data/Ys/orkut-groups-Y40.npy\") # For Ligra fairness - ligra cannot preload this\n",
    "_ = DataPreprocess.graph_encoder_embed(G_edgelist, Y, n, Correlation = False, Laplacian = True)"
   ]
  },
  {
   "cell_type": "code",
   "execution_count": null,
   "id": "e1baa6ca",
   "metadata": {},
   "outputs": [],
   "source": [
    "print(\"Loading Orkut Groups graph - 5.1GB\")\n",
    "\n",
    "G_edgelist = np.load(\"../../../Thesis-Graph-Data/NPY-graphs/orkut-groups.npy\")\n",
    "\n",
    "# Add column of ones - weights\n",
    "G_edgelist = np.hstack((G_edgelist, np.ones((G_edgelist.shape[0], 1)))).astype(np.float64)\n",
    "\n",
    "n = int(np.max(G_edgelist[:, 1]) + 1)  # Nr. vertices"
   ]
  },
  {
   "cell_type": "code",
   "execution_count": null,
   "id": "434162c5",
   "metadata": {},
   "outputs": [],
   "source": [
    "%%timeit -n 1 -r 1\n",
    "\n",
    "Y = np.load(\"../../../Thesis-Graph-Data/Ys/orkut-groups-Y40.npy\") # For Ligra fairness - ligra cannot preload this\n",
    "_ = DataPreprocess.graph_encoder_embed(G_edgelist, Y, n, Correlation = False, Laplacian = True)"
   ]
  },
  {
   "cell_type": "code",
   "execution_count": null,
   "id": "22d6450e",
   "metadata": {},
   "outputs": [],
   "source": [
    "print(\"Loading Orkut Groups graph - 5.1GB\")\n",
    "\n",
    "G_edgelist = np.load(\"../../../Thesis-Graph-Data/NPY-graphs/orkut-groups.npy\")\n",
    "\n",
    "# Add column of ones - weights\n",
    "G_edgelist = np.hstack((G_edgelist, np.ones((G_edgelist.shape[0], 1)))).astype(np.float64)\n",
    "\n",
    "n = int(np.max(G_edgelist[:, 1]) + 1)  # Nr. vertices"
   ]
  },
  {
   "cell_type": "code",
   "execution_count": null,
   "id": "4105e999",
   "metadata": {},
   "outputs": [],
   "source": [
    "%%timeit -n 1 -r 1\n",
    "\n",
    "Y = np.load(\"../../../Thesis-Graph-Data/Ys/orkut-groups-Y40.npy\") # For Ligra fairness - ligra cannot preload this\n",
    "_ = DataPreprocess.graph_encoder_embed(G_edgelist, Y, n, Correlation = False, Laplacian = True)"
   ]
  },
  {
   "cell_type": "code",
   "execution_count": null,
   "id": "8d5e9787",
   "metadata": {},
   "outputs": [],
   "source": [
    "print(\"Loading Orkut Groups graph - 5.1GB\")\n",
    "\n",
    "G_edgelist = np.load(\"../../../Thesis-Graph-Data/NPY-graphs/orkut-groups.npy\")\n",
    "\n",
    "# Add column of ones - weights\n",
    "G_edgelist = np.hstack((G_edgelist, np.ones((G_edgelist.shape[0], 1)))).astype(np.float64)\n",
    "\n",
    "n = int(np.max(G_edgelist[:, 1]) + 1)  # Nr. vertices"
   ]
  },
  {
   "cell_type": "code",
   "execution_count": null,
   "id": "c3e5d013",
   "metadata": {},
   "outputs": [],
   "source": [
    "%%timeit -n 1 -r 1\n",
    "\n",
    "Y = np.load(\"../../../Thesis-Graph-Data/Ys/orkut-groups-Y40.npy\") # For Ligra fairness - ligra cannot preload this\n",
    "_ = DataPreprocess.graph_encoder_embed(G_edgelist, Y, n, Correlation = False, Laplacian = True)"
   ]
  },
  {
   "cell_type": "code",
   "execution_count": null,
   "id": "cfaca7e7",
   "metadata": {},
   "outputs": [],
   "source": [
    "print(\"Loading Orkut Groups graph - 5.1GB\")\n",
    "\n",
    "G_edgelist = np.load(\"../../../Thesis-Graph-Data/NPY-graphs/orkut-groups.npy\")\n",
    "\n",
    "# Add column of ones - weights\n",
    "G_edgelist = np.hstack((G_edgelist, np.ones((G_edgelist.shape[0], 1)))).astype(np.float64)\n",
    "\n",
    "n = int(np.max(G_edgelist[:, 1]) + 1)  # Nr. vertices"
   ]
  },
  {
   "cell_type": "code",
   "execution_count": null,
   "id": "d4f8f5c3",
   "metadata": {},
   "outputs": [],
   "source": [
    "%%timeit -n 1 -r 1\n",
    "\n",
    "Y = np.load(\"../../../Thesis-Graph-Data/Ys/orkut-groups-Y40.npy\") # For Ligra fairness - ligra cannot preload this\n",
    "_ = DataPreprocess.graph_encoder_embed(G_edgelist, Y, n, Correlation = False, Laplacian = True)"
   ]
  },
  {
   "cell_type": "markdown",
   "id": "83ada7ac",
   "metadata": {},
   "source": [
    "### Friendster"
   ]
  },
  {
   "cell_type": "code",
   "execution_count": null,
   "id": "472d5510",
   "metadata": {},
   "outputs": [],
   "source": [
    "print(\"Loading Friendster graph - 31GB\")\n",
    "\n",
    "G_edgelist = np.load(\"../../../Thesis-Graph-Data/NPY-graphs/friendster-0indexed-colswapped.npy\")\n",
    "\n",
    "# Add column of ones - weights\n",
    "G_edgelist = np.hstack((G_edgelist, np.ones((G_edgelist.shape[0], 1)))).astype(np.float64)\n",
    "\n",
    "n = int(np.max(G_edgelist[:, 1]) + 1)  # Nr. vertices"
   ]
  },
  {
   "cell_type": "code",
   "execution_count": null,
   "id": "db2e32e0",
   "metadata": {},
   "outputs": [],
   "source": [
    "%%timeit -n 1 -r 1\n",
    "\n",
    "Y = np.load(\"../../../Thesis-Graph-Data/Ys/friendster-Y50.npy\") # For Ligra fairness - ligra cannot preload this\n",
    "_ = DataPreprocess.graph_encoder_embed(G_edgelist, Y, n, Correlation = False, Laplacian = True)"
   ]
  },
  {
   "cell_type": "code",
   "execution_count": null,
   "id": "0ee0ea1b",
   "metadata": {},
   "outputs": [],
   "source": [
    "print(\"Loading Friendster graph - 31GB\")\n",
    "\n",
    "G_edgelist = np.load(\"../../../Thesis-Graph-Data/NPY-graphs/friendster-0indexed-colswapped.npy\")\n",
    "\n",
    "# Add column of ones - weights\n",
    "G_edgelist = np.hstack((G_edgelist, np.ones((G_edgelist.shape[0], 1)))).astype(np.float64)\n",
    "\n",
    "n = int(np.max(G_edgelist[:, 1]) + 1)  # Nr. vertices"
   ]
  },
  {
   "cell_type": "code",
   "execution_count": null,
   "id": "6b625875",
   "metadata": {},
   "outputs": [],
   "source": [
    "%%timeit -n 1 -r 1\n",
    "\n",
    "Y = np.load(\"../../../Thesis-Graph-Data/Ys/friendster-Y50.npy\") # For Ligra fairness - ligra cannot preload this\n",
    "_ = DataPreprocess.graph_encoder_embed(G_edgelist, Y, n, Correlation = False, Laplacian = True)"
   ]
  },
  {
   "cell_type": "code",
   "execution_count": null,
   "id": "648444fb",
   "metadata": {},
   "outputs": [],
   "source": [
    "print(\"Loading Friendster graph - 31GB\")\n",
    "\n",
    "G_edgelist = np.load(\"../../../Thesis-Graph-Data/NPY-graphs/friendster-0indexed-colswapped.npy\")\n",
    "\n",
    "# Add column of ones - weights\n",
    "G_edgelist = np.hstack((G_edgelist, np.ones((G_edgelist.shape[0], 1)))).astype(np.float64)\n",
    "\n",
    "n = int(np.max(G_edgelist[:, 1]) + 1)  # Nr. vertices"
   ]
  },
  {
   "cell_type": "code",
   "execution_count": null,
   "id": "e93f8f50",
   "metadata": {},
   "outputs": [],
   "source": [
    "%%timeit -n 1 -r 1\n",
    "\n",
    "Y = np.load(\"../../../Thesis-Graph-Data/Ys/friendster-Y50.npy\") # For Ligra fairness - ligra cannot preload this\n",
    "_ = DataPreprocess.graph_encoder_embed(G_edgelist, Y, n, Correlation = False, Laplacian = True)"
   ]
  },
  {
   "cell_type": "code",
   "execution_count": null,
   "id": "c29066e8",
   "metadata": {},
   "outputs": [],
   "source": [
    "print(\"Loading Friendster graph - 31GB\")\n",
    "\n",
    "G_edgelist = np.load(\"../../../Thesis-Graph-Data/NPY-graphs/friendster-0indexed-colswapped.npy\")\n",
    "\n",
    "# Add column of ones - weights\n",
    "G_edgelist = np.hstack((G_edgelist, np.ones((G_edgelist.shape[0], 1)))).astype(np.float64)\n",
    "\n",
    "n = int(np.max(G_edgelist[:, 1]) + 1)  # Nr. vertices"
   ]
  },
  {
   "cell_type": "code",
   "execution_count": null,
   "id": "eece889a",
   "metadata": {},
   "outputs": [],
   "source": [
    "%%timeit -n 1 -r 1\n",
    "\n",
    "Y = np.load(\"../../../Thesis-Graph-Data/Ys/friendster-Y50.npy\") # For Ligra fairness - ligra cannot preload this\n",
    "_ = DataPreprocess.graph_encoder_embed(G_edgelist, Y, n, Correlation = False, Laplacian = True)"
   ]
  },
  {
   "cell_type": "code",
   "execution_count": null,
   "id": "5e232c62",
   "metadata": {},
   "outputs": [],
   "source": [
    "print(\"Loading Friendster graph - 31GB\")\n",
    "\n",
    "G_edgelist = np.load(\"../../../Thesis-Graph-Data/NPY-graphs/friendster-0indexed-colswapped.npy\")\n",
    "\n",
    "# Add column of ones - weights\n",
    "G_edgelist = np.hstack((G_edgelist, np.ones((G_edgelist.shape[0], 1)))).astype(np.float64)\n",
    "\n",
    "n = int(np.max(G_edgelist[:, 1]) + 1)  # Nr. vertices"
   ]
  },
  {
   "cell_type": "code",
   "execution_count": null,
   "id": "13db5f3c",
   "metadata": {},
   "outputs": [],
   "source": [
    "%%timeit -n 1 -r 1\n",
    "\n",
    "Y = np.load(\"../../../Thesis-Graph-Data/Ys/friendster-Y50.npy\") # For Ligra fairness - ligra cannot preload this\n",
    "_ = DataPreprocess.graph_encoder_embed(G_edgelist, Y, n, Correlation = False, Laplacian = True)"
   ]
  },
  {
   "cell_type": "code",
   "execution_count": null,
   "id": "341cc0ec",
   "metadata": {},
   "outputs": [],
   "source": [
    "print(\"Loading Friendster graph - 31GB\")\n",
    "\n",
    "G_edgelist = np.load(\"../../../Thesis-Graph-Data/NPY-graphs/friendster-0indexed-colswapped.npy\")\n",
    "\n",
    "# Add column of ones - weights\n",
    "G_edgelist = np.hstack((G_edgelist, np.ones((G_edgelist.shape[0], 1)))).astype(np.float64)\n",
    "\n",
    "n = int(np.max(G_edgelist[:, 1]) + 1)  # Nr. vertices"
   ]
  },
  {
   "cell_type": "code",
   "execution_count": null,
   "id": "e8bc644b",
   "metadata": {},
   "outputs": [],
   "source": [
    "%%timeit -n 1 -r 1\n",
    "\n",
    "Y = np.load(\"../../../Thesis-Graph-Data/Ys/friendster-Y50.npy\") # For Ligra fairness - ligra cannot preload this\n",
    "_ = DataPreprocess.graph_encoder_embed(G_edgelist, Y, n, Correlation = False, Laplacian = True)"
   ]
  },
  {
   "cell_type": "code",
   "execution_count": null,
   "id": "a8b3ad5f",
   "metadata": {},
   "outputs": [],
   "source": [
    "print(\"Loading Friendster graph - 31GB\")\n",
    "\n",
    "G_edgelist = np.load(\"../../../Thesis-Graph-Data/NPY-graphs/friendster-0indexed-colswapped.npy\")\n",
    "\n",
    "# Add column of ones - weights\n",
    "G_edgelist = np.hstack((G_edgelist, np.ones((G_edgelist.shape[0], 1)))).astype(np.float64)\n",
    "\n",
    "n = int(np.max(G_edgelist[:, 1]) + 1)  # Nr. vertices"
   ]
  },
  {
   "cell_type": "code",
   "execution_count": null,
   "id": "db4d7ec1",
   "metadata": {},
   "outputs": [],
   "source": [
    "%%timeit -n 1 -r 1\n",
    "\n",
    "Y = np.load(\"../../../Thesis-Graph-Data/Ys/friendster-Y50.npy\") # For Ligra fairness - ligra cannot preload this\n",
    "_ = DataPreprocess.graph_encoder_embed(G_edgelist, Y, n, Correlation = False, Laplacian = True)"
   ]
  },
  {
   "cell_type": "code",
   "execution_count": null,
   "id": "7a7bfa1d",
   "metadata": {},
   "outputs": [],
   "source": []
  }
 ],
 "metadata": {
  "kernelspec": {
   "display_name": "Python 3 (ipykernel)",
   "language": "python",
   "name": "python3"
  },
  "language_info": {
   "codemirror_mode": {
    "name": "ipython",
    "version": 3
   },
   "file_extension": ".py",
   "mimetype": "text/x-python",
   "name": "python",
   "nbconvert_exporter": "python",
   "pygments_lexer": "ipython3",
   "version": "3.10.12"
  }
 },
 "nbformat": 4,
 "nbformat_minor": 5
}
